{
 "cells": [
  {
   "cell_type": "markdown",
   "metadata": {
    "id": "IPir_6bCCFnZ"
   },
   "source": [
    "<a href=\"https://colab.research.google.com/github/Michael-Holland-Dev/CS180/blob/main/data_science_labs/data_science_lab_11.ipynb\" target=\"_parent\"><img src=\"https://colab.research.google.com/assets/colab-badge.svg\" alt=\"Open In Colab\"/></a>"
   ]
  },
  {
   "cell_type": "markdown",
   "metadata": {
    "id": "_slaQdUGCB0t"
   },
   "source": [
    "# BYU CS 180 Lab 11"
   ]
  },
  {
   "cell_type": "code",
   "execution_count": 1,
   "metadata": {
    "id": "Gaema31vjP8f"
   },
   "outputs": [],
   "source": [
    "# Dependencies for the lab\n",
    "import numpy as np\n",
    "import matplotlib.pyplot as plt\n",
    "import pandas as pd\n",
    "import sklearn"
   ]
  },
  {
   "cell_type": "markdown",
   "metadata": {
    "id": "ct7fnkcnCL8O"
   },
   "source": [
    "## Introduction:\n",
    "You will use the `sklearn` API to train various classifiers. Feel free to use any `sklearn`, `numpy`, or `pandas` function to help you with the lab.\n",
    "\n",
    "The 20 newsgroups dataset comprises around 18000 newsgroups posts on 20 topics. The 20 categories are:\n",
    "```\n",
    "['alt.atheism',\n",
    " 'comp.graphics',\n",
    " 'comp.os.ms-windows.misc',\n",
    " 'comp.sys.ibm.pc.hardware',\n",
    " 'comp.sys.mac.hardware',\n",
    " 'comp.windows.x',\n",
    " 'misc.forsale',\n",
    " 'rec.autos',\n",
    " 'rec.motorcycles',\n",
    " 'rec.sport.baseball',\n",
    " 'rec.sport.hockey',\n",
    " 'sci.crypt',\n",
    " 'sci.electronics',\n",
    " 'sci.med',\n",
    " 'sci.space',\n",
    " 'soc.religion.christian',\n",
    " 'talk.politics.guns',\n",
    " 'talk.politics.mideast',\n",
    " 'talk.politics.misc',\n",
    " 'talk.religion.misc']\n",
    "```\n",
    "The posts are raw text. For example:\n",
    "\n",
    "**Post:**\n",
    "```\n",
    "From: lerxst@wam.umd.edu (where's my thing)\n",
    "Subject: WHAT car is this!?\n",
    "Nntp-Posting-Host: rac3.wam.umd.edu\n",
    "Organization: University of Maryland, College Park\n",
    "Lines: 15\n",
    "\n",
    " I was wondering if anyone out there could enlighten me on this car I saw\n",
    "the other day. It was a 2-door sports car, looked to be from the late 60s/\n",
    "early 70s. It was called a Bricklin. The doors were really small. In addition,\n",
    "the front bumper was separate from the rest of the body. This is \n",
    "all I know. If anyone can tellme a model name, engine specs, years\n",
    "of production, where this car is made, history, or whatever info you\n",
    "have on this funky looking car, please e-mail.\n",
    "\n",
    "Thanks,\n",
    "- IL\n",
    "   ---- brought to you by your neighborhood Lerxst ----\n",
    "```\n",
    "\n",
    "**Target:**\n",
    "```\n",
    "'rec.autos'\n",
    "```\n",
    "\n",
    "Your task will be to build a classifier to predict the category of posts. You will do the following in this notebook:"
   ]
  },
  {
   "cell_type": "markdown",
   "metadata": {
    "id": "PUat5xRAcdrC"
   },
   "source": [
    "## Exercise 1: Retrieve the Data\n",
    "Download `fetch_20newsgroups` dataset"
   ]
  },
  {
   "cell_type": "code",
   "execution_count": 2,
   "metadata": {
    "id": "j1m2KIHShNdC"
   },
   "outputs": [],
   "source": [
    "from sklearn.datasets import fetch_20newsgroups\n",
    "data = fetch_20newsgroups()\n",
    "docs = data['data']\n",
    "targets = data[\"target\"]\n",
    "names = data.target_names"
   ]
  },
  {
   "cell_type": "markdown",
   "metadata": {
    "id": "BXDLQKs3hUM8"
   },
   "source": [
    "Print off the first document and its target classification to make sure its been downloaded correctly "
   ]
  },
  {
   "cell_type": "code",
   "execution_count": 19,
   "metadata": {
    "id": "-hfFbcRohgMf"
   },
   "outputs": [
    {
     "name": "stdout",
     "output_type": "stream",
     "text": [
      "From: lerxst@wam.umd.edu (where's my thing)\n",
      "Subject: WHAT car is this!?\n",
      "Nntp-Posting-Host: rac3.wam.umd.edu\n",
      "Organization: University of Maryland, College Park\n",
      "Lines: 15\n",
      "\n",
      " I was wondering if anyone out there could enlighten me on this car I saw\n",
      "the other day. It was a 2-door sports car, looked to be from the late 60s/\n",
      "early 70s. It was called a Bricklin. The doors were really small. In addition,\n",
      "the front bumper was separate from the rest of the body. This is \n",
      "all I know. If anyone can tellme a model name, engine specs, years\n",
      "of production, where this car is made, history, or whatever info you\n",
      "have on this funky looking car, please e-mail.\n",
      "\n",
      "Thanks,\n",
      "- IL\n",
      "   ---- brought to you by your neighborhood Lerxst ----\n",
      "\n",
      "\n",
      "\n",
      "\n",
      " 7 alt.atheism\n"
     ]
    }
   ],
   "source": [
    "#Enter code here.\n",
    "print(docs[0],targets[0], names[0])"
   ]
  },
  {
   "cell_type": "markdown",
   "metadata": {
    "id": "RSUun4WVcl17"
   },
   "source": [
    "## Exercise 2: Understand the Data"
   ]
  },
  {
   "cell_type": "markdown",
   "metadata": {
    "id": "xJZbee3ihnqV"
   },
   "source": [
    "Perform some exploratory analysis on your data. Specifically, plot a bar chart showing distribution of the categories (classes)"
   ]
  },
  {
   "cell_type": "code",
   "execution_count": 26,
   "metadata": {
    "id": "veGuUMbEhj5-"
   },
   "outputs": [
    {
     "data": {
      "text/plain": [
       "([0, 1, 2, 3, 4, 5, 6, 7, 8, 9, 10, 11, 12, 13, 14, 15, 16, 17, 18, 19],\n",
       " [Text(0, 0, 'alt.atheism'),\n",
       "  Text(1, 0, 'comp.graphics'),\n",
       "  Text(2, 0, 'comp.os.ms-windows.misc'),\n",
       "  Text(3, 0, 'comp.sys.ibm.pc.hardware'),\n",
       "  Text(4, 0, 'comp.sys.mac.hardware'),\n",
       "  Text(5, 0, 'comp.windows.x'),\n",
       "  Text(6, 0, 'misc.forsale'),\n",
       "  Text(7, 0, 'rec.autos'),\n",
       "  Text(8, 0, 'rec.motorcycles'),\n",
       "  Text(9, 0, 'rec.sport.baseball'),\n",
       "  Text(10, 0, 'rec.sport.hockey'),\n",
       "  Text(11, 0, 'sci.crypt'),\n",
       "  Text(12, 0, 'sci.electronics'),\n",
       "  Text(13, 0, 'sci.med'),\n",
       "  Text(14, 0, 'sci.space'),\n",
       "  Text(15, 0, 'soc.religion.christian'),\n",
       "  Text(16, 0, 'talk.politics.guns'),\n",
       "  Text(17, 0, 'talk.politics.mideast'),\n",
       "  Text(18, 0, 'talk.politics.misc'),\n",
       "  Text(19, 0, 'talk.religion.misc')])"
      ]
     },
     "execution_count": 26,
     "metadata": {},
     "output_type": "execute_result"
    },
    {
     "data": {
      "image/png": "[encoded data removed]",
      "text/plain": [
       "<Figure size 432x288 with 1 Axes>"
      ]
     },
     "metadata": {
      "needs_background": "light"
     },
     "output_type": "display_data"
    }
   ],
   "source": [
    "#Enter code here\n",
    "plt.bar(names, np.bincount(targets))\n",
    "plt.xticks(rotation = 90)"
   ]
  },
  {
   "cell_type": "markdown",
   "metadata": {
    "id": "CBmTXeqpcq5W"
   },
   "source": [
    "## Exercise 3: Engineer the Data\n",
    "Extract features from raw text. You are free to be creative here. There is no correct answer. Try and think of the features (input) that are most predictive of the category. Some helpful sklearn feature engineering code can be found here (I'd recommend reading through the documentation before diving in and trying to get these tools to work):\n",
    "\n",
    "* [CountVectorizer](https://scikit-learn.org/stable/modules/generated/sklearn.feature_extraction.text.CountVectorizer.html#sklearn.feature_extraction.text.CountVectorizer)\n",
    "* [TFIDF Text Features](https://scikit-learn.org/stable/modules/generated/sklearn.feature_extraction.text.TfidfVectorizer.html)"
   ]
  },
  {
   "cell_type": "code",
   "execution_count": 39,
   "metadata": {
    "id": "M18gziAZifj0"
   },
   "outputs": [
    {
     "data": {
      "text/plain": [
       "(11314, 130107)"
      ]
     },
     "execution_count": 39,
     "metadata": {},
     "output_type": "execute_result"
    }
   ],
   "source": [
    "from sklearn.feature_extraction.text import TfidfVectorizer\n",
    "vectorizer = TfidfVectorizer()\n",
    "X = vectorizer.fit_transform(docs)\n",
    "X.shape"
   ]
  },
  {
   "cell_type": "markdown",
   "metadata": {
    "id": "JN4r2NSpc5hQ"
   },
   "source": [
    "## Exercise 4: Split the Data\n",
    "\n",
    "Split your data into train and test splits. Use an 80%/20% split rule for train and test respectively. I'd recommend using the function from the last lab"
   ]
  },
  {
   "cell_type": "code",
   "execution_count": 40,
   "metadata": {
    "id": "C6uiqrStkxww"
   },
   "outputs": [],
   "source": [
    "from sklearn.model_selection import train_test_split\n",
    "Xtrain, Xtest, ytrain, ytest= train_test_split(X,targets, test_size=0.2, random_state=42)"
   ]
  },
  {
   "cell_type": "markdown",
   "metadata": {
    "id": "eW6QTIUxcz_G"
   },
   "source": [
    "## Exercise 5: Train the Model"
   ]
  },
  {
   "cell_type": "markdown",
   "metadata": {
    "id": "mNY2czLak_pA"
   },
   "source": [
    "Using sklearn, train the following three classifiers using the training set:\n",
    "* KNN\n",
    "* Decision Tree\n",
    "* Logistic Regression"
   ]
  },
  {
   "cell_type": "code",
   "execution_count": 41,
   "metadata": {
    "id": "MIaBp38BlEzu"
   },
   "outputs": [
    {
     "data": {
      "text/plain": [
       "KNeighborsClassifier(n_neighbors=3)"
      ]
     },
     "execution_count": 41,
     "metadata": {},
     "output_type": "execute_result"
    }
   ],
   "source": [
    "# Train the model using the KNN Cluster Algorithm\n",
    "from sklearn.neighbors import KNeighborsClassifier\n",
    "neigh = KNeighborsClassifier(n_neighbors=3)\n",
    "neigh.fit(Xtrain, ytrain)"
   ]
  },
  {
   "cell_type": "code",
   "execution_count": 54,
   "metadata": {
    "id": "xSINn2VklIH9"
   },
   "outputs": [
    {
     "data": {
      "text/plain": [
       "DecisionTreeClassifier()"
      ]
     },
     "execution_count": 54,
     "metadata": {},
     "output_type": "execute_result"
    }
   ],
   "source": [
    "# Train the model using the Decision Tree Algorithm\n",
    "from sklearn.tree import DecisionTreeClassifier\n",
    "clf = DecisionTreeClassifier()\n",
    "clf.fit(Xtrain, ytrain)"
   ]
  },
  {
   "cell_type": "code",
   "execution_count": 55,
   "metadata": {
    "id": "ZayZjHO1lNXG"
   },
   "outputs": [],
   "source": [
    "# Train the model using the Logistic Regression Algorithm\n",
    "from sklearn.linear_model import LogisticRegression\n",
    "log = LogisticRegression().fit(Xtrain, ytrain)"
   ]
  },
  {
   "cell_type": "markdown",
   "metadata": {
    "id": "gRC3UrQjdOtM"
   },
   "source": [
    "## Exercise 6: Evaluate the Model\n",
    "Compare the performance of your classifiers on the test set. Discuss which one performs the best."
   ]
  },
  {
   "cell_type": "code",
   "execution_count": 47,
   "metadata": {
    "id": "fviUlnNZl_Ek"
   },
   "outputs": [
    {
     "data": {
      "text/plain": [
       "0.7834732655766682"
      ]
     },
     "execution_count": 47,
     "metadata": {},
     "output_type": "execute_result"
    }
   ],
   "source": [
    "# Evaluate the KNN Cluster model\n",
    "neigh.score(Xtest, ytest)"
   ]
  },
  {
   "cell_type": "code",
   "execution_count": 56,
   "metadata": {
    "id": "NFysD0Krl9-n"
   },
   "outputs": [
    {
     "data": {
      "text/plain": [
       "0.6416261599646487"
      ]
     },
     "execution_count": 56,
     "metadata": {},
     "output_type": "execute_result"
    }
   ],
   "source": [
    "# Evaluate the Decision Tree model\n",
    "clf.score(Xtest, ytest)"
   ]
  },
  {
   "cell_type": "code",
   "execution_count": 57,
   "metadata": {
    "id": "FVjIpzzxl8E-"
   },
   "outputs": [
    {
     "data": {
      "text/plain": [
       "0.8877596111356606"
      ]
     },
     "execution_count": 57,
     "metadata": {},
     "output_type": "execute_result"
    }
   ],
   "source": [
    "# Evaluate the Logistic Regression model\n",
    "log.score(Xtest, ytest)"
   ]
  },
  {
   "cell_type": "markdown",
   "metadata": {
    "id": "ofWWlon9mqUw"
   },
   "source": [
    "Discuss which one performs the best:"
   ]
  },
  {
   "cell_type": "markdown",
   "metadata": {
    "id": "rLE2qUqpmu0P"
   },
   "source": [
    "I think the regression did the best! Cool!"
   ]
  },
  {
   "cell_type": "code",
   "execution_count": null,
   "metadata": {},
   "outputs": [],
   "source": []
  }
 ],
 "metadata": {
  "colab": {
   "provenance": []
  },
  "kernelspec": {
   "display_name": "Python 3 (ipykernel)",
   "language": "python",
   "name": "python3"
  },
  "language_info": {
   "codemirror_mode": {
    "name": "ipython",
    "version": 3
   },
   "file_extension": ".py",
   "mimetype": "text/x-python",
   "name": "python",
   "nbconvert_exporter": "python",
   "pygments_lexer": "ipython3",
   "version": "3.9.7"
  }
 },
 "nbformat": 4,
 "nbformat_minor": 1
}
