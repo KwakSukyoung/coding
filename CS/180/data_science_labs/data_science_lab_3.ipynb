{
 "cells": [
  {
   "cell_type": "markdown",
   "metadata": {
    "id": "IPir_6bCCFnZ"
   },
   "source": [
    "<a href=\"https://colab.research.google.com/github/Michael-Holland-Dev/CS180/blob/main/data_science_labs/data_science_lab_2.ipynb\" target=\"_parent\"><img src=\"https://colab.research.google.com/assets/colab-badge.svg\" alt=\"Open In Colab\"/></a>"
   ]
  },
  {
   "cell_type": "markdown",
   "metadata": {
    "id": "_slaQdUGCB0t"
   },
   "source": [
    "# BYU CS 180 Lab 3"
   ]
  },
  {
   "cell_type": "code",
   "execution_count": 1,
   "metadata": {
    "id": "fGjI7E--SCMm"
   },
   "outputs": [],
   "source": [
    "import pandas as pd\n",
    "import numpy as np"
   ]
  },
  {
   "cell_type": "markdown",
   "metadata": {
    "id": "cWl9h-eZRAzK"
   },
   "source": [
    "## Introduction:\n",
    "Welcome to your first pandas lab!\n",
    "\n",
    "Much of this lab has been adapted from this [link](https://acme.byu.edu/0000017c-ccff-da17-a5fd-cdff03a50000/acmefiles-09-pandas1-2021-pdf) pandas introduction lab from the ACME major. Feel free to read through it and use it as you complete this lab.\n",
    "\n",
    "Lab Objective:\n",
    "\n",
    "The goal of this lab is for you to become more comfortable in Python's pandas library. We'll introduce you to pandas data structures, syntax, and powerful capacity."
   ]
  },
  {
   "cell_type": "markdown",
   "metadata": {
    "id": "KZeucaVmRqnw"
   },
   "source": [
    "### Important Hints\n",
    "Notice that most of the functions we learn about in this lab return new values. In order to save these values, we must store them.\n",
    "\n",
    "For example, df.drop(columns=['column1']) will drop the column1 from df, but we must call df = df.drop(columns=['column1']) to store the changed dataframe."
   ]
  },
  {
   "cell_type": "markdown",
   "metadata": {
    "id": "zJfyE75cR4LW"
   },
   "source": [
    "#### Series:\n",
    "The following cell creates a pandas series, which is essentially a list with an index for each entry in the list. The index is generally used as a label for the data."
   ]
  },
  {
   "cell_type": "code",
   "execution_count": 2,
   "metadata": {
    "colab": {
     "base_uri": "https://localhost:8080/"
    },
    "id": "magqKCAfR97q",
    "outputId": "0aeb5d4f-a5c0-47ce-84c8-f898e23a8ce9"
   },
   "outputs": [
    {
     "name": "stdout",
     "output_type": "stream",
     "text": [
      "Mark       80\n",
      "Barbara    96\n",
      "Eleanor    78\n",
      "David      59\n",
      "dtype: int64\n"
     ]
    }
   ],
   "source": [
    "math = pd.Series([80,96,78,59],['Mark','Barbara','Eleanor','David'])\n",
    "print(math)"
   ]
  },
  {
   "cell_type": "markdown",
   "metadata": {
    "id": "TixHmeT3SKR5"
   },
   "source": [
    "Notice that each element in the above series 'math' is a number 1-100, and each of these elements are labeled with a name. The dtype (data type) of this series is an int64. Let's say these numbers represent each student's grade in their math class."
   ]
  },
  {
   "cell_type": "markdown",
   "metadata": {
    "id": "tdeecXfuRjA6"
   },
   "source": [
    "## Exercise 1: Pandas Series\n",
    "\n",
    "Create a pandas series of type int64 called 'english' storing our four student's english grades:\n",
    "\n",
    "Mark -> 90\n",
    "\n",
    "Barbara -> 87\n",
    "\n",
    "Eleanor -> 97\n",
    "\n",
    "David -> 65"
   ]
  },
  {
   "cell_type": "code",
   "execution_count": 3,
   "metadata": {
    "id": "hH7YeTWPRios"
   },
   "outputs": [
    {
     "name": "stdout",
     "output_type": "stream",
     "text": [
      "Mark       90\n",
      "Barbara    87\n",
      "Eleanor    97\n",
      "David      65\n",
      "dtype: int64\n"
     ]
    }
   ],
   "source": [
    "#Create a pandas series below:\n",
    "english = pd.Series([90,87,97,65],['Mark','Barbara','Eleanor','David'])\n",
    "print(english)"
   ]
  },
  {
   "cell_type": "markdown",
   "metadata": {
    "id": "coQOymwLSppB"
   },
   "source": [
    "**DataFrame**\n",
    "\n",
    "The next, and most important, data structure in pandas is the DataFrame. A DataFrame is a collection of multiple Series objects, and it is essentially a 2d array/list with each row labeled by an index, and each column labeled as a column.\n",
    "\n",
    "Below we initialize a DataFrame, 'simple_grades', using the 'math' and 'english' Series that we created above."
   ]
  },
  {
   "cell_type": "code",
   "execution_count": 4,
   "metadata": {
    "id": "OMRUvJvfSsrm"
   },
   "outputs": [
    {
     "name": "stdout",
     "output_type": "stream",
     "text": [
      "         Math  English\n",
      "Mark       80       90\n",
      "Barbara    96       87\n",
      "Eleanor    78       97\n",
      "David      59       65\n"
     ]
    }
   ],
   "source": [
    "simple_grades = pd.DataFrame({\"Math\": math, \"English\": english})\n",
    "print(simple_grades)"
   ]
  },
  {
   "cell_type": "markdown",
   "metadata": {
    "id": "g4JeMTcITBBu"
   },
   "source": [
    "Notice that we now have numbers that are labelled twice. Mark's English grade is an 90. Eleanor's Math grade is a 78.\n",
    "\n",
    "We can also initialize a DataFame using a NumPy array, since pandas is built on top of NumPy. We do that below and call it 'grades'."
   ]
  },
  {
   "cell_type": "code",
   "execution_count": 5,
   "metadata": {
    "id": "mqgP1QA5TE4o"
   },
   "outputs": [
    {
     "data": {
      "text/html": [
       "<div>\n",
       "<style scoped>\n",
       "    .dataframe tbody tr th:only-of-type {\n",
       "        vertical-align: middle;\n",
       "    }\n",
       "\n",
       "    .dataframe tbody tr th {\n",
       "        vertical-align: top;\n",
       "    }\n",
       "\n",
       "    .dataframe thead th {\n",
       "        text-align: right;\n",
       "    }\n",
       "</style>\n",
       "<table border=\"1\" class=\"dataframe\">\n",
       "  <thead>\n",
       "    <tr style=\"text-align: right;\">\n",
       "      <th></th>\n",
       "      <th>Math</th>\n",
       "      <th>English</th>\n",
       "    </tr>\n",
       "  </thead>\n",
       "  <tbody>\n",
       "    <tr>\n",
       "      <th>Barbara</th>\n",
       "      <td>52.0</td>\n",
       "      <td>73.0</td>\n",
       "    </tr>\n",
       "    <tr>\n",
       "      <th>David</th>\n",
       "      <td>10.0</td>\n",
       "      <td>39.0</td>\n",
       "    </tr>\n",
       "    <tr>\n",
       "      <th>Eleanor</th>\n",
       "      <td>35.0</td>\n",
       "      <td>NaN</td>\n",
       "    </tr>\n",
       "    <tr>\n",
       "      <th>Greg</th>\n",
       "      <td>NaN</td>\n",
       "      <td>26.0</td>\n",
       "    </tr>\n",
       "    <tr>\n",
       "      <th>Lauren</th>\n",
       "      <td>NaN</td>\n",
       "      <td>99.0</td>\n",
       "    </tr>\n",
       "    <tr>\n",
       "      <th>Mark</th>\n",
       "      <td>81.0</td>\n",
       "      <td>68.0</td>\n",
       "    </tr>\n",
       "  </tbody>\n",
       "</table>\n",
       "</div>"
      ],
      "text/plain": [
       "         Math  English\n",
       "Barbara  52.0     73.0\n",
       "David    10.0     39.0\n",
       "Eleanor  35.0      NaN\n",
       "Greg      NaN     26.0\n",
       "Lauren    NaN     99.0\n",
       "Mark     81.0     68.0"
      ]
     },
     "execution_count": 5,
     "metadata": {},
     "output_type": "execute_result"
    }
   ],
   "source": [
    "data = np.array([[52.0, 73.0], [10.0, 39.0], [35.0, np.nan], [np.nan, 26.0],[np.nan,99.0],[81.0,68.0]])\n",
    "grades = pd.DataFrame(data, columns = ['Math', 'English'], index = ['Barbara','David','Eleanor','Greg','Lauren','Mark'])\n",
    "grades"
   ]
  },
  {
   "cell_type": "code",
   "execution_count": 6,
   "metadata": {
    "id": "LejlXPWRT1Wm"
   },
   "outputs": [
    {
     "name": "stdout",
     "output_type": "stream",
     "text": [
      "Index(['Math', 'English'], dtype='object')\n",
      "Index(['Barbara', 'David', 'Eleanor', 'Greg', 'Lauren', 'Mark'], dtype='object')\n",
      "[[52. 73.]\n",
      " [10. 39.]\n",
      " [35. nan]\n",
      " [nan 26.]\n",
      " [nan 99.]\n",
      " [81. 68.]]\n"
     ]
    }
   ],
   "source": [
    "# look at the column labels of grades\n",
    "print(grades.columns)\n",
    "# look at the index labels of grades\n",
    "print(grades.index)\n",
    "# look at the values (2d array) of grades\n",
    "print(grades.values)"
   ]
  },
  {
   "cell_type": "markdown",
   "metadata": {
    "id": "EZKzdeDXT5S9"
   },
   "source": [
    "## Exercise 2:\n",
    "To access data in a DataFrame, we use the .loc and the .iloc indexers.\n",
    "\n",
    "The .loc index selects rows and columns based on their labels\n"
   ]
  },
  {
   "cell_type": "code",
   "execution_count": 7,
   "metadata": {
    "id": "dA0tJ_1oUNVv"
   },
   "outputs": [
    {
     "data": {
      "text/plain": [
       "David    10.0\n",
       "Greg      NaN\n",
       "Name: Math, dtype: float64"
      ]
     },
     "execution_count": 7,
     "metadata": {},
     "output_type": "execute_result"
    }
   ],
   "source": [
    "grades.loc[['David','Greg'],'Math']"
   ]
  },
  {
   "cell_type": "markdown",
   "metadata": {
    "id": "3ewyp61yUOy_"
   },
   "source": [
    "Where the .iloc selects rows and columns based on their integer position"
   ]
  },
  {
   "cell_type": "code",
   "execution_count": 8,
   "metadata": {
    "id": "ISI8HCQXUSjq"
   },
   "outputs": [
    {
     "data": {
      "text/plain": [
       "David    10.0\n",
       "Greg      NaN\n",
       "Name: Math, dtype: float64"
      ]
     },
     "execution_count": 8,
     "metadata": {},
     "output_type": "execute_result"
    }
   ],
   "source": [
    "grades.iloc[[1,3],0]"
   ]
  },
  {
   "cell_type": "markdown",
   "metadata": {
    "id": "FGjsR_nJVutE"
   },
   "source": [
    "Use `.loc` to print Eleanor and Mark's grades in both English and Math"
   ]
  },
  {
   "cell_type": "code",
   "execution_count": 9,
   "metadata": {
    "id": "bTPN4sENVt97"
   },
   "outputs": [
    {
     "data": {
      "text/html": [
       "<div>\n",
       "<style scoped>\n",
       "    .dataframe tbody tr th:only-of-type {\n",
       "        vertical-align: middle;\n",
       "    }\n",
       "\n",
       "    .dataframe tbody tr th {\n",
       "        vertical-align: top;\n",
       "    }\n",
       "\n",
       "    .dataframe thead th {\n",
       "        text-align: right;\n",
       "    }\n",
       "</style>\n",
       "<table border=\"1\" class=\"dataframe\">\n",
       "  <thead>\n",
       "    <tr style=\"text-align: right;\">\n",
       "      <th></th>\n",
       "      <th>Math</th>\n",
       "      <th>English</th>\n",
       "    </tr>\n",
       "  </thead>\n",
       "  <tbody>\n",
       "    <tr>\n",
       "      <th>Eleanor</th>\n",
       "      <td>35.0</td>\n",
       "      <td>NaN</td>\n",
       "    </tr>\n",
       "    <tr>\n",
       "      <th>Mark</th>\n",
       "      <td>81.0</td>\n",
       "      <td>68.0</td>\n",
       "    </tr>\n",
       "  </tbody>\n",
       "</table>\n",
       "</div>"
      ],
      "text/plain": [
       "         Math  English\n",
       "Eleanor  35.0      NaN\n",
       "Mark     81.0     68.0"
      ]
     },
     "execution_count": 9,
     "metadata": {},
     "output_type": "execute_result"
    }
   ],
   "source": [
    "#Enter the code here to print both Eleanor and Marks Grades\n",
    "grades.loc[['Eleanor','Mark']]"
   ]
  },
  {
   "cell_type": "markdown",
   "metadata": {
    "id": "beRG_4bTVLg2"
   },
   "source": [
    "You can also access an entire column of a DataFrame by using simple square brackets and the name of the column."
   ]
  },
  {
   "cell_type": "code",
   "execution_count": 10,
   "metadata": {
    "id": "tIjjh5GEVKu1"
   },
   "outputs": [
    {
     "data": {
      "text/plain": [
       "Barbara    52.0\n",
       "David      10.0\n",
       "Eleanor    35.0\n",
       "Greg        NaN\n",
       "Lauren      NaN\n",
       "Mark       81.0\n",
       "Name: Math, dtype: float64"
      ]
     },
     "execution_count": 10,
     "metadata": {},
     "output_type": "execute_result"
    }
   ],
   "source": [
    "grades['Math']"
   ]
  },
  {
   "cell_type": "markdown",
   "metadata": {
    "id": "jLDBC2SaVTel"
   },
   "source": [
    "Using the same logic, we can also create a new column using either a numpy array, a list, or a single value. "
   ]
  },
  {
   "cell_type": "code",
   "execution_count": 11,
   "metadata": {
    "id": "p6rtzhEmVTJO"
   },
   "outputs": [],
   "source": [
    "grades['History'] = np.random.randint(0,100,6)\n",
    "grades['History'] = 100"
   ]
  },
  {
   "cell_type": "markdown",
   "metadata": {
    "id": "jpG-hw8cVavh"
   },
   "source": [
    "To view the beginning of a DataFrame, we can use .head(n). This makes it a lot easier to get an idea of what the data look like without printing the entire dataframe (especially when the df is huge!)."
   ]
  },
  {
   "cell_type": "code",
   "execution_count": 12,
   "metadata": {
    "id": "LIkWW7sNVdUH"
   },
   "outputs": [
    {
     "data": {
      "text/html": [
       "<div>\n",
       "<style scoped>\n",
       "    .dataframe tbody tr th:only-of-type {\n",
       "        vertical-align: middle;\n",
       "    }\n",
       "\n",
       "    .dataframe tbody tr th {\n",
       "        vertical-align: top;\n",
       "    }\n",
       "\n",
       "    .dataframe thead th {\n",
       "        text-align: right;\n",
       "    }\n",
       "</style>\n",
       "<table border=\"1\" class=\"dataframe\">\n",
       "  <thead>\n",
       "    <tr style=\"text-align: right;\">\n",
       "      <th></th>\n",
       "      <th>Math</th>\n",
       "      <th>English</th>\n",
       "      <th>History</th>\n",
       "    </tr>\n",
       "  </thead>\n",
       "  <tbody>\n",
       "    <tr>\n",
       "      <th>Barbara</th>\n",
       "      <td>52.0</td>\n",
       "      <td>73.0</td>\n",
       "      <td>100</td>\n",
       "    </tr>\n",
       "    <tr>\n",
       "      <th>David</th>\n",
       "      <td>10.0</td>\n",
       "      <td>39.0</td>\n",
       "      <td>100</td>\n",
       "    </tr>\n",
       "    <tr>\n",
       "      <th>Eleanor</th>\n",
       "      <td>35.0</td>\n",
       "      <td>NaN</td>\n",
       "      <td>100</td>\n",
       "    </tr>\n",
       "  </tbody>\n",
       "</table>\n",
       "</div>"
      ],
      "text/plain": [
       "         Math  English  History\n",
       "Barbara  52.0     73.0      100\n",
       "David    10.0     39.0      100\n",
       "Eleanor  35.0      NaN      100"
      ]
     },
     "execution_count": 12,
     "metadata": {},
     "output_type": "execute_result"
    }
   ],
   "source": [
    "grades.head(3)"
   ]
  },
  {
   "cell_type": "markdown",
   "metadata": {
    "id": "IRol43jLVkSi"
   },
   "source": [
    "You can also use .reindex to change the order of either the rows or columns, and .sort_values to sort the DataFrame by a specified column value."
   ]
  },
  {
   "cell_type": "code",
   "execution_count": 13,
   "metadata": {
    "id": "y4abXuEQVfSK"
   },
   "outputs": [
    {
     "data": {
      "text/html": [
       "<div>\n",
       "<style scoped>\n",
       "    .dataframe tbody tr th:only-of-type {\n",
       "        vertical-align: middle;\n",
       "    }\n",
       "\n",
       "    .dataframe tbody tr th {\n",
       "        vertical-align: top;\n",
       "    }\n",
       "\n",
       "    .dataframe thead th {\n",
       "        text-align: right;\n",
       "    }\n",
       "</style>\n",
       "<table border=\"1\" class=\"dataframe\">\n",
       "  <thead>\n",
       "    <tr style=\"text-align: right;\">\n",
       "      <th></th>\n",
       "      <th>Math</th>\n",
       "      <th>English</th>\n",
       "      <th>History</th>\n",
       "    </tr>\n",
       "  </thead>\n",
       "  <tbody>\n",
       "    <tr>\n",
       "      <th>Mark</th>\n",
       "      <td>81.0</td>\n",
       "      <td>68.0</td>\n",
       "      <td>100</td>\n",
       "    </tr>\n",
       "    <tr>\n",
       "      <th>Barbara</th>\n",
       "      <td>52.0</td>\n",
       "      <td>73.0</td>\n",
       "      <td>100</td>\n",
       "    </tr>\n",
       "    <tr>\n",
       "      <th>Eleanor</th>\n",
       "      <td>35.0</td>\n",
       "      <td>NaN</td>\n",
       "      <td>100</td>\n",
       "    </tr>\n",
       "    <tr>\n",
       "      <th>David</th>\n",
       "      <td>10.0</td>\n",
       "      <td>39.0</td>\n",
       "      <td>100</td>\n",
       "    </tr>\n",
       "    <tr>\n",
       "      <th>Greg</th>\n",
       "      <td>NaN</td>\n",
       "      <td>26.0</td>\n",
       "      <td>100</td>\n",
       "    </tr>\n",
       "    <tr>\n",
       "      <th>Lauren</th>\n",
       "      <td>NaN</td>\n",
       "      <td>99.0</td>\n",
       "      <td>100</td>\n",
       "    </tr>\n",
       "  </tbody>\n",
       "</table>\n",
       "</div>"
      ],
      "text/plain": [
       "         Math  English  History\n",
       "Mark     81.0     68.0      100\n",
       "Barbara  52.0     73.0      100\n",
       "Eleanor  35.0      NaN      100\n",
       "David    10.0     39.0      100\n",
       "Greg      NaN     26.0      100\n",
       "Lauren    NaN     99.0      100"
      ]
     },
     "execution_count": 13,
     "metadata": {},
     "output_type": "execute_result"
    }
   ],
   "source": [
    "grades.reindex(columns=['English','Math','History'])\n",
    "grades.sort_values('Math',ascending=False)"
   ]
  },
  {
   "cell_type": "markdown",
   "metadata": {
    "id": "FakTfRwBWBDv"
   },
   "source": [
    "You can also drop columns from a dataframe by using df.drop(columns=[])"
   ]
  },
  {
   "cell_type": "code",
   "execution_count": 14,
   "metadata": {
    "id": "QzUm52EPWFO9"
   },
   "outputs": [
    {
     "data": {
      "text/html": [
       "<div>\n",
       "<style scoped>\n",
       "    .dataframe tbody tr th:only-of-type {\n",
       "        vertical-align: middle;\n",
       "    }\n",
       "\n",
       "    .dataframe tbody tr th {\n",
       "        vertical-align: top;\n",
       "    }\n",
       "\n",
       "    .dataframe thead th {\n",
       "        text-align: right;\n",
       "    }\n",
       "</style>\n",
       "<table border=\"1\" class=\"dataframe\">\n",
       "  <thead>\n",
       "    <tr style=\"text-align: right;\">\n",
       "      <th></th>\n",
       "      <th>English</th>\n",
       "      <th>History</th>\n",
       "    </tr>\n",
       "  </thead>\n",
       "  <tbody>\n",
       "    <tr>\n",
       "      <th>Barbara</th>\n",
       "      <td>73.0</td>\n",
       "      <td>100</td>\n",
       "    </tr>\n",
       "    <tr>\n",
       "      <th>David</th>\n",
       "      <td>39.0</td>\n",
       "      <td>100</td>\n",
       "    </tr>\n",
       "    <tr>\n",
       "      <th>Eleanor</th>\n",
       "      <td>NaN</td>\n",
       "      <td>100</td>\n",
       "    </tr>\n",
       "    <tr>\n",
       "      <th>Greg</th>\n",
       "      <td>26.0</td>\n",
       "      <td>100</td>\n",
       "    </tr>\n",
       "    <tr>\n",
       "      <th>Lauren</th>\n",
       "      <td>99.0</td>\n",
       "      <td>100</td>\n",
       "    </tr>\n",
       "    <tr>\n",
       "      <th>Mark</th>\n",
       "      <td>68.0</td>\n",
       "      <td>100</td>\n",
       "    </tr>\n",
       "  </tbody>\n",
       "</table>\n",
       "</div>"
      ],
      "text/plain": [
       "         English  History\n",
       "Barbara     73.0      100\n",
       "David       39.0      100\n",
       "Eleanor      NaN      100\n",
       "Greg        26.0      100\n",
       "Lauren      99.0      100\n",
       "Mark        68.0      100"
      ]
     },
     "execution_count": 14,
     "metadata": {},
     "output_type": "execute_result"
    }
   ],
   "source": [
    "grades.drop(columns=['Math'])"
   ]
  },
  {
   "cell_type": "markdown",
   "metadata": {
    "id": "dB2YOQN1WO_C"
   },
   "source": [
    "## Exercise 3: Girlfriend Vs. Fortnite\n",
    "The costs.csv downloaded earlier contains an estimate of my costs over the past few semesters. You get to help me!\n",
    "* Read in the costs.csv file\n",
    "* Add a column called 'girlfriend' with all values set to 500\n",
    "* Reindex the columns such that the amount spent on rent is the first column and the other columns stay in the same order\n",
    "* Sort the DataFrame in descending order based on how much I spent on fortnite_skins\n",
    "* Reset all the values in the rent column to 1000"
   ]
  },
  {
   "cell_type": "code",
   "execution_count": 1,
   "metadata": {
    "id": "SdJbrjG-Wmbl"
   },
   "outputs": [
    {
     "name": "stdout",
     "output_type": "stream",
     "text": [
      "  % Total    % Received % Xferd  Average Speed   Time    Time     Time  Current\n",
      "                                 Dload  Upload   Total   Spent    Left  Speed\n",
      "100 10863  100 10863    0     0  45042      0 --:--:-- --:--:-- --:--:-- 45262\n"
     ]
    }
   ],
   "source": [
    "#Girl Friend Data\n",
    "# !curl -o costs.csv https://raw.githubusercontent.com/wingated/cs180_labs/main/costs.csv\n",
    "!curl -o star_stats.csv https://raw.githubusercontent.com/porterjenkins/CS180/main/data/midterm/star_stats.csv"
   ]
  },
  {
   "cell_type": "code",
   "execution_count": 7,
   "metadata": {},
   "outputs": [
    {
     "name": "stdout",
     "output_type": "stream",
     "text": [
      "  % Total    % Received % Xferd  Average Speed   Time    Time     Time  Current\n",
      "                                 Dload  Upload   Total   Spent    Left  Speed\n",
      "100  522k  100  522k    0     0  2095k      0 --:--:-- --:--:-- --:--:-- 2091k\n"
     ]
    }
   ],
   "source": [
    "!curl -o 2015-PM2.5.csv https://airmonitoring.utah.gov/dataarchive/2015-PM2.5.csv"
   ]
  },
  {
   "cell_type": "code",
   "execution_count": 4,
   "metadata": {},
   "outputs": [
    {
     "data": {
      "text/html": [
       "<div>\n",
       "<style scoped>\n",
       "    .dataframe tbody tr th:only-of-type {\n",
       "        vertical-align: middle;\n",
       "    }\n",
       "\n",
       "    .dataframe tbody tr th {\n",
       "        vertical-align: top;\n",
       "    }\n",
       "\n",
       "    .dataframe thead th {\n",
       "        text-align: right;\n",
       "    }\n",
       "</style>\n",
       "<table border=\"1\" class=\"dataframe\">\n",
       "  <thead>\n",
       "    <tr style=\"text-align: right;\">\n",
       "      <th></th>\n",
       "      <th>BR</th>\n",
       "      <th>BV</th>\n",
       "      <th>ED</th>\n",
       "      <th>H3</th>\n",
       "      <th>HA</th>\n",
       "      <th>HC</th>\n",
       "      <th>HW</th>\n",
       "      <th>L4</th>\n",
       "      <th>LN</th>\n",
       "      <th>NP</th>\n",
       "      <th>O2</th>\n",
       "      <th>RS</th>\n",
       "      <th>SM</th>\n",
       "      <th>T3</th>\n",
       "      <th>V4</th>\n",
       "    </tr>\n",
       "  </thead>\n",
       "  <tbody>\n",
       "    <tr>\n",
       "      <th>1/1/2015 0:00</th>\n",
       "      <td>2.2</td>\n",
       "      <td>22.6</td>\n",
       "      <td>NaN</td>\n",
       "      <td>NaN</td>\n",
       "      <td>26.8</td>\n",
       "      <td>4.8</td>\n",
       "      <td>NaN</td>\n",
       "      <td>19.2</td>\n",
       "      <td>23.9</td>\n",
       "      <td>19.2</td>\n",
       "      <td>14.9</td>\n",
       "      <td>10</td>\n",
       "      <td>NaN</td>\n",
       "      <td>8.3</td>\n",
       "      <td>NaN</td>\n",
       "    </tr>\n",
       "    <tr>\n",
       "      <th>1/1/2015 1:00</th>\n",
       "      <td>3.9</td>\n",
       "      <td>18.7</td>\n",
       "      <td>NaN</td>\n",
       "      <td>NaN</td>\n",
       "      <td>31.7</td>\n",
       "      <td>4.7</td>\n",
       "      <td>NaN</td>\n",
       "      <td>22.7</td>\n",
       "      <td>28.1</td>\n",
       "      <td>21.7</td>\n",
       "      <td>24.2</td>\n",
       "      <td>12</td>\n",
       "      <td>NaN</td>\n",
       "      <td>4.9</td>\n",
       "      <td>NaN</td>\n",
       "    </tr>\n",
       "    <tr>\n",
       "      <th>1/1/2015 2:00</th>\n",
       "      <td>3.2</td>\n",
       "      <td>14.1</td>\n",
       "      <td>NaN</td>\n",
       "      <td>NaN</td>\n",
       "      <td>29.8</td>\n",
       "      <td>4.9</td>\n",
       "      <td>NaN</td>\n",
       "      <td>23.9</td>\n",
       "      <td>25.8</td>\n",
       "      <td>19.3</td>\n",
       "      <td>12.2</td>\n",
       "      <td>12</td>\n",
       "      <td>NaN</td>\n",
       "      <td>2.9</td>\n",
       "      <td>NaN</td>\n",
       "    </tr>\n",
       "    <tr>\n",
       "      <th>1/1/2015 3:00</th>\n",
       "      <td>2.4</td>\n",
       "      <td>12.8</td>\n",
       "      <td>NaN</td>\n",
       "      <td>NaN</td>\n",
       "      <td>23.3</td>\n",
       "      <td>7</td>\n",
       "      <td>NaN</td>\n",
       "      <td>29.5</td>\n",
       "      <td>17.6</td>\n",
       "      <td>15.1</td>\n",
       "      <td>10.5</td>\n",
       "      <td>10.4</td>\n",
       "      <td>NaN</td>\n",
       "      <td>3.5</td>\n",
       "      <td>NaN</td>\n",
       "    </tr>\n",
       "    <tr>\n",
       "      <th>1/1/2015 4:00</th>\n",
       "      <td>1.4</td>\n",
       "      <td>14</td>\n",
       "      <td>NaN</td>\n",
       "      <td>NaN</td>\n",
       "      <td>24.9</td>\n",
       "      <td>3.8</td>\n",
       "      <td>NaN</td>\n",
       "      <td>17.3</td>\n",
       "      <td>14.4</td>\n",
       "      <td>12.8</td>\n",
       "      <td>13.9</td>\n",
       "      <td>10</td>\n",
       "      <td>NaN</td>\n",
       "      <td>2.1</td>\n",
       "      <td>NaN</td>\n",
       "    </tr>\n",
       "    <tr>\n",
       "      <th>...</th>\n",
       "      <td>...</td>\n",
       "      <td>...</td>\n",
       "      <td>...</td>\n",
       "      <td>...</td>\n",
       "      <td>...</td>\n",
       "      <td>...</td>\n",
       "      <td>...</td>\n",
       "      <td>...</td>\n",
       "      <td>...</td>\n",
       "      <td>...</td>\n",
       "      <td>...</td>\n",
       "      <td>...</td>\n",
       "      <td>...</td>\n",
       "      <td>...</td>\n",
       "      <td>...</td>\n",
       "    </tr>\n",
       "    <tr>\n",
       "      <th>12/31/2015 19:00</th>\n",
       "      <td>10.3</td>\n",
       "      <td>13.9</td>\n",
       "      <td>NaN</td>\n",
       "      <td>17.6</td>\n",
       "      <td>15.8</td>\n",
       "      <td>6.4</td>\n",
       "      <td>16.4</td>\n",
       "      <td>NaN</td>\n",
       "      <td>23.5</td>\n",
       "      <td>25.3</td>\n",
       "      <td>16.5</td>\n",
       "      <td>12.9</td>\n",
       "      <td>15.6</td>\n",
       "      <td>14.4</td>\n",
       "      <td>16.6</td>\n",
       "    </tr>\n",
       "    <tr>\n",
       "      <th>12/31/2015 20:00</th>\n",
       "      <td>4.3</td>\n",
       "      <td>15</td>\n",
       "      <td>NaN</td>\n",
       "      <td>16.9</td>\n",
       "      <td>19.5</td>\n",
       "      <td>6.5</td>\n",
       "      <td>21.2</td>\n",
       "      <td>NaN</td>\n",
       "      <td>29.5</td>\n",
       "      <td>26.2</td>\n",
       "      <td>20</td>\n",
       "      <td>12</td>\n",
       "      <td>NaN</td>\n",
       "      <td>9.9</td>\n",
       "      <td>13.4</td>\n",
       "    </tr>\n",
       "    <tr>\n",
       "      <th>12/31/2015 21:00</th>\n",
       "      <td>12.7</td>\n",
       "      <td>10.5</td>\n",
       "      <td>NaN</td>\n",
       "      <td>10.1</td>\n",
       "      <td>17.9</td>\n",
       "      <td>6.1</td>\n",
       "      <td>22.3</td>\n",
       "      <td>NaN</td>\n",
       "      <td>25.4</td>\n",
       "      <td>26</td>\n",
       "      <td>18.6</td>\n",
       "      <td>11.6</td>\n",
       "      <td>NaN</td>\n",
       "      <td>5.2</td>\n",
       "      <td>10.4</td>\n",
       "    </tr>\n",
       "    <tr>\n",
       "      <th>12/31/2015 22:00</th>\n",
       "      <td>9.8</td>\n",
       "      <td>11.1</td>\n",
       "      <td>NaN</td>\n",
       "      <td>6.7</td>\n",
       "      <td>15.6</td>\n",
       "      <td>6.6</td>\n",
       "      <td>20.3</td>\n",
       "      <td>NaN</td>\n",
       "      <td>27</td>\n",
       "      <td>18.9</td>\n",
       "      <td>20.9</td>\n",
       "      <td>12.2</td>\n",
       "      <td>NaN</td>\n",
       "      <td>4.6</td>\n",
       "      <td>10.3</td>\n",
       "    </tr>\n",
       "    <tr>\n",
       "      <th>12/31/2015 23:00</th>\n",
       "      <td>11.8</td>\n",
       "      <td>13</td>\n",
       "      <td>NaN</td>\n",
       "      <td>4.7</td>\n",
       "      <td>19.5</td>\n",
       "      <td>6.9</td>\n",
       "      <td>19.3</td>\n",
       "      <td>NaN</td>\n",
       "      <td>30.9</td>\n",
       "      <td>14.5</td>\n",
       "      <td>25.4</td>\n",
       "      <td>10.9</td>\n",
       "      <td>NaN</td>\n",
       "      <td>11.3</td>\n",
       "      <td>11.3</td>\n",
       "    </tr>\n",
       "  </tbody>\n",
       "</table>\n",
       "<p>8760 rows × 15 columns</p>\n",
       "</div>"
      ],
      "text/plain": [
       "                    BR    BV   ED    H3    HA   HC    HW    L4    LN    NP  \\\n",
       "1/1/2015 0:00      2.2  22.6  NaN   NaN  26.8  4.8   NaN  19.2  23.9  19.2   \n",
       "1/1/2015 1:00      3.9  18.7  NaN   NaN  31.7  4.7   NaN  22.7  28.1  21.7   \n",
       "1/1/2015 2:00      3.2  14.1  NaN   NaN  29.8  4.9   NaN  23.9  25.8  19.3   \n",
       "1/1/2015 3:00      2.4  12.8  NaN   NaN  23.3    7   NaN  29.5  17.6  15.1   \n",
       "1/1/2015 4:00      1.4    14  NaN   NaN  24.9  3.8   NaN  17.3  14.4  12.8   \n",
       "...                ...   ...  ...   ...   ...  ...   ...   ...   ...   ...   \n",
       "12/31/2015 19:00  10.3  13.9  NaN  17.6  15.8  6.4  16.4   NaN  23.5  25.3   \n",
       "12/31/2015 20:00   4.3    15  NaN  16.9  19.5  6.5  21.2   NaN  29.5  26.2   \n",
       "12/31/2015 21:00  12.7  10.5  NaN  10.1  17.9  6.1  22.3   NaN  25.4    26   \n",
       "12/31/2015 22:00   9.8  11.1  NaN   6.7  15.6  6.6  20.3   NaN    27  18.9   \n",
       "12/31/2015 23:00  11.8    13  NaN   4.7  19.5  6.9  19.3   NaN  30.9  14.5   \n",
       "\n",
       "                    O2    RS    SM    T3    V4  \n",
       "1/1/2015 0:00     14.9    10   NaN   8.3   NaN  \n",
       "1/1/2015 1:00     24.2    12   NaN   4.9   NaN  \n",
       "1/1/2015 2:00     12.2    12   NaN   2.9   NaN  \n",
       "1/1/2015 3:00     10.5  10.4   NaN   3.5   NaN  \n",
       "1/1/2015 4:00     13.9    10   NaN   2.1   NaN  \n",
       "...                ...   ...   ...   ...   ...  \n",
       "12/31/2015 19:00  16.5  12.9  15.6  14.4  16.6  \n",
       "12/31/2015 20:00    20    12   NaN   9.9  13.4  \n",
       "12/31/2015 21:00  18.6  11.6   NaN   5.2  10.4  \n",
       "12/31/2015 22:00  20.9  12.2   NaN   4.6  10.3  \n",
       "12/31/2015 23:00  25.4  10.9   NaN  11.3  11.3  \n",
       "\n",
       "[8760 rows x 15 columns]"
      ]
     },
     "execution_count": 4,
     "metadata": {},
     "output_type": "execute_result"
    }
   ],
   "source": [
    "import pandas as pd\n",
    "data = pd.read_csv(\"2015-PM2.5.csv\", index_col = 'Unnamed: 0')[2:]\n",
    "data"
   ]
  },
  {
   "cell_type": "code",
   "execution_count": 6,
   "metadata": {},
   "outputs": [
    {
     "data": {
      "text/html": [
       "<div>\n",
       "<style scoped>\n",
       "    .dataframe tbody tr th:only-of-type {\n",
       "        vertical-align: middle;\n",
       "    }\n",
       "\n",
       "    .dataframe tbody tr th {\n",
       "        vertical-align: top;\n",
       "    }\n",
       "\n",
       "    .dataframe thead th {\n",
       "        text-align: right;\n",
       "    }\n",
       "</style>\n",
       "<table border=\"1\" class=\"dataframe\">\n",
       "  <thead>\n",
       "    <tr style=\"text-align: right;\">\n",
       "      <th></th>\n",
       "      <th>NP</th>\n",
       "    </tr>\n",
       "  </thead>\n",
       "  <tbody>\n",
       "    <tr>\n",
       "      <th>1/1/2015 0:00</th>\n",
       "      <td>19.2</td>\n",
       "    </tr>\n",
       "    <tr>\n",
       "      <th>1/1/2015 1:00</th>\n",
       "      <td>21.7</td>\n",
       "    </tr>\n",
       "    <tr>\n",
       "      <th>1/1/2015 2:00</th>\n",
       "      <td>19.3</td>\n",
       "    </tr>\n",
       "    <tr>\n",
       "      <th>1/1/2015 3:00</th>\n",
       "      <td>15.1</td>\n",
       "    </tr>\n",
       "    <tr>\n",
       "      <th>1/1/2015 4:00</th>\n",
       "      <td>12.8</td>\n",
       "    </tr>\n",
       "    <tr>\n",
       "      <th>...</th>\n",
       "      <td>...</td>\n",
       "    </tr>\n",
       "    <tr>\n",
       "      <th>12/31/2015 19:00</th>\n",
       "      <td>25.3</td>\n",
       "    </tr>\n",
       "    <tr>\n",
       "      <th>12/31/2015 20:00</th>\n",
       "      <td>26.2</td>\n",
       "    </tr>\n",
       "    <tr>\n",
       "      <th>12/31/2015 21:00</th>\n",
       "      <td>26.0</td>\n",
       "    </tr>\n",
       "    <tr>\n",
       "      <th>12/31/2015 22:00</th>\n",
       "      <td>18.9</td>\n",
       "    </tr>\n",
       "    <tr>\n",
       "      <th>12/31/2015 23:00</th>\n",
       "      <td>14.5</td>\n",
       "    </tr>\n",
       "  </tbody>\n",
       "</table>\n",
       "<p>8760 rows × 1 columns</p>\n",
       "</div>"
      ],
      "text/plain": [
       "                    NP\n",
       "1/1/2015 0:00     19.2\n",
       "1/1/2015 1:00     21.7\n",
       "1/1/2015 2:00     19.3\n",
       "1/1/2015 3:00     15.1\n",
       "1/1/2015 4:00     12.8\n",
       "...                ...\n",
       "12/31/2015 19:00  25.3\n",
       "12/31/2015 20:00  26.2\n",
       "12/31/2015 21:00  26.0\n",
       "12/31/2015 22:00  18.9\n",
       "12/31/2015 23:00  14.5\n",
       "\n",
       "[8760 rows x 1 columns]"
      ]
     },
     "execution_count": 6,
     "metadata": {},
     "output_type": "execute_result"
    }
   ],
   "source": [
    "#(i)Clean up the data\n",
    "data = data[['NP']].fillna(method='ffill')\n",
    "data['NP'] = data['NP'].astype(float)\n",
    "data[data<0] = 0\n",
    "data['NP'].unique()\n",
    "data"
   ]
  },
  {
   "cell_type": "code",
   "execution_count": 9,
   "metadata": {},
   "outputs": [
    {
     "data": {
      "text/html": [
       "<div>\n",
       "<style scoped>\n",
       "    .dataframe tbody tr th:only-of-type {\n",
       "        vertical-align: middle;\n",
       "    }\n",
       "\n",
       "    .dataframe tbody tr th {\n",
       "        vertical-align: top;\n",
       "    }\n",
       "\n",
       "    .dataframe thead th {\n",
       "        text-align: right;\n",
       "    }\n",
       "</style>\n",
       "<table border=\"1\" class=\"dataframe\">\n",
       "  <thead>\n",
       "    <tr style=\"text-align: right;\">\n",
       "      <th></th>\n",
       "      <th>NP</th>\n",
       "    </tr>\n",
       "  </thead>\n",
       "  <tbody>\n",
       "    <tr>\n",
       "      <th>1/1/2015 0:00</th>\n",
       "      <td>19.2</td>\n",
       "    </tr>\n",
       "    <tr>\n",
       "      <th>1/1/2015 1:00</th>\n",
       "      <td>21.7</td>\n",
       "    </tr>\n",
       "    <tr>\n",
       "      <th>1/1/2015 2:00</th>\n",
       "      <td>19.3</td>\n",
       "    </tr>\n",
       "    <tr>\n",
       "      <th>1/1/2015 3:00</th>\n",
       "      <td>15.1</td>\n",
       "    </tr>\n",
       "    <tr>\n",
       "      <th>1/1/2015 4:00</th>\n",
       "      <td>12.8</td>\n",
       "    </tr>\n",
       "    <tr>\n",
       "      <th>...</th>\n",
       "      <td>...</td>\n",
       "    </tr>\n",
       "    <tr>\n",
       "      <th>12/31/2015 19:00</th>\n",
       "      <td>25.3</td>\n",
       "    </tr>\n",
       "    <tr>\n",
       "      <th>12/31/2015 20:00</th>\n",
       "      <td>26.2</td>\n",
       "    </tr>\n",
       "    <tr>\n",
       "      <th>12/31/2015 21:00</th>\n",
       "      <td>26.0</td>\n",
       "    </tr>\n",
       "    <tr>\n",
       "      <th>12/31/2015 22:00</th>\n",
       "      <td>18.9</td>\n",
       "    </tr>\n",
       "    <tr>\n",
       "      <th>12/31/2015 23:00</th>\n",
       "      <td>14.5</td>\n",
       "    </tr>\n",
       "  </tbody>\n",
       "</table>\n",
       "<p>8760 rows × 1 columns</p>\n",
       "</div>"
      ],
      "text/plain": [
       "                    NP\n",
       "1/1/2015 0:00     19.2\n",
       "1/1/2015 1:00     21.7\n",
       "1/1/2015 2:00     19.3\n",
       "1/1/2015 3:00     15.1\n",
       "1/1/2015 4:00     12.8\n",
       "...                ...\n",
       "12/31/2015 19:00  25.3\n",
       "12/31/2015 20:00  26.2\n",
       "12/31/2015 21:00  26.0\n",
       "12/31/2015 22:00  18.9\n",
       "12/31/2015 23:00  14.5\n",
       "\n",
       "[8760 rows x 1 columns]"
      ]
     },
     "execution_count": 9,
     "metadata": {},
     "output_type": "execute_result"
    },
    {
     "data": {
      "image/png": "[encoded data removed]",
      "text/plain": [
       "<Figure size 1008x648 with 1 Axes>"
      ]
     },
     "metadata": {
      "needs_background": "light"
     },
     "output_type": "display_data"
    }
   ],
   "source": [
    "#(ii)-(a) Estimate the trend with a symmetric\n",
    "data['NP'].rolling(window=24, min_periods = 1, center=True).mean().plot(figsize=(14, 9))\n",
    "data"
   ]
  },
  {
   "cell_type": "code",
   "execution_count": 11,
   "metadata": {},
   "outputs": [
    {
     "data": {
      "text/plain": [
       "<AxesSubplot: >"
      ]
     },
     "execution_count": 11,
     "metadata": {},
     "output_type": "execute_result"
    },
    {
     "data": {
      "image/png": "[encoded data removed]",
      "text/plain": [
       "<Figure size 1008x648 with 1 Axes>"
      ]
     },
     "metadata": {
      "needs_background": "light"
     },
     "output_type": "display_data"
    }
   ],
   "source": [
    "#(ii)-(b)Detrend the original series\n",
    "trend = data['NP'].rolling(window=24, min_periods = 1, center=True).mean()\n",
    "y = data['NP']-trend\n",
    "y.plot(figsize=(14, 9))"
   ]
  },
  {
   "cell_type": "code",
   "execution_count": 29,
   "metadata": {},
   "outputs": [
    {
     "name": "stdout",
     "output_type": "stream",
     "text": [
      "[0.3610300925925926, -0.18418269230769235, -0.26460648148148147, -0.5623726851851851, -0.7258912037037036, -0.7470145697167756, -0.15436342592592595, 0.5248410087719297, 0.5826435185185185, 0.7535185185185185, 0.32511258417508415, -0.16187047101449273, -0.37074074074074065, -0.7440740740740741, -0.7499652777777778, -0.3866203703703704, -0.6959837962962964, -1.0070949074074074, -0.5409259259259259, 0.15222222222222215, 0.6279861111111111, 1.4379976851851852, 1.5449074074074074, 1.006539351851852]\n"
     ]
    },
    {
     "data": {
      "text/plain": [
       "[<matplotlib.lines.Line2D at 0x7f9191399760>]"
      ]
     },
     "execution_count": 29,
     "metadata": {},
     "output_type": "execute_result"
    },
    {
     "data": {
      "image/png": "[encoded data removed]",
      "text/plain": [
       "<Figure size 432x288 with 1 Axes>"
      ]
     },
     "metadata": {
      "needs_background": "light"
     },
     "output_type": "display_data"
    }
   ],
   "source": [
    "import numpy as np\n",
    "import matplotlib.pyplot as plt\n",
    "#(iii)-(c) Compute S and plot it\n",
    "    \n",
    "S = [np.mean([y[k+(i*24)] for i in range(360)]) for k in range(24)]\n",
    "print(S)\n",
    "plt.plot(S)"
   ]
  },
  {
   "cell_type": "code",
   "execution_count": 38,
   "metadata": {},
   "outputs": [
    {
     "data": {
      "text/plain": [
       "<AxesSubplot: >"
      ]
     },
     "execution_count": 38,
     "metadata": {},
     "output_type": "execute_result"
    },
    {
     "data": {
      "image/png": "[encoded data removed]",
      "text/plain": [
       "<Figure size 1008x648 with 1 Axes>"
      ]
     },
     "metadata": {
      "needs_background": "light"
     },
     "output_type": "display_data"
    }
   ],
   "source": [
    "sk = np.tile(S, 364)\n",
    "sk = np.concatenate((sk, S))\n",
    "R = y-sk\n",
    "R.plot(figsize=(14, 9))"
   ]
  },
  {
   "cell_type": "code",
   "execution_count": 46,
   "metadata": {},
   "outputs": [
    {
     "ename": "ValueError",
     "evalue": "Length of values (24) does not match length of index (8)",
     "output_type": "error",
     "traceback": [
      "\u001b[0;31m---------------------------------------------------------------------------\u001b[0m",
      "\u001b[0;31mValueError\u001b[0m                                Traceback (most recent call last)",
      "\u001b[0;32m/var/folders/j1/rssdx9h148g0ptj4pj02c_0m0000gn/T/ipykernel_7789/2489887258.py\u001b[0m in \u001b[0;36m<module>\u001b[0;34m\u001b[0m\n\u001b[1;32m      1\u001b[0m \u001b[0mse\u001b[0m \u001b[0;34m=\u001b[0m \u001b[0mpd\u001b[0m\u001b[0;34m.\u001b[0m\u001b[0mSeries\u001b[0m\u001b[0;34m(\u001b[0m\u001b[0mS\u001b[0m\u001b[0;34m)\u001b[0m\u001b[0;34m\u001b[0m\u001b[0;34m\u001b[0m\u001b[0m\n\u001b[0;32m----> 2\u001b[0;31m \u001b[0mdata\u001b[0m\u001b[0;34m[\u001b[0m\u001b[0;34m'mean'\u001b[0m\u001b[0;34m]\u001b[0m \u001b[0;34m=\u001b[0m \u001b[0mse\u001b[0m\u001b[0;34m.\u001b[0m\u001b[0mvalues\u001b[0m\u001b[0;34m\u001b[0m\u001b[0;34m\u001b[0m\u001b[0m\n\u001b[0m",
      "\u001b[0;32m~/opt/anaconda3/lib/python3.9/site-packages/pandas/core/frame.py\u001b[0m in \u001b[0;36m__setitem__\u001b[0;34m(self, key, value)\u001b[0m\n\u001b[1;32m   3978\u001b[0m         \u001b[0;32melse\u001b[0m\u001b[0;34m:\u001b[0m\u001b[0;34m\u001b[0m\u001b[0;34m\u001b[0m\u001b[0m\n\u001b[1;32m   3979\u001b[0m             \u001b[0;31m# set column\u001b[0m\u001b[0;34m\u001b[0m\u001b[0;34m\u001b[0m\u001b[0m\n\u001b[0;32m-> 3980\u001b[0;31m             \u001b[0mself\u001b[0m\u001b[0;34m.\u001b[0m\u001b[0m_set_item\u001b[0m\u001b[0;34m(\u001b[0m\u001b[0mkey\u001b[0m\u001b[0;34m,\u001b[0m \u001b[0mvalue\u001b[0m\u001b[0;34m)\u001b[0m\u001b[0;34m\u001b[0m\u001b[0;34m\u001b[0m\u001b[0m\n\u001b[0m\u001b[1;32m   3981\u001b[0m \u001b[0;34m\u001b[0m\u001b[0m\n\u001b[1;32m   3982\u001b[0m     \u001b[0;32mdef\u001b[0m \u001b[0m_setitem_slice\u001b[0m\u001b[0;34m(\u001b[0m\u001b[0mself\u001b[0m\u001b[0;34m,\u001b[0m \u001b[0mkey\u001b[0m\u001b[0;34m:\u001b[0m \u001b[0mslice\u001b[0m\u001b[0;34m,\u001b[0m \u001b[0mvalue\u001b[0m\u001b[0;34m)\u001b[0m\u001b[0;34m:\u001b[0m\u001b[0;34m\u001b[0m\u001b[0;34m\u001b[0m\u001b[0m\n",
      "\u001b[0;32m~/opt/anaconda3/lib/python3.9/site-packages/pandas/core/frame.py\u001b[0m in \u001b[0;36m_set_item\u001b[0;34m(self, key, value)\u001b[0m\n\u001b[1;32m   4172\u001b[0m         \u001b[0mensure\u001b[0m \u001b[0mhomogeneity\u001b[0m\u001b[0;34m.\u001b[0m\u001b[0;34m\u001b[0m\u001b[0;34m\u001b[0m\u001b[0m\n\u001b[1;32m   4173\u001b[0m         \"\"\"\n\u001b[0;32m-> 4174\u001b[0;31m         \u001b[0mvalue\u001b[0m \u001b[0;34m=\u001b[0m \u001b[0mself\u001b[0m\u001b[0;34m.\u001b[0m\u001b[0m_sanitize_column\u001b[0m\u001b[0;34m(\u001b[0m\u001b[0mvalue\u001b[0m\u001b[0;34m)\u001b[0m\u001b[0;34m\u001b[0m\u001b[0;34m\u001b[0m\u001b[0m\n\u001b[0m\u001b[1;32m   4175\u001b[0m \u001b[0;34m\u001b[0m\u001b[0m\n\u001b[1;32m   4176\u001b[0m         if (\n",
      "\u001b[0;32m~/opt/anaconda3/lib/python3.9/site-packages/pandas/core/frame.py\u001b[0m in \u001b[0;36m_sanitize_column\u001b[0;34m(self, value)\u001b[0m\n\u001b[1;32m   4913\u001b[0m \u001b[0;34m\u001b[0m\u001b[0m\n\u001b[1;32m   4914\u001b[0m         \u001b[0;32mif\u001b[0m \u001b[0mis_list_like\u001b[0m\u001b[0;34m(\u001b[0m\u001b[0mvalue\u001b[0m\u001b[0;34m)\u001b[0m\u001b[0;34m:\u001b[0m\u001b[0;34m\u001b[0m\u001b[0;34m\u001b[0m\u001b[0m\n\u001b[0;32m-> 4915\u001b[0;31m             \u001b[0mcom\u001b[0m\u001b[0;34m.\u001b[0m\u001b[0mrequire_length_match\u001b[0m\u001b[0;34m(\u001b[0m\u001b[0mvalue\u001b[0m\u001b[0;34m,\u001b[0m \u001b[0mself\u001b[0m\u001b[0;34m.\u001b[0m\u001b[0mindex\u001b[0m\u001b[0;34m)\u001b[0m\u001b[0;34m\u001b[0m\u001b[0;34m\u001b[0m\u001b[0m\n\u001b[0m\u001b[1;32m   4916\u001b[0m         \u001b[0;32mreturn\u001b[0m \u001b[0msanitize_array\u001b[0m\u001b[0;34m(\u001b[0m\u001b[0mvalue\u001b[0m\u001b[0;34m,\u001b[0m \u001b[0mself\u001b[0m\u001b[0;34m.\u001b[0m\u001b[0mindex\u001b[0m\u001b[0;34m,\u001b[0m \u001b[0mcopy\u001b[0m\u001b[0;34m=\u001b[0m\u001b[0;32mTrue\u001b[0m\u001b[0;34m,\u001b[0m \u001b[0mallow_2d\u001b[0m\u001b[0;34m=\u001b[0m\u001b[0;32mTrue\u001b[0m\u001b[0;34m)\u001b[0m\u001b[0;34m\u001b[0m\u001b[0;34m\u001b[0m\u001b[0m\n\u001b[1;32m   4917\u001b[0m \u001b[0;34m\u001b[0m\u001b[0m\n",
      "\u001b[0;32m~/opt/anaconda3/lib/python3.9/site-packages/pandas/core/common.py\u001b[0m in \u001b[0;36mrequire_length_match\u001b[0;34m(data, index)\u001b[0m\n\u001b[1;32m    569\u001b[0m     \"\"\"\n\u001b[1;32m    570\u001b[0m     \u001b[0;32mif\u001b[0m \u001b[0mlen\u001b[0m\u001b[0;34m(\u001b[0m\u001b[0mdata\u001b[0m\u001b[0;34m)\u001b[0m \u001b[0;34m!=\u001b[0m \u001b[0mlen\u001b[0m\u001b[0;34m(\u001b[0m\u001b[0mindex\u001b[0m\u001b[0;34m)\u001b[0m\u001b[0;34m:\u001b[0m\u001b[0;34m\u001b[0m\u001b[0;34m\u001b[0m\u001b[0m\n\u001b[0;32m--> 571\u001b[0;31m         raise ValueError(\n\u001b[0m\u001b[1;32m    572\u001b[0m             \u001b[0;34m\"Length of values \"\u001b[0m\u001b[0;34m\u001b[0m\u001b[0;34m\u001b[0m\u001b[0m\n\u001b[1;32m    573\u001b[0m             \u001b[0;34mf\"({len(data)}) \"\u001b[0m\u001b[0;34m\u001b[0m\u001b[0;34m\u001b[0m\u001b[0m\n",
      "\u001b[0;31mValueError\u001b[0m: Length of values (24) does not match length of index (8)"
     ]
    }
   ],
   "source": [
    "se = pd.Series(S)\n",
    "data['mean'] = se.values"
   ]
  },
  {
   "cell_type": "code",
   "execution_count": 37,
   "metadata": {},
   "outputs": [
    {
     "data": {
      "text/html": [
       "<div>\n",
       "<style scoped>\n",
       "    .dataframe tbody tr th:only-of-type {\n",
       "        vertical-align: middle;\n",
       "    }\n",
       "\n",
       "    .dataframe tbody tr th {\n",
       "        vertical-align: top;\n",
       "    }\n",
       "\n",
       "    .dataframe thead th {\n",
       "        text-align: right;\n",
       "    }\n",
       "</style>\n",
       "<table border=\"1\" class=\"dataframe\">\n",
       "  <thead>\n",
       "    <tr style=\"text-align: right;\">\n",
       "      <th></th>\n",
       "      <th>&lt;!DOCTYPE HTML PUBLIC \"-//IETF//DTD HTML 2.0//EN\"&gt;</th>\n",
       "    </tr>\n",
       "  </thead>\n",
       "  <tbody>\n",
       "    <tr>\n",
       "      <th>0</th>\n",
       "      <td>&lt;html&gt;&lt;head&gt;</td>\n",
       "    </tr>\n",
       "    <tr>\n",
       "      <th>1</th>\n",
       "      <td>&lt;title&gt;302 Found&lt;/title&gt;</td>\n",
       "    </tr>\n",
       "    <tr>\n",
       "      <th>2</th>\n",
       "      <td>&lt;/head&gt;&lt;body&gt;</td>\n",
       "    </tr>\n",
       "    <tr>\n",
       "      <th>3</th>\n",
       "      <td>&lt;h1&gt;Found&lt;/h1&gt;</td>\n",
       "    </tr>\n",
       "    <tr>\n",
       "      <th>4</th>\n",
       "      <td>&lt;p&gt;The document has moved &lt;a href=\"https://air...</td>\n",
       "    </tr>\n",
       "    <tr>\n",
       "      <th>5</th>\n",
       "      <td>&lt;hr&gt;</td>\n",
       "    </tr>\n",
       "    <tr>\n",
       "      <th>6</th>\n",
       "      <td>&lt;address&gt;Apache Server at www.airmonitoring.ut...</td>\n",
       "    </tr>\n",
       "    <tr>\n",
       "      <th>7</th>\n",
       "      <td>&lt;/body&gt;&lt;/html&gt;</td>\n",
       "    </tr>\n",
       "  </tbody>\n",
       "</table>\n",
       "</div>"
      ],
      "text/plain": [
       "  <!DOCTYPE HTML PUBLIC \"-//IETF//DTD HTML 2.0//EN\">\n",
       "0                                       <html><head>\n",
       "1                           <title>302 Found</title>\n",
       "2                                      </head><body>\n",
       "3                                     <h1>Found</h1>\n",
       "4  <p>The document has moved <a href=\"https://air...\n",
       "5                                               <hr>\n",
       "6  <address>Apache Server at www.airmonitoring.ut...\n",
       "7                                     </body></html>"
      ]
     },
     "execution_count": 37,
     "metadata": {},
     "output_type": "execute_result"
    }
   ],
   "source": [
    "import pandas as pd\n",
    "data = pd.read_csv(\"star_stats.csv\")\n",
    "data"
   ]
  },
  {
   "cell_type": "code",
   "execution_count": null,
   "metadata": {},
   "outputs": [],
   "source": []
  },
  {
   "cell_type": "code",
   "execution_count": 83,
   "metadata": {},
   "outputs": [
    {
     "data": {
      "text/plain": [
       "<matplotlib.legend.Legend at 0x7fba6c3c1340>"
      ]
     },
     "execution_count": 83,
     "metadata": {},
     "output_type": "execute_result"
    },
    {
     "data": {
      "image/png": "[encoded data removed]",
      "text/plain": [
       "<Figure size 432x288 with 1 Axes>"
      ]
     },
     "metadata": {
      "needs_background": "light"
     },
     "output_type": "display_data"
    }
   ],
   "source": [
    "import seaborn\n",
    "seaborn.kdeplot(data['1y'], label=\"luminosity\")\n",
    "# seaborn.kdeplot(data['radius'], label = 'radius')\n",
    "# seaborn.kdeplot(data['absolute_magnitude'], label = 'absolute_magnitude')\n",
    "plt.legend()"
   ]
  },
  {
   "cell_type": "code",
   "execution_count": 46,
   "metadata": {},
   "outputs": [
    {
     "name": "stdout",
     "output_type": "stream",
     "text": [
      "-0.6087282328465596\n"
     ]
    },
    {
     "data": {
      "image/png": "[encoded data removed]",
      "text/plain": [
       "<Figure size 432x288 with 1 Axes>"
      ]
     },
     "metadata": {
      "needs_background": "light"
     },
     "output_type": "display_data"
    }
   ],
   "source": [
    "seaborn.lineplot(data=data, x=\"radius\", y=\"absolute_magnitude\")\n",
    "print(data['absolute_magnitude'].corr(data['radius']))"
   ]
  },
  {
   "cell_type": "code",
   "execution_count": 36,
   "metadata": {},
   "outputs": [
    {
     "data": {
      "text/html": [
       "<div>\n",
       "<style scoped>\n",
       "    .dataframe tbody tr th:only-of-type {\n",
       "        vertical-align: middle;\n",
       "    }\n",
       "\n",
       "    .dataframe tbody tr th {\n",
       "        vertical-align: top;\n",
       "    }\n",
       "\n",
       "    .dataframe thead th {\n",
       "        text-align: right;\n",
       "    }\n",
       "</style>\n",
       "<table border=\"1\" class=\"dataframe\">\n",
       "  <thead>\n",
       "    <tr style=\"text-align: right;\">\n",
       "      <th></th>\n",
       "      <th>temperature</th>\n",
       "      <th>luminosity</th>\n",
       "      <th>radius</th>\n",
       "      <th>absolute_magnitude</th>\n",
       "      <th>star_color</th>\n",
       "      <th>star_type</th>\n",
       "    </tr>\n",
       "    <tr>\n",
       "      <th>spectral_class</th>\n",
       "      <th></th>\n",
       "      <th></th>\n",
       "      <th></th>\n",
       "      <th></th>\n",
       "      <th></th>\n",
       "      <th></th>\n",
       "    </tr>\n",
       "  </thead>\n",
       "  <tbody>\n",
       "    <tr>\n",
       "      <th>A</th>\n",
       "      <td>7723</td>\n",
       "      <td>0.000140</td>\n",
       "      <td>0.00878</td>\n",
       "      <td>-11.23</td>\n",
       "      <td>Blue White</td>\n",
       "      <td>Hyper Giant</td>\n",
       "    </tr>\n",
       "    <tr>\n",
       "      <th>B</th>\n",
       "      <td>9700</td>\n",
       "      <td>0.000590</td>\n",
       "      <td>0.00840</td>\n",
       "      <td>-9.90</td>\n",
       "      <td>Blue</td>\n",
       "      <td>Hyper Giant</td>\n",
       "    </tr>\n",
       "    <tr>\n",
       "      <th>F</th>\n",
       "      <td>5300</td>\n",
       "      <td>0.000080</td>\n",
       "      <td>0.00892</td>\n",
       "      <td>-0.98</td>\n",
       "      <td>Pale yellow orange</td>\n",
       "      <td>Main Sequence</td>\n",
       "    </tr>\n",
       "    <tr>\n",
       "      <th>G</th>\n",
       "      <td>6850</td>\n",
       "      <td>229000.000000</td>\n",
       "      <td>1467.00000</td>\n",
       "      <td>-10.07</td>\n",
       "      <td>Red</td>\n",
       "      <td>Hyper Giant</td>\n",
       "    </tr>\n",
       "    <tr>\n",
       "      <th>K</th>\n",
       "      <td>4015</td>\n",
       "      <td>0.085000</td>\n",
       "      <td>0.79500</td>\n",
       "      <td>-11.39</td>\n",
       "      <td>Orange</td>\n",
       "      <td>Hyper Giant</td>\n",
       "    </tr>\n",
       "    <tr>\n",
       "      <th>M</th>\n",
       "      <td>1939</td>\n",
       "      <td>0.000138</td>\n",
       "      <td>0.05700</td>\n",
       "      <td>-11.92</td>\n",
       "      <td>Orange</td>\n",
       "      <td>Brown Dwarf</td>\n",
       "    </tr>\n",
       "    <tr>\n",
       "      <th>O</th>\n",
       "      <td>5752</td>\n",
       "      <td>112000.000000</td>\n",
       "      <td>6.23700</td>\n",
       "      <td>-10.84</td>\n",
       "      <td>Blue</td>\n",
       "      <td>Hyper Giant</td>\n",
       "    </tr>\n",
       "  </tbody>\n",
       "</table>\n",
       "</div>"
      ],
      "text/plain": [
       "                temperature     luminosity      radius  absolute_magnitude  \\\n",
       "spectral_class                                                               \n",
       "A                      7723       0.000140     0.00878              -11.23   \n",
       "B                      9700       0.000590     0.00840               -9.90   \n",
       "F                      5300       0.000080     0.00892               -0.98   \n",
       "G                      6850  229000.000000  1467.00000              -10.07   \n",
       "K                      4015       0.085000     0.79500              -11.39   \n",
       "M                      1939       0.000138     0.05700              -11.92   \n",
       "O                      5752  112000.000000     6.23700              -10.84   \n",
       "\n",
       "                        star_color      star_type  \n",
       "spectral_class                                     \n",
       "A                       Blue White    Hyper Giant  \n",
       "B                             Blue    Hyper Giant  \n",
       "F               Pale yellow orange  Main Sequence  \n",
       "G                              Red    Hyper Giant  \n",
       "K                           Orange    Hyper Giant  \n",
       "M                           Orange    Brown Dwarf  \n",
       "O                             Blue    Hyper Giant  "
      ]
     },
     "execution_count": 36,
     "metadata": {},
     "output_type": "execute_result"
    }
   ],
   "source": [
    "data.groupby(['spectral_class']).min()"
   ]
  },
  {
   "cell_type": "code",
   "execution_count": 37,
   "metadata": {},
   "outputs": [
    {
     "data": {
      "text/html": [
       "<div>\n",
       "<style scoped>\n",
       "    .dataframe tbody tr th:only-of-type {\n",
       "        vertical-align: middle;\n",
       "    }\n",
       "\n",
       "    .dataframe tbody tr th {\n",
       "        vertical-align: top;\n",
       "    }\n",
       "\n",
       "    .dataframe thead th {\n",
       "        text-align: right;\n",
       "    }\n",
       "</style>\n",
       "<table border=\"1\" class=\"dataframe\">\n",
       "  <thead>\n",
       "    <tr style=\"text-align: right;\">\n",
       "      <th></th>\n",
       "      <th>temperature</th>\n",
       "      <th>luminosity</th>\n",
       "      <th>radius</th>\n",
       "      <th>absolute_magnitude</th>\n",
       "      <th>star_color</th>\n",
       "      <th>star_type</th>\n",
       "    </tr>\n",
       "    <tr>\n",
       "      <th>spectral_class</th>\n",
       "      <th></th>\n",
       "      <th></th>\n",
       "      <th></th>\n",
       "      <th></th>\n",
       "      <th></th>\n",
       "      <th></th>\n",
       "    </tr>\n",
       "  </thead>\n",
       "  <tbody>\n",
       "    <tr>\n",
       "      <th>A</th>\n",
       "      <td>14060</td>\n",
       "      <td>537493.00</td>\n",
       "      <td>1423.00</td>\n",
       "      <td>14.870</td>\n",
       "      <td>white</td>\n",
       "      <td>White Dwarf</td>\n",
       "    </tr>\n",
       "    <tr>\n",
       "      <th>B</th>\n",
       "      <td>33750</td>\n",
       "      <td>849420.00</td>\n",
       "      <td>1779.00</td>\n",
       "      <td>13.670</td>\n",
       "      <td>Whitish</td>\n",
       "      <td>White Dwarf</td>\n",
       "    </tr>\n",
       "    <tr>\n",
       "      <th>F</th>\n",
       "      <td>14732</td>\n",
       "      <td>9.25</td>\n",
       "      <td>1.93</td>\n",
       "      <td>14.470</td>\n",
       "      <td>yellow-white</td>\n",
       "      <td>White Dwarf</td>\n",
       "    </tr>\n",
       "    <tr>\n",
       "      <th>G</th>\n",
       "      <td>6850</td>\n",
       "      <td>229000.00</td>\n",
       "      <td>1467.00</td>\n",
       "      <td>-10.070</td>\n",
       "      <td>Red</td>\n",
       "      <td>Hyper Giant</td>\n",
       "    </tr>\n",
       "    <tr>\n",
       "      <th>K</th>\n",
       "      <td>5112</td>\n",
       "      <td>630000.00</td>\n",
       "      <td>1534.00</td>\n",
       "      <td>6.506</td>\n",
       "      <td>yellowish</td>\n",
       "      <td>Main Sequence</td>\n",
       "    </tr>\n",
       "    <tr>\n",
       "      <th>M</th>\n",
       "      <td>3834</td>\n",
       "      <td>550000.00</td>\n",
       "      <td>1673.00</td>\n",
       "      <td>20.060</td>\n",
       "      <td>Red</td>\n",
       "      <td>Super Giant</td>\n",
       "    </tr>\n",
       "    <tr>\n",
       "      <th>O</th>\n",
       "      <td>40000</td>\n",
       "      <td>834042.00</td>\n",
       "      <td>1948.50</td>\n",
       "      <td>-4.360</td>\n",
       "      <td>Blue</td>\n",
       "      <td>Super Giant</td>\n",
       "    </tr>\n",
       "  </tbody>\n",
       "</table>\n",
       "</div>"
      ],
      "text/plain": [
       "                temperature  luminosity   radius  absolute_magnitude  \\\n",
       "spectral_class                                                         \n",
       "A                     14060   537493.00  1423.00              14.870   \n",
       "B                     33750   849420.00  1779.00              13.670   \n",
       "F                     14732        9.25     1.93              14.470   \n",
       "G                      6850   229000.00  1467.00             -10.070   \n",
       "K                      5112   630000.00  1534.00               6.506   \n",
       "M                      3834   550000.00  1673.00              20.060   \n",
       "O                     40000   834042.00  1948.50              -4.360   \n",
       "\n",
       "                  star_color      star_type  \n",
       "spectral_class                               \n",
       "A                      white    White Dwarf  \n",
       "B                    Whitish    White Dwarf  \n",
       "F               yellow-white    White Dwarf  \n",
       "G                        Red    Hyper Giant  \n",
       "K                  yellowish  Main Sequence  \n",
       "M                        Red    Super Giant  \n",
       "O                       Blue    Super Giant  "
      ]
     },
     "execution_count": 37,
     "metadata": {},
     "output_type": "execute_result"
    }
   ],
   "source": [
    "data.groupby(['spectral_class']).max()"
   ]
  },
  {
   "cell_type": "code",
   "execution_count": 38,
   "metadata": {},
   "outputs": [
    {
     "data": {
      "image/png": "[encoded data removed]",
      "text/plain": [
       "<Figure size 432x288 with 1 Axes>"
      ]
     },
     "metadata": {
      "needs_background": "light"
     },
     "output_type": "display_data"
    }
   ],
   "source": [
    "import matplotlib.pyplot as plt\n",
    "import pandas as pd\n",
    "data[['temperature', 'spectral_class']].boxplot(by='spectral_class')\n",
    "plt.show()"
   ]
  },
  {
   "cell_type": "code",
   "execution_count": null,
   "metadata": {},
   "outputs": [],
   "source": [
    "import matplotlib.pyplot as plt\n",
    "import pandas as pd\n",
    "data['Decade'] = pd.cut(data.time, bins=6)\n",
    "data[['Decade', 'value']].boxplot(by='Decade')\n",
    "plt.xticks(range(7), [str(x) for x in range(1910, 1980, 10)])\n",
    "plt.xticks(ha='left')\n",
    "plt.title('Temperature Over the Decades')\n",
    "plt.suptitle('')\n",
    "plt.xlabel('Decade')\n",
    "plt.ylabel('Average Yearly Temperature (F)')\n",
    "plt.show()"
   ]
  },
  {
   "cell_type": "code",
   "execution_count": 93,
   "metadata": {},
   "outputs": [
    {
     "name": "stdout",
     "output_type": "stream",
     "text": [
      "0.06421597240596892\n"
     ]
    },
    {
     "data": {
      "text/plain": [
       "<AxesSubplot: xlabel='temperature', ylabel='radius'>"
      ]
     },
     "execution_count": 93,
     "metadata": {},
     "output_type": "execute_result"
    },
    {
     "data": {
      "image/png": "[encoded data removed]",
      "text/plain": [
       "<Figure size 432x288 with 1 Axes>"
      ]
     },
     "metadata": {
      "needs_background": "light"
     },
     "output_type": "display_data"
    }
   ],
   "source": [
    "import seaborn\n",
    "# Make the plot for the data visualization and line of best fit here:\n",
    "seaborn.regplot(x='temperature', y = 'radius', data = data)\n",
    "print(data['temperature'].corr(data['radius']))\n",
    "seaborn.scatterplot(data=data, x='temperature', y='radius', hue='star_type')"
   ]
  },
  {
   "cell_type": "code",
   "execution_count": 94,
   "metadata": {},
   "outputs": [
    {
     "name": "stdout",
     "output_type": "stream",
     "text": [
      "0.5265157243480015\n"
     ]
    },
    {
     "data": {
      "text/plain": [
       "<AxesSubplot: xlabel='luminosity', ylabel='radius'>"
      ]
     },
     "execution_count": 94,
     "metadata": {},
     "output_type": "execute_result"
    },
    {
     "data": {
      "image/png": "[encoded data removed]",
      "text/plain": [
       "<Figure size 432x288 with 1 Axes>"
      ]
     },
     "metadata": {
      "needs_background": "light"
     },
     "output_type": "display_data"
    }
   ],
   "source": [
    "import seaborn\n",
    "# Make the plot for the data visualization and line of best fit here:\n",
    "seaborn.regplot(x='luminosity', y = 'radius', data = data)\n",
    "print(data['luminosity'].corr(data['radius']))\n",
    "seaborn.scatterplot(data=data, x='luminosity', y='radius', hue='star_type')"
   ]
  },
  {
   "cell_type": "code",
   "execution_count": 95,
   "metadata": {},
   "outputs": [
    {
     "name": "stdout",
     "output_type": "stream",
     "text": [
      "-0.6087282328465596\n"
     ]
    },
    {
     "data": {
      "text/plain": [
       "<AxesSubplot: xlabel='absolute_magnitude', ylabel='radius'>"
      ]
     },
     "execution_count": 95,
     "metadata": {},
     "output_type": "execute_result"
    },
    {
     "data": {
      "image/png": "[encoded data removed]",
      "text/plain": [
       "<Figure size 432x288 with 1 Axes>"
      ]
     },
     "metadata": {
      "needs_background": "light"
     },
     "output_type": "display_data"
    }
   ],
   "source": [
    "import seaborn\n",
    "# Make the plot for the data visualization and line of best fit here:\n",
    "# seaborn.regplot(x='absolute_magnitude', y = 'radius', data = data)\n",
    "print(data['absolute_magnitude'].corr(data['radius']))\n",
    "seaborn.scatterplot(data=data, x='absolute_magnitude', y='radius', hue='star_type')"
   ]
  },
  {
   "cell_type": "code",
   "execution_count": 96,
   "metadata": {},
   "outputs": [
    {
     "name": "stdout",
     "output_type": "stream",
     "text": [
      "-0.692619233399942\n"
     ]
    },
    {
     "data": {
      "text/plain": [
       "<AxesSubplot: xlabel='absolute_magnitude', ylabel='luminosity'>"
      ]
     },
     "execution_count": 96,
     "metadata": {},
     "output_type": "execute_result"
    },
    {
     "data": {
      "image/png": "[encoded data removed]",
      "text/plain": [
       "<Figure size 432x288 with 1 Axes>"
      ]
     },
     "metadata": {
      "needs_background": "light"
     },
     "output_type": "display_data"
    }
   ],
   "source": [
    "import seaborn\n",
    "# Make the plot for the data visualization and line of best fit here:\n",
    "seaborn.regplot(x='absolute_magnitude', y = 'luminosity', data = data)\n",
    "print(data['absolute_magnitude'].corr(data['luminosity']))\n",
    "seaborn.scatterplot(data=data, x='absolute_magnitude', y='luminosity', hue='star_type')"
   ]
  },
  {
   "cell_type": "code",
   "execution_count": 97,
   "metadata": {},
   "outputs": [
    {
     "name": "stdout",
     "output_type": "stream",
     "text": [
      "-0.42026054236947274\n"
     ]
    },
    {
     "data": {
      "text/plain": [
       "<AxesSubplot: xlabel='absolute_magnitude', ylabel='temperature'>"
      ]
     },
     "execution_count": 97,
     "metadata": {},
     "output_type": "execute_result"
    },
    {
     "data": {
      "image/png": "[encoded data removed]",
      "text/plain": [
       "<Figure size 432x288 with 1 Axes>"
      ]
     },
     "metadata": {
      "needs_background": "light"
     },
     "output_type": "display_data"
    }
   ],
   "source": [
    "import seaborn\n",
    "# Make the plot for the data visualization and line of best fit here:\n",
    "seaborn.regplot(x='absolute_magnitude', y = 'temperature', data = data)\n",
    "print(data['absolute_magnitude'].corr(data['temperature']))\n",
    "seaborn.scatterplot(data=data, x='absolute_magnitude', y='temperature', hue='star_type')"
   ]
  },
  {
   "cell_type": "code",
   "execution_count": 43,
   "metadata": {},
   "outputs": [
    {
     "name": "stderr",
     "output_type": "stream",
     "text": [
      "/var/folders/j1/rssdx9h148g0ptj4pj02c_0m0000gn/T/ipykernel_11886/2019882780.py:1: FutureWarning: The default value of numeric_only in DataFrameGroupBy.mean is deprecated. In a future version, numeric_only will default to False. Either specify numeric_only or select only columns which should be valid for the function.\n",
      "  data.groupby(['star_color']).mean()\n",
      "/var/folders/j1/rssdx9h148g0ptj4pj02c_0m0000gn/T/ipykernel_11886/2019882780.py:2: FutureWarning: The default value of numeric_only in DataFrameGroupBy.mean is deprecated. In a future version, numeric_only will default to False. Either specify numeric_only or select only columns which should be valid for the function.\n",
      "  data.groupby(['luminosity']).mean()\n"
     ]
    },
    {
     "data": {
      "text/html": [
       "<div>\n",
       "<style scoped>\n",
       "    .dataframe tbody tr th:only-of-type {\n",
       "        vertical-align: middle;\n",
       "    }\n",
       "\n",
       "    .dataframe tbody tr th {\n",
       "        vertical-align: top;\n",
       "    }\n",
       "\n",
       "    .dataframe thead th {\n",
       "        text-align: right;\n",
       "    }\n",
       "</style>\n",
       "<table border=\"1\" class=\"dataframe\">\n",
       "  <thead>\n",
       "    <tr style=\"text-align: right;\">\n",
       "      <th></th>\n",
       "      <th>temperature</th>\n",
       "      <th>radius</th>\n",
       "      <th>absolute_magnitude</th>\n",
       "    </tr>\n",
       "    <tr>\n",
       "      <th>luminosity</th>\n",
       "      <th></th>\n",
       "      <th></th>\n",
       "      <th></th>\n",
       "    </tr>\n",
       "  </thead>\n",
       "  <tbody>\n",
       "    <tr>\n",
       "      <th>0.000080</th>\n",
       "      <td>7230.000000</td>\n",
       "      <td>0.01300</td>\n",
       "      <td>14.080</td>\n",
       "    </tr>\n",
       "    <tr>\n",
       "      <th>0.000085</th>\n",
       "      <td>12990.000000</td>\n",
       "      <td>0.00984</td>\n",
       "      <td>12.230</td>\n",
       "    </tr>\n",
       "    <tr>\n",
       "      <th>0.000110</th>\n",
       "      <td>11216.000000</td>\n",
       "      <td>0.01086</td>\n",
       "      <td>13.680</td>\n",
       "    </tr>\n",
       "    <tr>\n",
       "      <th>0.000138</th>\n",
       "      <td>1939.000000</td>\n",
       "      <td>0.10300</td>\n",
       "      <td>20.060</td>\n",
       "    </tr>\n",
       "    <tr>\n",
       "      <th>0.000140</th>\n",
       "      <td>7077.333333</td>\n",
       "      <td>0.04466</td>\n",
       "      <td>15.240</td>\n",
       "    </tr>\n",
       "    <tr>\n",
       "      <th>...</th>\n",
       "      <td>...</td>\n",
       "      <td>...</td>\n",
       "      <td>...</td>\n",
       "    </tr>\n",
       "    <tr>\n",
       "      <th>748890.000000</th>\n",
       "      <td>21738.000000</td>\n",
       "      <td>92.00000</td>\n",
       "      <td>-7.346</td>\n",
       "    </tr>\n",
       "    <tr>\n",
       "      <th>783930.000000</th>\n",
       "      <td>10930.000000</td>\n",
       "      <td>25.00000</td>\n",
       "      <td>-6.224</td>\n",
       "    </tr>\n",
       "    <tr>\n",
       "      <th>813000.000000</th>\n",
       "      <td>40000.000000</td>\n",
       "      <td>14.00000</td>\n",
       "      <td>-6.230</td>\n",
       "    </tr>\n",
       "    <tr>\n",
       "      <th>834042.000000</th>\n",
       "      <td>30839.000000</td>\n",
       "      <td>1194.00000</td>\n",
       "      <td>-10.630</td>\n",
       "    </tr>\n",
       "    <tr>\n",
       "      <th>849420.000000</th>\n",
       "      <td>27739.000000</td>\n",
       "      <td>1252.00000</td>\n",
       "      <td>-7.590</td>\n",
       "    </tr>\n",
       "  </tbody>\n",
       "</table>\n",
       "<p>208 rows × 3 columns</p>\n",
       "</div>"
      ],
      "text/plain": [
       "                temperature      radius  absolute_magnitude\n",
       "luminosity                                                 \n",
       "0.000080        7230.000000     0.01300              14.080\n",
       "0.000085       12990.000000     0.00984              12.230\n",
       "0.000110       11216.000000     0.01086              13.680\n",
       "0.000138        1939.000000     0.10300              20.060\n",
       "0.000140        7077.333333     0.04466              15.240\n",
       "...                     ...         ...                 ...\n",
       "748890.000000  21738.000000    92.00000              -7.346\n",
       "783930.000000  10930.000000    25.00000              -6.224\n",
       "813000.000000  40000.000000    14.00000              -6.230\n",
       "834042.000000  30839.000000  1194.00000             -10.630\n",
       "849420.000000  27739.000000  1252.00000              -7.590\n",
       "\n",
       "[208 rows x 3 columns]"
      ]
     },
     "execution_count": 43,
     "metadata": {},
     "output_type": "execute_result"
    }
   ],
   "source": [
    "data.groupby(['star_color']).mean()\n",
    "data.groupby(['luminosity']).mean()"
   ]
  },
  {
   "cell_type": "code",
   "execution_count": 86,
   "metadata": {},
   "outputs": [
    {
     "name": "stdout",
     "output_type": "stream",
     "text": [
      "10497.4625\n"
     ]
    }
   ],
   "source": [
    "print(data['temperature'].mean())"
   ]
  },
  {
   "cell_type": "code",
   "execution_count": 88,
   "metadata": {},
   "outputs": [
    {
     "name": "stdout",
     "output_type": "stream",
     "text": [
      "107188.36163460833\n"
     ]
    }
   ],
   "source": [
    "print(data['luminosity'].mean())"
   ]
  },
  {
   "cell_type": "code",
   "execution_count": 90,
   "metadata": {},
   "outputs": [
    {
     "name": "stdout",
     "output_type": "stream",
     "text": [
      "267450.08362078236\n"
     ]
    }
   ],
   "source": [
    "print(data['radius'].var())"
   ]
  },
  {
   "cell_type": "code",
   "execution_count": 92,
   "metadata": {},
   "outputs": [
    {
     "name": "stdout",
     "output_type": "stream",
     "text": [
      "110.93381641588215\n"
     ]
    }
   ],
   "source": [
    "print(data['absolute_magnitude'].var())"
   ]
  },
  {
   "cell_type": "code",
   "execution_count": 85,
   "metadata": {},
   "outputs": [
    {
     "data": {
      "text/plain": [
       "<AxesSubplot: xlabel='temperature', ylabel='Density'>"
      ]
     },
     "execution_count": 85,
     "metadata": {},
     "output_type": "execute_result"
    },
    {
     "data": {
      "image/png": "[encoded data removed]",
      "text/plain": [
       "<Figure size 432x288 with 1 Axes>"
      ]
     },
     "metadata": {
      "needs_background": "light"
     },
     "output_type": "display_data"
    }
   ],
   "source": [
    "import seaborn\n",
    "seaborn.kdeplot(data['temperature'], label=\"temperature\")"
   ]
  },
  {
   "cell_type": "code",
   "execution_count": 87,
   "metadata": {},
   "outputs": [
    {
     "data": {
      "text/plain": [
       "<AxesSubplot: xlabel='luminosity', ylabel='Density'>"
      ]
     },
     "execution_count": 87,
     "metadata": {},
     "output_type": "execute_result"
    },
    {
     "data": {
      "image/png": "[encoded data removed]",
      "text/plain": [
       "<Figure size 432x288 with 1 Axes>"
      ]
     },
     "metadata": {
      "needs_background": "light"
     },
     "output_type": "display_data"
    }
   ],
   "source": [
    "import seaborn\n",
    "seaborn.kdeplot(data['luminosity'])"
   ]
  },
  {
   "cell_type": "code",
   "execution_count": 89,
   "metadata": {},
   "outputs": [
    {
     "data": {
      "text/plain": [
       "<AxesSubplot: xlabel='radius', ylabel='Density'>"
      ]
     },
     "execution_count": 89,
     "metadata": {},
     "output_type": "execute_result"
    },
    {
     "data": {
      "image/png": "[encoded data removed]",
      "text/plain": [
       "<Figure size 432x288 with 1 Axes>"
      ]
     },
     "metadata": {
      "needs_background": "light"
     },
     "output_type": "display_data"
    }
   ],
   "source": [
    "import seaborn\n",
    "seaborn.kdeplot(data['radius'])"
   ]
  },
  {
   "cell_type": "code",
   "execution_count": 91,
   "metadata": {},
   "outputs": [
    {
     "data": {
      "text/plain": [
       "<AxesSubplot: xlabel='absolute_magnitude', ylabel='Density'>"
      ]
     },
     "execution_count": 91,
     "metadata": {},
     "output_type": "execute_result"
    },
    {
     "data": {
      "image/png": "[encoded data removed]",
      "text/plain": [
       "<Figure size 432x288 with 1 Axes>"
      ]
     },
     "metadata": {
      "needs_background": "light"
     },
     "output_type": "display_data"
    }
   ],
   "source": [
    "import seaborn\n",
    "seaborn.kdeplot(data['absolute_magnitude'])"
   ]
  },
  {
   "cell_type": "code",
   "execution_count": 29,
   "metadata": {},
   "outputs": [
    {
     "data": {
      "text/html": [
       "<div>\n",
       "<style scoped>\n",
       "    .dataframe tbody tr th:only-of-type {\n",
       "        vertical-align: middle;\n",
       "    }\n",
       "\n",
       "    .dataframe tbody tr th {\n",
       "        vertical-align: top;\n",
       "    }\n",
       "\n",
       "    .dataframe thead th {\n",
       "        text-align: right;\n",
       "    }\n",
       "</style>\n",
       "<table border=\"1\" class=\"dataframe\">\n",
       "  <thead>\n",
       "    <tr style=\"text-align: right;\">\n",
       "      <th></th>\n",
       "      <th>temperature</th>\n",
       "      <th>luminosity</th>\n",
       "      <th>radius</th>\n",
       "      <th>absolute_magnitude</th>\n",
       "      <th>star_color</th>\n",
       "      <th>spectral_class</th>\n",
       "    </tr>\n",
       "    <tr>\n",
       "      <th>star_type</th>\n",
       "      <th></th>\n",
       "      <th></th>\n",
       "      <th></th>\n",
       "      <th></th>\n",
       "      <th></th>\n",
       "      <th></th>\n",
       "    </tr>\n",
       "  </thead>\n",
       "  <tbody>\n",
       "    <tr>\n",
       "      <th>Brown Dwarf</th>\n",
       "      <td>3531</td>\n",
       "      <td>0.0056</td>\n",
       "      <td>0.190</td>\n",
       "      <td>20.060</td>\n",
       "      <td>Red</td>\n",
       "      <td>M</td>\n",
       "    </tr>\n",
       "    <tr>\n",
       "      <th>Hyper Giant</th>\n",
       "      <td>38940</td>\n",
       "      <td>849420.0000</td>\n",
       "      <td>1948.500</td>\n",
       "      <td>-7.580</td>\n",
       "      <td>White</td>\n",
       "      <td>O</td>\n",
       "    </tr>\n",
       "    <tr>\n",
       "      <th>Main Sequence</th>\n",
       "      <td>39000</td>\n",
       "      <td>204000.0000</td>\n",
       "      <td>10.600</td>\n",
       "      <td>6.506</td>\n",
       "      <td>yellowish</td>\n",
       "      <td>O</td>\n",
       "    </tr>\n",
       "    <tr>\n",
       "      <th>Red Dwarf</th>\n",
       "      <td>3692</td>\n",
       "      <td>0.0390</td>\n",
       "      <td>0.730</td>\n",
       "      <td>14.940</td>\n",
       "      <td>Red</td>\n",
       "      <td>M</td>\n",
       "    </tr>\n",
       "    <tr>\n",
       "      <th>Super Giant</th>\n",
       "      <td>40000</td>\n",
       "      <td>813000.0000</td>\n",
       "      <td>98.000</td>\n",
       "      <td>-5.240</td>\n",
       "      <td>Red</td>\n",
       "      <td>O</td>\n",
       "    </tr>\n",
       "    <tr>\n",
       "      <th>White Dwarf</th>\n",
       "      <td>25000</td>\n",
       "      <td>0.0560</td>\n",
       "      <td>0.015</td>\n",
       "      <td>14.870</td>\n",
       "      <td>white</td>\n",
       "      <td>F</td>\n",
       "    </tr>\n",
       "  </tbody>\n",
       "</table>\n",
       "</div>"
      ],
      "text/plain": [
       "               temperature   luminosity    radius  absolute_magnitude  \\\n",
       "star_type                                                               \n",
       "Brown Dwarf           3531       0.0056     0.190              20.060   \n",
       "Hyper Giant          38940  849420.0000  1948.500              -7.580   \n",
       "Main Sequence        39000  204000.0000    10.600               6.506   \n",
       "Red Dwarf             3692       0.0390     0.730              14.940   \n",
       "Super Giant          40000  813000.0000    98.000              -5.240   \n",
       "White Dwarf          25000       0.0560     0.015              14.870   \n",
       "\n",
       "              star_color spectral_class  \n",
       "star_type                                \n",
       "Brown Dwarf          Red              M  \n",
       "Hyper Giant        White              O  \n",
       "Main Sequence  yellowish              O  \n",
       "Red Dwarf            Red              M  \n",
       "Super Giant          Red              O  \n",
       "White Dwarf        white              F  "
      ]
     },
     "execution_count": 29,
     "metadata": {},
     "output_type": "execute_result"
    }
   ],
   "source": [
    "data.groupby(['star_type']).max()"
   ]
  },
  {
   "cell_type": "code",
   "execution_count": 84,
   "metadata": {},
   "outputs": [
    {
     "data": {
      "text/html": [
       "<div>\n",
       "<style scoped>\n",
       "    .dataframe tbody tr th:only-of-type {\n",
       "        vertical-align: middle;\n",
       "    }\n",
       "\n",
       "    .dataframe tbody tr th {\n",
       "        vertical-align: top;\n",
       "    }\n",
       "\n",
       "    .dataframe thead th {\n",
       "        text-align: right;\n",
       "    }\n",
       "</style>\n",
       "<table border=\"1\" class=\"dataframe\">\n",
       "  <thead>\n",
       "    <tr style=\"text-align: right;\">\n",
       "      <th></th>\n",
       "      <th>temperature</th>\n",
       "      <th>luminosity</th>\n",
       "      <th>radius</th>\n",
       "      <th>absolute_magnitude</th>\n",
       "      <th>star_color</th>\n",
       "      <th>spectral_class</th>\n",
       "    </tr>\n",
       "    <tr>\n",
       "      <th>star_type</th>\n",
       "      <th></th>\n",
       "      <th></th>\n",
       "      <th></th>\n",
       "      <th></th>\n",
       "      <th></th>\n",
       "      <th></th>\n",
       "    </tr>\n",
       "  </thead>\n",
       "  <tbody>\n",
       "    <tr>\n",
       "      <th>Brown Dwarf</th>\n",
       "      <td>1939</td>\n",
       "      <td>0.000138</td>\n",
       "      <td>0.0570</td>\n",
       "      <td>16.05</td>\n",
       "      <td>Red</td>\n",
       "      <td>M</td>\n",
       "    </tr>\n",
       "    <tr>\n",
       "      <th>Hyper Giant</th>\n",
       "      <td>3399</td>\n",
       "      <td>74000.000000</td>\n",
       "      <td>708.9000</td>\n",
       "      <td>-11.92</td>\n",
       "      <td>Blue</td>\n",
       "      <td>A</td>\n",
       "    </tr>\n",
       "    <tr>\n",
       "      <th>Main Sequence</th>\n",
       "      <td>4077</td>\n",
       "      <td>0.085000</td>\n",
       "      <td>0.7950</td>\n",
       "      <td>-4.70</td>\n",
       "      <td>Blue</td>\n",
       "      <td>A</td>\n",
       "    </tr>\n",
       "    <tr>\n",
       "      <th>Red Dwarf</th>\n",
       "      <td>2621</td>\n",
       "      <td>0.000190</td>\n",
       "      <td>0.0980</td>\n",
       "      <td>10.12</td>\n",
       "      <td>Red</td>\n",
       "      <td>M</td>\n",
       "    </tr>\n",
       "    <tr>\n",
       "      <th>Super Giant</th>\n",
       "      <td>3008</td>\n",
       "      <td>112000.000000</td>\n",
       "      <td>12.0000</td>\n",
       "      <td>-7.45</td>\n",
       "      <td>Blue</td>\n",
       "      <td>B</td>\n",
       "    </tr>\n",
       "    <tr>\n",
       "      <th>White Dwarf</th>\n",
       "      <td>7100</td>\n",
       "      <td>0.000080</td>\n",
       "      <td>0.0084</td>\n",
       "      <td>10.18</td>\n",
       "      <td>Blue</td>\n",
       "      <td>A</td>\n",
       "    </tr>\n",
       "  </tbody>\n",
       "</table>\n",
       "</div>"
      ],
      "text/plain": [
       "               temperature     luminosity    radius  absolute_magnitude  \\\n",
       "star_type                                                                 \n",
       "Brown Dwarf           1939       0.000138    0.0570               16.05   \n",
       "Hyper Giant           3399   74000.000000  708.9000              -11.92   \n",
       "Main Sequence         4077       0.085000    0.7950               -4.70   \n",
       "Red Dwarf             2621       0.000190    0.0980               10.12   \n",
       "Super Giant           3008  112000.000000   12.0000               -7.45   \n",
       "White Dwarf           7100       0.000080    0.0084               10.18   \n",
       "\n",
       "              star_color spectral_class  \n",
       "star_type                                \n",
       "Brown Dwarf          Red              M  \n",
       "Hyper Giant         Blue              A  \n",
       "Main Sequence       Blue              A  \n",
       "Red Dwarf            Red              M  \n",
       "Super Giant         Blue              B  \n",
       "White Dwarf         Blue              A  "
      ]
     },
     "execution_count": 84,
     "metadata": {},
     "output_type": "execute_result"
    }
   ],
   "source": [
    "data.groupby(['star_type']).min()"
   ]
  },
  {
   "cell_type": "code",
   "execution_count": 6,
   "metadata": {},
   "outputs": [
    {
     "name": "stderr",
     "output_type": "stream",
     "text": [
      "/var/folders/j1/rssdx9h148g0ptj4pj02c_0m0000gn/T/ipykernel_1054/3851558704.py:1: FutureWarning: The default value of numeric_only in DataFrameGroupBy.var is deprecated. In a future version, numeric_only will default to False. Either specify numeric_only or select only columns which should be valid for the function.\n",
      "  data.groupby(['radius']).var()\n"
     ]
    },
    {
     "data": {
      "text/html": [
       "<div>\n",
       "<style scoped>\n",
       "    .dataframe tbody tr th:only-of-type {\n",
       "        vertical-align: middle;\n",
       "    }\n",
       "\n",
       "    .dataframe tbody tr th {\n",
       "        vertical-align: top;\n",
       "    }\n",
       "\n",
       "    .dataframe thead th {\n",
       "        text-align: right;\n",
       "    }\n",
       "</style>\n",
       "<table border=\"1\" class=\"dataframe\">\n",
       "  <thead>\n",
       "    <tr style=\"text-align: right;\">\n",
       "      <th></th>\n",
       "      <th>temperature</th>\n",
       "      <th>luminosity</th>\n",
       "      <th>absolute_magnitude</th>\n",
       "    </tr>\n",
       "    <tr>\n",
       "      <th>radius</th>\n",
       "      <th></th>\n",
       "      <th></th>\n",
       "      <th></th>\n",
       "    </tr>\n",
       "  </thead>\n",
       "  <tbody>\n",
       "    <tr>\n",
       "      <th>0.00840</th>\n",
       "      <td>NaN</td>\n",
       "      <td>NaN</td>\n",
       "      <td>NaN</td>\n",
       "    </tr>\n",
       "    <tr>\n",
       "      <th>0.00870</th>\n",
       "      <td>NaN</td>\n",
       "      <td>NaN</td>\n",
       "      <td>NaN</td>\n",
       "    </tr>\n",
       "    <tr>\n",
       "      <th>0.00878</th>\n",
       "      <td>NaN</td>\n",
       "      <td>NaN</td>\n",
       "      <td>NaN</td>\n",
       "    </tr>\n",
       "    <tr>\n",
       "      <th>0.00879</th>\n",
       "      <td>NaN</td>\n",
       "      <td>NaN</td>\n",
       "      <td>NaN</td>\n",
       "    </tr>\n",
       "    <tr>\n",
       "      <th>0.00890</th>\n",
       "      <td>NaN</td>\n",
       "      <td>NaN</td>\n",
       "      <td>NaN</td>\n",
       "    </tr>\n",
       "    <tr>\n",
       "      <th>...</th>\n",
       "      <td>...</td>\n",
       "      <td>...</td>\n",
       "      <td>...</td>\n",
       "    </tr>\n",
       "    <tr>\n",
       "      <th>1673.00000</th>\n",
       "      <td>NaN</td>\n",
       "      <td>NaN</td>\n",
       "      <td>NaN</td>\n",
       "    </tr>\n",
       "    <tr>\n",
       "      <th>1679.00000</th>\n",
       "      <td>NaN</td>\n",
       "      <td>NaN</td>\n",
       "      <td>NaN</td>\n",
       "    </tr>\n",
       "    <tr>\n",
       "      <th>1779.00000</th>\n",
       "      <td>NaN</td>\n",
       "      <td>NaN</td>\n",
       "      <td>NaN</td>\n",
       "    </tr>\n",
       "    <tr>\n",
       "      <th>1783.00000</th>\n",
       "      <td>NaN</td>\n",
       "      <td>NaN</td>\n",
       "      <td>NaN</td>\n",
       "    </tr>\n",
       "    <tr>\n",
       "      <th>1948.50000</th>\n",
       "      <td>NaN</td>\n",
       "      <td>NaN</td>\n",
       "      <td>NaN</td>\n",
       "    </tr>\n",
       "  </tbody>\n",
       "</table>\n",
       "<p>216 rows × 3 columns</p>\n",
       "</div>"
      ],
      "text/plain": [
       "            temperature  luminosity  absolute_magnitude\n",
       "radius                                                 \n",
       "0.00840             NaN         NaN                 NaN\n",
       "0.00870             NaN         NaN                 NaN\n",
       "0.00878             NaN         NaN                 NaN\n",
       "0.00879             NaN         NaN                 NaN\n",
       "0.00890             NaN         NaN                 NaN\n",
       "...                 ...         ...                 ...\n",
       "1673.00000          NaN         NaN                 NaN\n",
       "1679.00000          NaN         NaN                 NaN\n",
       "1779.00000          NaN         NaN                 NaN\n",
       "1783.00000          NaN         NaN                 NaN\n",
       "1948.50000          NaN         NaN                 NaN\n",
       "\n",
       "[216 rows x 3 columns]"
      ]
     },
     "execution_count": 6,
     "metadata": {},
     "output_type": "execute_result"
    }
   ],
   "source": [
    "data.groupby(['radius']).var()"
   ]
  },
  {
   "cell_type": "code",
   "execution_count": 30,
   "metadata": {},
   "outputs": [
    {
     "data": {
      "text/html": [
       "<div>\n",
       "<style scoped>\n",
       "    .dataframe tbody tr th:only-of-type {\n",
       "        vertical-align: middle;\n",
       "    }\n",
       "\n",
       "    .dataframe tbody tr th {\n",
       "        vertical-align: top;\n",
       "    }\n",
       "\n",
       "    .dataframe thead th {\n",
       "        text-align: right;\n",
       "    }\n",
       "</style>\n",
       "<table border=\"1\" class=\"dataframe\">\n",
       "  <thead>\n",
       "    <tr style=\"text-align: right;\">\n",
       "      <th></th>\n",
       "      <th>temperature</th>\n",
       "      <th>luminosity</th>\n",
       "      <th>radius</th>\n",
       "      <th>absolute_magnitude</th>\n",
       "      <th>star_color</th>\n",
       "      <th>spectral_class</th>\n",
       "    </tr>\n",
       "    <tr>\n",
       "      <th>star_type</th>\n",
       "      <th></th>\n",
       "      <th></th>\n",
       "      <th></th>\n",
       "      <th></th>\n",
       "      <th></th>\n",
       "      <th></th>\n",
       "    </tr>\n",
       "  </thead>\n",
       "  <tbody>\n",
       "    <tr>\n",
       "      <th>Brown Dwarf</th>\n",
       "      <td>1939</td>\n",
       "      <td>0.000138</td>\n",
       "      <td>0.0570</td>\n",
       "      <td>16.05</td>\n",
       "      <td>Red</td>\n",
       "      <td>M</td>\n",
       "    </tr>\n",
       "    <tr>\n",
       "      <th>Hyper Giant</th>\n",
       "      <td>3399</td>\n",
       "      <td>74000.000000</td>\n",
       "      <td>708.9000</td>\n",
       "      <td>-11.92</td>\n",
       "      <td>Blue</td>\n",
       "      <td>A</td>\n",
       "    </tr>\n",
       "    <tr>\n",
       "      <th>Main Sequence</th>\n",
       "      <td>4077</td>\n",
       "      <td>0.085000</td>\n",
       "      <td>0.7950</td>\n",
       "      <td>-4.70</td>\n",
       "      <td>Blue</td>\n",
       "      <td>A</td>\n",
       "    </tr>\n",
       "    <tr>\n",
       "      <th>Red Dwarf</th>\n",
       "      <td>2621</td>\n",
       "      <td>0.000190</td>\n",
       "      <td>0.0980</td>\n",
       "      <td>10.12</td>\n",
       "      <td>Red</td>\n",
       "      <td>M</td>\n",
       "    </tr>\n",
       "    <tr>\n",
       "      <th>Super Giant</th>\n",
       "      <td>3008</td>\n",
       "      <td>112000.000000</td>\n",
       "      <td>12.0000</td>\n",
       "      <td>-7.45</td>\n",
       "      <td>Blue</td>\n",
       "      <td>B</td>\n",
       "    </tr>\n",
       "    <tr>\n",
       "      <th>White Dwarf</th>\n",
       "      <td>7100</td>\n",
       "      <td>0.000080</td>\n",
       "      <td>0.0084</td>\n",
       "      <td>10.18</td>\n",
       "      <td>Blue</td>\n",
       "      <td>A</td>\n",
       "    </tr>\n",
       "  </tbody>\n",
       "</table>\n",
       "</div>"
      ],
      "text/plain": [
       "               temperature     luminosity    radius  absolute_magnitude  \\\n",
       "star_type                                                                 \n",
       "Brown Dwarf           1939       0.000138    0.0570               16.05   \n",
       "Hyper Giant           3399   74000.000000  708.9000              -11.92   \n",
       "Main Sequence         4077       0.085000    0.7950               -4.70   \n",
       "Red Dwarf             2621       0.000190    0.0980               10.12   \n",
       "Super Giant           3008  112000.000000   12.0000               -7.45   \n",
       "White Dwarf           7100       0.000080    0.0084               10.18   \n",
       "\n",
       "              star_color spectral_class  \n",
       "star_type                                \n",
       "Brown Dwarf          Red              M  \n",
       "Hyper Giant         Blue              A  \n",
       "Main Sequence       Blue              A  \n",
       "Red Dwarf            Red              M  \n",
       "Super Giant         Blue              B  \n",
       "White Dwarf         Blue              A  "
      ]
     },
     "execution_count": 30,
     "metadata": {},
     "output_type": "execute_result"
    }
   ],
   "source": [
    "data.groupby(['star_type']).min()"
   ]
  },
  {
   "cell_type": "code",
   "execution_count": 11,
   "metadata": {
    "id": "Xx3i9MVhWdeE"
   },
   "outputs": [
    {
     "ename": "ParserError",
     "evalue": "Error tokenizing data. C error: Expected 1 fields in line 27, saw 367\n",
     "output_type": "error",
     "traceback": [
      "\u001b[0;31m---------------------------------------------------------------------------\u001b[0m",
      "\u001b[0;31mParserError\u001b[0m                               Traceback (most recent call last)",
      "\u001b[0;32m/var/folders/j1/rssdx9h148g0ptj4pj02c_0m0000gn/T/ipykernel_11886/2904871577.py\u001b[0m in \u001b[0;36m<module>\u001b[0;34m\u001b[0m\n\u001b[1;32m      1\u001b[0m \u001b[0;31m#Enter the code for the question above here:\u001b[0m\u001b[0;34m\u001b[0m\u001b[0;34m\u001b[0m\u001b[0m\n\u001b[1;32m      2\u001b[0m \u001b[0;31m#read in the costs.csv file\u001b[0m\u001b[0;34m\u001b[0m\u001b[0;34m\u001b[0m\u001b[0m\n\u001b[0;32m----> 3\u001b[0;31m \u001b[0mdata\u001b[0m \u001b[0;34m=\u001b[0m \u001b[0mpd\u001b[0m\u001b[0;34m.\u001b[0m\u001b[0mread_csv\u001b[0m\u001b[0;34m(\u001b[0m\u001b[0;34m\"costs.csv\"\u001b[0m\u001b[0;34m)\u001b[0m\u001b[0;34m\u001b[0m\u001b[0;34m\u001b[0m\u001b[0m\n\u001b[0m\u001b[1;32m      4\u001b[0m \u001b[0;31m#add a column called, \"girlfriend with all values set to 500\"\u001b[0m\u001b[0;34m\u001b[0m\u001b[0;34m\u001b[0m\u001b[0m\n\u001b[1;32m      5\u001b[0m \u001b[0mgirlfriend\u001b[0m \u001b[0;34m=\u001b[0m \u001b[0mnp\u001b[0m\u001b[0;34m.\u001b[0m\u001b[0marray\u001b[0m\u001b[0;34m(\u001b[0m\u001b[0;34m[\u001b[0m\u001b[0;36m500\u001b[0m\u001b[0;34m,\u001b[0m \u001b[0;36m500\u001b[0m\u001b[0;34m,\u001b[0m \u001b[0;36m500\u001b[0m\u001b[0;34m,\u001b[0m \u001b[0;36m500\u001b[0m\u001b[0;34m,\u001b[0m \u001b[0;36m500\u001b[0m\u001b[0;34m,\u001b[0m \u001b[0;36m500\u001b[0m\u001b[0;34m]\u001b[0m\u001b[0;34m)\u001b[0m\u001b[0;34m\u001b[0m\u001b[0;34m\u001b[0m\u001b[0m\n",
      "\u001b[0;32m~/opt/anaconda3/lib/python3.9/site-packages/pandas/util/_decorators.py\u001b[0m in \u001b[0;36mwrapper\u001b[0;34m(*args, **kwargs)\u001b[0m\n\u001b[1;32m    209\u001b[0m                 \u001b[0;32melse\u001b[0m\u001b[0;34m:\u001b[0m\u001b[0;34m\u001b[0m\u001b[0;34m\u001b[0m\u001b[0m\n\u001b[1;32m    210\u001b[0m                     \u001b[0mkwargs\u001b[0m\u001b[0;34m[\u001b[0m\u001b[0mnew_arg_name\u001b[0m\u001b[0;34m]\u001b[0m \u001b[0;34m=\u001b[0m \u001b[0mnew_arg_value\u001b[0m\u001b[0;34m\u001b[0m\u001b[0;34m\u001b[0m\u001b[0m\n\u001b[0;32m--> 211\u001b[0;31m             \u001b[0;32mreturn\u001b[0m \u001b[0mfunc\u001b[0m\u001b[0;34m(\u001b[0m\u001b[0;34m*\u001b[0m\u001b[0margs\u001b[0m\u001b[0;34m,\u001b[0m \u001b[0;34m**\u001b[0m\u001b[0mkwargs\u001b[0m\u001b[0;34m)\u001b[0m\u001b[0;34m\u001b[0m\u001b[0;34m\u001b[0m\u001b[0m\n\u001b[0m\u001b[1;32m    212\u001b[0m \u001b[0;34m\u001b[0m\u001b[0m\n\u001b[1;32m    213\u001b[0m         \u001b[0;32mreturn\u001b[0m \u001b[0mcast\u001b[0m\u001b[0;34m(\u001b[0m\u001b[0mF\u001b[0m\u001b[0;34m,\u001b[0m \u001b[0mwrapper\u001b[0m\u001b[0;34m)\u001b[0m\u001b[0;34m\u001b[0m\u001b[0;34m\u001b[0m\u001b[0m\n",
      "\u001b[0;32m~/opt/anaconda3/lib/python3.9/site-packages/pandas/util/_decorators.py\u001b[0m in \u001b[0;36mwrapper\u001b[0;34m(*args, **kwargs)\u001b[0m\n\u001b[1;32m    329\u001b[0m                     \u001b[0mstacklevel\u001b[0m\u001b[0;34m=\u001b[0m\u001b[0mfind_stack_level\u001b[0m\u001b[0;34m(\u001b[0m\u001b[0;34m)\u001b[0m\u001b[0;34m,\u001b[0m\u001b[0;34m\u001b[0m\u001b[0;34m\u001b[0m\u001b[0m\n\u001b[1;32m    330\u001b[0m                 )\n\u001b[0;32m--> 331\u001b[0;31m             \u001b[0;32mreturn\u001b[0m \u001b[0mfunc\u001b[0m\u001b[0;34m(\u001b[0m\u001b[0;34m*\u001b[0m\u001b[0margs\u001b[0m\u001b[0;34m,\u001b[0m \u001b[0;34m**\u001b[0m\u001b[0mkwargs\u001b[0m\u001b[0;34m)\u001b[0m\u001b[0;34m\u001b[0m\u001b[0;34m\u001b[0m\u001b[0m\n\u001b[0m\u001b[1;32m    332\u001b[0m \u001b[0;34m\u001b[0m\u001b[0m\n\u001b[1;32m    333\u001b[0m         \u001b[0;31m# error: \"Callable[[VarArg(Any), KwArg(Any)], Any]\" has no\u001b[0m\u001b[0;34m\u001b[0m\u001b[0;34m\u001b[0m\u001b[0m\n",
      "\u001b[0;32m~/opt/anaconda3/lib/python3.9/site-packages/pandas/io/parsers/readers.py\u001b[0m in \u001b[0;36mread_csv\u001b[0;34m(filepath_or_buffer, sep, delimiter, header, names, index_col, usecols, squeeze, prefix, mangle_dupe_cols, dtype, engine, converters, true_values, false_values, skipinitialspace, skiprows, skipfooter, nrows, na_values, keep_default_na, na_filter, verbose, skip_blank_lines, parse_dates, infer_datetime_format, keep_date_col, date_parser, dayfirst, cache_dates, iterator, chunksize, compression, thousands, decimal, lineterminator, quotechar, quoting, doublequote, escapechar, comment, encoding, encoding_errors, dialect, error_bad_lines, warn_bad_lines, on_bad_lines, delim_whitespace, low_memory, memory_map, float_precision, storage_options)\u001b[0m\n\u001b[1;32m    948\u001b[0m     \u001b[0mkwds\u001b[0m\u001b[0;34m.\u001b[0m\u001b[0mupdate\u001b[0m\u001b[0;34m(\u001b[0m\u001b[0mkwds_defaults\u001b[0m\u001b[0;34m)\u001b[0m\u001b[0;34m\u001b[0m\u001b[0;34m\u001b[0m\u001b[0m\n\u001b[1;32m    949\u001b[0m \u001b[0;34m\u001b[0m\u001b[0m\n\u001b[0;32m--> 950\u001b[0;31m     \u001b[0;32mreturn\u001b[0m \u001b[0m_read\u001b[0m\u001b[0;34m(\u001b[0m\u001b[0mfilepath_or_buffer\u001b[0m\u001b[0;34m,\u001b[0m \u001b[0mkwds\u001b[0m\u001b[0;34m)\u001b[0m\u001b[0;34m\u001b[0m\u001b[0;34m\u001b[0m\u001b[0m\n\u001b[0m\u001b[1;32m    951\u001b[0m \u001b[0;34m\u001b[0m\u001b[0m\n\u001b[1;32m    952\u001b[0m \u001b[0;34m\u001b[0m\u001b[0m\n",
      "\u001b[0;32m~/opt/anaconda3/lib/python3.9/site-packages/pandas/io/parsers/readers.py\u001b[0m in \u001b[0;36m_read\u001b[0;34m(filepath_or_buffer, kwds)\u001b[0m\n\u001b[1;32m    609\u001b[0m \u001b[0;34m\u001b[0m\u001b[0m\n\u001b[1;32m    610\u001b[0m     \u001b[0;32mwith\u001b[0m \u001b[0mparser\u001b[0m\u001b[0;34m:\u001b[0m\u001b[0;34m\u001b[0m\u001b[0;34m\u001b[0m\u001b[0m\n\u001b[0;32m--> 611\u001b[0;31m         \u001b[0;32mreturn\u001b[0m \u001b[0mparser\u001b[0m\u001b[0;34m.\u001b[0m\u001b[0mread\u001b[0m\u001b[0;34m(\u001b[0m\u001b[0mnrows\u001b[0m\u001b[0;34m)\u001b[0m\u001b[0;34m\u001b[0m\u001b[0;34m\u001b[0m\u001b[0m\n\u001b[0m\u001b[1;32m    612\u001b[0m \u001b[0;34m\u001b[0m\u001b[0m\n\u001b[1;32m    613\u001b[0m \u001b[0;34m\u001b[0m\u001b[0m\n",
      "\u001b[0;32m~/opt/anaconda3/lib/python3.9/site-packages/pandas/io/parsers/readers.py\u001b[0m in \u001b[0;36mread\u001b[0;34m(self, nrows)\u001b[0m\n\u001b[1;32m   1776\u001b[0m                     \u001b[0mcolumns\u001b[0m\u001b[0;34m,\u001b[0m\u001b[0;34m\u001b[0m\u001b[0;34m\u001b[0m\u001b[0m\n\u001b[1;32m   1777\u001b[0m                     \u001b[0mcol_dict\u001b[0m\u001b[0;34m,\u001b[0m\u001b[0;34m\u001b[0m\u001b[0;34m\u001b[0m\u001b[0m\n\u001b[0;32m-> 1778\u001b[0;31m                 \u001b[0;34m)\u001b[0m \u001b[0;34m=\u001b[0m \u001b[0mself\u001b[0m\u001b[0;34m.\u001b[0m\u001b[0m_engine\u001b[0m\u001b[0;34m.\u001b[0m\u001b[0mread\u001b[0m\u001b[0;34m(\u001b[0m  \u001b[0;31m# type: ignore[attr-defined]\u001b[0m\u001b[0;34m\u001b[0m\u001b[0;34m\u001b[0m\u001b[0m\n\u001b[0m\u001b[1;32m   1779\u001b[0m                     \u001b[0mnrows\u001b[0m\u001b[0;34m\u001b[0m\u001b[0;34m\u001b[0m\u001b[0m\n\u001b[1;32m   1780\u001b[0m                 )\n",
      "\u001b[0;32m~/opt/anaconda3/lib/python3.9/site-packages/pandas/io/parsers/c_parser_wrapper.py\u001b[0m in \u001b[0;36mread\u001b[0;34m(self, nrows)\u001b[0m\n\u001b[1;32m    228\u001b[0m         \u001b[0;32mtry\u001b[0m\u001b[0;34m:\u001b[0m\u001b[0;34m\u001b[0m\u001b[0;34m\u001b[0m\u001b[0m\n\u001b[1;32m    229\u001b[0m             \u001b[0;32mif\u001b[0m \u001b[0mself\u001b[0m\u001b[0;34m.\u001b[0m\u001b[0mlow_memory\u001b[0m\u001b[0;34m:\u001b[0m\u001b[0;34m\u001b[0m\u001b[0;34m\u001b[0m\u001b[0m\n\u001b[0;32m--> 230\u001b[0;31m                 \u001b[0mchunks\u001b[0m \u001b[0;34m=\u001b[0m \u001b[0mself\u001b[0m\u001b[0;34m.\u001b[0m\u001b[0m_reader\u001b[0m\u001b[0;34m.\u001b[0m\u001b[0mread_low_memory\u001b[0m\u001b[0;34m(\u001b[0m\u001b[0mnrows\u001b[0m\u001b[0;34m)\u001b[0m\u001b[0;34m\u001b[0m\u001b[0;34m\u001b[0m\u001b[0m\n\u001b[0m\u001b[1;32m    231\u001b[0m                 \u001b[0;31m# destructive to chunks\u001b[0m\u001b[0;34m\u001b[0m\u001b[0;34m\u001b[0m\u001b[0m\n\u001b[1;32m    232\u001b[0m                 \u001b[0mdata\u001b[0m \u001b[0;34m=\u001b[0m \u001b[0m_concatenate_chunks\u001b[0m\u001b[0;34m(\u001b[0m\u001b[0mchunks\u001b[0m\u001b[0;34m)\u001b[0m\u001b[0;34m\u001b[0m\u001b[0;34m\u001b[0m\u001b[0m\n",
      "\u001b[0;32m~/opt/anaconda3/lib/python3.9/site-packages/pandas/_libs/parsers.pyx\u001b[0m in \u001b[0;36mpandas._libs.parsers.TextReader.read_low_memory\u001b[0;34m()\u001b[0m\n",
      "\u001b[0;32m~/opt/anaconda3/lib/python3.9/site-packages/pandas/_libs/parsers.pyx\u001b[0m in \u001b[0;36mpandas._libs.parsers.TextReader._read_rows\u001b[0;34m()\u001b[0m\n",
      "\u001b[0;32m~/opt/anaconda3/lib/python3.9/site-packages/pandas/_libs/parsers.pyx\u001b[0m in \u001b[0;36mpandas._libs.parsers.TextReader._tokenize_rows\u001b[0;34m()\u001b[0m\n",
      "\u001b[0;32m~/opt/anaconda3/lib/python3.9/site-packages/pandas/_libs/parsers.pyx\u001b[0m in \u001b[0;36mpandas._libs.parsers.raise_parser_error\u001b[0;34m()\u001b[0m\n",
      "\u001b[0;31mParserError\u001b[0m: Error tokenizing data. C error: Expected 1 fields in line 27, saw 367\n"
     ]
    }
   ],
   "source": [
    "#Enter the code for the question above here:\n",
    "#read in the costs.csv file\n",
    "data = pd.read_csv(\"costs.csv\")\n",
    "#add a column called, \"girlfriend with all values set to 500\"\n",
    "girlfriend = np.array([500, 500, 500, 500, 500, 500])\n",
    "data['girlfriend'] = girlfriend\n",
    "#reindex the columns such that the amount spent on rent is the first column and the other columns stay in the same order\n",
    "new_col = ['rent', 'books', 'food', 'fortnite_skins', 'girlfriend']\n",
    "data = data[new_col]\n",
    "#Sort the dataframe in descending order based on how much I psent on fortnite_skins\n",
    "data = data.sort_values(by='fortnite_skins', ascending=False)\n",
    "#Reset all the values in teh retn scolumn to 1000\n",
    "data['rent'] = np.array([1000,1000,1000,1000,1000,1000])\n",
    "data"
   ]
  },
  {
   "cell_type": "markdown",
   "metadata": {
    "id": "s7GyXbDOWxW_"
   },
   "source": [
    "## Exercise 4: Means on Columns\n",
    "Calculate the mean cost of each column in the costs DataFrame in the cell below. (Hint: use the DataFrame.mean() function!)"
   ]
  },
  {
   "cell_type": "code",
   "execution_count": 17,
   "metadata": {
    "id": "aQ2fLWq9W5v0"
   },
   "outputs": [
    {
     "name": "stdout",
     "output_type": "stream",
     "text": [
      "rent              1000.000000\n",
      "books              287.833333\n",
      "food               772.833333\n",
      "fortnite_skins      17.333333\n",
      "girlfriend         500.000000\n",
      "dtype: float64\n"
     ]
    }
   ],
   "source": [
    "#Mean cost of each column\n",
    "print(data.mean())"
   ]
  },
  {
   "cell_type": "markdown",
   "metadata": {
    "id": "dRzzQe0fXGBI"
   },
   "source": []
  },
  {
   "cell_type": "markdown",
   "metadata": {
    "id": "staKCHIDW8f5"
   },
   "source": [
    "## Exercise 5: Supplements\n",
    "\n",
    "Now we will return to the grades DataFrame that we created earlier.\n",
    "\n",
    "Dealing with missing data is a difficult topic in data science. The pandas default for missing values is NaN. These can be difficult to deal with because any operation (addition, multiplication, etc) involving an NaN value will always result in an NaN, so finding the mean of a column or adding up all the rows will be meaningless.\n",
    "\n",
    "What do we do with NaN values? The answer is always: it depends, but we should also ask: why do we have missing values? It could be that some people only filled out half the survey, it could be that the data should read 0.0 but it wasn't filled out. It could mean (in our example) that the student isn't enrolled in that class. It could be many reasons, and we should always figure them out first!\n",
    "\n",
    "In pandas we can do a couple things with NaN values.\n",
    "\n",
    "To drop all rows containing NaN values, we can simply call DataFrame.dropna()\n",
    "\n",
    "\n",
    "Or we could fill the NaN values with a specified value, like 0.0:"
   ]
  },
  {
   "cell_type": "code",
   "execution_count": 18,
   "metadata": {
    "id": "6JfHZN_qXRyI"
   },
   "outputs": [
    {
     "data": {
      "text/html": [
       "<div>\n",
       "<style scoped>\n",
       "    .dataframe tbody tr th:only-of-type {\n",
       "        vertical-align: middle;\n",
       "    }\n",
       "\n",
       "    .dataframe tbody tr th {\n",
       "        vertical-align: top;\n",
       "    }\n",
       "\n",
       "    .dataframe thead th {\n",
       "        text-align: right;\n",
       "    }\n",
       "</style>\n",
       "<table border=\"1\" class=\"dataframe\">\n",
       "  <thead>\n",
       "    <tr style=\"text-align: right;\">\n",
       "      <th></th>\n",
       "      <th>Math</th>\n",
       "      <th>English</th>\n",
       "      <th>History</th>\n",
       "    </tr>\n",
       "  </thead>\n",
       "  <tbody>\n",
       "    <tr>\n",
       "      <th>Barbara</th>\n",
       "      <td>52.0</td>\n",
       "      <td>73.0</td>\n",
       "      <td>100</td>\n",
       "    </tr>\n",
       "    <tr>\n",
       "      <th>David</th>\n",
       "      <td>10.0</td>\n",
       "      <td>39.0</td>\n",
       "      <td>100</td>\n",
       "    </tr>\n",
       "    <tr>\n",
       "      <th>Eleanor</th>\n",
       "      <td>35.0</td>\n",
       "      <td>0.0</td>\n",
       "      <td>100</td>\n",
       "    </tr>\n",
       "    <tr>\n",
       "      <th>Greg</th>\n",
       "      <td>0.0</td>\n",
       "      <td>26.0</td>\n",
       "      <td>100</td>\n",
       "    </tr>\n",
       "    <tr>\n",
       "      <th>Lauren</th>\n",
       "      <td>0.0</td>\n",
       "      <td>99.0</td>\n",
       "      <td>100</td>\n",
       "    </tr>\n",
       "    <tr>\n",
       "      <th>Mark</th>\n",
       "      <td>81.0</td>\n",
       "      <td>68.0</td>\n",
       "      <td>100</td>\n",
       "    </tr>\n",
       "  </tbody>\n",
       "</table>\n",
       "</div>"
      ],
      "text/plain": [
       "         Math  English  History\n",
       "Barbara  52.0     73.0      100\n",
       "David    10.0     39.0      100\n",
       "Eleanor  35.0      0.0      100\n",
       "Greg      0.0     26.0      100\n",
       "Lauren    0.0     99.0      100\n",
       "Mark     81.0     68.0      100"
      ]
     },
     "execution_count": 18,
     "metadata": {},
     "output_type": "execute_result"
    }
   ],
   "source": [
    "grades.fillna(0.0)"
   ]
  },
  {
   "cell_type": "markdown",
   "metadata": {
    "id": "Ei5ryprMXdnz"
   },
   "source": [
    "The supplements.csv downloaded below contains vitamin information (in mg) for 20 different supplements I'm considering as I get ready for summer:\n",
    "* Read in the supplements.csv file\n",
    "* Fill all the na values using method='bfill' (HINT: put method='bfill' in the function call! Google it if you're confused)\n",
    "* Sort the DataFrame by my most important vitamin, vitamin b6, in descending order\n",
    "* Use .drop() to create a new df, subset_df, containing all the vitamins in the supplements file except vitamin_d\n",
    "* Create a boxplot of all columns in subset_df (hint - make sure to call plt.show() at the end!!)"
   ]
  },
  {
   "cell_type": "code",
   "execution_count": 19,
   "metadata": {
    "id": "ZeuAC2MQXehH"
   },
   "outputs": [
    {
     "name": "stdout",
     "output_type": "stream",
     "text": [
      "  % Total    % Received % Xferd  Average Speed   Time    Time     Time  Current\n",
      "                                 Dload  Upload   Total   Spent    Left  Speed\n",
      "100   358  100   358    0     0   1484      0 --:--:-- --:--:-- --:--:--  1479\n"
     ]
    }
   ],
   "source": [
    "!curl -o supplements.csv https://raw.githubusercontent.com/wingated/cs180_labs/main/supplements.csv"
   ]
  },
  {
   "cell_type": "code",
   "execution_count": 34,
   "metadata": {
    "id": "ANAkE7cmXvCl"
   },
   "outputs": [
    {
     "name": "stdout",
     "output_type": "stream",
     "text": [
      "    vitamin_c  vitamin_d  vitamin_e  vitamin_k  vitamin_b6\n",
      "0         NaN      547.0       21.0       25.0         6.0\n",
      "1        65.0      744.0       21.0       25.0         6.0\n",
      "2        71.0      664.0       22.0       30.0         NaN\n",
      "3        49.0      506.0       20.0       37.0         9.0\n",
      "4        43.0      520.0       24.0       23.0         0.0\n",
      "5        69.0      417.0       24.0       38.0         8.0\n",
      "6        51.0      556.0       20.0        NaN         5.0\n",
      "7        59.0      768.0       24.0       31.0         8.0\n",
      "8        69.0      439.0       24.0       37.0         1.0\n",
      "9        59.0      476.0       20.0       32.0         9.0\n",
      "10       65.0      585.0       24.0       18.0         8.0\n",
      "11       80.0      516.0       23.0       30.0         7.0\n",
      "12       59.0      591.0       23.0       30.0         3.0\n",
      "13       60.0      549.0       22.0       32.0         0.0\n",
      "14       80.0        NaN        NaN       38.0        10.0\n",
      "15       77.0      790.0       23.0       23.0        10.0\n",
      "16       71.0      771.0       24.0       18.0         1.0\n",
      "17       42.0      764.0       22.0        NaN         5.0\n",
      "18        NaN      517.0       24.0       20.0         6.0\n",
      "19       68.0      770.0       24.0       31.0         3.0\n"
     ]
    },
    {
     "data": {
      "image/png": "[encoded data removed]",
      "text/plain": [
       "<Figure size 432x288 with 1 Axes>"
      ]
     },
     "metadata": {
      "needs_background": "light"
     },
     "output_type": "display_data"
    }
   ],
   "source": [
    "#Enter the code for the question above here:\n",
    "#read in the supplements.csv file\n",
    "data = pd.read_csv(\"supplements.csv\")\n",
    "#Fill all the na values using method='bfill' (HINT: put method='bfill' in the function call! Google it if you're confused)\n",
    "data = data.fillna(method='bfill')\n",
    "#Sort the DataFrame by my most important vitamin, vitamin b6, in descending order\n",
    "data = data.sort_values(by='vitamin_b6', ascending = False)\n",
    "#Use .drop() to create a new df, subset_df, containing all the vitamins in the supplements file except vitamin_d\n",
    "sub_data = data.drop(columns = ['vitamin_d'])\n",
    "# Create a boxplot of all columns in subset_df (hint - make sure to call plt.show() at the end!!)\n",
    "boxplot = sub_data.boxplot()"
   ]
  },
  {
   "cell_type": "markdown",
   "metadata": {
    "id": "EyNqaFPwX1xa"
   },
   "source": [
    "## Exercise 6\n",
    "Write something that you noticed in the supplements data. Feel free to poke around, plot some more things, and find something interesting!"
   ]
  },
  {
   "cell_type": "code",
   "execution_count": 1,
   "metadata": {
    "id": "ojSLdw_OX5cW"
   },
   "outputs": [
    {
     "name": "stdout",
     "output_type": "stream",
     "text": [
      "I found out that vitamin_c has more number than other vitamins\n"
     ]
    }
   ],
   "source": [
    "# Exploratory Data Analysis\n",
    "print(\"I found out that vitamin_c has more number than other vitamins\")"
   ]
  },
  {
   "cell_type": "markdown",
   "metadata": {
    "id": "bC9o61ZdX9cZ"
   },
   "source": [
    "Enter something cool that you found out here."
   ]
  }
 ],
 "metadata": {
  "colab": {
   "provenance": []
  },
  "kernelspec": {
   "display_name": "Python 3 (ipykernel)",
   "language": "python",
   "name": "python3"
  },
  "language_info": {
   "codemirror_mode": {
    "name": "ipython",
    "version": 3
   },
   "file_extension": ".py",
   "mimetype": "text/x-python",
   "name": "python",
   "nbconvert_exporter": "python",
   "pygments_lexer": "ipython3",
   "version": "3.9.7"
  }
 },
 "nbformat": 4,
 "nbformat_minor": 1
}
