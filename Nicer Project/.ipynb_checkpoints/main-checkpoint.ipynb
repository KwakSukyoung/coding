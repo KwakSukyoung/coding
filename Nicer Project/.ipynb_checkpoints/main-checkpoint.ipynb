{
 "cells": [
  {
   "cell_type": "markdown",
   "id": "36f87630-8cab-4e2d-bfb8-5f4866e5fa3d",
   "metadata": {},
   "source": [
    "## Nicer Project:\n",
    "People will suffer less if someone says the same content in a nicer way.\n",
    "For example, if I say, \"Your hair looks ugly today\", I can say like \"Your hair looks unique that I'm not familiar with\".\n",
    "This is not the complete goal but want to try something.\n",
    "It's gonna be a long process.\n",
    "- **Korean**:Cuz I want to do 미뇨끼's example\n"
   ]
  },
  {
   "cell_type": "code",
   "execution_count": 4,
   "id": "a20bff76-1d4c-43be-9467-a8fe186b52e6",
   "metadata": {},
   "outputs": [],
   "source": [
    "import numpy as np"
   ]
  },
  {
   "cell_type": "code",
   "execution_count": 27,
   "id": "7cb7c011-cced-47da-92b3-a4f27a805d5c",
   "metadata": {},
   "outputs": [
    {
     "name": "stdout",
     "output_type": "stream",
     "text": [
      "Requirement already satisfied: opencv-python-headless in /Users/raul/opt/anaconda3/lib/python3.9/site-packages (4.9.0.80)\n",
      "Requirement already satisfied: numpy>=1.19.3 in /Users/raul/opt/anaconda3/lib/python3.9/site-packages (from opencv-python-headless) (1.26.0)\n",
      "Note: you may need to restart the kernel to use updated packages.\n"
     ]
    }
   ],
   "source": [
    "pip install opencv-python-headless"
   ]
  },
  {
   "cell_type": "markdown",
   "id": "9f53d652-5d14-437b-9d27-aed75e4be8a0",
   "metadata": {},
   "source": [
    "### 1. change swear words:\n",
    "-Next things to do: collect an example data from instagram. 미뇨끼"
   ]
  },
  {
   "cell_type": "code",
   "execution_count": 28,
   "id": "106de1db-292c-4707-9f27-74692d487664",
   "metadata": {},
   "outputs": [],
   "source": [
    "import cv2\n",
    "import easyocr\n",
    "import matplotlib.pyplot as plt"
   ]
  },
  {
   "cell_type": "code",
   "execution_count": 18,
   "id": "641e384d-8f18-4918-b794-39350bf914d8",
   "metadata": {},
   "outputs": [
    {
     "name": "stdout",
     "output_type": "stream",
     "text": [
      "IMG_0131.PNG   IMG_0549.jpeg  main.ipynb\n"
     ]
    }
   ],
   "source": [
    "ls"
   ]
  },
  {
   "cell_type": "code",
   "execution_count": 30,
   "id": "f9e65d30-e3a0-4fdc-8381-c6416a642bee",
   "metadata": {},
   "outputs": [],
   "source": [
    "# Read the image using OpenCV\n",
    "image = cv2.imread('IMG_0549.jpeg')"
   ]
  },
  {
   "cell_type": "code",
   "execution_count": 32,
   "id": "c7036b55-b6b5-42d5-a705-acc1217ce892",
   "metadata": {},
   "outputs": [
    {
     "name": "stderr",
     "output_type": "stream",
     "text": [
      "Using CPU. Note: This module is much faster with a GPU.\n",
      "Downloading detection model, please wait. This may take several minutes depending upon your network connection.\n"
     ]
    },
    {
     "name": "stdout",
     "output_type": "stream",
     "text": [
      "Progress: |██████████████████████████████████████████████████| 100.0% Complete"
     ]
    },
    {
     "name": "stderr",
     "output_type": "stream",
     "text": [
      "Downloading recognition model, please wait. This may take several minutes depending upon your network connection.\n"
     ]
    },
    {
     "name": "stdout",
     "output_type": "stream",
     "text": [
      "Progress: |██████████████████████████████████████████████████| 100.0% Complete"
     ]
    }
   ],
   "source": [
    "reader = easyocr.Reader(['en'], gpu = False)"
   ]
  },
  {
   "cell_type": "code",
   "execution_count": null,
   "id": "1d1c229b-eafe-4ce8-acc2-5457188f9d9d",
   "metadata": {},
   "outputs": [],
   "source": [
    "text = reader.readtext(image)"
   ]
  },
  {
   "cell_type": "code",
   "execution_count": null,
   "id": "a1cf7837-0c9f-4bd9-b432-fd55360155cc",
   "metadata": {},
   "outputs": [],
   "source": [
    "# Convert image to grayscale\n",
    "gray_image = cv2.cvtColor(image, cv2.COLOR_BGR2GRAY)"
   ]
  },
  {
   "cell_type": "code",
   "execution_count": 20,
   "id": "957945d7-847d-4c35-b678-ba4fb6b9fabb",
   "metadata": {},
   "outputs": [],
   "source": [
    "\n",
    "# Perform text recognition using Tesseract\n",
    "recognized_text = pytesseract.image_to_string(gray_image)"
   ]
  },
  {
   "cell_type": "code",
   "execution_count": 21,
   "id": "54b96d3e-8be1-4750-b53b-a8e9787e1ea2",
   "metadata": {},
   "outputs": [
    {
     "name": "stdout",
     "output_type": "stream",
     "text": [
      "Recognized text:\n",
      "ae Ml, Glave: 27] Kiss ele |aey\n",
      "\n"
     ]
    }
   ],
   "source": [
    "print(\"Recognized text:\")\n",
    "print(recognized_text)"
   ]
  },
  {
   "cell_type": "code",
   "execution_count": null,
   "id": "b945e1b8-9b79-4b9f-9e43-209927512e9b",
   "metadata": {},
   "outputs": [],
   "source": []
  }
 ],
 "metadata": {
  "kernelspec": {
   "display_name": "Python 3 (ipykernel)",
   "language": "python",
   "name": "python3"
  },
  "language_info": {
   "codemirror_mode": {
    "name": "ipython",
    "version": 3
   },
   "file_extension": ".py",
   "mimetype": "text/x-python",
   "name": "python",
   "nbconvert_exporter": "python",
   "pygments_lexer": "ipython3",
   "version": "3.9.7"
  }
 },
 "nbformat": 4,
 "nbformat_minor": 5
}
