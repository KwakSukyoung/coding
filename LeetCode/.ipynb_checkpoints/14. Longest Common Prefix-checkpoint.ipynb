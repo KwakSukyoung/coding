{
 "cells": [
  {
   "cell_type": "markdown",
   "id": "d9e40754-61f5-4c10-acb9-850fe7dc1eed",
   "metadata": {},
   "source": [
    "# 14. Longest Common Prefix\n",
    "\n",
    "Write a function to find the longest common prefix string amongst an array of strings.\n",
    "If there is no common prefix, return an empty string \"\".\n",
    "\n",
    "\n",
    "Example 1:\n",
    "\n",
    "    Input: strs = [\"flower\",\"flow\",\"flight\"]\n",
    "    Output: \"fl\"\n",
    "    \n",
    "Example 2:\n",
    "\n",
    "    Input: strs = [\"dog\",\"racecar\",\"car\"]\n",
    "    Output: \"\"\n",
    "    Explanation: There is no common prefix among the input strings.\n",
    " \n",
    "\n",
    "Constraints:\n",
    "\n",
    "    1 <= strs.length <= 200\n",
    "    0 <= strs[i].length <= 200\n",
    "    strs[i] consists of only lowercase English letters."
   ]
  },
  {
   "cell_type": "markdown",
   "id": "b23ff455-bd2a-422c-bc73-fc33dcc3b0f1",
   "metadata": {},
   "source": [
    "# My Try:\n",
    "- I figured out this time.\n",
    "- Took 45ms"
   ]
  },
  {
   "cell_type": "code",
   "execution_count": 1,
   "id": "8cdd71f5-e2ea-41f2-94a2-1ff81e150939",
   "metadata": {},
   "outputs": [
    {
     "ename": "NameError",
     "evalue": "name 'List' is not defined",
     "output_type": "error",
     "traceback": [
      "\u001b[0;31m---------------------------------------------------------------------------\u001b[0m",
      "\u001b[0;31mNameError\u001b[0m                                 Traceback (most recent call last)",
      "Cell \u001b[0;32mIn[1], line 1\u001b[0m\n\u001b[0;32m----> 1\u001b[0m \u001b[38;5;28;01mclass\u001b[39;00m \u001b[38;5;21;01mSolution\u001b[39;00m:\n\u001b[1;32m      2\u001b[0m     \u001b[38;5;28;01mdef\u001b[39;00m \u001b[38;5;21mlongestCommonPrefix\u001b[39m(\u001b[38;5;28mself\u001b[39m, strs: List[\u001b[38;5;28mstr\u001b[39m]) \u001b[38;5;241m-\u001b[39m\u001b[38;5;241m>\u001b[39m \u001b[38;5;28mstr\u001b[39m:\n\u001b[1;32m      3\u001b[0m         res \u001b[38;5;241m=\u001b[39m functools\u001b[38;5;241m.\u001b[39mreduce(\u001b[38;5;28;01mlambda\u001b[39;00m x, y: x \u001b[38;5;28;01mif\u001b[39;00m \u001b[38;5;28mlen\u001b[39m(x) \u001b[38;5;241m<\u001b[39m \u001b[38;5;28mlen\u001b[39m(y) \u001b[38;5;28;01melse\u001b[39;00m y, strs)\n",
      "Cell \u001b[0;32mIn[1], line 2\u001b[0m, in \u001b[0;36mSolution\u001b[0;34m()\u001b[0m\n\u001b[1;32m      1\u001b[0m \u001b[38;5;28;01mclass\u001b[39;00m \u001b[38;5;21;01mSolution\u001b[39;00m:\n\u001b[0;32m----> 2\u001b[0m     \u001b[38;5;28;01mdef\u001b[39;00m \u001b[38;5;21mlongestCommonPrefix\u001b[39m(\u001b[38;5;28mself\u001b[39m, strs: \u001b[43mList\u001b[49m[\u001b[38;5;28mstr\u001b[39m]) \u001b[38;5;241m-\u001b[39m\u001b[38;5;241m>\u001b[39m \u001b[38;5;28mstr\u001b[39m:\n\u001b[1;32m      3\u001b[0m         res \u001b[38;5;241m=\u001b[39m functools\u001b[38;5;241m.\u001b[39mreduce(\u001b[38;5;28;01mlambda\u001b[39;00m x, y: x \u001b[38;5;28;01mif\u001b[39;00m \u001b[38;5;28mlen\u001b[39m(x) \u001b[38;5;241m<\u001b[39m \u001b[38;5;28mlen\u001b[39m(y) \u001b[38;5;28;01melse\u001b[39;00m y, strs)\n\u001b[1;32m      5\u001b[0m         val \u001b[38;5;241m=\u001b[39m \u001b[38;5;124m\"\u001b[39m\u001b[38;5;124m\"\u001b[39m\n",
      "\u001b[0;31mNameError\u001b[0m: name 'List' is not defined"
     ]
    }
   ],
   "source": [
    "class Solution:\n",
    "    def longestCommonPrefix(self, strs: List[str]) -> str:\n",
    "        res = functools.reduce(lambda x, y: x if len(x) < len(y) else y, strs)\n",
    "        \n",
    "        val = \"\"\n",
    "        for i in range(len(res)):\n",
    "            for words in strs:\n",
    "                if res[i]!=words[i]:\n",
    "                    return val\n",
    "            val += res[i]\n",
    "        return val\n",
    "                    "
   ]
  },
  {
   "cell_type": "markdown",
   "id": "57d1213a-b581-47a8-9904-62248d202de9",
   "metadata": {},
   "source": [
    "# Others Try:\n",
    "- Took 38ms\n",
    "  \n",
    "## My Takeaway:\n",
    "1. I did pretty muc the same thing but it was unnecessary to find the shortest words.\n"
   ]
  },
  {
   "cell_type": "code",
   "execution_count": 2,
   "id": "57bb806c-d6c9-4d04-823c-bcb87b534b12",
   "metadata": {},
   "outputs": [
    {
     "ename": "NameError",
     "evalue": "name 'List' is not defined",
     "output_type": "error",
     "traceback": [
      "\u001b[0;31m---------------------------------------------------------------------------\u001b[0m",
      "\u001b[0;31mNameError\u001b[0m                                 Traceback (most recent call last)",
      "Cell \u001b[0;32mIn[2], line 1\u001b[0m\n\u001b[0;32m----> 1\u001b[0m \u001b[38;5;28;01mclass\u001b[39;00m \u001b[38;5;21;01mSolution\u001b[39;00m:\n\u001b[1;32m      2\u001b[0m     \u001b[38;5;28;01mdef\u001b[39;00m \u001b[38;5;21mlongestCommonPrefix\u001b[39m(\u001b[38;5;28mself\u001b[39m, strs: List[\u001b[38;5;28mstr\u001b[39m]) \u001b[38;5;241m-\u001b[39m\u001b[38;5;241m>\u001b[39m \u001b[38;5;28mstr\u001b[39m:\n\u001b[1;32m      3\u001b[0m         res \u001b[38;5;241m=\u001b[39m\u001b[38;5;124m\"\u001b[39m\u001b[38;5;124m\"\u001b[39m\n",
      "Cell \u001b[0;32mIn[2], line 2\u001b[0m, in \u001b[0;36mSolution\u001b[0;34m()\u001b[0m\n\u001b[1;32m      1\u001b[0m \u001b[38;5;28;01mclass\u001b[39;00m \u001b[38;5;21;01mSolution\u001b[39;00m:\n\u001b[0;32m----> 2\u001b[0m     \u001b[38;5;28;01mdef\u001b[39;00m \u001b[38;5;21mlongestCommonPrefix\u001b[39m(\u001b[38;5;28mself\u001b[39m, strs: \u001b[43mList\u001b[49m[\u001b[38;5;28mstr\u001b[39m]) \u001b[38;5;241m-\u001b[39m\u001b[38;5;241m>\u001b[39m \u001b[38;5;28mstr\u001b[39m:\n\u001b[1;32m      3\u001b[0m         res \u001b[38;5;241m=\u001b[39m\u001b[38;5;124m\"\u001b[39m\u001b[38;5;124m\"\u001b[39m\n\u001b[1;32m      5\u001b[0m         \u001b[38;5;28;01mfor\u001b[39;00m i \u001b[38;5;129;01min\u001b[39;00m \u001b[38;5;28mrange\u001b[39m(\u001b[38;5;28mlen\u001b[39m(strs[\u001b[38;5;241m0\u001b[39m])):\n",
      "\u001b[0;31mNameError\u001b[0m: name 'List' is not defined"
     ]
    }
   ],
   "source": [
    "class Solution:\n",
    "    def longestCommonPrefix(self, strs: List[str]) -> str:\n",
    "        res =\"\"\n",
    "\n",
    "        for i in range(len(strs[0])):\n",
    "            for s in strs:\n",
    "                if  i == len(s) or s[i] != strs[0][i]:\n",
    "                    return res\n",
    "                \n",
    "            res += strs[0][i]\n",
    "        return res"
   ]
  },
  {
   "cell_type": "code",
   "execution_count": null,
   "id": "2552c88d-ca1e-41da-b1e2-49accc9ab667",
   "metadata": {},
   "outputs": [],
   "source": []
  }
 ],
 "metadata": {
  "kernelspec": {
   "display_name": "Python 3 (ipykernel)",
   "language": "python",
   "name": "python3"
  },
  "language_info": {
   "codemirror_mode": {
    "name": "ipython",
    "version": 3
   },
   "file_extension": ".py",
   "mimetype": "text/x-python",
   "name": "python",
   "nbconvert_exporter": "python",
   "pygments_lexer": "ipython3",
   "version": "3.9.7"
  }
 },
 "nbformat": 4,
 "nbformat_minor": 5
}
