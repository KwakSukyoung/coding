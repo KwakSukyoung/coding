{
 "cells": [
  {
   "cell_type": "markdown",
   "id": "d9e40754-61f5-4c10-acb9-850fe7dc1eed",
   "metadata": {},
   "source": [
    "# 6. Zigzag Conversion\n",
    "The string \"PAYPALISHIRING\" is written in a zigzag pattern on a given number of rows like this: (you may want to display this pattern in a fixed font for better legibility)\n",
    "\n",
    "P   A   H   N\n",
    "A P L S I I G\n",
    "Y   I   R\n",
    "And then read line by line: \"PAHNAPLSIIGYIR\"\n",
    "\n",
    "Write the code that will take a string and make this conversion given a number of rows:\n",
    "string convert(string s, int numRows);\n",
    " \n",
    "\n",
    "Example 1:\n",
    "    Input: s = \"PAYPALISHIRING\", numRows = 3\n",
    "    Output: \"PAHNAPLSIIGYIR\"\n",
    "Example 2:\n",
    "    Input: s = \"PAYPALISHIRING\", numRows = 4\n",
    "    Output: \"PINALSIGYAHRPI\"\n",
    "    Explanation:\n",
    "    P     I    N\n",
    "    A   L S  I G\n",
    "    Y A   H R\n",
    "    P     I\n",
    "Example 3:\n",
    "    Input: s = \"A\", numRows = 1\n",
    "    Output: \"A\"\n",
    "\n",
    "Constraints:\n",
    "    1 <= s.length <= 1000\n",
    "    s consists of English letters (lower-case and upper-case), ',' and '.'.\n",
    "    1 <= numRows <= 1000"
   ]
  },
  {
   "cell_type": "markdown",
   "id": "b23ff455-bd2a-422c-bc73-fc33dcc3b0f1",
   "metadata": {},
   "source": [
    "# My Try:\n",
    "- I couldn't figure out after 20-30 mintues."
   ]
  },
  {
   "cell_type": "code",
   "execution_count": 2,
   "id": "8cdd71f5-e2ea-41f2-94a2-1ff81e150939",
   "metadata": {},
   "outputs": [
    {
     "ename": "IndentationError",
     "evalue": "expected an indented block (1460154037.py, line 2)",
     "output_type": "error",
     "traceback": [
      "\u001b[0;36m  Cell \u001b[0;32mIn[2], line 2\u001b[0;36m\u001b[0m\n\u001b[0;31m    def convert(self, s: str, numRows: int) -> str:\u001b[0m\n\u001b[0m                                                   ^\u001b[0m\n\u001b[0;31mIndentationError\u001b[0m\u001b[0;31m:\u001b[0m expected an indented block\n"
     ]
    }
   ],
   "source": [
    "class Solution:\n",
    "    def convert(self, s: str, numRows: int) -> str:"
   ]
  },
  {
   "cell_type": "markdown",
   "id": "57d1213a-b581-47a8-9904-62248d202de9",
   "metadata": {},
   "source": [
    "# Others Try:\n",
    "- Way faster compared to me.\n",
    "- Worked well!\n",
    "## My Takeaway:\n",
    "1. I feel like I'm kinda weak on mathemtatical algorithm that I should thiking more mathematically.\n",
    "2. I think my algorithm was 50% close to this algorithm. So, maybe I will do better next time.\n",
    "3. After memorizing the code, it makes more sense and I feel a little bit more confident."
   ]
  },
  {
   "cell_type": "code",
   "execution_count": 1,
   "id": "1d6fed4e-0fce-4ca1-ace2-1b5594ebbfa2",
   "metadata": {},
   "outputs": [],
   "source": [
    "class Solution:\n",
    "    def convert(self, s: str, numRows: int) -> str:\n",
    "        if numRows == 1 or numRows >= len(s):\n",
    "            return s\n",
    "        rows = [\"\"] * numRows\n",
    "        currentRow = 0\n",
    "        direction = -1\n",
    "\n",
    "        for char in s:\n",
    "            rows[currentRow] += char\n",
    "            if currentRow == 0 or currentRow == numRows - 1:\n",
    "                direction *= -1\n",
    "            currentRow += direction\n",
    "            \n",
    "        return \"\".join(rows)"
   ]
  }
 ],
 "metadata": {
  "kernelspec": {
   "display_name": "Python 3 (ipykernel)",
   "language": "python",
   "name": "python3"
  },
  "language_info": {
   "codemirror_mode": {
    "name": "ipython",
    "version": 3
   },
   "file_extension": ".py",
   "mimetype": "text/x-python",
   "name": "python",
   "nbconvert_exporter": "python",
   "pygments_lexer": "ipython3",
   "version": "3.9.7"
  }
 },
 "nbformat": 4,
 "nbformat_minor": 5
}
