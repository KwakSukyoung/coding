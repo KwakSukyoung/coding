{
 "cells": [
  {
   "cell_type": "markdown",
   "id": "d9e40754-61f5-4c10-acb9-850fe7dc1eed",
   "metadata": {},
   "source": [
    "# 13. Roman to Integer\n",
    "Roman numerals are represented by seven different symbols: I, V, X, L, C, D and M.\n",
    "\n",
    "Symbol       Value\n",
    "I             1\n",
    "V             5\n",
    "X             10\n",
    "L             50\n",
    "C             100\n",
    "D             500\n",
    "M             1000\n",
    "For example, 2 is written as II in Roman numeral, just two ones added together. 12 is written as XII, which is simply X + II. The number 27 is written as XXVII, which is XX + V + II.\n",
    "\n",
    "Roman numerals are usually written largest to smallest from left to right. However, the numeral for four is not IIII. Instead, the number four is written as IV. Because the one is before the five we subtract it making four. The same principle applies to the number nine, which is written as IX. There are six instances where subtraction is used:\n",
    "\n",
    "I can be placed before V (5) and X (10) to make 4 and 9. \n",
    "X can be placed before L (50) and C (100) to make 40 and 90. \n",
    "C can be placed before D (500) and M (1000) to make 400 and 900.\n",
    "Given a roman numeral, convert it to an integer.\n",
    "\n",
    " \n",
    "Example 1:\n",
    "\n",
    "    Input: s = \"III\"\n",
    "    Output: 3\n",
    "    Explanation: III = 3.\n",
    "Example 2:\n",
    "\n",
    "    Input: s = \"LVIII\"\n",
    "    Output: 58\n",
    "    Explanation: L = 50, V= 5, III = 3.\n",
    "Example 3:\n",
    "\n",
    "    Input: s = \"MCMXCIV\"\n",
    "    Output: 1994\n",
    "    Explanation: M = 1000, CM = 900, XC = 90 and IV = 4.\n",
    " \n",
    "\n",
    "Constraints:\n",
    "\n",
    "    1 <= s.length <= 15\n",
    "    s contains only the characters ('I', 'V', 'X', 'L', 'C', 'D', 'M').\n",
    "    It is guaranteed that s is a valid roman numeral in the range [1, 3999]."
   ]
  },
  {
   "cell_type": "markdown",
   "id": "b23ff455-bd2a-422c-bc73-fc33dcc3b0f1",
   "metadata": {},
   "source": [
    "# My Try:\n",
    "- I figured out this time.\n",
    "- Took 46ms"
   ]
  },
  {
   "cell_type": "code",
   "execution_count": 1,
   "id": "8cdd71f5-e2ea-41f2-94a2-1ff81e150939",
   "metadata": {},
   "outputs": [],
   "source": [
    "class Solution:\n",
    "    def romanToInt(self, s: str) -> int:\n",
    "        sec_dic = {\"I\":1,\n",
    "                   \"V\":5,\n",
    "                   \"X\":10,\n",
    "                   \"L\":50,\n",
    "                   \"C\":100,\n",
    "                   \"D\":500,\n",
    "                   \"M\":1000}\n",
    "        fir_dic = {\"IV\":4,\n",
    "                   \"IX\":9,\n",
    "                   \"XL\":40,\n",
    "                   \"XC\":90,\n",
    "                   \"CD\":400,\n",
    "                   \"CM\":900 }\n",
    "        val = 0\n",
    "        while len(s)!=0:\n",
    "            if len(s)>= 2 and s[:2] in fir_dic:\n",
    "                val += fir_dic[s[:2]]\n",
    "                s = s[2:]\n",
    "                continue\n",
    "            val += sec_dic[s[0]]\n",
    "            s = s[1:]\n",
    "            \n",
    "        return val\n"
   ]
  },
  {
   "cell_type": "markdown",
   "id": "57d1213a-b581-47a8-9904-62248d202de9",
   "metadata": {},
   "source": [
    "# Others Try:\n",
    "- Took 38ms\n",
    "  \n",
    "## My Takeaway:\n",
    "1. I didn't know how to check two cases at the same time which this person handled it using a if statment.\n"
   ]
  },
  {
   "cell_type": "code",
   "execution_count": 2,
   "id": "57bb806c-d6c9-4d04-823c-bcb87b534b12",
   "metadata": {},
   "outputs": [],
   "source": [
    "class Solution:\n",
    "    def romanToInt(self, s: str) -> int:\n",
    "        rom_nums = {\n",
    "            'I': 1,\n",
    "            'V': 5,\n",
    "            'X': 10,\n",
    "            'L': 50,\n",
    "            'C': 100,\n",
    "            'D': 500,\n",
    "            'M': 1000,\n",
    "        }\n",
    "        \n",
    "        ans = 0\n",
    "\n",
    "        for n in range(len(s)):\n",
    "            if n < len(s) - 1 and rom_nums[s[n]] < rom_nums[s[n+1]]:\n",
    "                ans -= rom_nums[s[n]]\n",
    "            else:\n",
    "                ans += rom_nums[s[n]]\n",
    "        \n",
    "        return ans"
   ]
  },
  {
   "cell_type": "code",
   "execution_count": null,
   "id": "2552c88d-ca1e-41da-b1e2-49accc9ab667",
   "metadata": {},
   "outputs": [],
   "source": []
  }
 ],
 "metadata": {
  "kernelspec": {
   "display_name": "Python 3 (ipykernel)",
   "language": "python",
   "name": "python3"
  },
  "language_info": {
   "codemirror_mode": {
    "name": "ipython",
    "version": 3
   },
   "file_extension": ".py",
   "mimetype": "text/x-python",
   "name": "python",
   "nbconvert_exporter": "python",
   "pygments_lexer": "ipython3",
   "version": "3.9.7"
  }
 },
 "nbformat": 4,
 "nbformat_minor": 5
}
