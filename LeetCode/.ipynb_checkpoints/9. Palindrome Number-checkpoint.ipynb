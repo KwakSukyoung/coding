{
 "cells": [
  {
   "cell_type": "markdown",
   "id": "d9e40754-61f5-4c10-acb9-850fe7dc1eed",
   "metadata": {},
   "source": [
    "# 9. Palindrome Number\n",
    "Given an integer x, return true if x is a \n",
    "palindrome, and false otherwise.\n",
    "\n",
    "Example 1:\n",
    "\n",
    "    Input: x = 121\n",
    "    Output: true\n",
    "    Explanation: 121 reads as 121 from left to right and from right to left.\n",
    "    \n",
    "Example 2:\n",
    "\n",
    "    Input: x = -121\n",
    "    Output: false\n",
    "    Explanation: From left to right, it reads -121. From right to left, it becomes 121-. Therefore it is not a palindrome.\n",
    "    \n",
    "Example 3:\n",
    "\n",
    "    Input: x = 10\n",
    "    Output: false\n",
    "    Explanation: Reads 01 from right to left. Therefore it is not a palindrome.\n",
    "     \n",
    "\n",
    "Constraints:\n",
    "\n",
    "    -231 <= x <= 231 - 1"
   ]
  },
  {
   "cell_type": "markdown",
   "id": "b23ff455-bd2a-422c-bc73-fc33dcc3b0f1",
   "metadata": {},
   "source": [
    "# My Try:\n",
    "- I figured out this time and also pretty good with the time\n",
    "- I tried to use assign before using them\n",
    "- Took 54ms"
   ]
  },
  {
   "cell_type": "code",
   "execution_count": 3,
   "id": "8cdd71f5-e2ea-41f2-94a2-1ff81e150939",
   "metadata": {},
   "outputs": [],
   "source": [
    "class Solution:\n",
    "    def isPalindrome(self, x: int) -> bool:\n",
    "        string = str(x)\n",
    "        rever = string[::-1]\n",
    "        if string != rever:\n",
    "            return False\n",
    "        return True"
   ]
  },
  {
   "cell_type": "markdown",
   "id": "57d1213a-b581-47a8-9904-62248d202de9",
   "metadata": {},
   "source": [
    "# Others Try:\n",
    "- Took 0ms\n",
    "  \n",
    "## My Takeaway:\n",
    "1. It's way simpler to read\n",
    "2. They used directly return value so we don't have to use if statement."
   ]
  },
  {
   "cell_type": "code",
   "execution_count": 4,
   "id": "1d6fed4e-0fce-4ca1-ace2-1b5594ebbfa2",
   "metadata": {},
   "outputs": [],
   "source": [
    "class Solution:\n",
    "    def isPalindrome(self, x: int) -> bool:\n",
    "        l=str(x)\n",
    "        return l[::-1]== l"
   ]
  },
  {
   "cell_type": "code",
   "execution_count": null,
   "id": "57bb806c-d6c9-4d04-823c-bcb87b534b12",
   "metadata": {},
   "outputs": [],
   "source": []
  }
 ],
 "metadata": {
  "kernelspec": {
   "display_name": "Python 3 (ipykernel)",
   "language": "python",
   "name": "python3"
  },
  "language_info": {
   "codemirror_mode": {
    "name": "ipython",
    "version": 3
   },
   "file_extension": ".py",
   "mimetype": "text/x-python",
   "name": "python",
   "nbconvert_exporter": "python",
   "pygments_lexer": "ipython3",
   "version": "3.9.7"
  }
 },
 "nbformat": 4,
 "nbformat_minor": 5
}
