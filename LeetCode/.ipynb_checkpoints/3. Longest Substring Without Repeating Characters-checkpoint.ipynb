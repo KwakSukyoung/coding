{
 "cells": [
  {
   "cell_type": "markdown",
   "id": "d9e40754-61f5-4c10-acb9-850fe7dc1eed",
   "metadata": {},
   "source": [
    "# 3. Longest Substring Without Repeating Characters\n",
    "Given a string s, find the length of the longest substring without repeating characters.\n",
    "\n",
    " \n",
    "Example 1:\n",
    "    Input: s = \"abcabcbb\"\n",
    "    Output: 3\n",
    "    Explanation: The answer is \"abc\", with the length of 3.\n",
    "Example 2:\n",
    "    Input: s = \"bbbbb\"\n",
    "    Output: 1\n",
    "    Explanation: The answer is \"b\", with the length of 1.\n",
    "Example 3:\n",
    "    Input: s = \"pwwkew\"\n",
    "    Output: 3\n",
    "    Explanation: The answer is \"wke\", with the length of 3.\n",
    "Notice that the answer must be a substring, \"pwke\" is a subsequence and not a substring.\n",
    "\n",
    "Constraints:\n",
    "    0 <= s.length <= 5 * 104\n",
    "    s consists of English letters, digits, symbols and spaces."
   ]
  },
  {
   "cell_type": "markdown",
   "id": "b23ff455-bd2a-422c-bc73-fc33dcc3b0f1",
   "metadata": {},
   "source": [
    "# My Try:\n",
    "- I spent too much memory space.\n",
    "- It's probably pretty slow too"
   ]
  },
  {
   "cell_type": "code",
   "execution_count": 1,
   "id": "8cdd71f5-e2ea-41f2-94a2-1ff81e150939",
   "metadata": {},
   "outputs": [],
   "source": [
    "class Solution:\n",
    "    def lengthOfLongestSubstring(self, s: str) -> int:\n",
    "        elements = list(set([s[i] for i in range(len(s))]))\n",
    " \n",
    "        # Print the obtained permutations \n",
    "        for i in range(len(elements),0,-1):\n",
    "            perm = list(permutations(elements,i))\n",
    "            for p in perm:\n",
    "                if ''.join(list(p)) in s:\n",
    "                    return i\n",
    "        return 0"
   ]
  },
  {
   "cell_type": "markdown",
   "id": "57d1213a-b581-47a8-9904-62248d202de9",
   "metadata": {},
   "source": [
    "# Others Try:\n",
    "- Way faster compared to me.\n",
    "- Didn't have a memory issue\n",
    "## My Takeaway:\n",
    "1. Didn't know you can do multiple assignemnts like L=ans=0.\n",
    "2. I think I understood the algorithm but not sure how I would come up with that. But I will keep coding so it can be familar with me one day!"
   ]
  },
  {
   "cell_type": "code",
   "execution_count": 2,
   "id": "54bc22a3-3611-4cea-a209-30a11e6e67a2",
   "metadata": {},
   "outputs": [],
   "source": [
    "class Solution:\n",
    "    def lengthOfLongestSubstring(self, s: str) -> int:\n",
    "        L = ans = 0\n",
    "        x = set()\n",
    "\n",
    "        for R in range(len(s)):\n",
    "            \n",
    "            while s[R] in x:\n",
    "                x.remove(s[L])\n",
    "                L += 1\n",
    "            if R - L + 1 > ans:\n",
    "                ans = R - L + 1\n",
    "            x.add(s[R])\n",
    "        return ans\n",
    "\n",
    "        \n",
    "        "
   ]
  },
  {
   "cell_type": "code",
   "execution_count": null,
   "id": "1d6fed4e-0fce-4ca1-ace2-1b5594ebbfa2",
   "metadata": {},
   "outputs": [],
   "source": []
  }
 ],
 "metadata": {
  "kernelspec": {
   "display_name": "Python 3 (ipykernel)",
   "language": "python",
   "name": "python3"
  },
  "language_info": {
   "codemirror_mode": {
    "name": "ipython",
    "version": 3
   },
   "file_extension": ".py",
   "mimetype": "text/x-python",
   "name": "python",
   "nbconvert_exporter": "python",
   "pygments_lexer": "ipython3",
   "version": "3.9.7"
  }
 },
 "nbformat": 4,
 "nbformat_minor": 5
}
