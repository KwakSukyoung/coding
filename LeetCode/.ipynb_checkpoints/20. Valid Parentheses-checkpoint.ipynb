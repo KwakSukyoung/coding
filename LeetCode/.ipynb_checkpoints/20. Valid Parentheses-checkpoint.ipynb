{
 "cells": [
  {
   "cell_type": "markdown",
   "id": "d9e40754-61f5-4c10-acb9-850fe7dc1eed",
   "metadata": {},
   "source": [
    "# 20. Valid Parentheses\n",
    "Given a string s containing just the characters '(', ')', '{', '}', '[' and ']', determine if the input string is valid.\n",
    "An input string is valid if:\n",
    "Open brackets must be closed by the same type of brackets.\n",
    "Open brackets must be closed in the correct order.\n",
    "Every close bracket has a corresponding open bracket of the same type.\n",
    " \n",
    "Example 1:\n",
    "\n",
    "    Input: s = \"()\"\n",
    "    Output: true\n",
    "Example 2:\n",
    "\n",
    "    Input: s = \"()[]{}\"\n",
    "    Output: true\n",
    "Example 3:\n",
    "\n",
    "    Input: s = \"(]\"\n",
    "    Output: false"
   ]
  },
  {
   "cell_type": "markdown",
   "id": "b23ff455-bd2a-422c-bc73-fc33dcc3b0f1",
   "metadata": {},
   "source": [
    "# My Try:\n",
    "- I wansn't familair with linkedlist. Needed to remind myself wiht it"
   ]
  },
  {
   "cell_type": "code",
   "execution_count": 1,
   "id": "8cdd71f5-e2ea-41f2-94a2-1ff81e150939",
   "metadata": {},
   "outputs": [],
   "source": [
    "class Solution:\n",
    "    def isValid(self, s: str) -> bool:\n",
    "        front, back = [],[]\n",
    "        pairs = {'(':')','[':']','{':'}'}"
   ]
  },
  {
   "cell_type": "markdown",
   "id": "57d1213a-b581-47a8-9904-62248d202de9",
   "metadata": {},
   "source": [
    "# Others Try:\n",
    "  \n",
    "## My Takeaway:\n",
    "- It's cool that there are several ways to remove list[-1]\n"
   ]
  },
  {
   "cell_type": "code",
   "execution_count": 2,
   "id": "57bb806c-d6c9-4d04-823c-bcb87b534b12",
   "metadata": {},
   "outputs": [],
   "source": [
    "class Solution:\n",
    "    def isValid(self, s: str) -> bool:\n",
    "        stack = []\n",
    "        if len(s) <= 1:\n",
    "            return False\n",
    "\n",
    "        for ch in s:\n",
    "            if ch in '({[':\n",
    "                stack.append(ch)\n",
    "\n",
    "            elif ch in ')]}' and len(stack) == 0:\n",
    "                return False\n",
    "                \n",
    "            else:\n",
    "                if stack[-1] == '(' and ch == ')':\n",
    "                    del stack[-1]\n",
    "                elif stack[-1] == '{' and ch == '}':\n",
    "                    stack.pop(-1)\n",
    "                elif stack[-1] == '[' and ch == ']':\n",
    "                    stack.pop()\n",
    "                else:\n",
    "                    return False\n",
    "        \n",
    "        if len(stack) == 0:\n",
    "            return True\n",
    "        else:\n",
    "            return False\n",
    "        "
   ]
  },
  {
   "cell_type": "code",
   "execution_count": null,
   "id": "2552c88d-ca1e-41da-b1e2-49accc9ab667",
   "metadata": {},
   "outputs": [],
   "source": []
  },
  {
   "cell_type": "code",
   "execution_count": null,
   "id": "4f9aad3d-d5f7-4ff3-8de6-d61ebe6c0c41",
   "metadata": {},
   "outputs": [],
   "source": []
  }
 ],
 "metadata": {
  "kernelspec": {
   "display_name": "Python 3 (ipykernel)",
   "language": "python",
   "name": "python3"
  },
  "language_info": {
   "codemirror_mode": {
    "name": "ipython",
    "version": 3
   },
   "file_extension": ".py",
   "mimetype": "text/x-python",
   "name": "python",
   "nbconvert_exporter": "python",
   "pygments_lexer": "ipython3",
   "version": "3.9.7"
  }
 },
 "nbformat": 4,
 "nbformat_minor": 5
}
