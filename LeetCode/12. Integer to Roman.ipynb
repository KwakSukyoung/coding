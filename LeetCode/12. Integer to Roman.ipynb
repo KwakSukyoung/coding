{
 "cells": [
  {
   "cell_type": "markdown",
   "id": "d9e40754-61f5-4c10-acb9-850fe7dc1eed",
   "metadata": {},
   "source": [
    "# 12. Integer to Roman\n",
    "Roman numerals are represented by seven different symbols: I, V, X, L, C, D and M.\n",
    "\n",
    "Symbol       Value\n",
    "I             1\n",
    "V             5\n",
    "X             10\n",
    "L             50\n",
    "C             100\n",
    "D             500\n",
    "M             1000\n",
    "\n",
    "For example, 2 is written as II in Roman numeral, just two one's added together. 12 is written as XII, which is simply X + II. The number 27 is written as XXVII, which is XX + V + II.\n",
    "\n",
    "Roman numerals are usually written largest to smallest from left to right. However, the numeral for four is not IIII. Instead, the number four is written as IV. Because the one is before the five we subtract it making four. The same principle applies to the number nine, which is written as IX. There are six instances where subtraction is used:\n",
    "\n",
    "I can be placed before V (5) and X (10) to make 4 and 9. \n",
    "X can be placed before L (50) and C (100) to make 40 and 90. \n",
    "C can be placed before D (500) and M (1000) to make 400 and 900.\n",
    "Given an integer, convert it to a roman numeral.\n",
    "\n",
    "Example 1:\n",
    "\n",
    "    Input: num = 3\n",
    "    Output: \"III\"\n",
    "    Explanation: 3 is represented as 3 ones.\n",
    "Example 2:\n",
    "\n",
    "    Input: num = 58\n",
    "    Output: \"LVIII\"\n",
    "    Explanation: L = 50, V = 5, III = 3.\n",
    "Example 3:\n",
    "\n",
    "    Input: num = 1994\n",
    "    Output: \"MCMXCIV\"\n",
    "    Explanation: M = 1000, CM = 900, XC = 90 and IV = 4."
   ]
  },
  {
   "cell_type": "markdown",
   "id": "b23ff455-bd2a-422c-bc73-fc33dcc3b0f1",
   "metadata": {},
   "source": [
    "# My Try:\n",
    "- I couldn't figure out. But I feel like I should keep going with changing the number into string."
   ]
  },
  {
   "cell_type": "code",
   "execution_count": 1,
   "id": "8cdd71f5-e2ea-41f2-94a2-1ff81e150939",
   "metadata": {},
   "outputs": [
    {
     "ename": "SyntaxError",
     "evalue": "invalid syntax (3263231648.py, line 7)",
     "output_type": "error",
     "traceback": [
      "\u001b[0;36m  Cell \u001b[0;32mIn[1], line 7\u001b[0;36m\u001b[0m\n\u001b[0;31m    string +=\u001b[0m\n\u001b[0m              ^\u001b[0m\n\u001b[0;31mSyntaxError\u001b[0m\u001b[0;31m:\u001b[0m invalid syntax\n"
     ]
    }
   ],
   "source": [
    "class Solution:\n",
    "    def intToRoman(self, num: int) -> str:\n",
    "        string = \"\"\n",
    "        number = str(num)[::-1]\n",
    "        for i in range(len(number)):\n",
    "            if i ==4:\n",
    "                string += \n",
    "\n"
   ]
  },
  {
   "cell_type": "markdown",
   "id": "57d1213a-b581-47a8-9904-62248d202de9",
   "metadata": {},
   "source": [
    "# Others Try:\n",
    "- Took 40ms\n",
    "  \n",
    "## My Takeaway:\n",
    "1. I did think about using a dictionary but wasn't sure about the case when the number was 6*.\n",
    "2. It's cool that there is barely a calculation to reduce the time."
   ]
  },
  {
   "cell_type": "code",
   "execution_count": 2,
   "id": "57bb806c-d6c9-4d04-823c-bcb87b534b12",
   "metadata": {},
   "outputs": [],
   "source": [
    "class Solution:\n",
    "    def intToRoman(self, num: int) -> str:\n",
    "        vals = {\n",
    "            1000:'M',\n",
    "            900:'CM',\n",
    "            500:'D',\n",
    "            400:'CD',\n",
    "            100:'C',\n",
    "            90:'XC',\n",
    "            50:'L',\n",
    "            40:'XL',\n",
    "            10:'X',\n",
    "            9:'IX',\n",
    "            5:'V',\n",
    "            4:'IV',\n",
    "            1:'I'\n",
    "        }\n",
    "        roman = ''\n",
    "        for n in vals:\n",
    "            while n <= num:\n",
    "                roman += vals[n]\n",
    "                num -= n\n",
    "        return roman"
   ]
  },
  {
   "cell_type": "code",
   "execution_count": null,
   "id": "2552c88d-ca1e-41da-b1e2-49accc9ab667",
   "metadata": {},
   "outputs": [],
   "source": []
  }
 ],
 "metadata": {
  "kernelspec": {
   "display_name": "Python 3 (ipykernel)",
   "language": "python",
   "name": "python3"
  },
  "language_info": {
   "codemirror_mode": {
    "name": "ipython",
    "version": 3
   },
   "file_extension": ".py",
   "mimetype": "text/x-python",
   "name": "python",
   "nbconvert_exporter": "python",
   "pygments_lexer": "ipython3",
   "version": "3.9.7"
  }
 },
 "nbformat": 4,
 "nbformat_minor": 5
}
