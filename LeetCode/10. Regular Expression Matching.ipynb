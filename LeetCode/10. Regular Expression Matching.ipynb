{
 "cells": [
  {
   "cell_type": "markdown",
   "id": "d9e40754-61f5-4c10-acb9-850fe7dc1eed",
   "metadata": {},
   "source": [
    "# 10. Regular Expression Matching\n",
    "Given an input string s and a pattern p, implement regular expression matching with support for '.' and '*' where:\n",
    "\n",
    "'.' Matches any single character.​​​​\n",
    "'*' Matches zero or more of the preceding element.\n",
    "The matching should cover the entire input string (not partial).\n",
    "\n",
    "Example 1:\n",
    "\n",
    "    Input: s = \"aa\", p = \"a\"\n",
    "    Output: false\n",
    "    Explanation: \"a\" does not match the entire string \"aa\".\n",
    "Example 2:\n",
    "\n",
    "    Input: s = \"aa\", p = \"a*\"\n",
    "    Output: true\n",
    "    Explanation: '*' means zero or more of the preceding element, 'a'. Therefore, by repeating 'a' once, it becomes \"aa\".\n",
    "Example 3:\n",
    "\n",
    "    Input: s = \"ab\", p = \".*\"\n",
    "    Output: true\n",
    "    Explanation: \".*\" means \"zero or more (*) of any character (.)\".\n",
    " \n",
    "Constraints:\n",
    "\n",
    "    1 <= s.length <= 20\n",
    "    1 <= p.length <= 20\n",
    "    s contains only lowercase English letters.\n",
    "    p contains only lowercase English letters, '.', and '*'.\n",
    "    It is guaranteed for each appearance of the character '*', there will be a previous valid character to match."
   ]
  },
  {
   "cell_type": "markdown",
   "id": "b23ff455-bd2a-422c-bc73-fc33dcc3b0f1",
   "metadata": {},
   "source": [
    "# My Try:\n",
    "- I couldn't figure out but at least I went through some examples"
   ]
  },
  {
   "cell_type": "code",
   "execution_count": 2,
   "id": "8cdd71f5-e2ea-41f2-94a2-1ff81e150939",
   "metadata": {},
   "outputs": [],
   "source": [
    "class Solution:\n",
    "    def isMatch(self, s: str, p: str) -> bool:\n",
    "        if '*' not in p and '.' not in p:\n",
    "            return s == p\n",
    "        if '*' in p and '.' not in p:\n",
    "            alpha = p[:p.find('*')]\n",
    "            for letter in s:\n",
    "                if letter != alpha:\n",
    "                    return False\n",
    "            return True\n",
    "        if '.*' in p: return True"
   ]
  },
  {
   "cell_type": "markdown",
   "id": "57d1213a-b581-47a8-9904-62248d202de9",
   "metadata": {},
   "source": [
    "# Others Try:\n",
    "- Took 23ms\n",
    "  \n",
    "## My Takeaway:\n",
    "1. This one is pretty hard to understand the algorithm."
   ]
  },
  {
   "cell_type": "code",
   "execution_count": 3,
   "id": "57bb806c-d6c9-4d04-823c-bcb87b534b12",
   "metadata": {},
   "outputs": [],
   "source": [
    "class Solution:\n",
    "    def isMatch(self, s: str, p: str) -> bool:\n",
    "        memo = {}\n",
    "\n",
    "        def backtrack(i, j):\n",
    "            if (i, j) in memo:\n",
    "                return memo[(i, j)]\n",
    "\n",
    "            if j == -1:\n",
    "                result = i == -1\n",
    "            elif i == -1:\n",
    "                result = j > 0 and p[j] == '*' and backtrack(i, j - 2)\n",
    "            elif p[j] == '*':\n",
    "                result = (backtrack(i, j - 2) or\n",
    "                          (p[j - 1] == s[i] or p[j - 1] == '.') and backtrack(i - 1, j))\n",
    "            else:\n",
    "                result = (p[j] == '.' or s[i] == p[j]) and backtrack(i - 1, j - 1)\n",
    "\n",
    "            memo[(i, j)] = result\n",
    "            return result\n",
    "\n",
    "        return backtrack(len(s) - 1, len(p) - 1)"
   ]
  },
  {
   "cell_type": "code",
   "execution_count": null,
   "id": "2552c88d-ca1e-41da-b1e2-49accc9ab667",
   "metadata": {},
   "outputs": [],
   "source": []
  }
 ],
 "metadata": {
  "kernelspec": {
   "display_name": "Python 3 (ipykernel)",
   "language": "python",
   "name": "python3"
  },
  "language_info": {
   "codemirror_mode": {
    "name": "ipython",
    "version": 3
   },
   "file_extension": ".py",
   "mimetype": "text/x-python",
   "name": "python",
   "nbconvert_exporter": "python",
   "pygments_lexer": "ipython3",
   "version": "3.9.7"
  }
 },
 "nbformat": 4,
 "nbformat_minor": 5
}
