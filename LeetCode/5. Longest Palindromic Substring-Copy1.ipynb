{
 "cells": [
  {
   "cell_type": "markdown",
   "id": "d9e40754-61f5-4c10-acb9-850fe7dc1eed",
   "metadata": {},
   "source": [
    "# 5. Longest Palindromic Substring\n",
    "Given a string s, return the longest palindromic substring in s.\n",
    "\n",
    "Example 1:\n",
    "    Input: s = \"babad\"\n",
    "    Output: \"bab\"\n",
    "    Explanation: \"aba\" is also a valid answer.\n",
    "Example 2:\n",
    "    Input: s = \"cbbd\"\n",
    "    Output: \"bb\"\n",
    " \n",
    "Constraints:\n",
    "    1 <= s.length <= 1000\n",
    "    s consist of only digits and English letters."
   ]
  },
  {
   "cell_type": "markdown",
   "id": "b23ff455-bd2a-422c-bc73-fc33dcc3b0f1",
   "metadata": {},
   "source": [
    "# My Try:\n",
    "- I did it but realized I read the passage wrong and could't figure out after it"
   ]
  },
  {
   "cell_type": "code",
   "execution_count": 1,
   "id": "8cdd71f5-e2ea-41f2-94a2-1ff81e150939",
   "metadata": {},
   "outputs": [
    {
     "ename": "NameError",
     "evalue": "name 'List' is not defined",
     "output_type": "error",
     "traceback": [
      "\u001b[0;31m---------------------------------------------------------------------------\u001b[0m",
      "\u001b[0;31mNameError\u001b[0m                                 Traceback (most recent call last)",
      "Cell \u001b[0;32mIn[1], line 1\u001b[0m\n\u001b[0;32m----> 1\u001b[0m \u001b[38;5;28;01mclass\u001b[39;00m \u001b[38;5;21;01mSolution\u001b[39;00m:\n\u001b[1;32m      2\u001b[0m     \u001b[38;5;28;01mdef\u001b[39;00m \u001b[38;5;21mfindMedianSortedArrays\u001b[39m(\u001b[38;5;28mself\u001b[39m, nums1: List[\u001b[38;5;28mint\u001b[39m], nums2: List[\u001b[38;5;28mint\u001b[39m]) \u001b[38;5;241m-\u001b[39m\u001b[38;5;241m>\u001b[39m \u001b[38;5;28mfloat\u001b[39m:\n\u001b[1;32m      3\u001b[0m         \u001b[38;5;28mall\u001b[39m \u001b[38;5;241m=\u001b[39m\u001b[38;5;28msorted\u001b[39m(nums1\u001b[38;5;241m+\u001b[39mnums2)\n",
      "Cell \u001b[0;32mIn[1], line 2\u001b[0m, in \u001b[0;36mSolution\u001b[0;34m()\u001b[0m\n\u001b[1;32m      1\u001b[0m \u001b[38;5;28;01mclass\u001b[39;00m \u001b[38;5;21;01mSolution\u001b[39;00m:\n\u001b[0;32m----> 2\u001b[0m     \u001b[38;5;28;01mdef\u001b[39;00m \u001b[38;5;21mfindMedianSortedArrays\u001b[39m(\u001b[38;5;28mself\u001b[39m, nums1: \u001b[43mList\u001b[49m[\u001b[38;5;28mint\u001b[39m], nums2: List[\u001b[38;5;28mint\u001b[39m]) \u001b[38;5;241m-\u001b[39m\u001b[38;5;241m>\u001b[39m \u001b[38;5;28mfloat\u001b[39m:\n\u001b[1;32m      3\u001b[0m         \u001b[38;5;28mall\u001b[39m \u001b[38;5;241m=\u001b[39m\u001b[38;5;28msorted\u001b[39m(nums1\u001b[38;5;241m+\u001b[39mnums2)\n\u001b[1;32m      4\u001b[0m         \u001b[38;5;28;01mif\u001b[39;00m \u001b[38;5;28mlen\u001b[39m(\u001b[38;5;28mall\u001b[39m)\u001b[38;5;241m%\u001b[39m\u001b[38;5;241m2\u001b[39m\u001b[38;5;241m==\u001b[39m\u001b[38;5;241m1\u001b[39m:\n",
      "\u001b[0;31mNameError\u001b[0m: name 'List' is not defined"
     ]
    }
   ],
   "source": [
    "class Solution:\n",
    "    def findMedianSortedArrays(self, nums1: List[int], nums2: List[int]) -> float:\n",
    "        "
   ]
  },
  {
   "cell_type": "markdown",
   "id": "57d1213a-b581-47a8-9904-62248d202de9",
   "metadata": {},
   "source": [
    "# Others Try:\n",
    "- Way faster compared to me.\n",
    "- Worked well!\n",
    "## My Takeaway:\n",
    "1. I feel like I'm kinda weak on mathemtatical algorithm that I should thiking more mathematically.\n",
    "2. I shouldn't be scared of using loops too much."
   ]
  },
  {
   "cell_type": "code",
   "execution_count": 3,
   "id": "1d6fed4e-0fce-4ca1-ace2-1b5594ebbfa2",
   "metadata": {},
   "outputs": [
    {
     "ename": "NameError",
     "evalue": "name 'List' is not defined",
     "output_type": "error",
     "traceback": [
      "\u001b[0;31m---------------------------------------------------------------------------\u001b[0m",
      "\u001b[0;31mNameError\u001b[0m                                 Traceback (most recent call last)",
      "Cell \u001b[0;32mIn[3], line 1\u001b[0m\n\u001b[0;32m----> 1\u001b[0m \u001b[38;5;28;01mclass\u001b[39;00m \u001b[38;5;21;01mSolution\u001b[39;00m:\n\u001b[1;32m      2\u001b[0m     \u001b[38;5;28;01mdef\u001b[39;00m \u001b[38;5;21mfindMedianSortedArrays\u001b[39m(\u001b[38;5;28mself\u001b[39m, nums1: List[\u001b[38;5;28mint\u001b[39m], nums2: List[\u001b[38;5;28mint\u001b[39m]) \u001b[38;5;241m-\u001b[39m\u001b[38;5;241m>\u001b[39m \u001b[38;5;28mfloat\u001b[39m:\n\u001b[1;32m      3\u001b[0m         combined \u001b[38;5;241m=\u001b[39m \u001b[38;5;28msorted\u001b[39m(nums1 \u001b[38;5;241m+\u001b[39m nums2)\n",
      "Cell \u001b[0;32mIn[3], line 2\u001b[0m, in \u001b[0;36mSolution\u001b[0;34m()\u001b[0m\n\u001b[1;32m      1\u001b[0m \u001b[38;5;28;01mclass\u001b[39;00m \u001b[38;5;21;01mSolution\u001b[39;00m:\n\u001b[0;32m----> 2\u001b[0m     \u001b[38;5;28;01mdef\u001b[39;00m \u001b[38;5;21mfindMedianSortedArrays\u001b[39m(\u001b[38;5;28mself\u001b[39m, nums1: \u001b[43mList\u001b[49m[\u001b[38;5;28mint\u001b[39m], nums2: List[\u001b[38;5;28mint\u001b[39m]) \u001b[38;5;241m-\u001b[39m\u001b[38;5;241m>\u001b[39m \u001b[38;5;28mfloat\u001b[39m:\n\u001b[1;32m      3\u001b[0m         combined \u001b[38;5;241m=\u001b[39m \u001b[38;5;28msorted\u001b[39m(nums1 \u001b[38;5;241m+\u001b[39m nums2)\n\u001b[1;32m      4\u001b[0m         \u001b[38;5;28;01mif\u001b[39;00m \u001b[38;5;28mlen\u001b[39m(combined) \u001b[38;5;241m%\u001b[39m \u001b[38;5;241m2\u001b[39m \u001b[38;5;241m==\u001b[39m \u001b[38;5;241m1\u001b[39m:\n",
      "\u001b[0;31mNameError\u001b[0m: name 'List' is not defined"
     ]
    }
   ],
   "source": [
    "class Solution:\n",
    "    def longestPalindrome(self, s: str) -> str:\n",
    "        if s[::-1] == s:\n",
    "            return s\n",
    "        \n",
    "        # inti start at 0 and window size is 1\n",
    "        start, size = 0, 1\n",
    "\n",
    "        for i in range(1, len(s)):\n",
    "            # set up l, r pointer , base on cur idx to left\n",
    "            # cur window size = max window size + 1\n",
    "            l, r = i - size, i + 1\n",
    "\n",
    "            # cur window size = max window size + 2\n",
    "            s1 = s[l-1:r]\n",
    "\n",
    "            # if s1 is palindrome, update start idx and the size\n",
    "            if l >= 1 and s1[::-1] == s1:\n",
    "                size += 2\n",
    "                start = l - 1\n",
    "            else:\n",
    "                # cur window size = max window size + 1\n",
    "                s2 = s[l:r]\n",
    "                if s2[::-1] == s2:\n",
    "                    size += 1\n",
    "                    start = l\n",
    "        \n",
    "        return s[start:start+size]"
   ]
  },
  {
   "cell_type": "code",
   "execution_count": null,
   "id": "76b715f5-e7fa-4efb-a72f-d29d0a04bbbd",
   "metadata": {},
   "outputs": [],
   "source": []
  }
 ],
 "metadata": {
  "kernelspec": {
   "display_name": "Python 3 (ipykernel)",
   "language": "python",
   "name": "python3"
  },
  "language_info": {
   "codemirror_mode": {
    "name": "ipython",
    "version": 3
   },
   "file_extension": ".py",
   "mimetype": "text/x-python",
   "name": "python",
   "nbconvert_exporter": "python",
   "pygments_lexer": "ipython3",
   "version": "3.9.7"
  }
 },
 "nbformat": 4,
 "nbformat_minor": 5
}
