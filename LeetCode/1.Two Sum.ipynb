{
 "cells": [
  {
   "cell_type": "markdown",
   "id": "d9e40754-61f5-4c10-acb9-850fe7dc1eed",
   "metadata": {},
   "source": [
    "# 1. Two Sum\n",
    "Given an array of integers nums and an integer target, return indices of the two numbers such that they add up to target.\n",
    "You may assume that each input would have exactly one solution, and you may not use the same element twice.\n",
    "You can return the answer in any order.\n",
    " \n",
    "Example 1:\n",
    "    Input: nums = [2,7,11,15], target = 9\n",
    "    Output: [0,1]\n",
    "    Explanation: Because nums[0] + nums[1] == 9, we return [0, 1].\n",
    "Example 2:\n",
    "    Input: nums = [3,2,4], target = 6\n",
    "    Output: [1,2]\n",
    "Example 3:\n",
    "    Input: nums = [3,3], target = 6\n",
    "    Output: [0,1]\n",
    " \n",
    "Constraints:\n",
    "    2 <= nums.length <= 104\n",
    "    -109 <= nums[i] <= 109\n",
    "    -109 <= target <= 109\n",
    "    Only one valid answer exists."
   ]
  },
  {
   "cell_type": "markdown",
   "id": "b23ff455-bd2a-422c-bc73-fc33dcc3b0f1",
   "metadata": {},
   "source": [
    "# My Try:\n",
    "- Worked succesfuly\n",
    "- Very slow comopare to others"
   ]
  },
  {
   "cell_type": "code",
   "execution_count": 1,
   "id": "8cdd71f5-e2ea-41f2-94a2-1ff81e150939",
   "metadata": {},
   "outputs": [],
   "source": [
    "class Solution(object):\n",
    "    def twoSum(self, nums, target):\n",
    "        \"\"\"\n",
    "        :type nums: List[int]\n",
    "        :type target: int\n",
    "        :rtype: List[int]\n",
    "        \"\"\"\n",
    "        for i in range(len(nums)):\n",
    "            for j in range(len(nums)):\n",
    "                if i!=j and nums[i]+nums[j] ==target:\n",
    "                    return [i,j]"
   ]
  },
  {
   "cell_type": "markdown",
   "id": "57d1213a-b581-47a8-9904-62248d202de9",
   "metadata": {},
   "source": [
    "# Others Try:\n",
    "- Way faster compared to me.\n",
    "## My Takeaway:\n",
    "1. The realization of \"defaultdict()\". After the little bit of research, the difference between defaultdict() and dict() is whether you get a Type error raise or not.\n",
    "2. I used two loops which is O(n^2). On the other hand, the other person used only one enumerate which is just O(N). That made the whole prcess much faster. In addition, I wasn't sure if I use focus on getting the index or the value while I'm using the double loop. With that purpose, it's great to use enumerate.\n",
    "3. The algorithm. This part, I'm not too sure, but this person tried to find the other number that you add to become the target number. If you already went through it and you saved it, you don't have to do pretty much the same work, just differently approached."
   ]
  },
  {
   "cell_type": "code",
   "execution_count": null,
   "id": "54bc22a3-3611-4cea-a209-30a11e6e67a2",
   "metadata": {},
   "outputs": [],
   "source": [
    "class Solution(object):\n",
    "    def twoSum(self, nums, target):\n",
    "        \"\"\"\n",
    "        :type nums: List[int]\n",
    "        :type target: int\n",
    "        :rtype: List[int]\n",
    "        \"\"\"\n",
    "        finder = defaultdict()\n",
    "        for i, num in enumerate(nums):\n",
    "            if target - num in finder:\n",
    "                return [finder[target - num],i ]\n",
    "            finder[num] = i\n",
    "        return [-1, -1]\n"
   ]
  }
 ],
 "metadata": {
  "kernelspec": {
   "display_name": "Python 3 (ipykernel)",
   "language": "python",
   "name": "python3"
  },
  "language_info": {
   "codemirror_mode": {
    "name": "ipython",
    "version": 3
   },
   "file_extension": ".py",
   "mimetype": "text/x-python",
   "name": "python",
   "nbconvert_exporter": "python",
   "pygments_lexer": "ipython3",
   "version": "3.9.7"
  }
 },
 "nbformat": 4,
 "nbformat_minor": 5
}
