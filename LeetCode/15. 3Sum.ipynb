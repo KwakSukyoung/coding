{
 "cells": [
  {
   "cell_type": "markdown",
   "id": "d9e40754-61f5-4c10-acb9-850fe7dc1eed",
   "metadata": {},
   "source": [
    "# 15. 3Sum\n",
    "Given an integer array nums, return all the triplets [nums[i], nums[j], nums[k]] such that i != j, i != k, and j != k, and nums[i] + nums[j] + nums[k] == 0.\n",
    "\n",
    "Notice that the solution set must not contain duplicate triplets.\n",
    "\n",
    " \n",
    "Example 1:\n",
    "\n",
    "    Input: nums = [-1,0,1,2,-1,-4]\n",
    "    Output: [[-1,-1,2],[-1,0,1]]\n",
    "    Explanation: \n",
    "    nums[0] + nums[1] + nums[2] = (-1) + 0 + 1 = 0.\n",
    "    nums[1] + nums[2] + nums[4] = 0 + 1 + (-1) = 0.\n",
    "    nums[0] + nums[3] + nums[4] = (-1) + 2 + (-1) = 0.\n",
    "    The distinct triplets are [-1,0,1] and [-1,-1,2].\n",
    "    Notice that the order of the output and the order of the triplets does not matter.\n",
    "Example 2:\n",
    "\n",
    "    Input: nums = [0,1,1]\n",
    "    Output: []\n",
    "    Explanation: The only possible triplet does not sum up to 0.\n",
    "Example 3:\n",
    "\n",
    "    Input: nums = [0,0,0]\n",
    "    Output: [[0,0,0]]\n",
    "    Explanation: The only possible triplet sums up to 0.\n",
    "     \n",
    "\n",
    "Constraints:\n",
    "\n",
    "    3 <= nums.length <= 3000\n",
    "    -105 <= nums[i] <= 105"
   ]
  },
  {
   "cell_type": "markdown",
   "id": "b23ff455-bd2a-422c-bc73-fc33dcc3b0f1",
   "metadata": {},
   "source": [
    "# My Try:\n",
    "- I exceeded the time limit"
   ]
  },
  {
   "cell_type": "code",
   "execution_count": 1,
   "id": "8cdd71f5-e2ea-41f2-94a2-1ff81e150939",
   "metadata": {},
   "outputs": [
    {
     "ename": "NameError",
     "evalue": "name 'List' is not defined",
     "output_type": "error",
     "traceback": [
      "\u001b[0;31m---------------------------------------------------------------------------\u001b[0m",
      "\u001b[0;31mNameError\u001b[0m                                 Traceback (most recent call last)",
      "Cell \u001b[0;32mIn[1], line 1\u001b[0m\n\u001b[0;32m----> 1\u001b[0m \u001b[38;5;28;01mclass\u001b[39;00m \u001b[38;5;21;01mSolution\u001b[39;00m:\n\u001b[1;32m      2\u001b[0m     \u001b[38;5;28;01mdef\u001b[39;00m \u001b[38;5;21mthreeSum\u001b[39m(\u001b[38;5;28mself\u001b[39m, nums: List[\u001b[38;5;28mint\u001b[39m]) \u001b[38;5;241m-\u001b[39m\u001b[38;5;241m>\u001b[39m List[List[\u001b[38;5;28mint\u001b[39m]]:\n\u001b[1;32m      3\u001b[0m         ans \u001b[38;5;241m=\u001b[39m []\n",
      "Cell \u001b[0;32mIn[1], line 2\u001b[0m, in \u001b[0;36mSolution\u001b[0;34m()\u001b[0m\n\u001b[1;32m      1\u001b[0m \u001b[38;5;28;01mclass\u001b[39;00m \u001b[38;5;21;01mSolution\u001b[39;00m:\n\u001b[0;32m----> 2\u001b[0m     \u001b[38;5;28;01mdef\u001b[39;00m \u001b[38;5;21mthreeSum\u001b[39m(\u001b[38;5;28mself\u001b[39m, nums: \u001b[43mList\u001b[49m[\u001b[38;5;28mint\u001b[39m]) \u001b[38;5;241m-\u001b[39m\u001b[38;5;241m>\u001b[39m List[List[\u001b[38;5;28mint\u001b[39m]]:\n\u001b[1;32m      3\u001b[0m         ans \u001b[38;5;241m=\u001b[39m []\n\u001b[1;32m      4\u001b[0m         perm \u001b[38;5;241m=\u001b[39m combinations(nums, \u001b[38;5;241m3\u001b[39m)\n",
      "\u001b[0;31mNameError\u001b[0m: name 'List' is not defined"
     ]
    }
   ],
   "source": [
    "class Solution:\n",
    "    def threeSum(self, nums: List[int]) -> List[List[int]]:\n",
    "        ans = []\n",
    "        perm = combinations(nums, 3)\n",
    "        for p in perm:\n",
    "            new = sorted(p)\n",
    "            if sum(p)==0 and new not in ans:\n",
    "                ans.append(new)\n",
    "\n",
    "        return ans"
   ]
  },
  {
   "cell_type": "markdown",
   "id": "57d1213a-b581-47a8-9904-62248d202de9",
   "metadata": {},
   "source": [
    "# Others Try:\n",
    "- Took 209ms\n",
    "  \n",
    "## My Takeaway:\n",
    "1. pointer was used to make things faster\n"
   ]
  },
  {
   "cell_type": "code",
   "execution_count": 2,
   "id": "57bb806c-d6c9-4d04-823c-bcb87b534b12",
   "metadata": {},
   "outputs": [
    {
     "ename": "NameError",
     "evalue": "name 'List' is not defined",
     "output_type": "error",
     "traceback": [
      "\u001b[0;31m---------------------------------------------------------------------------\u001b[0m",
      "\u001b[0;31mNameError\u001b[0m                                 Traceback (most recent call last)",
      "Cell \u001b[0;32mIn[2], line 1\u001b[0m\n\u001b[0;32m----> 1\u001b[0m \u001b[38;5;28;01mclass\u001b[39;00m \u001b[38;5;21;01mSolution\u001b[39;00m:\n\u001b[1;32m      2\u001b[0m     \u001b[38;5;28;01mdef\u001b[39;00m \u001b[38;5;21mthreeSum\u001b[39m(\u001b[38;5;28mself\u001b[39m, nums: List[\u001b[38;5;28mint\u001b[39m]) \u001b[38;5;241m-\u001b[39m\u001b[38;5;241m>\u001b[39m List[List[\u001b[38;5;28mint\u001b[39m]]:\n\u001b[1;32m      3\u001b[0m         nums\u001b[38;5;241m.\u001b[39msort()\n",
      "Cell \u001b[0;32mIn[2], line 2\u001b[0m, in \u001b[0;36mSolution\u001b[0;34m()\u001b[0m\n\u001b[1;32m      1\u001b[0m \u001b[38;5;28;01mclass\u001b[39;00m \u001b[38;5;21;01mSolution\u001b[39;00m:\n\u001b[0;32m----> 2\u001b[0m     \u001b[38;5;28;01mdef\u001b[39;00m \u001b[38;5;21mthreeSum\u001b[39m(\u001b[38;5;28mself\u001b[39m, nums: \u001b[43mList\u001b[49m[\u001b[38;5;28mint\u001b[39m]) \u001b[38;5;241m-\u001b[39m\u001b[38;5;241m>\u001b[39m List[List[\u001b[38;5;28mint\u001b[39m]]:\n\u001b[1;32m      3\u001b[0m         nums\u001b[38;5;241m.\u001b[39msort()\n\u001b[1;32m      4\u001b[0m         index \u001b[38;5;241m=\u001b[39m \u001b[38;5;241m1\u001b[39m\n",
      "\u001b[0;31mNameError\u001b[0m: name 'List' is not defined"
     ]
    }
   ],
   "source": [
    "class Solution:\n",
    "    def threeSum(self, nums: List[int]) -> List[List[int]]:\n",
    "        nums.sort()\n",
    "        index = 1\n",
    "        x = nums[0]\n",
    "        counter = 1\n",
    "        while index < len(nums):\n",
    "            if nums[index] == x:\n",
    "                counter = counter + 1\n",
    "                if x == 0:\n",
    "                    if counter > 3:\n",
    "                        nums.pop(index)\n",
    "                    else:\n",
    "                        index = index + 1\n",
    "                elif counter > 2:\n",
    "                    nums.pop(index)\n",
    "                else:\n",
    "                    index = index + 1\n",
    "            else:\n",
    "                x = nums[index]\n",
    "                counter = 1\n",
    "                index = index + 1\n",
    "        if(not all(n>0 for n in nums)):\n",
    "            counts = Counter(nums)\n",
    "            result = [[0,0,0]] if counts[0] >= 3 else []\n",
    "            nums =[i for i in sorted(counts) if i!=0]\n",
    "            if counts[0]>0:\n",
    "                for i in nums:\n",
    "                    if i>0:\n",
    "                        break\n",
    "                    if -i in counts:\n",
    "                        result.append([-i , 0 , i])\n",
    "            for i in nums:\n",
    "                if i & 1:\n",
    "                    continue\n",
    "                remaining = -i >> 1\n",
    "                if counts[remaining] >= 2:\n",
    "                    result.append([i, remaining, remaining])\n",
    "            for i, n in enumerate(nums):\n",
    "                kk = -(nums[0] + n)\n",
    "                if kk < n:\n",
    "                    break\n",
    "                j = bisect_right(nums, -n << 1) if n < 0 else i + 1\n",
    "                k = bisect_right(nums, kk)\n",
    "                for right in nums[j:k]:\n",
    "                    left = -(n + right)\n",
    "                    if left in counts:\n",
    "                        result.append([left, n, right])\n",
    "            del counts , nums\n",
    "            return result\n",
    "        else:\n",
    "            return []"
   ]
  },
  {
   "cell_type": "code",
   "execution_count": null,
   "id": "2552c88d-ca1e-41da-b1e2-49accc9ab667",
   "metadata": {},
   "outputs": [],
   "source": []
  },
  {
   "cell_type": "code",
   "execution_count": null,
   "id": "4f9aad3d-d5f7-4ff3-8de6-d61ebe6c0c41",
   "metadata": {},
   "outputs": [],
   "source": []
  }
 ],
 "metadata": {
  "kernelspec": {
   "display_name": "Python 3 (ipykernel)",
   "language": "python",
   "name": "python3"
  },
  "language_info": {
   "codemirror_mode": {
    "name": "ipython",
    "version": 3
   },
   "file_extension": ".py",
   "mimetype": "text/x-python",
   "name": "python",
   "nbconvert_exporter": "python",
   "pygments_lexer": "ipython3",
   "version": "3.9.7"
  }
 },
 "nbformat": 4,
 "nbformat_minor": 5
}
