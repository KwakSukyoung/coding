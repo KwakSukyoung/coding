{
 "cells": [
  {
   "cell_type": "markdown",
   "id": "d9e40754-61f5-4c10-acb9-850fe7dc1eed",
   "metadata": {},
   "source": [
    "# 7. Reverse Integer\n",
    "Given a signed 32-bit integer x, return x with its digits reversed. If reversing x causes the value to go outside the signed 32-bit integer range [-231, 231 - 1], then return 0.\n",
    "\n",
    "Assume the environment does not allow you to store 64-bit integers (signed or unsigned).\n",
    "\n",
    "\n",
    "Example 1:\n",
    "\n",
    "    Input: x = 123\n",
    "    Output: 321\n",
    "    \n",
    "Example 2:\n",
    "\n",
    "    Input: x = -123\n",
    "    Output: -321\n",
    "    \n",
    "Example 3:\n",
    "\n",
    "    Input: x = 120\n",
    "    Output: 21\n",
    " \n",
    "\n",
    "Constraints:\n",
    "\n",
    "    -231 <= x <= 231 - 1"
   ]
  },
  {
   "cell_type": "markdown",
   "id": "b23ff455-bd2a-422c-bc73-fc33dcc3b0f1",
   "metadata": {},
   "source": [
    "# My Try:\n",
    "- This time I figure out but it's pretty slow compare to others."
   ]
  },
  {
   "cell_type": "code",
   "execution_count": 1,
   "id": "8cdd71f5-e2ea-41f2-94a2-1ff81e150939",
   "metadata": {},
   "outputs": [],
   "source": [
    "class Solution:\n",
    "    def reverse(self, x: int) -> int:\n",
    "        sign = 1\n",
    "        string = str(x)\n",
    "\n",
    "        if string[0]==\"-\":\n",
    "            sign = -1\n",
    "            string = string[1:]\n",
    "        \n",
    "        if len(string) > 10: return 0\n",
    "        \n",
    "        if -1*(2**31) <= int(string[::-1])<= (2**31)-1:\n",
    "            return int(string[::-1])*sign\n",
    "        else:\n",
    "            return 0"
   ]
  },
  {
   "cell_type": "markdown",
   "id": "57d1213a-b581-47a8-9904-62248d202de9",
   "metadata": {},
   "source": [
    "# Others Try:\n",
    "- Way faster compared to me.\n",
    "\n",
    "## My Takeaway:\n",
    "1. I thought an extra if statement will make things faster but not true.\n",
    "2. Apparently the if statement that I had at the end was more computation than the other person's if statemnt which makes sense.\n",
    "3. Then I changed the if and else return statemtn order to make it 1ms faster!"
   ]
  },
  {
   "cell_type": "code",
   "execution_count": 7,
   "id": "1d6fed4e-0fce-4ca1-ace2-1b5594ebbfa2",
   "metadata": {},
   "outputs": [],
   "source": [
    "class Solution:\n",
    "    def reverse(self, x: int) -> int:\n",
    "        res = 0\n",
    "        if x<0:\n",
    "            res = int(str(x)[1:][::-1]) * -1\n",
    "            if res < (-1)*(2**31):\n",
    "                return 0\n",
    "            else: return res\n",
    "        else:\n",
    "            res = int(str(x)[::-1])\n",
    "            if res > (2**31)-1:\n",
    "                return 0\n",
    "            else: return res "
   ]
  }
 ],
 "metadata": {
  "kernelspec": {
   "display_name": "Python 3 (ipykernel)",
   "language": "python",
   "name": "python3"
  },
  "language_info": {
   "codemirror_mode": {
    "name": "ipython",
    "version": 3
   },
   "file_extension": ".py",
   "mimetype": "text/x-python",
   "name": "python",
   "nbconvert_exporter": "python",
   "pygments_lexer": "ipython3",
   "version": "3.9.7"
  }
 },
 "nbformat": 4,
 "nbformat_minor": 5
}
