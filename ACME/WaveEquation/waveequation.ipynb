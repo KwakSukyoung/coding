{
 "cells": [
  {
   "cell_type": "markdown",
   "metadata": {
    "collapsed": true
   },
   "source": [
    "# Wave Equation\n",
    "\n",
    "## Name Sukyoung Kwak\n",
    "\n",
    "## Class VOL 4 class\n",
    "\n",
    "## Date Week 11"
   ]
  },
  {
   "cell_type": "code",
   "execution_count": 22,
   "metadata": {},
   "outputs": [],
   "source": [
    "import numpy as np\n",
    "import matplotlib.pyplot as plt\n",
    "from matplotlib import animation\n",
    "from scipy.linalg import toeplitz\n",
    "import scipy.optimize\n",
    "from scipy.sparse import diags\n",
    "from scipy.optimize import fsolve"
   ]
  },
  {
   "cell_type": "markdown",
   "metadata": {},
   "source": [
    "# Problem 1\n",
    "Numerically approximate the solution to the following BVP\n",
    "\n",
    "$$\n",
    "u_{tt} = u_{xx} \\\\\n",
    "u(0,t) = u(1,t) = 0, \\\\\n",
    "u(x,0) = \\sin(2\\pi x), \\\\\n",
    "u_t(x,0) = 0. \n",
    "$$\n",
    "\n",
    "Numerically approximate the solution $u(x,t)$ for $t\\in[0,5]$. Use $J=50$ subintervals in the $x$ dimension and $M=50$ subintervals in the $t$ dimension. Animate the results. Compare you results with the analytic solution $u(x,t) = \\sin(2\\pi x)\\cos(2\\pi t).$ This function is know as a standing wave."
   ]
  },
  {
   "cell_type": "code",
   "execution_count": 23,
   "metadata": {},
   "outputs": [
    {
     "data": {
      "image/png": "[encoded data removed]",
      "text/plain": [
       "<Figure size 432x288 with 1 Axes>"
      ]
     },
     "metadata": {
      "needs_background": "light"
     },
     "output_type": "display_data"
    }
   ],
   "source": [
    "#Setting \n",
    "M = 50\n",
    "J = 50\n",
    "t, _t= np.linspace(0,.5,M, retstep = True)\n",
    "x, _x = np.linspace(0,1,J, retstep = True)\n",
    "s = 1\n",
    "lamb = s*_t/_x\n",
    "F = lambda x: np.sin(2*np.pi*x)\n",
    "G = lambda x: 0*x\n",
    "\n",
    "#making the W function\n",
    "def W(t, x, _t, _x, J, M, lamb, F, G):\n",
    "    #setting A\n",
    "    A = diags([lamb**2, 2*(1-lamb**2), lamb**2], \n",
    "              [-1, 0, 1], shape=(M-2, J-2)).toarray()\n",
    "    #setting U matrix\n",
    "    U = np.zeros((M,J))\n",
    "    #modifyihng the matrix\n",
    "    U[0][1:-1] = F(x[1:-1])\n",
    "    U[1][1:-1] = (U[0][1:-1] + \n",
    "                  _t*G(x[1:-1]) + \n",
    "                  (lamb**2)/2*(U[0][:-2]- 2*U[0][1:-1]+U[0][2:]))\n",
    "    \n",
    "    for i in range(2,M):\n",
    "        U[i][1:-1] = A@U[i-1][1:-1]-U[i-2][1:-1]\n",
    "        \n",
    "    return U\n",
    "\n",
    "U = W(t, x, _t, _x, J, M, lamb, F, G)\n",
    "\n",
    "#Animation plotting\n",
    "def update(i):\n",
    "    graph.set_data(x,U[i][:])\n",
    "    return graph,\n",
    "fig = plt.figure()\n",
    "ax = fig.add_subplot(111)\n",
    "graph, = plt.plot([],[])\n",
    "ax.set_xlim(0,1)\n",
    "ax.set_ylim(-1,1)\n",
    "ani = animation.FuncAnimation(fig, update, frames = range(M), interval = 25)\n",
    "\n",
    "ani.save('Wave_problem_1.mp4')"
   ]
  },
  {
   "cell_type": "markdown",
   "metadata": {},
   "source": [
    "<video src=\"Wave_problem_1.mp4\" controls>"
   ]
  },
  {
   "cell_type": "markdown",
   "metadata": {},
   "source": [
    "# Problem 2\n",
    "\n",
    "Consider the boundary value problem \n",
    "\n",
    "$$\n",
    "u_{tt} = u_{xx}, \\\\\n",
    "u(0,t) = u(1,t) = 0, \\\\\n",
    "u(x,0) = 0.2e^{-,^2(x-1/2)^2} \\\\\n",
    "y_t(x,0) = 0.4m^2(x-\\frac{1}{2})e^{-m^2(x-1/2)^2}.\n",
    "$$\n",
    "\n",
    "The solution of this problem is ta Gaussian pulse. It travels to the right at a constant speed. This solution models, for example, a wave pulse in a stretched string. Note that the fixed boundart conditions reflect the pulse back when it meets the boundary.\n",
    "\n",
    "Numerically approximate the solution $u(x,t)$ for $t\\in[0,1]$. Set $m=20$. Use 200 subintervals in space and 220 in time, and animate your results. Then use 200 subintervals in space and 180 in time, and animate your results. Note that the stability condition is not satisfied for the second mesh."
   ]
  },
  {
   "cell_type": "code",
   "execution_count": 24,
   "metadata": {},
   "outputs": [
    {
     "data": {
      "image/png": "[encoded data removed]",
      "text/plain": [
       "<Figure size 432x288 with 1 Axes>"
      ]
     },
     "metadata": {
      "needs_background": "light"
     },
     "output_type": "display_data"
    }
   ],
   "source": [
    "#Setting \n",
    "m = 20\n",
    "M = 220\n",
    "J = 200\n",
    "t, _t= np.linspace(0,1,M, retstep = True)\n",
    "x, _x = np.linspace(0,1,J, retstep = True)\n",
    "s = 1\n",
    "lamb = s*_t/_x\n",
    "F = lambda x: .2*np.exp((-m**2)*(x-1/2)**2)\n",
    "G = lambda x: .4*(m**2)*(x-1/2)*np.exp((-m**2)*(x-1/2)**2)\n",
    "\n",
    "#making the W function\n",
    "def W(t, x, _t, _x, J, M, lamb, F, G):\n",
    "    #setting A\n",
    "    A = diags([lamb**2, 2*(1-lamb**2), lamb**2], \n",
    "              [-1, 0, 1], shape=(J-2, J-2)).toarray()\n",
    "    #setting U matrix\n",
    "    U = np.zeros((M,J))\n",
    "    #modifyihng the matrix\n",
    "    U[0][1:-1] = F(x[1:-1])\n",
    "    U[1][1:-1] = (U[0][1:-1] + \n",
    "                  _t*G(x[1:-1]) + \n",
    "                  (lamb**2)/2*(U[0][:-2]- 2*U[0][1:-1]+U[0][2:]))\n",
    "    \n",
    "    for i in range(2,M):\n",
    "        U[i][1:-1] = A@U[i-1][1:-1]-U[i-2][1:-1]\n",
    "        \n",
    "    return U\n",
    "\n",
    "U = W(t, x, _t, _x, J, M, lamb, F, G)\n",
    "\n",
    "#Animation plotting\n",
    "def update(i):\n",
    "    graph.set_data(x,U[i][:])\n",
    "    return graph,\n",
    "fig = plt.figure()\n",
    "ax = fig.add_subplot(111)\n",
    "graph, = plt.plot([],[])\n",
    "ax.set_xlim(0,1)\n",
    "ax.set_ylim(-1,1)\n",
    "ani = animation.FuncAnimation(fig, update, frames = range(M), interval = 25)\n",
    "\n",
    "ani.save('Wave_2_1.mp4')"
   ]
  },
  {
   "cell_type": "markdown",
   "metadata": {},
   "source": [
    "<video src=\"Wave_2.mp4\" controls>"
   ]
  },
  {
   "cell_type": "code",
   "execution_count": 25,
   "metadata": {},
   "outputs": [
    {
     "data": {
      "image/png": "[encoded data removed]",
      "text/plain": [
       "<Figure size 432x288 with 1 Axes>"
      ]
     },
     "metadata": {
      "needs_background": "light"
     },
     "output_type": "display_data"
    }
   ],
   "source": [
    "#Setting \n",
    "m = 20\n",
    "M = 180\n",
    "J = 200\n",
    "t, _t= np.linspace(0,1,M, retstep = True)\n",
    "x, _x = np.linspace(0,1,J, retstep = True)\n",
    "s = 1\n",
    "lamb = s*_t/_x\n",
    "F = lambda x: .2*np.exp((-m**2)*(x-1/2)**2)\n",
    "G = lambda x: .4*(m**2)*(x-1/2)*np.exp((-m**2)*(x-1/2)**2)\n",
    "\n",
    "#making the W function\n",
    "def W(t, x, _t, _x, J, M, lamb, F, G):\n",
    "    #setting A\n",
    "    A = diags([lamb**2, 2*(1-lamb**2), lamb**2], \n",
    "              [-1, 0, 1], shape=(J-2, J-2)).toarray()\n",
    "    #setting U matrix\n",
    "    U = np.zeros((M,J))\n",
    "    #modifyihng the matrix\n",
    "    U[0][1:-1] = F(x[1:-1])\n",
    "    U[1][1:-1] = (U[0][1:-1] + \n",
    "                  _t*G(x[1:-1]) + \n",
    "                  (lamb**2)/2*(U[0][:-2]- 2*U[0][1:-1]+U[0][2:]))\n",
    "    \n",
    "    for i in range(2,M):\n",
    "        U[i][1:-1] = A@U[i-1][1:-1]-U[i-2][1:-1]\n",
    "        \n",
    "    return U\n",
    "\n",
    "U = W(t, x, _t, _x, J, M, lamb, F, G)\n",
    "\n",
    "#Animation plotting\n",
    "def update(i):\n",
    "    graph.set_data(x,U[i][:])\n",
    "    return graph,\n",
    "fig = plt.figure()\n",
    "ax = fig.add_subplot(111)\n",
    "graph, = plt.plot([],[])\n",
    "ax.set_xlim(0,1)\n",
    "ax.set_ylim(-1,1)\n",
    "ani = animation.FuncAnimation(fig, update, frames = range(M), interval = 25)\n",
    "\n",
    "ani.save('Wave_2_2.mp4')"
   ]
  },
  {
   "cell_type": "markdown",
   "metadata": {},
   "source": [
    "<video src=\"Wave_2_2.mp4\" controls>"
   ]
  },
  {
   "cell_type": "markdown",
   "metadata": {},
   "source": [
    "# Problem 3\n",
    "\n",
    "Consider the initial boundary value problem\n",
    "$$\n",
    "\tu_{tt} = u_{xx}, \\\\\n",
    "\tu(0,t) = u(1,t) = 0, \\\\\n",
    "\tu(x,0) = 0.2e^{-m^2(x-1/2)^2}\\\\\n",
    "\tu_t(x,0) = 0.\n",
    "$$\n",
    "The initial condition separates into two smaller, slower-moving pulses, one travelling to the right and the other to the left.\n",
    "This solution models, for example, a plucked guitar string\n",
    "\n",
    "Numerically approximate the solution $u(x,t)$ for $t \\in \\left[0,2\\right]$.\n",
    "Set $m=20$.\n",
    "Use 200 subintervals in space and 440 in time, and animate your results.\n",
    "It is rather easy to see that the solution to this problem is the sum of two travelling waves, one travelling to the left and the other to the right, as described earlier."
   ]
  },
  {
   "cell_type": "code",
   "execution_count": 26,
   "metadata": {},
   "outputs": [
    {
     "data": {
      "image/png": "[encoded data removed]",
      "text/plain": [
       "<Figure size 432x288 with 1 Axes>"
      ]
     },
     "metadata": {
      "needs_background": "light"
     },
     "output_type": "display_data"
    }
   ],
   "source": [
    "#Setting \n",
    "m = 20\n",
    "M = 440\n",
    "J = 200\n",
    "t, _t= np.linspace(0,2,M, retstep = True)\n",
    "x, _x = np.linspace(0,1,J, retstep = True)\n",
    "s = 1\n",
    "lamb = s*_t/_x\n",
    "F = lambda x: .2*np.exp((-m**2)*(x-1/2)**2)\n",
    "G = lambda x: 0*x\n",
    "\n",
    "#making the W function\n",
    "def W(t, x, _t, _x, J, M, lamb, F, G):\n",
    "    #setting A\n",
    "    A = diags([lamb**2, 2*(1-lamb**2), lamb**2], \n",
    "              [-1, 0, 1], shape=(J-2, J-2)).toarray()\n",
    "    #setting U matrix\n",
    "    U = np.zeros((M,J))\n",
    "    #modifyihng the matrix\n",
    "    U[0][1:-1] = F(x[1:-1])\n",
    "    U[1][1:-1] = (U[0][1:-1] + \n",
    "                  _t*G(x[1:-1]) + \n",
    "                  (lamb**2)/2*(U[0][:-2]- 2*U[0][1:-1]+U[0][2:]))\n",
    "    \n",
    "    for i in range(2,M):\n",
    "        U[i][1:-1] = A@U[i-1][1:-1]-U[i-2][1:-1]\n",
    "        \n",
    "    return U\n",
    "\n",
    "U = W(t, x, _t, _x, J, M, lamb, F, G)\n",
    "\n",
    "#Animation plotting\n",
    "def update(i):\n",
    "    graph.set_data(x,U[i][:])\n",
    "    return graph,\n",
    "fig = plt.figure()\n",
    "ax = fig.add_subplot(111)\n",
    "graph, = plt.plot([],[])\n",
    "ax.set_xlim(0,1)\n",
    "ax.set_ylim(-1,1)\n",
    "ani = animation.FuncAnimation(fig, update, frames = range(M), interval = 25)\n",
    "\n",
    "ani.save('Wave_3.mp4')"
   ]
  },
  {
   "cell_type": "markdown",
   "metadata": {},
   "source": [
    "<video src=\"Wave_3.mp4\" controls>"
   ]
  },
  {
   "cell_type": "markdown",
   "metadata": {},
   "source": [
    "# Problem 4\n",
    "\n",
    "Consider the initial boundary value problem\n",
    "\n",
    "$$\n",
    "\tu_{tt} = u_{xx}, \\\\\n",
    "\tu(0,t) = u(1,t) = 0, \\\\\n",
    "\tu(x,0) = \\begin{cases} 1/3 & \\text{if } 5/11 < x < 6/11,\\\\\n",
    "\t0 & \\text{otherwise}\n",
    "\t\\end{cases}\\\\\n",
    "\tu_t(x,0) = 0.\n",
    "$$\n",
    "\n",
    "Numerically approximate the solution $u(x,t)$ for $t \\in \\left[0, 2\\right]$.\n",
    "Use 200 subintervals in space and 440 in time, and animate your results.\n",
    "Even though the method is second order and stable for this discretization, since the initial condition is discontinuous there are large dispersive errors."
   ]
  },
  {
   "cell_type": "code",
   "execution_count": 27,
   "metadata": {},
   "outputs": [
    {
     "data": {
      "image/png": "[encoded data removed]",
      "text/plain": [
       "<Figure size 432x288 with 1 Axes>"
      ]
     },
     "metadata": {
      "needs_background": "light"
     },
     "output_type": "display_data"
    }
   ],
   "source": [
    "#Setting \n",
    "m = 20\n",
    "M = 440\n",
    "J = 220\n",
    "t, _t= np.linspace(0,1,M, retstep = True)\n",
    "x, _x = np.linspace(0,1,J, retstep = True)\n",
    "s = 1\n",
    "lamb = s*_t/_x\n",
    "F = lambda x: np.piecewise(x, [(x > 5/11)&(x < 6/11), (x >= 6/11),(x <= 5/11)], \n",
    "                           [1/3, 0,0])\n",
    "G = lambda x: 0*x\n",
    "\n",
    "\n",
    "#making the W function\n",
    "def W(t, x, _t, _x, J, M, lamb, F, G):\n",
    "    #setting A\n",
    "    A = diags([lamb**2, 2*(1-lamb**2), lamb**2], \n",
    "              [-1, 0, 1], shape=(J-2, J-2)).toarray()\n",
    "    #setting U matrix\n",
    "    U = np.zeros((M,J))\n",
    "    #modifyihng the matrix\n",
    "    U[0][1:-1] = F(x[1:-1])\n",
    "    U[1][1:-1] = (U[0][1:-1] + \n",
    "                  _t*G(x[1:-1]) + \n",
    "                  (lamb**2)/2*(U[0][:-2]- 2*U[0][1:-1]+U[0][2:]))\n",
    "    \n",
    "    for i in range(2,M):\n",
    "        U[i][1:-1] = A@U[i-1][1:-1]-U[i-2][1:-1]\n",
    "        \n",
    "    return U\n",
    "\n",
    "U = W(t, x, _t, _x, J, M, lamb, F, G)\n",
    "\n",
    "#Animation plotting\n",
    "def update(i):\n",
    "    graph.set_data(x,U[i][:])\n",
    "    return graph,\n",
    "fig = plt.figure()\n",
    "ax = fig.add_subplot(111)\n",
    "graph, = plt.plot([],[])\n",
    "ax.set_xlim(0,1)\n",
    "ax.set_ylim(-1,1)\n",
    "ani = animation.FuncAnimation(fig, update, frames = range(M), interval = 25)\n",
    "\n",
    "ani.save('Wave_4.mp4')"
   ]
  },
  {
   "cell_type": "markdown",
   "metadata": {},
   "source": [
    "<video src= \"Wave_4.mp4\" controls>"
   ]
  },
  {
   "cell_type": "markdown",
   "metadata": {},
   "source": [
    "# Problem 5\n",
    "\n",
    "\n",
    "Numerically solve the initial value problem\n",
    "\n",
    "$$\n",
    "\tu_t -su_x + uu_x = u_{xx}, \\quad x \\in (-\\infty,\\infty),\\\\\n",
    "\tu(x,0) = v(x),\n",
    "$$\n",
    "\n",
    "for $t \\in [0,1]$.\n",
    "Let the perturbation $v(x)$ be given by\n",
    "\n",
    "$$\n",
    "v(x) = 3.5(\\sin{(3x)} + 1)\\frac{1}{\\sqrt{2\\pi}} \\exp{(-x^2/2)}\n",
    "$$\n",
    "\n",
    "And let the initial condition be $u(x, 0) = \\hat{u}(x) + v(x)$\n",
    "Approximate the $x$ domain,$(-\\infty, \\infty)$, numerically by the finite interval $[-20,20]$, and fix $u(-20) = u_-$, $u(20) = u_+$. Let $u_- = 5$, $u_+ = 1$.\n",
    "Use 150 intervals in space and 350 steps in time.\n",
    "Animate your results.\n",
    "You should see the solution converge to a translate of the travelling wave $\\hat{u}$.\n",
    "\n",
    "Hint: This difference scheme is no longer a linear equation.\n",
    "We have a nonlinear equation in $U^{n+1}$.\n",
    "We can still solve this function using Newton's method or some other similar solver.\n",
    "In this case, use `scipy.optimize.fsolve`."
   ]
  },
  {
   "cell_type": "code",
   "execution_count": 28,
   "metadata": {},
   "outputs": [],
   "source": [
    "def get_u_p5(u_hat, y, u_at_x, a,b,st,et, M, J,s = 3):\n",
    "    #getting the default values\n",
    "    ts,_t  = np.linspace(st,et,M+1, retstep = True)\n",
    "    xs,_x = np.linspace(a,b, J+1, retstep = True)\n",
    "    K1 = _t/(4*_x)\n",
    "    K2 = _t/(2*_x**2)\n",
    " \n",
    "    #setting values U\n",
    "    U = np.zeros((M+1, J+1))\n",
    "    U[:,0] = 5\n",
    "    U[:,-1] = 1\n",
    "    U[0] = u_at_x(xs)\n",
    "\n",
    "    #modifyig U\n",
    "    for i in range(1,M+1):\n",
    "        u = U[i-1]\n",
    "        def solve(u1):\n",
    "            #setting equation\n",
    "            nom = K1*((s-u1[1:-1])*(u1[2:]-u1[:-2])+(s-u[1:-1])*(u[2:] -u[:-2]))\n",
    "            den = K2*((u1[:-2]-2*u1[1:-1]+u1[2:])+(u[:-2]-2*u[1:-1]+u[2:]))\n",
    "            #calculate\n",
    "            result = nom + den -u1[1:-1]+u[1:-1]\n",
    "            zero_array = np.hstack([u1[0]-5, result, u1[-1]-1])\n",
    "            return zero_array\n",
    "        U[i] = fsolve(solve, u)\n",
    "    return np.array(U),xs"
   ]
  },
  {
   "cell_type": "code",
   "execution_count": 29,
   "metadata": {},
   "outputs": [
    {
     "data": {
      "image/png": "[encoded data removed]",
      "text/plain": [
       "<Figure size 432x288 with 1 Axes>"
      ]
     },
     "metadata": {
      "needs_background": "light"
     },
     "output_type": "display_data"
    }
   ],
   "source": [
    "#setting the values\n",
    "ut = lambda x: x*0\n",
    "a = 2\n",
    "s = 3\n",
    "nu = 1\n",
    "u_hat = lambda x: s-a*np.tanh((a*x)/(2*nu))\n",
    "u_at = lambda x: u_hat(x)+v(x)\n",
    "v = lambda x: 3.5*(np.sin(3*x)+1)*(1/((np.pi*2)**.5))*np.exp(-(x**2)/2)\n",
    "u_at_st = lambda x: x*0\n",
    "u_at_et = lambda x: x*0\n",
    "u_s = -20\n",
    "u_e = 20\n",
    "st = 0\n",
    "et = 1\n",
    "M, J = 350, 150\n",
    "x = np.linspace(u_s, u_e, J+1)\n",
    "#calling the function to get the values\n",
    "u,x = get_u_p5(u_hat, v, u_at, u_s, u_e, st, et, M, J, s = s)\n",
    "\n",
    "#plotting the animation\n",
    "fig = plt.figure()\n",
    "ax = plt.axes(xlim=(-20,20), ylim=(0,6))\n",
    "line, = ax.plot([],[], lw=2)\n",
    "def init():\n",
    "    line.set_data([],[])\n",
    "    return line,\n",
    "def animate(i):\n",
    "    line.set_data(x,u[i])\n",
    "    return line,\n",
    "anim = animation.FuncAnimation(fig, animate, init_func = init, frames=M+1, interval = 25)\n",
    "plt.show()\n",
    "anim.save('Wave_5.mp4')"
   ]
  },
  {
   "cell_type": "markdown",
   "metadata": {},
   "source": [
    "<video src='Wave_5.mp4' controls>"
   ]
  },
  {
   "cell_type": "code",
   "execution_count": null,
   "metadata": {},
   "outputs": [],
   "source": []
  }
 ],
 "metadata": {
  "kernelspec": {
   "display_name": "Python 3 (ipykernel)",
   "language": "python",
   "name": "python3"
  },
  "language_info": {
   "codemirror_mode": {
    "name": "ipython",
    "version": 3
   },
   "file_extension": ".py",
   "mimetype": "text/x-python",
   "name": "python",
   "nbconvert_exporter": "python",
   "pygments_lexer": "ipython3",
   "version": "3.9.7"
  }
 },
 "nbformat": 4,
 "nbformat_minor": 1
}
