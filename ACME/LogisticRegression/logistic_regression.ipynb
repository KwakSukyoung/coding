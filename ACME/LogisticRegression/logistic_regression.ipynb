{
 "cells": [
  {
   "cell_type": "markdown",
   "metadata": {},
   "source": [
    "# Logistic Regression\n",
    "\n",
    "## Name Rebecah Kwak\n",
    "\n",
    "## Class Vol3\n",
    "\n",
    "## Date Week 11"
   ]
  },
  {
   "cell_type": "code",
   "execution_count": 3,
   "metadata": {},
   "outputs": [],
   "source": [
    "import numpy as np\n",
    "import scipy as cp\n",
    "from scipy.optimize import minimize\n",
    "from sklearn.linear_model import LogisticRegression\n",
    "from sklearn import datasets\n",
    "from sklearn.model_selection import train_test_split\n",
    "from sklearn.metrics import accuracy_score\n",
    "import pandas as pd\n",
    "import statsmodels.api as sm\n",
    "import time\n",
    "from matplotlib import pyplot as plt"
   ]
  },
  {
   "cell_type": "markdown",
   "metadata": {},
   "source": [
    "## Problem 1\n",
    "\n",
    "Create a classifier called `LogiReg` that accepts an $(n \\times 1)$ array $y$ of binary labels ($0$'s and $1$'s) as well as an $(n \\times d)$ array $X$ of data points. Write a `fit()` method that finds and saves the optimal $\\widehat{\\boldsymbol{\\beta}}$.\n",
    "\n",
    "## Problem 2\n",
    "\n",
    "Write a method called `predict_prob()` that accepts an $(n \\times d)$ array $x\\_test$ and returns $P(Y=1 | x\\_test)$. Also write a method called `predict()` that calls `predict_prob()` and returns an array of predicted labels ($0$'s or $1$'s) for the given array $x\\_test$."
   ]
  },
  {
   "cell_type": "code",
   "execution_count": 3,
   "metadata": {},
   "outputs": [],
   "source": [
    "class LogiReg():\n",
    "    \"\"\" input:\n",
    "        y: nparray(n, 1) taking values only in {0,1}\n",
    "        X: nparray(n, d)\n",
    "    \"\"\"\n",
    "    \n",
    "    def __init__(self, y, X):\n",
    "        \"\"\"\n",
    "        Save y and X as attributes.\n",
    "        \"\"\"\n",
    "        #saving the attributes\n",
    "        self.X = X\n",
    "        self.X = sm.add_constant(self.X)\n",
    "        self.y = y\n",
    "    \n",
    "    \n",
    "    def fit(self):\n",
    "        \"\"\"\n",
    "        Updates beta, the coefficient array of shape (d, 1) that\n",
    "        minimizes the negative log likelihood for the given data \n",
    "        with the model p(y|x) = sigm(x^T @ beta).      \n",
    "        \"\"\"\n",
    "        #minimizing function\n",
    "        f = lambda b: np.sum(self.y*np.log(1+np.exp(-self.X@b))+\n",
    "                             (1-self.y)*np.log(1+np.exp(self.X@b)))\n",
    "        #saving optimal beta\n",
    "        self.opt_beta = minimize(f, np.random.random(np.shape(self.X)[1])).x\n",
    "        \n",
    "    def predict_prob(self, x_test):\n",
    "        \"\"\"\n",
    "        Returns the predicted probability of an input x_test.\n",
    "        If x_test has shape (p, q), then the predicted probability\n",
    "        has shape (1, q).\n",
    "        \"\"\" \n",
    "        #returns the sigmoid function\n",
    "        return cp.special.expit(x_test@self.opt_beta)\n",
    "        \n",
    "    def predict(self, x_test):\n",
    "        \"\"\"\n",
    "        Returns the predicted classification (1 or 0) of x_test.\n",
    "        If x_test has shape (p, q), then the predicted classification\n",
    "        has shape (1, q).\n",
    "        \"\"\"\n",
    "        #returns the classifier piecewise function\n",
    "        return [1 if self.predict_prob(i) >= .5 else 0 for i in sm.add_constant(x_test)]"
   ]
  },
  {
   "cell_type": "markdown",
   "metadata": {},
   "source": [
    "## Problem 3\n",
    "\n",
    "Test your classifier from the previous two problems using arrays $X$, $y$, and $X\\_test$. Train your classifier on $X$ and $y$. Then generate a list of predicted labels using your trained classifier and $X\\_test$, and use it to plot $X\\_test$ with a different color for each predicted label."
   ]
  },
  {
   "cell_type": "code",
   "execution_count": 4,
   "metadata": {},
   "outputs": [
    {
     "ename": "SyntaxError",
     "evalue": "invalid syntax (3552324882.py, line 24)",
     "output_type": "error",
     "traceback": [
      "\u001b[0;36m  File \u001b[0;32m\"/var/folders/j1/rssdx9h148g0ptj4pj02c_0m0000gn/T/ipykernel_22578/3552324882.py\"\u001b[0;36m, line \u001b[0;32m24\u001b[0m\n\u001b[0;31m    labels =\u001b[0m\n\u001b[0m             ^\u001b[0m\n\u001b[0;31mSyntaxError\u001b[0m\u001b[0;31m:\u001b[0m invalid syntax\n"
     ]
    }
   ],
   "source": [
    "data = np.column_stack(( \n",
    "    np.concatenate(( \n",
    "        # draw from 2 2-dim. multivariate normal dists.\n",
    "        np.random.multivariate_normal(np.array([1,2]), np.eye(2), 100),\n",
    "        np.random.multivariate_normal(np.array([4,3]), np.eye(2), 100) )), \n",
    "    # labels corresonding to each distribution\n",
    "    np.concatenate(( np.zeros(100), np.ones(100) )) ))\n",
    "np.random.shuffle(data)\n",
    "# extract X and y from the shuffled data\n",
    "X = data[:,:2]\n",
    "y = data[:,2].astype(int)\n",
    "\n",
    "X_test = np.concatenate(( \n",
    "    # draw from 2 identical 2-dim. multivariate normal dists.\n",
    "    np.random.multivariate_normal(np.array([1,2]), np.eye(2), 100),\n",
    "    np.random.multivariate_normal(np.array([4,3]), np.eye(2), 100) ))\n",
    "np.random.shuffle(X_test)\n",
    "\n",
    "#################################################\n",
    "\n",
    "#getting the predicted labels\n",
    "log = LogiReg(y, X)\n",
    "log.fit()\n",
    "labels = \n",
    "\n",
    "#plotting Original Data\n",
    "plt.scatter(X[:,0], X[:,1], c = y) \n",
    "plt.title(\"Original Data\")\n",
    "plt.show()\n",
    "\n",
    "#plotting New Data with LogiReg\n",
    "plt.scatter(X_test[:,0], X_test[:,1], c = log.predict(X_test))\n",
    "plt.title(\"New Data with LogiReg\")\n",
    "plt.show()"
   ]
  },
  {
   "cell_type": "markdown",
   "metadata": {},
   "source": [
    "## Problem 4\n",
    "\n",
    "Using each of `LogiReg`, `statsmodels`, and `sklearn`, train a logistic regression classifier on $X$ and $y$ to generate a list of predicted labels for $X\\_test$. Then, using $y\\_test$, print the accuracy scores for each trained model. Compare the accuracies and training/testing time for all three classifiers. Be sure to add a constant feature with each model."
   ]
  },
  {
   "cell_type": "code",
   "execution_count": null,
   "metadata": {},
   "outputs": [],
   "source": [
    "# predefine the true beta\n",
    "beta = np.random.normal(0, 7, 20)\n",
    "\n",
    "# X is generated from 2 20-dim. multivariate normal dists.\n",
    "X = np.concatenate(( \n",
    "        np.random.multivariate_normal(np.zeros(20), np.eye(20), 100), \n",
    "        np.random.multivariate_normal(np.ones(20)*2, np.eye(20), 100) ))\n",
    "np.random.shuffle(X)\n",
    "# create y based on the true beta\n",
    "pred = 1. / (1. + np.exp(-X @ beta))  \n",
    "y = np.array( [1 if pred[i] >= 1/2 else 0 \n",
    "            for i in range(pred.shape[0])] )\n",
    "\n",
    "# X_test and y_test are generated similar to X and y\n",
    "X_test = np.concatenate(( \n",
    "        np.random.multivariate_normal(np.zeros(20), np.eye(20), 100), \n",
    "        np.random.multivariate_normal(np.ones(20), np.eye(20), 100) ))\n",
    "np.random.shuffle(X_test)\n",
    "pred = 1. / (1. + np.exp(-X_test @ beta))\n",
    "y_test = np.array( [1 if pred[i] >= 1/2 else 0 \n",
    "            for i in range(pred.shape[0])] )\n",
    "###########################################\n",
    "\n",
    "\n",
    "a = time.time()\n",
    "\n",
    "#Timing LogiReg\n",
    "log = LogiReg(y, X)\n",
    "log.fit()       \n",
    "log_labels = log.predict(X_test)\n",
    "\n",
    "b = time.time()\n",
    "\n",
    "log_time = b - a\n",
    "#Timing statsmodels\n",
    "sm_X = sm.add_constant(X)\n",
    "model = sm.Logit(y, X).fit_regularized(disp=0)\n",
    "st_X_test = sm.add_constant(X_test)\n",
    "Probs = sm_model.predict(st_X_test)\n",
    "st_labels = [1 if i >= 0.5 else 0 for i in Probs]\n",
    "\n",
    "c = time.time()\n",
    "\n",
    "st_time = c-b\n",
    "\n",
    "#Timing sklearn\n",
    "sk_model = LogisticRegression(fit_intercept=True).fit(X, y)\n",
    "sk_labels = sk_model.predict(X_test)\n",
    "\n",
    "d = time.time()\n",
    "\n",
    "sk_time = d-c\n",
    "\n",
    "#getting accuracy score\n",
    "log_score = accuracy_score(y_test, log_labels)\n",
    "st_score = accuracy_score(y_test, st_labels)\n",
    "sk_score = accuracy_score(y_test, sk_labels)\n",
    "\n",
    "#printing accuracy score\n",
    "print(\"Accuracy score for LogiReg = \" + str(log_score))\n",
    "print(\"Accuracy score for statsmodel = \" + str(st_score))\n",
    "print(\"Accuracy score for sklearn = \" + str(sk_score))\n",
    "print(\"\\n\")\n",
    "\n",
    "#printing the time\n",
    "print(\"LogiReg time = \" + str(log_time))\n",
    "print(\"statsmodels time = \" + str(st_time))\n",
    "print(\"sklearn time = \" + str(sk_time))"
   ]
  },
  {
   "cell_type": "code",
   "execution_count": 11,
   "metadata": {},
   "outputs": [
    {
     "data": {
      "image/png": "[encoded data removed]",
      "text/plain": [
       "<Figure size 432x288 with 1 Axes>"
      ]
     },
     "metadata": {
      "needs_background": "light"
     },
     "output_type": "display_data"
    },
    {
     "data": {
      "image/png": "[encoded data removed]",
      "text/plain": [
       "<Figure size 432x288 with 1 Axes>"
      ]
     },
     "metadata": {
      "needs_background": "light"
     },
     "output_type": "display_data"
    },
    {
     "data": {
      "image/png": "[encoded data removed]",
      "text/plain": [
       "<Figure size 432x288 with 1 Axes>"
      ]
     },
     "metadata": {
      "needs_background": "light"
     },
     "output_type": "display_data"
    }
   ],
   "source": [
    "from sklearn import datasets, metrics, model_selection, svm\n",
    "\n",
    "#(i)\n",
    "X, y = datasets.make_classification(random_state=0)\n",
    "X_train, X_test, y_train, y_test = model_selection.train_test_split(X, y, random_state=0)\n",
    "clf = svm.SVC(random_state=0)\n",
    "clf.fit(X_train, y_train)\n",
    "\n",
    "metrics.plot_roc_curve(clf, X_test, y_test) \n",
    "plt.show()\n",
    "\n",
    "#(ii)\n",
    "X, y = datasets.make_classification(random_state=1)\n",
    "X_train, X_test, y_train, y_test = model_selection.train_test_split(X, y, random_state=0)\n",
    "clf = svm.SVC(random_state=0)\n",
    "clf.fit(X_train, y_train)\n",
    "\n",
    "metrics.plot_roc_curve(clf, X_test, y_test) \n",
    "plt.show()\n",
    "\n",
    "#(iii)\n",
    "X, y = datasets.make_classification(random_state=2)\n",
    "X_train, X_test, y_train, y_test = model_selection.train_test_split(X, y, random_state=0)\n",
    "clf = svm.SVC(random_state=0)\n",
    "clf.fit(X_train, y_train)\n",
    "\n",
    "metrics.plot_roc_curve(clf, X_test, y_test) \n",
    "plt.show()"
   ]
  },
  {
   "cell_type": "markdown",
   "metadata": {},
   "source": [
    "## Problem 5\n",
    "\n",
    "Import the Iris Dataset and perform a train-test split on only the first two columns of the data with `test_size=0.4`. Train a multinomial logistic regression model using the training data with an added constant feature, and generate prediction labels for the test data.\n",
    "\n",
    "Plot the test data by color using your prediction labels."
   ]
  },
  {
   "cell_type": "code",
   "execution_count": null,
   "metadata": {},
   "outputs": [],
   "source": [
    "#getting the datas\n",
    "iris = datasets.load_iris()\n",
    "\n",
    "#training the datas\n",
    "data = train_test_split(iris.data[:,:2], iris.target, test_size = 0.4)\n",
    "\n",
    "#getting the model\n",
    "model = LogisticRegression(multi_class='multinomial',fit_intercept=True).fit(data[0], data[2])\n",
    "\n",
    "#plotting the original data\n",
    "plt.scatter(data[1][:,0], data[1][:,1], c = data[3])\n",
    "plt.title(\"Acutal X_test Data\")\n",
    "plt.xlabel(\"Sepal Length\")\n",
    "plt.ylabel(\"Sepal Width\")\n",
    "plt.show()\n",
    "\n",
    "#Plotting the predcited values\n",
    "plt.scatter(data[1][:,0], data[1][:,1], c = model.predict(data[1]))\n",
    "plt.title(\"Predicted X_test Data\")\n",
    "plt.xlabel(\"Sepal Length\")\n",
    "plt.ylabel(\"Sepal Width\")\n",
    "plt.show()"
   ]
  },
  {
   "cell_type": "code",
   "execution_count": 11,
   "metadata": {},
   "outputs": [
    {
     "name": "stdout",
     "output_type": "stream",
     "text": [
      "266 µs ± 741 ns per loop (mean ± std. dev. of 7 runs, 1000 loops each)\n"
     ]
    },
    {
     "data": {
      "text/plain": [
       "0.9777777777777777"
      ]
     },
     "execution_count": 11,
     "metadata": {},
     "output_type": "execute_result"
    }
   ],
   "source": [
    "from sklearn.naive_bayes import GaussianNB\n",
    "from sklearn.metrics import accuracy_score\n",
    "#getting the datas\n",
    "iris = datasets.load_iris()\n",
    "\n",
    "#training the datas\n",
    "data = train_test_split(iris.data[:,:2], iris.target, test_size = 0.4)\n",
    "\n",
    "#getting the model\n",
    "model = LogisticRegression(multi_class='multinomial',fit_intercept=True).fit(data[0], data[2])\n",
    "\n",
    "#plotting the original data\n",
    "plt.scatter(data[1][:,0], data[1][:,1], c = data[3])\n",
    "plt.title(\"Acutal X_test Data\")\n",
    "plt.xlabel(\"Sepal Length\")\n",
    "plt.ylabel(\"Sepal Width\")\n",
    "plt.show()\n",
    "\n",
    "#Plotting the predcited values\n",
    "plt.scatter(data[1][:,0], data[1][:,1], c = model.predict(data[1]))\n",
    "plt.title(\"Predicted X_test Data\")\n",
    "plt.xlabel(\"Sepal Length\")\n",
    "plt.ylabel(\"Sepal Width\")\n",
    "plt.show()\n",
    "\n",
    "#part(i): Use scikit-learn's method to dividde the iris dataset into a\n",
    "#70-30 train-test split\n",
    "iris = datasets.load_iris()\n",
    "#X_train, X_test,Y_train, Y_test\n",
    "data = train_test_split(iris.data, iris.target, test_size = 0.3)\n",
    "\n",
    "gaussian = GaussianNB()\n",
    "%timeit gaussian.fit(data[0], data[2])\n",
    "accuracy_score(data[3], gaussian.predict(data[1]))"
   ]
  },
  {
   "cell_type": "code",
   "execution_count": null,
   "metadata": {},
   "outputs": [],
   "source": []
  },
  {
   "cell_type": "code",
   "execution_count": 1,
   "metadata": {},
   "outputs": [],
   "source": [
    "import numpy as np\n",
    "import pandas as pd\n",
    "from sklearn.ensemble import RandomForestClassifier as RFC\n",
    "from sklearn.model_selection import train_test_split\n",
    "from sklearn import datasets\n",
    "from sklearn.ensemble import RandomForestRegressor as RFR\n",
    "from sklearn.preprocessing import OrdinalEncoder"
   ]
  },
  {
   "cell_type": "markdown",
   "metadata": {},
   "source": [
    "#5.11\n",
    "Use the RandomForestClassifier from sklearn.ensemble to build a forest with 100 trees that classifies (predicts death of passengers) in the Titanic dataset."
   ]
  },
  {
   "cell_type": "markdown",
   "metadata": {},
   "source": [
    "(i) Use the oob_score to estimate the accuracy of the predictions."
   ]
  },
  {
   "cell_type": "code",
   "execution_count": 3,
   "metadata": {},
   "outputs": [
    {
     "ename": "FileNotFoundError",
     "evalue": "[Errno 2] No such file or directory: 'titanic.csv'",
     "output_type": "error",
     "traceback": [
      "\u001b[0;31m---------------------------------------------------------------------------\u001b[0m",
      "\u001b[0;31mFileNotFoundError\u001b[0m                         Traceback (most recent call last)",
      "\u001b[0;32m/var/folders/j1/rssdx9h148g0ptj4pj02c_0m0000gn/T/ipykernel_35049/2559115768.py\u001b[0m in \u001b[0;36m<module>\u001b[0;34m\u001b[0m\n\u001b[1;32m      1\u001b[0m \u001b[0;31m#load in titanic dataset:\u001b[0m\u001b[0;34m\u001b[0m\u001b[0;34m\u001b[0m\u001b[0m\n\u001b[0;32m----> 2\u001b[0;31m \u001b[0mtitanic_df\u001b[0m \u001b[0;34m=\u001b[0m \u001b[0mpd\u001b[0m\u001b[0;34m.\u001b[0m\u001b[0mread_csv\u001b[0m\u001b[0;34m(\u001b[0m\u001b[0;34m'titanic.csv'\u001b[0m\u001b[0;34m,\u001b[0m\u001b[0mindex_col\u001b[0m\u001b[0;34m=\u001b[0m\u001b[0;34m'PassengerId'\u001b[0m\u001b[0;34m)\u001b[0m\u001b[0;34m\u001b[0m\u001b[0;34m\u001b[0m\u001b[0m\n\u001b[0m\u001b[1;32m      3\u001b[0m \u001b[0;34m\u001b[0m\u001b[0m\n\u001b[1;32m      4\u001b[0m \u001b[0;31m#clean the data to only have stuff that we want to work with:\u001b[0m\u001b[0;34m\u001b[0m\u001b[0;34m\u001b[0m\u001b[0m\n\u001b[1;32m      5\u001b[0m \u001b[0mx\u001b[0m \u001b[0;34m=\u001b[0m \u001b[0mtitanic_df\u001b[0m\u001b[0;34m[\u001b[0m\u001b[0mtitanic_df\u001b[0m\u001b[0;34m.\u001b[0m\u001b[0mcolumns\u001b[0m\u001b[0;34m]\u001b[0m\u001b[0;34m.\u001b[0m\u001b[0mdrop\u001b[0m\u001b[0;34m(\u001b[0m\u001b[0mlabels\u001b[0m\u001b[0;34m=\u001b[0m\u001b[0;34m[\u001b[0m\u001b[0;34m'Name'\u001b[0m\u001b[0;34m,\u001b[0m\u001b[0;34m'Ticket'\u001b[0m\u001b[0;34m,\u001b[0m\u001b[0;34m'Cabin'\u001b[0m\u001b[0;34m]\u001b[0m\u001b[0;34m,\u001b[0m\u001b[0maxis\u001b[0m\u001b[0;34m=\u001b[0m\u001b[0;36m1\u001b[0m\u001b[0;34m)\u001b[0m\u001b[0;34m\u001b[0m\u001b[0;34m\u001b[0m\u001b[0m\n",
      "\u001b[0;32m~/opt/anaconda3/lib/python3.9/site-packages/pandas/util/_decorators.py\u001b[0m in \u001b[0;36mwrapper\u001b[0;34m(*args, **kwargs)\u001b[0m\n\u001b[1;32m    309\u001b[0m                     \u001b[0mstacklevel\u001b[0m\u001b[0;34m=\u001b[0m\u001b[0mstacklevel\u001b[0m\u001b[0;34m,\u001b[0m\u001b[0;34m\u001b[0m\u001b[0;34m\u001b[0m\u001b[0m\n\u001b[1;32m    310\u001b[0m                 )\n\u001b[0;32m--> 311\u001b[0;31m             \u001b[0;32mreturn\u001b[0m \u001b[0mfunc\u001b[0m\u001b[0;34m(\u001b[0m\u001b[0;34m*\u001b[0m\u001b[0margs\u001b[0m\u001b[0;34m,\u001b[0m \u001b[0;34m**\u001b[0m\u001b[0mkwargs\u001b[0m\u001b[0;34m)\u001b[0m\u001b[0;34m\u001b[0m\u001b[0;34m\u001b[0m\u001b[0m\n\u001b[0m\u001b[1;32m    312\u001b[0m \u001b[0;34m\u001b[0m\u001b[0m\n\u001b[1;32m    313\u001b[0m         \u001b[0;32mreturn\u001b[0m \u001b[0mwrapper\u001b[0m\u001b[0;34m\u001b[0m\u001b[0;34m\u001b[0m\u001b[0m\n",
      "\u001b[0;32m~/opt/anaconda3/lib/python3.9/site-packages/pandas/io/parsers/readers.py\u001b[0m in \u001b[0;36mread_csv\u001b[0;34m(filepath_or_buffer, sep, delimiter, header, names, index_col, usecols, squeeze, prefix, mangle_dupe_cols, dtype, engine, converters, true_values, false_values, skipinitialspace, skiprows, skipfooter, nrows, na_values, keep_default_na, na_filter, verbose, skip_blank_lines, parse_dates, infer_datetime_format, keep_date_col, date_parser, dayfirst, cache_dates, iterator, chunksize, compression, thousands, decimal, lineterminator, quotechar, quoting, doublequote, escapechar, comment, encoding, encoding_errors, dialect, error_bad_lines, warn_bad_lines, on_bad_lines, delim_whitespace, low_memory, memory_map, float_precision, storage_options)\u001b[0m\n\u001b[1;32m    584\u001b[0m     \u001b[0mkwds\u001b[0m\u001b[0;34m.\u001b[0m\u001b[0mupdate\u001b[0m\u001b[0;34m(\u001b[0m\u001b[0mkwds_defaults\u001b[0m\u001b[0;34m)\u001b[0m\u001b[0;34m\u001b[0m\u001b[0;34m\u001b[0m\u001b[0m\n\u001b[1;32m    585\u001b[0m \u001b[0;34m\u001b[0m\u001b[0m\n\u001b[0;32m--> 586\u001b[0;31m     \u001b[0;32mreturn\u001b[0m \u001b[0m_read\u001b[0m\u001b[0;34m(\u001b[0m\u001b[0mfilepath_or_buffer\u001b[0m\u001b[0;34m,\u001b[0m \u001b[0mkwds\u001b[0m\u001b[0;34m)\u001b[0m\u001b[0;34m\u001b[0m\u001b[0;34m\u001b[0m\u001b[0m\n\u001b[0m\u001b[1;32m    587\u001b[0m \u001b[0;34m\u001b[0m\u001b[0m\n\u001b[1;32m    588\u001b[0m \u001b[0;34m\u001b[0m\u001b[0m\n",
      "\u001b[0;32m~/opt/anaconda3/lib/python3.9/site-packages/pandas/io/parsers/readers.py\u001b[0m in \u001b[0;36m_read\u001b[0;34m(filepath_or_buffer, kwds)\u001b[0m\n\u001b[1;32m    480\u001b[0m \u001b[0;34m\u001b[0m\u001b[0m\n\u001b[1;32m    481\u001b[0m     \u001b[0;31m# Create the parser.\u001b[0m\u001b[0;34m\u001b[0m\u001b[0;34m\u001b[0m\u001b[0m\n\u001b[0;32m--> 482\u001b[0;31m     \u001b[0mparser\u001b[0m \u001b[0;34m=\u001b[0m \u001b[0mTextFileReader\u001b[0m\u001b[0;34m(\u001b[0m\u001b[0mfilepath_or_buffer\u001b[0m\u001b[0;34m,\u001b[0m \u001b[0;34m**\u001b[0m\u001b[0mkwds\u001b[0m\u001b[0;34m)\u001b[0m\u001b[0;34m\u001b[0m\u001b[0;34m\u001b[0m\u001b[0m\n\u001b[0m\u001b[1;32m    483\u001b[0m \u001b[0;34m\u001b[0m\u001b[0m\n\u001b[1;32m    484\u001b[0m     \u001b[0;32mif\u001b[0m \u001b[0mchunksize\u001b[0m \u001b[0;32mor\u001b[0m \u001b[0miterator\u001b[0m\u001b[0;34m:\u001b[0m\u001b[0;34m\u001b[0m\u001b[0;34m\u001b[0m\u001b[0m\n",
      "\u001b[0;32m~/opt/anaconda3/lib/python3.9/site-packages/pandas/io/parsers/readers.py\u001b[0m in \u001b[0;36m__init__\u001b[0;34m(self, f, engine, **kwds)\u001b[0m\n\u001b[1;32m    809\u001b[0m             \u001b[0mself\u001b[0m\u001b[0;34m.\u001b[0m\u001b[0moptions\u001b[0m\u001b[0;34m[\u001b[0m\u001b[0;34m\"has_index_names\"\u001b[0m\u001b[0;34m]\u001b[0m \u001b[0;34m=\u001b[0m \u001b[0mkwds\u001b[0m\u001b[0;34m[\u001b[0m\u001b[0;34m\"has_index_names\"\u001b[0m\u001b[0;34m]\u001b[0m\u001b[0;34m\u001b[0m\u001b[0;34m\u001b[0m\u001b[0m\n\u001b[1;32m    810\u001b[0m \u001b[0;34m\u001b[0m\u001b[0m\n\u001b[0;32m--> 811\u001b[0;31m         \u001b[0mself\u001b[0m\u001b[0;34m.\u001b[0m\u001b[0m_engine\u001b[0m \u001b[0;34m=\u001b[0m \u001b[0mself\u001b[0m\u001b[0;34m.\u001b[0m\u001b[0m_make_engine\u001b[0m\u001b[0;34m(\u001b[0m\u001b[0mself\u001b[0m\u001b[0;34m.\u001b[0m\u001b[0mengine\u001b[0m\u001b[0;34m)\u001b[0m\u001b[0;34m\u001b[0m\u001b[0;34m\u001b[0m\u001b[0m\n\u001b[0m\u001b[1;32m    812\u001b[0m \u001b[0;34m\u001b[0m\u001b[0m\n\u001b[1;32m    813\u001b[0m     \u001b[0;32mdef\u001b[0m \u001b[0mclose\u001b[0m\u001b[0;34m(\u001b[0m\u001b[0mself\u001b[0m\u001b[0;34m)\u001b[0m\u001b[0;34m:\u001b[0m\u001b[0;34m\u001b[0m\u001b[0;34m\u001b[0m\u001b[0m\n",
      "\u001b[0;32m~/opt/anaconda3/lib/python3.9/site-packages/pandas/io/parsers/readers.py\u001b[0m in \u001b[0;36m_make_engine\u001b[0;34m(self, engine)\u001b[0m\n\u001b[1;32m   1038\u001b[0m             )\n\u001b[1;32m   1039\u001b[0m         \u001b[0;31m# error: Too many arguments for \"ParserBase\"\u001b[0m\u001b[0;34m\u001b[0m\u001b[0;34m\u001b[0m\u001b[0m\n\u001b[0;32m-> 1040\u001b[0;31m         \u001b[0;32mreturn\u001b[0m \u001b[0mmapping\u001b[0m\u001b[0;34m[\u001b[0m\u001b[0mengine\u001b[0m\u001b[0;34m]\u001b[0m\u001b[0;34m(\u001b[0m\u001b[0mself\u001b[0m\u001b[0;34m.\u001b[0m\u001b[0mf\u001b[0m\u001b[0;34m,\u001b[0m \u001b[0;34m**\u001b[0m\u001b[0mself\u001b[0m\u001b[0;34m.\u001b[0m\u001b[0moptions\u001b[0m\u001b[0;34m)\u001b[0m  \u001b[0;31m# type: ignore[call-arg]\u001b[0m\u001b[0;34m\u001b[0m\u001b[0;34m\u001b[0m\u001b[0m\n\u001b[0m\u001b[1;32m   1041\u001b[0m \u001b[0;34m\u001b[0m\u001b[0m\n\u001b[1;32m   1042\u001b[0m     \u001b[0;32mdef\u001b[0m \u001b[0m_failover_to_python\u001b[0m\u001b[0;34m(\u001b[0m\u001b[0mself\u001b[0m\u001b[0;34m)\u001b[0m\u001b[0;34m:\u001b[0m\u001b[0;34m\u001b[0m\u001b[0;34m\u001b[0m\u001b[0m\n",
      "\u001b[0;32m~/opt/anaconda3/lib/python3.9/site-packages/pandas/io/parsers/c_parser_wrapper.py\u001b[0m in \u001b[0;36m__init__\u001b[0;34m(self, src, **kwds)\u001b[0m\n\u001b[1;32m     49\u001b[0m \u001b[0;34m\u001b[0m\u001b[0m\n\u001b[1;32m     50\u001b[0m         \u001b[0;31m# open handles\u001b[0m\u001b[0;34m\u001b[0m\u001b[0;34m\u001b[0m\u001b[0m\n\u001b[0;32m---> 51\u001b[0;31m         \u001b[0mself\u001b[0m\u001b[0;34m.\u001b[0m\u001b[0m_open_handles\u001b[0m\u001b[0;34m(\u001b[0m\u001b[0msrc\u001b[0m\u001b[0;34m,\u001b[0m \u001b[0mkwds\u001b[0m\u001b[0;34m)\u001b[0m\u001b[0;34m\u001b[0m\u001b[0;34m\u001b[0m\u001b[0m\n\u001b[0m\u001b[1;32m     52\u001b[0m         \u001b[0;32massert\u001b[0m \u001b[0mself\u001b[0m\u001b[0;34m.\u001b[0m\u001b[0mhandles\u001b[0m \u001b[0;32mis\u001b[0m \u001b[0;32mnot\u001b[0m \u001b[0;32mNone\u001b[0m\u001b[0;34m\u001b[0m\u001b[0;34m\u001b[0m\u001b[0m\n\u001b[1;32m     53\u001b[0m \u001b[0;34m\u001b[0m\u001b[0m\n",
      "\u001b[0;32m~/opt/anaconda3/lib/python3.9/site-packages/pandas/io/parsers/base_parser.py\u001b[0m in \u001b[0;36m_open_handles\u001b[0;34m(self, src, kwds)\u001b[0m\n\u001b[1;32m    220\u001b[0m         \u001b[0mLet\u001b[0m \u001b[0mthe\u001b[0m \u001b[0mreaders\u001b[0m \u001b[0mopen\u001b[0m \u001b[0mIOHandles\u001b[0m \u001b[0mafter\u001b[0m \u001b[0mthey\u001b[0m \u001b[0mare\u001b[0m \u001b[0mdone\u001b[0m \u001b[0;32mwith\u001b[0m \u001b[0mtheir\u001b[0m \u001b[0mpotential\u001b[0m \u001b[0mraises\u001b[0m\u001b[0;34m.\u001b[0m\u001b[0;34m\u001b[0m\u001b[0;34m\u001b[0m\u001b[0m\n\u001b[1;32m    221\u001b[0m         \"\"\"\n\u001b[0;32m--> 222\u001b[0;31m         self.handles = get_handle(\n\u001b[0m\u001b[1;32m    223\u001b[0m             \u001b[0msrc\u001b[0m\u001b[0;34m,\u001b[0m\u001b[0;34m\u001b[0m\u001b[0;34m\u001b[0m\u001b[0m\n\u001b[1;32m    224\u001b[0m             \u001b[0;34m\"r\"\u001b[0m\u001b[0;34m,\u001b[0m\u001b[0;34m\u001b[0m\u001b[0;34m\u001b[0m\u001b[0m\n",
      "\u001b[0;32m~/opt/anaconda3/lib/python3.9/site-packages/pandas/io/common.py\u001b[0m in \u001b[0;36mget_handle\u001b[0;34m(path_or_buf, mode, encoding, compression, memory_map, is_text, errors, storage_options)\u001b[0m\n\u001b[1;32m    700\u001b[0m         \u001b[0;32mif\u001b[0m \u001b[0mioargs\u001b[0m\u001b[0;34m.\u001b[0m\u001b[0mencoding\u001b[0m \u001b[0;32mand\u001b[0m \u001b[0;34m\"b\"\u001b[0m \u001b[0;32mnot\u001b[0m \u001b[0;32min\u001b[0m \u001b[0mioargs\u001b[0m\u001b[0;34m.\u001b[0m\u001b[0mmode\u001b[0m\u001b[0;34m:\u001b[0m\u001b[0;34m\u001b[0m\u001b[0;34m\u001b[0m\u001b[0m\n\u001b[1;32m    701\u001b[0m             \u001b[0;31m# Encoding\u001b[0m\u001b[0;34m\u001b[0m\u001b[0;34m\u001b[0m\u001b[0m\n\u001b[0;32m--> 702\u001b[0;31m             handle = open(\n\u001b[0m\u001b[1;32m    703\u001b[0m                 \u001b[0mhandle\u001b[0m\u001b[0;34m,\u001b[0m\u001b[0;34m\u001b[0m\u001b[0;34m\u001b[0m\u001b[0m\n\u001b[1;32m    704\u001b[0m                 \u001b[0mioargs\u001b[0m\u001b[0;34m.\u001b[0m\u001b[0mmode\u001b[0m\u001b[0;34m,\u001b[0m\u001b[0;34m\u001b[0m\u001b[0;34m\u001b[0m\u001b[0m\n",
      "\u001b[0;31mFileNotFoundError\u001b[0m: [Errno 2] No such file or directory: 'titanic.csv'"
     ]
    }
   ],
   "source": [
    "#load in titanic dataset:\n",
    "titanic_df = pd.read_csv('titanic.csv',index_col='PassengerId')\n",
    "\n",
    "#clean the data to only have stuff that we want to work with:\n",
    "x = titanic_df[titanic_df.columns].drop(labels=['Name','Ticket','Cabin'],axis=1)\n",
    "mask = x['Sex'] == 'male'\n",
    "x['Sex'] = 1*mask\n",
    "x.dropna(inplace=True)  #drop all nan values\n",
    "cmask = x['Embarked'] == 'C'\n",
    "smask = x['Embarked'] == 'S'\n",
    "x['Embarked'] = cmask*2 + smask*1\n",
    "\n",
    "y = x['Survived']\n",
    "x.drop('Survived',axis=1,inplace=True)\n",
    "x_train, x_test, y_train, y_test = train_test_split(x,y,test_size=0.3)\n",
    "x  #display the dataframe now"
   ]
  },
  {
   "cell_type": "code",
   "execution_count": 2,
   "metadata": {},
   "outputs": [
    {
     "ename": "SyntaxError",
     "evalue": "invalid syntax (2906684970.py, line 1)",
     "output_type": "error",
     "traceback": [
      "\u001b[0;36m  File \u001b[0;32m\"/var/folders/j1/rssdx9h148g0ptj4pj02c_0m0000gn/T/ipykernel_35049/2906684970.py\"\u001b[0;36m, line \u001b[0;32m1\u001b[0m\n\u001b[0;31m    (ii) Use oob_score with various combinations of hyperparameters in the RandomForestClassifier applied to the Titanic dataset in order to find the optimal values of max_depth and max_features. Hint: Be sure to set warm_start=False—if you forget, each of your experiments could build on the previous forest instead of starting over.\u001b[0m\n\u001b[0m         ^\u001b[0m\n\u001b[0;31mSyntaxError\u001b[0m\u001b[0;31m:\u001b[0m invalid syntax\n"
     ]
    }
   ],
   "source": [
    "(ii) Use oob_score with various combinations of hyperparameters in the RandomForestClassifier applied to the Titanic dataset in order to find the optimal values of max_depth and max_features. Hint: Be sure to set warm_start=False—if you forget, each of your experiments could build on the previous forest instead of starting over."
   ]
  },
  {
   "cell_type": "code",
   "execution_count": null,
   "metadata": {},
   "outputs": [],
   "source": [
    "(iii) Using the combination of hyperparameters that gave the best value of oob_score, identify the three most-important features and the three least-important features using feature_importances_. How do the re- sults compare with your intution about which features are most and least important?"
   ]
  }
 ],
 "metadata": {
  "kernelspec": {
   "display_name": "Python 3 (ipykernel)",
   "language": "python",
   "name": "python3"
  },
  "language_info": {
   "codemirror_mode": {
    "name": "ipython",
    "version": 3
   },
   "file_extension": ".py",
   "mimetype": "text/x-python",
   "name": "python",
   "nbconvert_exporter": "python",
   "pygments_lexer": "ipython3",
   "version": "3.9.7"
  }
 },
 "nbformat": 4,
 "nbformat_minor": 2
}
