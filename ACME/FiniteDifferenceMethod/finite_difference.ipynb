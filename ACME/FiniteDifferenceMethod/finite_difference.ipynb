{
 "cells": [
  {
   "cell_type": "code",
   "execution_count": 1,
   "metadata": {},
   "outputs": [],
   "source": [
    "import numpy as np\n",
    "import matplotlib.pyplot as plt\n",
    "import scipy.linalg as la\n",
    "from scipy.sparse import diags"
   ]
  },
  {
   "cell_type": "code",
   "execution_count": 2,
   "metadata": {},
   "outputs": [],
   "source": [
    "%matplotlib inline"
   ]
  },
  {
   "cell_type": "markdown",
   "metadata": {},
   "source": [
    "# Problem 1\n",
    "\n",
    "Let $u(x) = sin((x + \\pi)^2 - 1)$. Use (1.3) - (1.6) to approximate $\\frac{1}{2}\n",
    "u'' − u'$ at the grid points where $a = 0$, $b = 1$, and $n = 10$. Graph the result."
   ]
  },
  {
   "cell_type": "code",
   "execution_count": 3,
   "metadata": {},
   "outputs": [
    {
     "name": "stdout",
     "output_type": "stream",
     "text": [
      "[[  6.90335739]\n",
      " [ 18.4812328 ]\n",
      " [ 23.28979198]\n",
      " [ 17.49835925]\n",
      " [  1.96742981]\n",
      " [-16.69693491]\n",
      " [-28.34068466]\n",
      " [-24.63629149]\n",
      " [ -5.17040117]]\n"
     ]
    },
    {
     "data": {
      "image/png": "[encoded data removed]",
      "text/plain": [
       "<Figure size 432x288 with 1 Axes>"
      ]
     },
     "metadata": {
      "needs_background": "light"
     },
     "output_type": "display_data"
    }
   ],
   "source": [
    "#setting the function\n",
    "u = lambda x: np.sin((x+np.pi)**2 -1)\n",
    "#setting variables\n",
    "a = 0\n",
    "b = 1\n",
    "n = 10\n",
    "h = (b-a)/n\n",
    "x = np.linspace(a,b,n+1)\n",
    "\n",
    "#getting u'\n",
    "matL1 = diags([-1, 0, 1], [0,1,2],shape=(n-1, n+1)).toarray()\n",
    "matR1 = np.reshape(np.array(u(x)), (n+1,1))\n",
    "u_1 = matL1@matR1/(2*h)\n",
    "\n",
    "#getting u''\n",
    "matL2 = diags([1, -2, 1], [0,1,2],shape=(n-1, n+1)).toarray()\n",
    "matR2 = np.reshape(np.array(u(x)), (n+1,1))\n",
    "u_2 = matL2@matR2/(h**2)\n",
    "\n",
    "#getting 1/2u''-u'\n",
    "what_we_want = (u_2/2)-(u_1)\n",
    "plt.plot(np.linspace(0,1,9),what_we_want)\n",
    "print(what_we_want)\n",
    "plt.title(r\"$\\frac{1}{2}u''-u' $ when $ u(x) = sin((x+\\pi)^2 -1)$\")\n",
    "plt.xlabel('x')\n",
    "plt.ylabel('y')\n",
    "plt.show()"
   ]
  },
  {
   "cell_type": "markdown",
   "metadata": {},
   "source": [
    "# Problem 2\n",
    "\n",
    "Equation (1.7) is the singularly perturbed boundary value problem\n",
    "\\begin{align*}\n",
    "\t&{ } \\varepsilon u''(x)-u(x)'= f(x), \\quad x \\in (0,1), \\\\\n",
    "\t&{ } u(0) = \\alpha, \\quad u(1) = \\beta.\n",
    "\\end{align*}\n",
    "\n",
    "Use equation (1.9) to solve the singularly perturbed BVP (1.7) on $[0,1]$ with $\\varepsilon = 1/10, f(x) = -1, \\alpha=1,$ and $\\beta=3$ on a grid with $n=30$ subintervals. Graph the solution. This BVP is called singularly perturbed because of the location of the parameter $\\varepsilon$. For $\\varepsilon=0$ the ODE has a drastically different character - it then becomes first order, and can no longer support two boundary conditions."
   ]
  },
  {
   "cell_type": "code",
   "execution_count": 4,
   "metadata": {},
   "outputs": [
    {
     "data": {
      "image/png": "[encoded data removed]",
      "text/plain": [
       "<Figure size 432x288 with 1 Axes>"
      ]
     },
     "metadata": {
      "needs_background": "light"
     },
     "output_type": "display_data"
    }
   ],
   "source": [
    "#getting the default variables\n",
    "x = np.linspace(0,1,29)\n",
    "epsiolon = 1/10\n",
    "f = -1\n",
    "a = 1\n",
    "B = 3\n",
    "n = 30\n",
    "h = (1-0)/n\n",
    "\n",
    "#getting the left matrix\n",
    "left = diags([epsiolon + (h/2), -2*epsiolon, (epsiolon-(h/2))], [-1,0,1],shape=(n-1, n-1)).toarray()/(h**2)\n",
    "#getting the right matrix\n",
    "right = [f]*(n-1)\n",
    "right[0] -= a*(epsiolon+h/2)/(h**2)\n",
    "right[-1] -= B*(epsiolon-h/2)/(h**2)\n",
    "right = np.reshape(right, (n-1,1))\n",
    "\n",
    "#getting U \n",
    "U = np.linalg.solve(left, right)\n",
    "\n",
    "#plotting\n",
    "plt.plot(x, U)\n",
    "plt.title(\"Singularly Perturbed BVP\")\n",
    "plt.xlabel('x')\n",
    "plt.ylabel('U')\n",
    "plt.show()\n"
   ]
  },
  {
   "cell_type": "markdown",
   "metadata": {},
   "source": [
    "# Problem 3\n",
    "\n",
    "Implement a function `singular_bvp` to compute the finite difference solution to (1.7).\n",
    "Using $n = 5 \\times 2^0,5 \\times 2^1, \\dots ,5 \\times 2^9$ subintervals, compute 10 approximate solutions.\n",
    "Use these to visualize the $\\mathcal{O}(h^2)$ convergence of the finite difference method from Problem 2 by producing a loglog plot of error against subinterval count; this will be similar to Figure 2, except with $\\varepsilon=0.1$. \n",
    "\n",
    "To produce the plot, treat the approximation with $n = 5 \\times 2^9$ subintervals as the \"true solution\", and measure the error for the other approximations against it. ote that, since the ratios of numbers of subintervals between approximations are multiples of 2, we can compute the $L_{\\infty}$ error for the $n=5 \\times 2^j$ approximation by using the `step` argument in the array slicing syntax:\n",
    "\n",
    "    # best approximation; the vector has length 5*2^9+1\n",
    "    sol_best = singular_bvp(eps,alpha,beta,f,5*(2**9))\n",
    "\n",
    "    # approximation with 5*(2^j) intervals; the vector has length 5*2^j+1\n",
    "    sol_approx = singular_bvp(eps,alpha,beta,f,5*(2**j))\n",
    "\n",
    "    # approximation error; slicing results in a vector of length 5*2^j+1,\n",
    "    #    which allows it to be compared\n",
    "    error = np.max(np.abs(sol_approx - sol_best[::2**(9-j)]))\n"
   ]
  },
  {
   "cell_type": "code",
   "execution_count": 5,
   "metadata": {},
   "outputs": [],
   "source": [
    "def singular_bvp(eps,alpha,beta,f,n):\n",
    "    \"\"\"\n",
    "    Solves the singularly perturbed BVP (1.7) on the interval [0,1] using finite differences.\n",
    "    \n",
    "    Parameters:\n",
    "        eps (float): the singular perturbation parameter of the BVP.\n",
    "        alpha (float): the boundary value of u at x=0.\n",
    "        beta (float): the boundary value of u at x=1.\n",
    "        f (callable): the right-hand function of the BVP.\n",
    "        n (int): the number of subintervals to use in the finite differences method.\n",
    "        \n",
    "    Returns:\n",
    "        ((n+1,) ndarray): the approximated solution to the BVP, including the boundary points.\n",
    "    \"\"\"\n",
    "    h = 1/n\n",
    "    #getting the left matrix\n",
    "    left = diags([eps + (h/2), -2*eps, (eps-(h/2))], [-1,0,1],shape=(n-1, n-1)).toarray()/(h**2)\n",
    "\n",
    "    #getting the right matrix\n",
    "    right = [f]*(n-1)\n",
    "    right[0] -= alpha*(eps+h/2)/(h**2)\n",
    "    right[-1] -= beta*(eps-h/2)/(h**2)\n",
    "    right = np.reshape(right, (n-1,1))\n",
    "\n",
    "    #getting U \n",
    "    U = np.linalg.solve(left, right).ravel()\n",
    "    U = np.concatenate(([a], U, [B]))\n",
    "    return U"
   ]
  },
  {
   "cell_type": "code",
   "execution_count": 6,
   "metadata": {},
   "outputs": [
    {
     "data": {
      "image/png": "[encoded data removed]",
      "text/plain": [
       "<Figure size 432x288 with 1 Axes>"
      ]
     },
     "metadata": {
      "needs_background": "light"
     },
     "output_type": "display_data"
    }
   ],
   "source": [
    "#getting the default variables\n",
    "eps = .1\n",
    "f = -1\n",
    "alpha = 1\n",
    "beta = 3\n",
    "n = 5*(2**9)\n",
    "x = np.linspace(0,1,n-1)\n",
    "h = 1/(5*(2**np.arange(9)))\n",
    "\n",
    "#getting the errors using a loop\n",
    "error = []\n",
    "sol_best = singular_bvp(eps,alpha,beta,f,5*(2**9))\n",
    "for j in range(9):\n",
    "    sol_approx = singular_bvp(eps,alpha,beta,f,5*(2**j))\n",
    "    error.append(np.max(np.abs(sol_approx - sol_best[::2**(9-j)])))\n",
    "\n",
    "#plotting \n",
    "plt.loglog(h,h**2, label='E(h)', color = 'black')\n",
    "plt.loglog(h,error, color = 'red', marker = 'o',label = r\"$ h^2$\")\n",
    "plt.xlabel(\"h\")\n",
    "plt.ylabel(r\"$ L^\\infty -error$\")\n",
    "plt.legend()\n",
    "plt.title(r\"$ O(h^2)$ convergence of the finite difference\")\n",
    "plt.show()\n",
    "\n",
    "\n",
    "    "
   ]
  },
  {
   "cell_type": "markdown",
   "metadata": {},
   "source": [
    "# Problem 4\n",
    "\n",
    "Extend your finite difference code to the case of a general second order linear BVP with boundary conditions:\n",
    "\n",
    "\\begin{align*}\n",
    "\t&{ } a_1(x)y''(x) +a_2(x)y'(x)+ a_3(x) y(x) = f(x), \\quad x \\in (a,b),\\\\\n",
    "\t&{ } y(a) = \\alpha, \\quad y(b) = \\beta.\n",
    "\\end{align*}\n",
    "\n",
    "Use your code to solve the boundary value problem\n",
    "\n",
    "\\begin{align*}\n",
    "\t\\varepsilon y''(x) - 4(\\pi - x^2)y(x) = \\cos x, \\\\\n",
    "\ty(0) = 0, \\quad y(\\pi/2) = 1,\n",
    "\\end{align*}\n",
    "\n",
    "for $\\varepsilon = 0.1$ on a grid with $n=30$ subintervals. Plot your solution."
   ]
  },
  {
   "cell_type": "code",
   "execution_count": 7,
   "metadata": {},
   "outputs": [],
   "source": [
    "def bvp(a,b,alpha,beta,a1,a2,a3,f,n):\n",
    "    \"\"\"\n",
    "    Computes the solution to the BVP:\n",
    "        \n",
    "        a1(x)y'' + a2(x)y' + a3(x)y = f\n",
    "        y(a) = α, y(b) = β\n",
    "        \n",
    "    using finite differences.\n",
    "    \n",
    "    Parameters:\n",
    "        a, b (float): the left and right boundary points.\n",
    "        alpha (float): the boundary value of y at x=a.\n",
    "        beta (float): the boundary value of y at x=b.\n",
    "        f (callable): the right-hand function of the BVP.\n",
    "        a1, a2, a3 (callable): the coefficient functions of the BVP.\n",
    "        n (int): the number of subintervals to use in the finite differences method.\n",
    "        \n",
    "    Returns:\n",
    "        ((n+1,) ndarray): the approximated solution to the BVP, including the boundary points.\n",
    "    \"\"\"\n",
    "    #setting h and x\n",
    "    h = (b-a)/n\n",
    "    x = np.linspace(a,b,n+1)\n",
    "    #getting the left matrix\n",
    "    left = diags([(a1(x[2:])-h*a2(x[2:])/2), \n",
    "                  (-2*a1(x[1:])+(h**2)*a3(x[1:])), \n",
    "                  (a1(x[1:])+a2(x[1:])*h/2)], \n",
    "                 [-1,0,1],shape=(n-1, n-1)).toarray()/(h**2)\n",
    "    print(right)\n",
    "\n",
    "    #getting the right matrix\n",
    "    right = f(x[1:-1])\n",
    "    right[0] -= alpha*(a1(x[0])-h*a2(x[0])/2)/(h**2)\n",
    "    right[-1] -= beta*(a1(x[-1])+a2(x[-1])*h/2)/(h**2)\n",
    "    right = np.reshape(right, (n-1,1))\n",
    "\n",
    "    #getting U \n",
    "    U = np.linalg.solve(left, right).ravel()\n",
    "    U = np.concatenate(([alpha], U, [beta]))\n",
    "    \n",
    "    return U"
   ]
  },
  {
   "cell_type": "code",
   "execution_count": 8,
   "metadata": {},
   "outputs": [
    {
     "ename": "UnboundLocalError",
     "evalue": "local variable 'right' referenced before assignment",
     "output_type": "error",
     "traceback": [
      "\u001b[0;31m---------------------------------------------------------------------------\u001b[0m",
      "\u001b[0;31mUnboundLocalError\u001b[0m                         Traceback (most recent call last)",
      "\u001b[0;32m/var/folders/j1/rssdx9h148g0ptj4pj02c_0m0000gn/T/ipykernel_25107/4200489373.py\u001b[0m in \u001b[0;36m<module>\u001b[0;34m\u001b[0m\n\u001b[1;32m     14\u001b[0m \u001b[0;34m\u001b[0m\u001b[0m\n\u001b[1;32m     15\u001b[0m \u001b[0;31m#getting U before we plot\u001b[0m\u001b[0;34m\u001b[0m\u001b[0;34m\u001b[0m\u001b[0m\n\u001b[0;32m---> 16\u001b[0;31m \u001b[0mU\u001b[0m \u001b[0;34m=\u001b[0m \u001b[0mbvp\u001b[0m\u001b[0;34m(\u001b[0m\u001b[0ma\u001b[0m\u001b[0;34m,\u001b[0m\u001b[0mb\u001b[0m\u001b[0;34m,\u001b[0m\u001b[0malpha\u001b[0m\u001b[0;34m,\u001b[0m\u001b[0mbeta\u001b[0m\u001b[0;34m,\u001b[0m\u001b[0ma1\u001b[0m\u001b[0;34m,\u001b[0m\u001b[0ma2\u001b[0m\u001b[0;34m,\u001b[0m\u001b[0ma3\u001b[0m\u001b[0;34m,\u001b[0m\u001b[0mf\u001b[0m\u001b[0;34m,\u001b[0m\u001b[0mn\u001b[0m\u001b[0;34m)\u001b[0m\u001b[0;34m\u001b[0m\u001b[0;34m\u001b[0m\u001b[0m\n\u001b[0m\u001b[1;32m     17\u001b[0m \u001b[0mplt\u001b[0m\u001b[0;34m.\u001b[0m\u001b[0mplot\u001b[0m\u001b[0;34m(\u001b[0m\u001b[0mx\u001b[0m\u001b[0;34m,\u001b[0m \u001b[0mU\u001b[0m\u001b[0;34m,\u001b[0m \u001b[0mcolor\u001b[0m \u001b[0;34m=\u001b[0m \u001b[0;34m'black'\u001b[0m\u001b[0;34m)\u001b[0m\u001b[0;34m\u001b[0m\u001b[0;34m\u001b[0m\u001b[0m\n\u001b[1;32m     18\u001b[0m \u001b[0mplt\u001b[0m\u001b[0;34m.\u001b[0m\u001b[0mxlabel\u001b[0m\u001b[0;34m(\u001b[0m\u001b[0;34m\"x\"\u001b[0m\u001b[0;34m)\u001b[0m\u001b[0;34m\u001b[0m\u001b[0;34m\u001b[0m\u001b[0m\n",
      "\u001b[0;32m/var/folders/j1/rssdx9h148g0ptj4pj02c_0m0000gn/T/ipykernel_25107/1688900909.py\u001b[0m in \u001b[0;36mbvp\u001b[0;34m(a, b, alpha, beta, a1, a2, a3, f, n)\u001b[0m\n\u001b[1;32m     27\u001b[0m                   (a1(x[1:])+a2(x[1:])*h/2)], \n\u001b[1;32m     28\u001b[0m                  [-1,0,1],shape=(n-1, n-1)).toarray()/(h**2)\n\u001b[0;32m---> 29\u001b[0;31m     \u001b[0mprint\u001b[0m\u001b[0;34m(\u001b[0m\u001b[0mright\u001b[0m\u001b[0;34m)\u001b[0m\u001b[0;34m\u001b[0m\u001b[0;34m\u001b[0m\u001b[0m\n\u001b[0m\u001b[1;32m     30\u001b[0m \u001b[0;34m\u001b[0m\u001b[0m\n\u001b[1;32m     31\u001b[0m     \u001b[0;31m#getting the right matrix\u001b[0m\u001b[0;34m\u001b[0m\u001b[0;34m\u001b[0m\u001b[0m\n",
      "\u001b[0;31mUnboundLocalError\u001b[0m: local variable 'right' referenced before assignment"
     ]
    }
   ],
   "source": [
    "#getting the default variables\n",
    "a = 0\n",
    "b = np.pi/2\n",
    "alpha = 0\n",
    "beta = 1\n",
    "n = 30\n",
    "x = np.linspace(a,b,n+1)\n",
    "\n",
    "#setting the functions\n",
    "a1 = lambda x: .1\n",
    "a2 = lambda x: 0\n",
    "a3 = lambda x: -4*(np.pi-x**2)\n",
    "f = lambda x: np.cos(x)\n",
    "\n",
    "#getting U before we plot\n",
    "U = bvp(a,b,alpha,beta,a1,a2,a3,f,n)\n",
    "plt.plot(x, U, color = 'black')\n",
    "plt.xlabel(\"x\")\n",
    "plt.ylabel(\"U\")\n",
    "plt.title(r\"$\\epsilon$ y''-4($\\pi-x^2$)y$ =$cos(x)\")\n",
    "\n",
    "\n",
    "plt.show()"
   ]
  },
  {
   "cell_type": "markdown",
   "metadata": {},
   "source": [
    "# Problem 5\n",
    "\n",
    "Numerically solve the boundary value problem\n",
    "\n",
    "\\begin{align*}\n",
    "\t\\varepsilon y''(x) + xy'(x) = -\\varepsilon \\pi^2 \\cos(\\pi x) - \\pi x \\sin(\\pi x), \\\\\n",
    "\ty(-1) = -2, \\quad y(1) = 0,\n",
    "\\end{align*}\n",
    "\n",
    "for $\\varepsilon = 0.1, 0.01,$ and $0.001$. Use a grid with $n=150$ subintervals. Plot your solutions."
   ]
  },
  {
   "cell_type": "code",
   "execution_count": null,
   "metadata": {},
   "outputs": [],
   "source": [
    "#getting the default variables\n",
    "a = -1\n",
    "b = 1\n",
    "alpha = -2\n",
    "beta = 0\n",
    "n = 150\n",
    "x = np.linspace(a,b,n+1)\n",
    "\n",
    "#setting the function wehn eps = .1\n",
    "a1 = lambda x: .1\n",
    "a2 = lambda x: x\n",
    "a3 = lambda x: 0\n",
    "f = lambda x: -.1*((np.pi)**2)*np.cos(np.pi*x)-np.pi*x*np.sin(np.pi*x)\n",
    "\n",
    "#getting U before plotting\n",
    "U = bvp(a,b,alpha,beta,a1,a2,a3,f,n)\n",
    "plt.plot(x, U, color = 'red', label= r\"$\\epsilon = 0.1$\")\n",
    "\n",
    "#getting the default variables when eps = .01\n",
    "a1 = lambda x: .01\n",
    "a2 = lambda x: x\n",
    "a3 = lambda x: 0\n",
    "f = lambda x: -.01*((np.pi)**2)*np.cos(np.pi*x)-np.pi*x*np.sin(np.pi*x)\n",
    "\n",
    "#getting U before plotting\n",
    "U = bvp(a,b,alpha,beta,a1,a2,a3,f,n)\n",
    "plt.plot(x, U, color = 'green', label= r\"$\\epsilon = 0.01$\")\n",
    "\n",
    "#getting the default variable when eps = .001\n",
    "a1 = lambda x: .001\n",
    "a2 = lambda x: x\n",
    "a3 = lambda x: 0\n",
    "f = lambda x: -.001*((np.pi)**2)*np.cos(np.pi*x)-np.pi*x*np.sin(np.pi*x)\n",
    "\n",
    "#getting U before plotting\n",
    "U = bvp(a,b,alpha,beta,a1,a2,a3,f,n)\n",
    "plt.plot(x, U, color = 'blue', label= r\"$\\epsilon = 0.001$\")\n",
    "\n",
    "plt.title(r\"$\\epsilon$ y''(x) $ + $xy'(x)$ =-$$\\epsilon$$\\pi^2$cos($\\pi$x)-$\\pi$xsin($\\pi$x)\")\n",
    "plt.xlabel(\"x\")\n",
    "plt.ylabel(\"U\")\n",
    "plt.legend()\n",
    "plt.show()"
   ]
  },
  {
   "cell_type": "markdown",
   "metadata": {},
   "source": [
    "# Problem 6\n",
    "\n",
    "Numerically solve the boundary value problem\n",
    "\n",
    "\\begin{align*}\n",
    "\t(\\varepsilon +x^2)y''(x) + 4xy'(x) + 2y(x) = 0, \\\\\n",
    "\ty(-1) = 1/(1+\\varepsilon), \\quad y(1) = 1/(1+\\varepsilon),\n",
    "\\end{align*}\n",
    "\n",
    "for $\\epsilon = 0.05$ and $0.02$. Use a grid with $n=150$ subintervals. Plot your solutions."
   ]
  },
  {
   "cell_type": "code",
   "execution_count": null,
   "metadata": {},
   "outputs": [],
   "source": [
    "#getting the default variables when eps = .05\n",
    "eps = .05\n",
    "a = -1\n",
    "b = 1\n",
    "alpha = 1/(1+eps)\n",
    "beta = 1/(1+eps)\n",
    "n = 150\n",
    "x = np.linspace(a,b,n+1)\n",
    "\n",
    "#getting the functions\n",
    "a1 = lambda x: (eps+x**2)\n",
    "a2 = lambda x: 4*x\n",
    "a3 = lambda x: 2\n",
    "f = lambda x: 0*x\n",
    "\n",
    "#getting U before plotting\n",
    "U = bvp(a,b,alpha,beta,a1,a2,a3,f,n)\n",
    "plt.plot(x, U, color = 'red', label= r\"$\\epsilon = 0.05$\")\n",
    "\n",
    "#getting the default variables when eps = .02\n",
    "eps = .02\n",
    "a = -1\n",
    "b = 1\n",
    "alpha = 1/(1+eps)\n",
    "beta = 1/(1+eps)\n",
    "x = np.linspace(a,b,n+1)\n",
    "n = 150\n",
    "\n",
    "#getting the functions\n",
    "a1 = lambda x: (eps+x**2)\n",
    "a2 = lambda x: 4*x\n",
    "a3 = lambda x: 2\n",
    "f = lambda x: 0*x\n",
    "\n",
    "#getting U before plotting\n",
    "U = bvp(a,b,alpha,beta,a1,a2,a3,f,n)\n",
    "plt.plot(x, U, color = 'blue', label= r\"$\\epsilon = 0.02$\")\n",
    "plt.xlabel(\"x\")\n",
    "plt.ylabel(\"U\")\n",
    "plt.title(r\"$(\\epsilon+x^2$) y''(x) $ + $4xy'(x)$ + 2y(x)$ =0)\")\n",
    "plt.legend()\n",
    "plt.show()"
   ]
  },
  {
   "cell_type": "code",
   "execution_count": null,
   "metadata": {},
   "outputs": [],
   "source": []
  }
 ],
 "metadata": {
  "kernelspec": {
   "display_name": "Python 3 (ipykernel)",
   "language": "python",
   "name": "python3"
  },
  "language_info": {
   "codemirror_mode": {
    "name": "ipython",
    "version": 3
   },
   "file_extension": ".py",
   "mimetype": "text/x-python",
   "name": "python",
   "nbconvert_exporter": "python",
   "pygments_lexer": "ipython3",
   "version": "3.9.7"
  }
 },
 "nbformat": 4,
 "nbformat_minor": 2
}
