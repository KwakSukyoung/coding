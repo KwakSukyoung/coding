{
 "cells": [
  {
   "cell_type": "markdown",
   "metadata": {
    "id": "xQ1tKnrK4TcN"
   },
   "source": [
    "\n",
    "## Volume 2: OpenGym\n",
    "\n"
   ]
  },
  {
   "cell_type": "markdown",
   "metadata": {
    "id": "3qbA8CjB3_IL"
   },
   "source": [
    "<Name\\>\n",
    "<Class\\>\n",
    "<Date\\>\n",
    "\n",
    "\n",
    "\n"
   ]
  },
  {
   "cell_type": "markdown",
   "metadata": {
    "id": "AUZ1Wq-8NwSn"
   },
   "source": [
    "**Note:** Some IPython notebook platforms (such as Google Colab) do not currently support rendering OpenAI environments. In order to properly render the OpenGym environments in this lab, you may need to run the Jupyter Notebook locally (for example, run it in VSCode or from the command line)."
   ]
  },
  {
   "cell_type": "code",
   "execution_count": 178,
   "metadata": {
    "id": "XqeTGS1PNvZ7"
   },
   "outputs": [
    {
     "name": "stdout",
     "output_type": "stream",
     "text": [
      "Requirement already satisfied: gym in /Users/raul/opt/anaconda3/lib/python3.9/site-packages (0.22.0)\n",
      "Requirement already satisfied: importlib-metadata>=4.10.0 in /Users/raul/opt/anaconda3/lib/python3.9/site-packages (from gym) (4.11.2)\n",
      "Requirement already satisfied: numpy>=1.18.0 in /Users/raul/opt/anaconda3/lib/python3.9/site-packages (from gym) (1.20.3)\n",
      "Requirement already satisfied: gym-notices>=0.0.4 in /Users/raul/opt/anaconda3/lib/python3.9/site-packages (from gym) (0.0.4)\n",
      "Requirement already satisfied: cloudpickle>=1.2.0 in /Users/raul/opt/anaconda3/lib/python3.9/site-packages (from gym) (2.0.0)\n",
      "Requirement already satisfied: zipp>=0.5 in /Users/raul/opt/anaconda3/lib/python3.9/site-packages (from importlib-metadata>=4.10.0->gym) (3.6.0)\n",
      "Note: you may need to restart the kernel to use updated packages.\n"
     ]
    }
   ],
   "source": [
    "pip install gym"
   ]
  },
  {
   "cell_type": "code",
   "execution_count": 179,
   "metadata": {},
   "outputs": [
    {
     "name": "stdout",
     "output_type": "stream",
     "text": [
      "Requirement already satisfied: pygame in /Users/raul/opt/anaconda3/lib/python3.9/site-packages (2.1.2)\n",
      "Note: you may need to restart the kernel to use updated packages.\n"
     ]
    }
   ],
   "source": [
    "pip install pygame"
   ]
  },
  {
   "cell_type": "code",
   "execution_count": 180,
   "metadata": {
    "id": "ZlMKi7Fx35TI"
   },
   "outputs": [],
   "source": [
    "import gym\n",
    "import numpy as np\n",
    "from IPython.display import clear_output\n",
    "import random\n",
    "from matplotlib import pyplot as plt"
   ]
  },
  {
   "cell_type": "markdown",
   "metadata": {
    "id": "W-rNQLwd429z"
   },
   "source": [
    "**Problem 1**\n",
    "\n",
    "*   Implement `random_blackjack()`.\n",
    "*   Run the game 500 times and output the percentage of games that are wins.\n",
    "\n"
   ]
  },
  {
   "cell_type": "code",
   "execution_count": 181,
   "metadata": {
    "id": "lrhUolvq45vh"
   },
   "outputs": [],
   "source": [
    "# Problem 1\n",
    "def random_blackjack(n):\n",
    "    \"\"\"\n",
    "    Play a random game of Blackjack. Determine the\n",
    "    percentage the player wins out of n times.\n",
    "    Parameters:\n",
    "        n (int): number of iterations\n",
    "    Returns:\n",
    "        percent (float): percentage that the player\n",
    "                         wins\n",
    "    \"\"\"\n",
    "    #hist 세팅하기\n",
    "    hist = []\n",
    "    #루프 0 - n-1\n",
    "    for i in range(n):\n",
    "        #게임만들기\n",
    "        done = False\n",
    "        env = gym.make(\"Blackjack-v1\")\n",
    "        #게임 리셋하기 \n",
    "        observation = env.reset()\n",
    "        #안끝날 동안\n",
    "        while(not done):\n",
    "            obs, reward, done, info = env.step(env.action_space.sample())\n",
    "        #승부결과 적기\n",
    "        hist.append(reward)\n",
    "    \n",
    "    env.close()\n",
    "    #결과 비율\n",
    "    w = hist.count(1)\n",
    "    return w/n"
   ]
  },
  {
   "cell_type": "code",
   "execution_count": 182,
   "metadata": {
    "id": "JF-bS3gyIx4k"
   },
   "outputs": [
    {
     "data": {
      "text/plain": [
       "0.264"
      ]
     },
     "execution_count": 182,
     "metadata": {},
     "output_type": "execute_result"
    }
   ],
   "source": [
    "random_blackjack(500)"
   ]
  },
  {
   "cell_type": "markdown",
   "metadata": {
    "id": "xfZPCIMC5JmB"
   },
   "source": [
    "**Problem 2**\n",
    "\n",
    "* Implement `blackjack()`.\n",
    "* For `n` = 1, 2, ..., 21, plot the win percentage after 10,000 games of Blackjack.\n",
    "* Identify which value of `n` gives the highest win rate."
   ]
  },
  {
   "cell_type": "code",
   "execution_count": 183,
   "metadata": {
    "id": "6Uv7AD8I5LWk"
   },
   "outputs": [],
   "source": [
    "# Problem 2\n",
    "def blackjack(n=11):\n",
    "    \"\"\"\n",
    "    Play blackjack with naive algorithm.\n",
    "    Parameters:\n",
    "        n (int): maximum accepted player hand\n",
    "    Return:\n",
    "        percent (float): percentage of 10000 iterations\n",
    "                         that the player wins\n",
    "    \"\"\"\n",
    "    #create the environment\n",
    "    env = gym.make(\"Blackjack-v1\")\n",
    "    #the number of wins\n",
    "    cout = 0\n",
    "    \n",
    "    #루프 0 - 1000\n",
    "    for i in range(10000):\n",
    "        done = False\n",
    "        #initializae the card number\n",
    "        obs = env.reset()\n",
    "        \n",
    "        #get new cards till enough cards\n",
    "        while (obs[0] <= n):\n",
    "            #keep playing\n",
    "            obs, reward, done, info = env.step(1)\n",
    "            #if you actually know if you won or not\n",
    "            if done is True:\n",
    "                if reward == 1:\n",
    "                    cout += 1\n",
    "                break\n",
    "        # you have enough cards but still you didn't win or not\n",
    "        if done is False:\n",
    "            obs, reward, done, info = env.step(0)\n",
    "            if reward == 1:\n",
    "                cout += 1\n",
    "            \n",
    "    env.close()\n",
    "    return cout/10000"
   ]
  },
  {
   "cell_type": "code",
   "execution_count": 184,
   "metadata": {
    "id": "miBtqMaVIjFJ"
   },
   "outputs": [
    {
     "data": {
      "text/plain": [
       "[<matplotlib.lines.Line2D at 0x7fb6822b8700>]"
      ]
     },
     "execution_count": 184,
     "metadata": {},
     "output_type": "execute_result"
    },
    {
     "data": {
      "image/png": "[encoded data removed]",
      "text/plain": [
       "<Figure size 432x288 with 1 Axes>"
      ]
     },
     "metadata": {
      "needs_background": "light"
     },
     "output_type": "display_data"
    }
   ],
   "source": [
    "num = [blackjack(i) for i in range(1,22)]\n",
    "x = np.linspace(1,22,21)\n",
    "plt.plot(x,num)"
   ]
  },
  {
   "cell_type": "code",
   "execution_count": 185,
   "metadata": {},
   "outputs": [
    {
     "name": "stdout",
     "output_type": "stream",
     "text": [
      "0.4286\n"
     ]
    }
   ],
   "source": [
    "print(max(num))\n",
    "#around when i is 12 or 13ish"
   ]
  },
  {
   "cell_type": "markdown",
   "metadata": {
    "id": "lY8vR6Ygxxk-"
   },
   "source": [
    "*Identify which value(s) give the highest winrate here*"
   ]
  },
  {
   "cell_type": "markdown",
   "metadata": {
    "id": "i9xB1KaZ5OJ3"
   },
   "source": [
    "**Problem 3**\n",
    "\n",
    "* Implement `cartpole()`.\n",
    "* Render the game and run your function once.\n",
    "* Run Cartpole 100 times (without rendering) and print out the average number of steps before it terminates."
   ]
  },
  {
   "cell_type": "code",
   "execution_count": 186,
   "metadata": {
    "id": "AGEUkBOx5Qbk"
   },
   "outputs": [],
   "source": [
    "# Problem 3\n",
    "def cartpole(render=False):\n",
    "    \"\"\"\n",
    "    Solve CartPole-v0 by checking the velocity\n",
    "    of the tip of the pole.\n",
    "    Parameters: \n",
    "        render (bool): If True, render environment at each step\n",
    "    Return:\n",
    "        iterations (integer): number of steps or iterations\n",
    "                              to solve the environment\n",
    "    \"\"\"\n",
    "    #create environment\n",
    "    env = gym.make(\"CartPole-v1\")\n",
    "    observation = env.reset()\n",
    "    #setting count and done\n",
    "    cout = 0\n",
    "    done = False\n",
    "    #while the game is not done\n",
    "    while(not done):\n",
    "        #if the velocity is negative\n",
    "        if observation[3] < 0:\n",
    "            observation, reward, done, info = env.step(0)\n",
    "        #if the velocity is postiive\n",
    "        else:\n",
    "            observation, reward, done, info = env.step(1)\n",
    "        #add the steps\n",
    "        cout += 1\n",
    "            \n",
    "    env.close()\n",
    "    return cout"
   ]
  },
  {
   "cell_type": "code",
   "execution_count": 187,
   "metadata": {
    "id": "78iSdRs6wZKb"
   },
   "outputs": [],
   "source": [
    "# Render the game and run once hered"
   ]
  },
  {
   "cell_type": "code",
   "execution_count": 188,
   "metadata": {
    "id": "EaNbYfsuIhxN"
   },
   "outputs": [
    {
     "name": "stdout",
     "output_type": "stream",
     "text": [
      "196.25\n"
     ]
    }
   ],
   "source": [
    "# Run the game here and print average steps to termination\n",
    "nums = sum([cartpole() for i in range(100)])\n",
    "print(nums/100)"
   ]
  },
  {
   "cell_type": "markdown",
   "metadata": {
    "id": "TPFFk0nX5U_b"
   },
   "source": [
    "**Problem 4**\n",
    "\n",
    "* Implement `car()`.\n",
    "* Render the game and run your function once.\n",
    "* Run MountainCar 100 times (without rendering) and print out the average number of steps before it terminates."
   ]
  },
  {
   "cell_type": "code",
   "execution_count": 189,
   "metadata": {
    "id": "Lqq3Q6EO5Wgq"
   },
   "outputs": [],
   "source": [
    "# Problem 4\n",
    "def car(render=False):\n",
    "    \"\"\"\n",
    "    Solve MountainCar-v0 by checking the position\n",
    "    of the car.\n",
    "    Parameters: \n",
    "        render (bool): If True, render environment at each step\n",
    "    Return:\n",
    "        iterations (integer): number of steps or iterations\n",
    "                              to solve the environment\n",
    "    \"\"\"\n",
    "    env = gym.make(\"MountainCar-v0\")\n",
    "    observation = env.reset()\n",
    "    done = False\n",
    "    cout = 0\n",
    "    \n",
    "    while(not done):\n",
    "        if(observation[1] >0):\n",
    "            observation, reward, done, info = env.step(2)\n",
    "        elif(observation[1]<0):\n",
    "            observation, reward, done, info = env.step(0)\n",
    "        else:\n",
    "            observation, reward, done, info = env.step(1)\n",
    "        cout += 1\n",
    "            \n",
    "    env.close()\n",
    "    return cout"
   ]
  },
  {
   "cell_type": "code",
   "execution_count": 190,
   "metadata": {
    "id": "4_kSEBYdwgnc"
   },
   "outputs": [],
   "source": [
    "# Render the game here"
   ]
  },
  {
   "cell_type": "code",
   "execution_count": 191,
   "metadata": {
    "id": "fUsBDn6KIgw5"
   },
   "outputs": [
    {
     "name": "stdout",
     "output_type": "stream",
     "text": [
      "113.79\n"
     ]
    }
   ],
   "source": [
    "# Run the game here and print average steps to termination\n",
    "nums = sum([car() for i in range(100)])\n",
    "print(nums/100)"
   ]
  },
  {
   "cell_type": "markdown",
   "metadata": {
    "id": "U5tSd-zE4sHZ"
   },
   "source": [
    "**Helper Function for Problem 5**"
   ]
  },
  {
   "cell_type": "code",
   "execution_count": 192,
   "metadata": {
    "id": "zNNc3x9x09Zr"
   },
   "outputs": [],
   "source": [
    "def find_qvalues(env,alpha=.1,gamma=.6,epsilon=.1):\n",
    "    \"\"\"\n",
    "    Use the Q-learning algorithm to find qvalues.\n",
    "    Parameters:\n",
    "        env (str): environment name\n",
    "        alpha (float): learning rate\n",
    "        gamma (float): discount factor\n",
    "        epsilon (float): maximum value\n",
    "    Returns:\n",
    "        q_table (ndarray nxm)\n",
    "    \"\"\"\n",
    "    # Make environment\n",
    "    env = gym.make(env)\n",
    "    # Make Q-table\n",
    "    q_table = np.zeros((env.observation_space.n,env.action_space.n))\n",
    "\n",
    "    # Train\n",
    "    for i in range(1,100001):\n",
    "        # Reset state\n",
    "        state = env.reset()\n",
    "\n",
    "        epochs, penalties, reward, = 0,0,0\n",
    "        done = False\n",
    "\n",
    "        while not done:\n",
    "            # Accept based on alpha\n",
    "            if random.uniform(0,1) < epsilon:\n",
    "                action = env.action_space.sample()\n",
    "            else:\n",
    "                action = np.argmax(q_table[state])\n",
    "\n",
    "            # Take action\n",
    "            next_state, reward, done, info = env.step(action)\n",
    "\n",
    "            # Calculate new qvalue\n",
    "            old_value = q_table[state,action]\n",
    "            next_max = np.max(q_table[next_state])\n",
    "\n",
    "            new_value = (1-alpha) * old_value + alpha * (reward + gamma * next_max)\n",
    "            q_table[state, action] = new_value\n",
    "\n",
    "            # Check if penalty is made\n",
    "            if reward == -10:\n",
    "                penalties += 1\n",
    "\n",
    "            # Get next observation\n",
    "            state = next_state\n",
    "            epochs += 1\n",
    "\n",
    "        # Print episode number\n",
    "        if i % 100 == 0:\n",
    "            clear_output(wait=True)\n",
    "            print(f\"Episode: {i}\")\n",
    "\n",
    "    print(\"Training finished.\")\n",
    "    return q_table\n"
   ]
  },
  {
   "cell_type": "markdown",
   "metadata": {
    "id": "ZODhO4AS5YQq"
   },
   "source": [
    "**Problem 5**\n",
    "\n",
    "* Render the \"`Taxi-v3`\" environment, act randomly until it terminates, and calculate the total reward\n",
    "* Render the \"`Taxi-v3`\" environment, use the Q-table to act optimally until it terminates, and calculate the total reward\n",
    "* Implement `taxi()`, then use it to print the average total reward for each algorithm.\n"
   ]
  },
  {
   "cell_type": "code",
   "execution_count": 193,
   "metadata": {
    "id": "e3i-LEnYKHyz"
   },
   "outputs": [
    {
     "name": "stdout",
     "output_type": "stream",
     "text": [
      "-848\n"
     ]
    }
   ],
   "source": [
    "# Random actions Taxi game\n",
    "env = gym.make(\"Taxi-v3\")\n",
    "#restart the game\n",
    "observation = env.reset()\n",
    "#initialization\n",
    "done = False\n",
    "re = 0\n",
    "#while the game is not done\n",
    "while (not done):\n",
    "    observation, reward, done, info = env.step(env.action_space.sample())\n",
    "    re += reward\n",
    "#end the game\n",
    "env.close()\n",
    "print(re)"
   ]
  },
  {
   "cell_type": "code",
   "execution_count": 194,
   "metadata": {
    "id": "0ejXeML7KJSJ"
   },
   "outputs": [
    {
     "name": "stdout",
     "output_type": "stream",
     "text": [
      "Episode: 100000\n",
      "Training finished.\n"
     ]
    }
   ],
   "source": [
    "# Q-table actions Taxi game\n",
    "q_tab = find_qvalues(\"Taxi-v3\")"
   ]
  },
  {
   "cell_type": "code",
   "execution_count": 195,
   "metadata": {
    "id": "APK2iYQV5aR4"
   },
   "outputs": [],
   "source": [
    "def taxi(q_table):\n",
    "    \"\"\"\n",
    "    Compare naive and q-learning algorithms.\n",
    "    Parameters:\n",
    "        q_table (ndarray nxm): table of qvalues\n",
    "    Returns:\n",
    "        naive (float): mean reward of naive algorithm\n",
    "                       of 10000 runs\n",
    "        q_reward (float): mean reward of Q-learning algorithm\n",
    "                          of 10000 runs\n",
    "    \"\"\"\n",
    "    #naive algorithm\n",
    "    lis_ran = []\n",
    "    for i in range(10000):\n",
    "        env = gym.make(\"Taxi-v3\")\n",
    "        done = False\n",
    "        re_ran = 0\n",
    "        observation = env.reset()\n",
    "        \n",
    "        while (not done):\n",
    "            observation, reward, done, info = env.step(env.action_space.sample())\n",
    "            re_ran += reward\n",
    "        lis_ran.append(re_ran)\n",
    "        env.close()\n",
    "        \n",
    "    #not random algorithm\n",
    "    lis_not = []\n",
    "    for i in range(10000):\n",
    "        env = gym.make(\"Taxi-v3\")\n",
    "        done = False\n",
    "        re_not = 0\n",
    "        observation = env.reset()\n",
    "        \n",
    "        while (not done):\n",
    "            observation, reward, done, info = env.step(np.argmax(q_table[observation, :]))\n",
    "            re_not += reward\n",
    "        lis_not.append(re_not)\n",
    "        env.close()\n",
    "    \n",
    "    \n",
    "    return sum(lis_ran)/10000, sum(lis_not)/10000"
   ]
  },
  {
   "cell_type": "code",
   "execution_count": 196,
   "metadata": {
    "id": "PhS7JR1JKOQu"
   },
   "outputs": [
    {
     "name": "stdout",
     "output_type": "stream",
     "text": [
      "(-771.9607, 7.9131)\n"
     ]
    }
   ],
   "source": [
    "# Print the average rewards of the Taxi game for both algorithms run 10,000 times\n",
    "print(taxi(q_tab))"
   ]
  },
  {
   "cell_type": "code",
   "execution_count": null,
   "metadata": {},
   "outputs": [],
   "source": []
  }
 ],
 "metadata": {
  "colab": {
   "collapsed_sections": [],
   "name": "opengym.ipynb",
   "provenance": []
  },
  "kernelspec": {
   "display_name": "Python 3 (ipykernel)",
   "language": "python",
   "name": "python3"
  },
  "language_info": {
   "codemirror_mode": {
    "name": "ipython",
    "version": 3
   },
   "file_extension": ".py",
   "mimetype": "text/x-python",
   "name": "python",
   "nbconvert_exporter": "python",
   "pygments_lexer": "ipython3",
   "version": "3.9.7"
  }
 },
 "nbformat": 4,
 "nbformat_minor": 1
}
