{
 "cells": [
  {
   "cell_type": "code",
   "execution_count": null,
   "metadata": {},
   "outputs": [],
   "source": [
    "\n",
    "from scipy.sparse import spdiags\n",
    "from scipy.sparse.linalg import spsolve\n",
    "import numpy as np\n",
    "import matplotlib.pyplot as plt\n",
    "from scipy.sparse import diags\n",
    "from scipy.sparse import csr_matrix"
   ]
  },
  {
   "cell_type": "markdown",
   "metadata": {},
   "source": [
    "# Problem 1\n",
    "\n",
    "Use the finite element method to solve\n",
    " \n",
    "εy\" − y' = −1,\n",
    "\n",
    "y(0) = α, y(1) = β,\n",
    "\n",
    "\n",
    "where α = 2, β = 4, and ε = 0.02. Use N = 100 finite elements (101 grid points). Compare\n",
    "your solution with the analytic solution\n",
    "\n",
    "y(x) = α + x + (β − α − 1)* (e^(x/ε) − 1)/(e^(1/ε) − 1) by graphing.\n"
   ]
  },
  {
   "cell_type": "code",
   "execution_count": null,
   "metadata": {},
   "outputs": [],
   "source": [
    "def solver(N, h,eps, a,b):\n",
    "    #setting variables\n",
    "    A = np.zeros((N+1,N+1))\n",
    "    A[0][0], A[-1][-1] = 1,1\n",
    "\n",
    "    #chaing the values in A\n",
    "    for i in range(1, N):\n",
    "        A[i][i-1] = (eps/h)+(1/2) \n",
    "        A[i][i] = (-eps/h)+(-eps/h)\n",
    "        A[i][i+1] = (eps/h)-(1/2)\n",
    "\n",
    "    #getting phis\n",
    "    phi = np.ones(N+1).T*(-h)\n",
    "    phi[0],phi[-1] = a,b\n",
    "\n",
    "    #Now, we apply to Ax = b\n",
    "    answer = np.linalg.solve(A, phi)\n",
    "\n",
    "    return answer\n",
    "\n",
    "#setting the variables\n",
    "a = 2\n",
    "b = 4\n",
    "eps = .02\n",
    "N = 100\n",
    "x,h = np.linspace(0,1,N+1,retstep = True)\n",
    "y = a+x+(b-a-1)*(np.exp(x/eps)-1)/(np.exp(1/eps)-1)\n",
    "\n",
    "answer = solver(N,h,eps, a,b)\n",
    "\n",
    "#plotting\n",
    "plt.plot(x, answer, label = \"solution that I came up with\")\n",
    "plt.plot(x, y, label = r\"y = $\\alpha$+x+($\\beta-\\alpha$-1)$\\frac{e^{\\frac{x}{\\epsilon}}-1}{e^{\\frac{x}{\\epsilon}}-1}$\")\n",
    "\n",
    "\n",
    "plt.legend()\n",
    "plt.show()"
   ]
  },
  {
   "cell_type": "markdown",
   "metadata": {},
   "source": [
    "# Problem 2\n",
    "\n",
    "Compare the numerical solution when the grid points are unevenly spaced versus when the grid points\n",
    "are clustered in the area of greatest change by plotting."
   ]
  },
  {
   "cell_type": "code",
   "execution_count": null,
   "metadata": {},
   "outputs": [],
   "source": [
    "N = 100\n",
    "x,h = np.linspace(0,1,N+1,retstep = True)\n",
    "y = a+x+(b-a-1)*(np.exp(x/eps)-1)/(np.exp(1/eps)-1)\n",
    "even_grid,h = np.linspace(0,1,15,retstep =True)\n",
    "even_h = np.ones(14)*h\n",
    "clustered_grid = np.linspace(0,1,15)**(1./8)\n",
    "clustered_h = [clustered_grid[i+1] -clustered_grid[i] for i in range(len(clustered_grid)-1)]\n",
    "\n",
    "#setting the variables\n",
    "a = 2\n",
    "b = 4\n",
    "eps = .02\n",
    "N = 14\n",
    "\n",
    "def h_solver(N, h,eps, a,b):\n",
    "    #setting variables\n",
    "    A = np.zeros((N+1,N+1))\n",
    "    A[0][0], A[-1][-1] = 1,1\n",
    "\n",
    "    #chaing the values in A\n",
    "    for i in range(1, N):\n",
    "        A[i][i-1] = (eps/h[i-1])+(1/2) \n",
    "        A[i][i] = (-eps/h[i-1])+(-eps/h[i])\n",
    "        A[i][i+1] = (eps/h[i])-(1/2)\n",
    "    \n",
    "    A = csr_matrix(A)\n",
    "\n",
    "    #getting phis\n",
    "    phi = np.ones(N+1).T\n",
    "    for i in range(1, N):\n",
    "        phi[i] = -(h[i-1]+h[i])/2\n",
    "    phi[0],phi[-1] = a,b\n",
    "\n",
    "    #Now, we apply to Ax = b\n",
    "    answer = spsolve(A, phi)\n",
    "    return answer\n",
    "\n",
    "even_answer = h_solver(N, even_h,eps, a,b)\n",
    "clustered_answer = h_solver(N,clustered_h,eps, a,b)\n",
    "\n",
    "#plotting\n",
    "plt.plot(x, y, color = 'black', label = \"Analytic Solution\")\n",
    "plt.plot(even_grid, even_answer,'o-',color = 'blue',label = \"Evenly spaced grid points\")\n",
    "plt.plot(clustered_grid, clustered_answer,'o-',color = 'red',label = \"Clustered grid points\")\n",
    "\n",
    "plt.legend()\n",
    "plt.show()"
   ]
  },
  {
   "cell_type": "markdown",
   "metadata": {},
   "source": [
    "# Problem 3\n",
    "\n",
    "Solve (11.5) with the finite element method using N = 2i finite elements, i = 4, 5, . . . , 21.\n",
    "Use a log-log plot to graph the error."
   ]
  },
  {
   "cell_type": "code",
   "execution_count": null,
   "metadata": {},
   "outputs": [],
   "source": [
    "#setting the variables\n",
    "a = 2\n",
    "b = 4\n",
    "eps = .02\n",
    "errors = []\n",
    "\n",
    "N = [2**i for i in range(4, 22)]\n",
    "for n in N:\n",
    "    x,h = np.linspace(0,1,n+1,retstep = True)\n",
    "    even_h = np.ones(n)*h\n",
    "    y = a+x+(b-a-1)*(np.exp(x/eps)-1)/(np.exp(1/eps)-1)\n",
    "    \n",
    "    answer = h_solver(n, even_h,eps, a,b)\n",
    "    errors.append(max(abs(y - answer)))\n",
    "\n",
    "plt.loglog(N, errors)\n",
    "plt.show()"
   ]
  },
  {
   "cell_type": "code",
   "execution_count": null,
   "metadata": {},
   "outputs": [],
   "source": []
  }
 ],
 "metadata": {
  "kernelspec": {
   "display_name": "Python 3 (ipykernel)",
   "language": "python",
   "name": "python3"
  },
  "language_info": {
   "codemirror_mode": {
    "name": "ipython",
    "version": 3
   },
   "file_extension": ".py",
   "mimetype": "text/x-python",
   "name": "python",
   "nbconvert_exporter": "python",
   "pygments_lexer": "ipython3",
   "version": "3.9.7"
  }
 },
 "nbformat": 4,
 "nbformat_minor": 1
}
