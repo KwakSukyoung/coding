{
 "cells": [
  {
   "cell_type": "markdown",
   "metadata": {},
   "source": [
    "<h1 align=\"center\">Volume 4: River Crossing.</h1>\n",
    "\n",
    "    NAME\n",
    "    Section #\n",
    "    DATE"
   ]
  },
  {
   "cell_type": "code",
   "execution_count": 75,
   "metadata": {},
   "outputs": [],
   "source": [
    "import numpy as np\n",
    "import matplotlib.pyplot as plt\n",
    "from scipy import integrate\n",
    "from autograd import grad\n",
    "from scipy import optimize\n",
    "from scipy.interpolate import barycentric_interpolate"
   ]
  },
  {
   "cell_type": "markdown",
   "metadata": {},
   "source": [
    "# Problem 1\n",
    "Assume that the current is given by $c(x) = −\n",
    "\\frac{7}{10} (x^2 − 1)$. (This function assumes, for example, that the current is faster near the center of the river.) Write a Python\n",
    "function that accepts as arguments a function $y$, its derivative $y'$, and an $x$-value, and returns $L(x, y(x), y'(x))$ (where $T[y]=\\int^1_{-1} L(x,y(x),y'(x))dx$ Use that function to defune a second\n",
    "function that numerically computes $T[y]$ for a given path $y(x)$."
   ]
  },
  {
   "cell_type": "code",
   "execution_count": 76,
   "metadata": {},
   "outputs": [],
   "source": [
    "#got the equations from the lab spec\n",
    "c = lambda x: (-7/10)*((x**2) -1)\n",
    "a = lambda x: (1-c(x)**2)**(-1/2)\n",
    "\n",
    "#The first function\n",
    "def L(x, y, dy):\n",
    "    #used (19.3) to get L\n",
    "    return a(x)*np.sqrt(1+(a(x)**2)*(dy(x)**2))- (a(x)**2)*(c(x))*(dy(x))\n",
    "\n",
    "#The second function\n",
    "def T(y):\n",
    "    #returning the integral from -1 to 1\n",
    "    return integrate.quad(L, -1,1, args = (y,grad(y)))\n"
   ]
  },
  {
   "cell_type": "code",
   "execution_count": 77,
   "metadata": {},
   "outputs": [],
   "source": [
    "# title and man matplotlib manipulations\n",
    "# also put many information for better seeing.\n"
   ]
  },
  {
   "cell_type": "markdown",
   "metadata": {},
   "source": [
    "# Problem 2\n",
    "\n",
    "Let y(x) be the straight-line path between A = (−1, 0) and B = (1, 5). Numerically calculate T[y] to get an upper bound on the minimum time required to cross from A to\n",
    "B. Using (18.2), find a lower bound on the minimum time required to cross."
   ]
  },
  {
   "cell_type": "code",
   "execution_count": 78,
   "metadata": {},
   "outputs": [
    {
     "name": "stdout",
     "output_type": "stream",
     "text": [
      "3.877082049138412 2\n"
     ]
    }
   ],
   "source": [
    "#get the euqation that connects A and B which is a line.\n",
    "#calculated by hands\n",
    "y = lambda x: (5/2)*(x+1)\n",
    "\n",
    "#getting the upper and lower bounds\n",
    "upper = T(y)[0]\n",
    "#The lower bounds is the graph of 1/sec from -1 to 1. \n",
    "#Thus, it's the integral -1 to 1 with 1 dx which is 2.\n",
    "lower = 2\n",
    "\n",
    "print(upper, lower)"
   ]
  },
  {
   "cell_type": "markdown",
   "metadata": {},
   "source": [
    "# Problem 3\n",
    "\n",
    "Numerically solve the Euler-Lagrange equation (18.4), using c(x) = −\n",
    "7\n",
    "10 (x\n",
    "2 − 1)\n",
    "and α = (1 − c\n",
    "2\n",
    ")\n",
    "−1/2\n",
    ", and y(−1) = 0, y(1) = 5.\n",
    "Hint: Since this boundary value problem is defined over the doimain [−1, 1], it is easy to\n",
    "solve using the pseudospectral method. Begin by replacing each d\n",
    "dx with the pseudospectral\n",
    "differentiation matrix D. Then impose the boundary conditions and solve."
   ]
  },
  {
   "cell_type": "code",
   "execution_count": 79,
   "metadata": {},
   "outputs": [
    {
     "data": {
      "image/png": "[encoded data removed]",
      "text/plain": [
       "<Figure size 432x288 with 1 Axes>"
      ]
     },
     "metadata": {
      "needs_background": "light"
     },
     "output_type": "display_data"
    }
   ],
   "source": [
    "#got the equations from the lab spec\n",
    "c = lambda x: (-7/10)*((x**2) -1)\n",
    "a = lambda x: (1-c(x)**2)**(-1/2)\n",
    "y = lambda x: (5/2)*(x+1)\n",
    "\n",
    "def cheb(N):\n",
    "    x =  np.cos((np.pi/N)*np.linspace(0,N,N+1))\n",
    "    x.shape = (N+1,1)\n",
    "    lin = np.linspace(0,N,N+1)\n",
    "    lin.shape = (N+1,1)\n",
    "    c = np.ones((N+1,1))\n",
    "    c[0], c[-1] = 2., 2.\n",
    "    c = c*(-1.)**lin\n",
    "    X = x*np.ones(N+1) # broadcast along 2nd dimension (columns)\n",
    "    dX = X - X.T\n",
    "    D = (c*(1./c).T)/(dX + np.eye(N+1))\n",
    "    D  = D - np.diag(np.sum(D.T,axis=0))\n",
    "    x.shape = (N+1,)\n",
    "    # Here we return the differentiation matrix and the Chebyshev points,\n",
    "    # numbered from x_0 = 1 to x_N = -1\n",
    "    return D, x\n",
    "\n",
    "def F(U):\n",
    "    #modify f\n",
    "    f = D@((a(x)**3)*(D@U)*\n",
    "           ((1+(a(x)**2)*((D@U)**2))**(-1/2))\n",
    "           -((a(x)**2)*(c(x))))\n",
    "    f[0] = U[0]-5\n",
    "    f[-1] = U[-1]\n",
    "\n",
    "    return f\n",
    "\n",
    "#getting barycentric values\n",
    "D, x = cheb(50) \n",
    "x_vals = np.linspace(-1,1,100)\n",
    "guess = y(x)\n",
    "solution = optimize.root(F, guess).x\n",
    "barycentric = barycentric_interpolate(x, solution, x_vals)\n",
    "\n",
    "#plotting\n",
    "plt.plot(x_vals, barycentric,label = \"Numerical solution\")\n",
    "plt.plot(x, guess,label = 'initial buess')\n",
    "plt.xlabel('x')\n",
    "plt.ylabel('y')\n",
    "plt.legend()\n",
    "plt.show()"
   ]
  },
  {
   "cell_type": "markdown",
   "metadata": {},
   "source": [
    "# Problem 4\n",
    "\n",
    "Plot the angle at which the boat should be pointed at each $x$-coordinate. (Hint: use Equation 1.1; see Figure 1.3. Note that the angle the boat should be steered is NOT described by the tangent vector to the trjaectory)"
   ]
  },
  {
   "cell_type": "code",
   "execution_count": 80,
   "metadata": {},
   "outputs": [
    {
     "data": {
      "image/png": "[encoded data removed]",
      "text/plain": [
       "<Figure size 432x288 with 1 Axes>"
      ]
     },
     "metadata": {
      "needs_background": "light"
     },
     "output_type": "display_data"
    }
   ],
   "source": [
    "#got the equations from the lab spec\n",
    "c = lambda x: (-7/10)*((x**2) -1)\n",
    "a = lambda x: (1-c(x)**2)**(-1/2)\n",
    "y = lambda x: (5/2)*(x+1)\n",
    "\n",
    "#got this from spectral1 did not modify it\n",
    "def cheb(N):\n",
    "    x =  np.cos((np.pi/N)*np.linspace(0,N,N+1))\n",
    "    x.shape = (N+1,1)\n",
    "    lin = np.linspace(0,N,N+1)\n",
    "    lin.shape = (N+1,1)\n",
    "    c = np.ones((N+1,1))\n",
    "    c[0], c[-1] = 2., 2.\n",
    "    c = c*(-1.)**lin\n",
    "    X = x*np.ones(N+1) # broadcast along 2nd dimension (columns)\n",
    "    dX = X - X.T\n",
    "    D = (c*(1./c).T)/(dX + np.eye(N+1))\n",
    "    D  = D - np.diag(np.sum(D.T,axis=0))\n",
    "    x.shape = (N+1,)\n",
    "    # Here we return the differentiation matrix and the Chebyshev points,\n",
    "    # numbered from x_0 = 1 to x_N = -1\n",
    "    return D, x\n",
    "#got this from spectral1 and modified it\n",
    "def F(U):\n",
    "    #modify f\n",
    "    f = D@solution -np.tan(U) -c(x)/np.cos(U)\n",
    "\n",
    "    return f\n",
    "\n",
    "#getting barycentric values\n",
    "x_vals = np.linspace(-1,1,100)\n",
    "guess = np.zeros(len(x))\n",
    "solution = optimize.root(F, guess).x\n",
    "barycentric = barycentric_interpolate(x, solution, x_vals)\n",
    "\n",
    "#plotting\n",
    "plt.plot(x_vals, barycentric,label = \"Numerical solution\")\n",
    "plt.xlabel(r'$\\theta$')\n",
    "plt.ylabel(r'x')\n",
    "plt.ylim(0,np.pi/2)\n",
    "plt.legend()\n",
    "plt.show()"
   ]
  },
  {
   "cell_type": "code",
   "execution_count": null,
   "metadata": {},
   "outputs": [],
   "source": []
  }
 ],
 "metadata": {
  "kernelspec": {
   "display_name": "Python 3 (ipykernel)",
   "language": "python",
   "name": "python3"
  },
  "language_info": {
   "codemirror_mode": {
    "name": "ipython",
    "version": 3
   },
   "file_extension": ".py",
   "mimetype": "text/x-python",
   "name": "python",
   "nbconvert_exporter": "python",
   "pygments_lexer": "ipython3",
   "version": "3.9.7"
  }
 },
 "nbformat": 4,
 "nbformat_minor": 4
}
