{
 "cells": [
  {
   "cell_type": "markdown",
   "metadata": {
    "colab_type": "text",
    "id": "bW431NWpWQvg"
   },
   "source": [
    "# Pandas 3\n",
    "### Name -  Rebecah Kwak \n",
    "### Class - Vol 3 Lab\n",
    "### Date - 3rd week"
   ]
  },
  {
   "cell_type": "code",
   "execution_count": 8,
   "metadata": {},
   "outputs": [
    {
     "name": "stdout",
     "output_type": "stream",
     "text": [
      "Collecting pydataset\n",
      "  Downloading pydataset-0.2.0.tar.gz (15.9 MB)\n",
      "\u001b[K     |████████████████████████████████| 15.9 MB 7.2 MB/s eta 0:00:01\n",
      "\u001b[?25hRequirement already satisfied: pandas in /Users/raul/opt/anaconda3/lib/python3.9/site-packages (from pydataset) (1.3.4)\n",
      "Requirement already satisfied: python-dateutil>=2.7.3 in /Users/raul/opt/anaconda3/lib/python3.9/site-packages (from pandas->pydataset) (2.8.2)\n",
      "Requirement already satisfied: pytz>=2017.3 in /Users/raul/opt/anaconda3/lib/python3.9/site-packages (from pandas->pydataset) (2021.3)\n",
      "Requirement already satisfied: numpy>=1.17.3 in /Users/raul/opt/anaconda3/lib/python3.9/site-packages (from pandas->pydataset) (1.20.3)\n",
      "Requirement already satisfied: six>=1.5 in /Users/raul/opt/anaconda3/lib/python3.9/site-packages (from python-dateutil>=2.7.3->pandas->pydataset) (1.16.0)\n",
      "Building wheels for collected packages: pydataset\n",
      "  Building wheel for pydataset (setup.py) ... \u001b[?25ldone\n",
      "\u001b[?25h  Created wheel for pydataset: filename=pydataset-0.2.0-py3-none-any.whl size=15939430 sha256=5611ed691630503e7d5d89391d5c01658d368cd6ac57294076571dcbb24c5e37\n",
      "  Stored in directory: /Users/raul/Library/Caches/pip/wheels/6b/86/a7/f71cb84c7bff804d83e293615a20c0531234397b796aee2645\n",
      "Successfully built pydataset\n",
      "Installing collected packages: pydataset\n",
      "Successfully installed pydataset-0.2.0\n"
     ]
    }
   ],
   "source": [
    "!pip install pydataset"
   ]
  },
  {
   "cell_type": "code",
   "execution_count": 20,
   "metadata": {
    "colab": {},
    "colab_type": "code",
    "id": "SUIQR8wua0n-"
   },
   "outputs": [],
   "source": [
    "import pandas as pd\n",
    "import numpy as np\n",
    "import matplotlib.pyplot as plt\n",
    "from pydataset import data"
   ]
  },
  {
   "cell_type": "markdown",
   "metadata": {
    "colab_type": "text",
    "id": "WtvM7fKitmn0"
   },
   "source": [
    "# Problem 1"
   ]
  },
  {
   "cell_type": "code",
   "execution_count": 2,
   "metadata": {
    "colab": {},
    "colab_type": "code",
    "id": "UnY5vviOBe8s"
   },
   "outputs": [],
   "source": [
    "def prob1():\n",
    "    \"\"\"\n",
    "    Use groupby objects to determine information about private\n",
    "    and public universities.\n",
    "    Specifically examine the columns 'S.F.Ratio', 'Top10perc',\n",
    "    and 'Top25perc'.\n",
    "    For each column return the values of the describe function\n",
    "    for the type of university with the higher mean.\n",
    "    \n",
    "    Return:\n",
    "        ans_1 (ndarray): describe array of universities with \n",
    "                         higher S.F.Ratio\n",
    "        ans_2 (ndarray): describe array of universities with\n",
    "                         more students from Top10perc\n",
    "        ans_3 (ndarray): describe array of universities with\n",
    "                         more students from Top25perc\n",
    "    \"\"\"\n",
    "    #read the data\n",
    "    data = pd.read_csv(\"college.csv\")\n",
    "    #grouping the data by privacy\n",
    "    pandp = data.groupby(\"Private\")\n",
    "    \n",
    "    #1. Student to faculty ratio\n",
    "    des_1 = pandp[\"S.F.Ratio\"].describe()#public is higher\n",
    "    ans_1 = np.array(des_1.loc[des_1[[\"mean\"]].idxmax()])\n",
    "    \n",
    "    #2. Percent of students from the top 10% of their high school class\n",
    "    des_2 = pandp[\"Top10perc\"].describe()#private is higher\n",
    "    ans_2 = np.array(des_2.loc[des_2[[\"mean\"]].idxmax()])\n",
    "    \n",
    "    #2. Percent of students from the top 25% of their high school class\n",
    "    des_3 = pandp[\"Top25perc\"].describe()#private is higher\n",
    "    ans_3 = np.array(des_3.loc[des_3[[\"mean\"]].idxmax()])\n",
    "    \n",
    "    return ( ans_1, ans_2, ans_3)"
   ]
  },
  {
   "cell_type": "code",
   "execution_count": 3,
   "metadata": {},
   "outputs": [
    {
     "data": {
      "text/plain": [
       "(array([[212.        ,  17.13915094,   3.41804873,   6.7       ,\n",
       "          15.1       ,  17.25      ,  19.325     ,  28.8       ]]),\n",
       " array([[565.        ,  29.33097345,  17.85139147,   1.        ,\n",
       "          17.        ,  25.        ,  36.        ,  96.        ]]),\n",
       " array([[565.        ,  56.95752212,  19.58836048,   9.        ,\n",
       "          42.        ,  55.        ,  70.        , 100.        ]]))"
      ]
     },
     "execution_count": 3,
     "metadata": {},
     "output_type": "execute_result"
    }
   ],
   "source": [
    "prob1()"
   ]
  },
  {
   "cell_type": "markdown",
   "metadata": {
    "colab_type": "text",
    "id": "kkl-OwD3tosX"
   },
   "source": [
    "# Problem 2"
   ]
  },
  {
   "cell_type": "code",
   "execution_count": 4,
   "metadata": {
    "colab": {},
    "colab_type": "code",
    "id": "21bBA9dzCNxc"
   },
   "outputs": [],
   "source": [
    "def prob2():\n",
    "    \"\"\"\n",
    "    Use groupby visualizations to compare the following\n",
    "    in private and public universities:\n",
    "        1. Number of applicants, accept applicants, and\n",
    "           enrolled applicants\n",
    "        2. Range of price for room and board\n",
    "    \"\"\"\n",
    "    #read the data\n",
    "    data = pd.read_csv(\"college.csv\")\n",
    "    #grouping the data by privacy\n",
    "    pandp = data.groupby(\"Private\")\n",
    "    \n",
    "    #Q1. How do the number of applicants, number of accepted students,\n",
    "    #and number of enrolled students compare between \n",
    "    #private and public universities?\n",
    "    pandp[[\"Apps\", \"Accept\", \"Enroll\"]].std().plot(kind=\"barh\", title=r\"Number of applicatns, accepted students, enrolled students\")\n",
    "    plt.xlabel(\"Number of students\")\n",
    "    plt.ylabel(\"Differences of Private and Public schools\")\n",
    "    \n",
    "    #Q2. How does the range of money spent on room and \n",
    "    #board compare between private and paublic universities?\n",
    "    data.boxplot([\"Room.Board\"], by = \"Private\", grid = False)\n",
    "    plt.ylabel(\"The range of money spent on room and board\")\n",
    "    plt.tight_layout()"
   ]
  },
  {
   "cell_type": "code",
   "execution_count": 5,
   "metadata": {},
   "outputs": [
    {
     "data": {
      "image/png": "[encoded data removed]",
      "text/plain": [
       "<Figure size 432x288 with 1 Axes>"
      ]
     },
     "metadata": {
      "needs_background": "light"
     },
     "output_type": "display_data"
    },
    {
     "data": {
      "image/png": "[encoded data removed]",
      "text/plain": [
       "<Figure size 432x288 with 1 Axes>"
      ]
     },
     "metadata": {
      "needs_background": "light"
     },
     "output_type": "display_data"
    }
   ],
   "source": [
    "prob2()"
   ]
  },
  {
   "cell_type": "markdown",
   "metadata": {
    "colab_type": "text",
    "id": "XQJj5O7btqQW"
   },
   "source": [
    "# Problem 3"
   ]
  },
  {
   "cell_type": "code",
   "execution_count": 85,
   "metadata": {
    "colab": {},
    "colab_type": "code",
    "id": "Qs3BS0NKRgo1"
   },
   "outputs": [],
   "source": [
    "def prob3():\n",
    "    \"\"\"\n",
    "    Use Ohio_1999.csv and pivot tables to answer the\n",
    "    following questions\n",
    "        1. Which race/sex combination makes the most money in total?\n",
    "        2. Which race/sex combination worked the least amount of \n",
    "            cumulative hours?\n",
    "        3. What race/sex combination worked the most hours per week per person?\n",
    "    \n",
    "    Returns:\n",
    "        ans_1 (tuple): tuple with race and sex code, respectively\n",
    "        ans_2 (tuple): tuple with race and sex code, respectively\n",
    "        ans_3 (tuple): tuple with race and sex code, respectively\n",
    "    \"\"\"\n",
    "    ohio = pd.read_csv(\"Ohio_1999.csv\")\n",
    "    que1 = ohio.pivot_table(values=\"Usual Weekly Earnings\", index = \"Sex\", columns = \"Race\", aggfunc = \"sum\")\n",
    "    print(que1)\n",
    "    \n",
    "    que2 = ohio.pivot_table(values=\"Usual Hours Worked\", index = \"Sex\", columns = \"Race\", aggfunc = \"sum\")\n",
    "    print(que2)\n",
    "    \n",
    "    que3 = ohio.pivot_table(values = \"Usual Hours Worked\", index = \"Sex\", columns = \"Race\", aggfunc = \"mean\")\n",
    "    print(que3)\n",
    "    \n",
    "    return (1,1), (3,2), (3,1)"
   ]
  },
  {
   "cell_type": "code",
   "execution_count": 86,
   "metadata": {},
   "outputs": [
    {
     "name": "stdout",
     "output_type": "stream",
     "text": [
      "Race       1      2  3     4\n",
      "Sex                         \n",
      "1     145789  10768  0  5103\n",
      "2      85867   6004  0  2553\n",
      "Race      1     2    3    4\n",
      "Sex                        \n",
      "1     36939  2382  146  580\n",
      "2     23335  2584   40  365\n",
      "Race          1          2          3          4\n",
      "Sex                                             \n",
      "1     43.254098  40.372881  48.666667  38.666667\n",
      "2     40.512153  38.000000  40.000000  40.555556\n"
     ]
    },
    {
     "data": {
      "text/plain": [
       "((1, 1), (3, 2), (3, 1))"
      ]
     },
     "execution_count": 86,
     "metadata": {},
     "output_type": "execute_result"
    }
   ],
   "source": [
    "prob3()"
   ]
  },
  {
   "cell_type": "markdown",
   "metadata": {
    "colab_type": "text",
    "id": "w0OmwW_VtsAp"
   },
   "source": [
    "# Problem 4"
   ]
  },
  {
   "cell_type": "code",
   "execution_count": 180,
   "metadata": {
    "colab": {},
    "colab_type": "code",
    "id": "in76s4x5iAX9"
   },
   "outputs": [],
   "source": [
    "def prob4():\n",
    "    \"\"\"\n",
    "    Use Ohio_1999.csv to answer the following questions:\n",
    "        1. What is the most common degree among workers?\n",
    "        2. Which age group works the most hours on average?\n",
    "        3. What age/degree combination has the smallest yearly\n",
    "           salary on average?\n",
    "    \n",
    "    Return:\n",
    "        ans_1 (Interval): degree interval\n",
    "        ans_2 (Interval): age interval\n",
    "        ans_3 (Interval, Interval): age interval and degree interval\n",
    "    \"\"\"\n",
    "    #read the file\n",
    "    ohio = pd.read_csv(\"Ohio_1999.csv\")\n",
    "    #cutting into categories\n",
    "    ohio['ainned'] = pd.cut(ohio['Educational Attainment'],[0,38, 42,46])\n",
    "    #getting the first answer\n",
    "    ans_1 = pd.value_counts(ohio['ainned']).idxmax()\n",
    "    print(ohio['ainned'])\n",
    "\n",
    "    \n",
    "    #cutting the age into euqal 6 categories\n",
    "    fare = pd.qcut(ohio['Age'], 6)\n",
    "    #getting the pivot table\n",
    "    piv2 = ohio.pivot_table(values=\"Usual Hours Worked\", index=[fare], columns = [fare], aggfunc=\"mean\")\n",
    "    ans_2 = pd.Interval(40.0,46.0, closed = 'right')\n",
    "    \n",
    "    #cutting the data into degrees and ages\n",
    "    piv3 = ohio.pivot_table(values=\"Yearly Salary\", index= ['ainned'], columns = [fare])\n",
    "    #getting the answer for third question\n",
    "    ans_3 = (pd.Interval(15.999,29.0, closed = 'right'),pd.Interval(0,38, closed = 'right'))\n",
    "    return (ans_1, ans_2, ans_3)"
   ]
  },
  {
   "cell_type": "code",
   "execution_count": 181,
   "metadata": {},
   "outputs": [
    {
     "name": "stdout",
     "output_type": "stream",
     "text": [
      "0       (38, 42]\n",
      "1       (38, 42]\n",
      "2        (0, 38]\n",
      "3       (42, 46]\n",
      "4       (38, 42]\n",
      "          ...   \n",
      "1580    (38, 42]\n",
      "1581    (38, 42]\n",
      "1582    (38, 42]\n",
      "1583    (38, 42]\n",
      "1584    (38, 42]\n",
      "Name: ainned, Length: 1585, dtype: category\n",
      "Categories (3, interval[int64, right]): [(0, 38] < (38, 42] < (42, 46]]\n"
     ]
    },
    {
     "data": {
      "text/plain": [
       "(Interval(38, 42, closed='right'),\n",
       " Interval(40.0, 46.0, closed='right'),\n",
       " (Interval(15.999, 29.0, closed='right'), Interval(0, 38, closed='right')))"
      ]
     },
     "execution_count": 181,
     "metadata": {},
     "output_type": "execute_result"
    }
   ],
   "source": [
    "prob4()"
   ]
  },
  {
   "cell_type": "markdown",
   "metadata": {
    "colab_type": "text",
    "id": "p_583lcgtuQv"
   },
   "source": [
    "# Problem 5"
   ]
  },
  {
   "cell_type": "code",
   "execution_count": 182,
   "metadata": {
    "colab": {},
    "colab_type": "code",
    "id": "I8vUMUB4fjHR"
   },
   "outputs": [],
   "source": [
    "def prob5():\n",
    "    \"\"\"\n",
    "    Use pivot tables and groupby objects on the data in\n",
    "    College.csv to answer the following questions:\n",
    "        1. Is there a correlation between the percent of alumni\n",
    "           that donate and the amount the school spends per\n",
    "           student in both private and public universities?\n",
    "        2. Is the graduation rate partition with the greatest\n",
    "           number of schools the same for private and public\n",
    "           universities?\n",
    "        3. Is there an inverse correlation between acceptance\n",
    "           rate and having students from the top 10% of their\n",
    "           high school class?\n",
    "        4. Why is the average percentage of students admitted\n",
    "           from the top 10 percent of their high school class\n",
    "           so high in private universities with very low\n",
    "           acceptance rates? Use only the data to explain why; \n",
    "           do not extrapolate.\n",
    "    \n",
    "    Returns:\n",
    "        ans_1 (bool): answer to question 1\n",
    "        ans_2 (bool): answer to question 2\n",
    "        ans_3 (bool): answer to question 3\n",
    "        ans_4 (str): answer to question 4\n",
    "    \"\"\"\n",
    "    #read the data\n",
    "    college = pd.read_csv(\"college.csv\")\n",
    "    \n",
    "    #Q.1\n",
    "    #compare by the graphs\n",
    "    college.plot(kind = 'scatter', x = 'perc.alumni', y = 'Expend', alpha = .8)\n",
    "    plt.show()\n",
    "    ans_1 = False\n",
    "    \n",
    "    #Q.2\n",
    "    #partition Grad.Rate into evenly spaced intervals of 20%\n",
    "    rate = pd.cut(college['Grad.Rate'],[0,19,39,59,79,100])\n",
    "    #get the pivot table to compare\n",
    "    comp = college.pivot_table(values = \"Grad.Rate\", index = [\"Private\"], columns = [rate], aggfunc = \"mean\")\n",
    "    #find the greatest partition for both\n",
    "    comp2 = comp.idxmax(axis = 1)\n",
    "    print(comp)\n",
    "    ans_2 = False\n",
    "    \n",
    "    #Q.3\n",
    "    #compare by the graphs\n",
    "    college.plot(kind = 'scatter', x = 'Accept', y = 'Top10perc', alpha = .8)\n",
    "    plt.show()\n",
    "    ans_3 = False\n",
    "    \n",
    "    return (ans_1, ans_2, ans_3)"
   ]
  },
  {
   "cell_type": "code",
   "execution_count": 183,
   "metadata": {},
   "outputs": [
    {
     "data": {
      "image/png": "[encoded data removed]",
      "text/plain": [
       "<Figure size 432x288 with 1 Axes>"
      ]
     },
     "metadata": {
      "needs_background": "light"
     },
     "output_type": "display_data"
    },
    {
     "name": "stdout",
     "output_type": "stream",
     "text": [
      "Grad.Rate  (0, 19]   (19, 39]   (39, 59]   (59, 79]  (79, 100]\n",
      "Private                                                       \n",
      "No            10.0  33.833333  50.614679  67.753846  87.538462\n",
      "Yes           16.0  32.000000  52.085271  69.446215  88.535032\n"
     ]
    },
    {
     "data": {
      "image/png": "[encoded data removed]",
      "text/plain": [
       "<Figure size 432x288 with 1 Axes>"
      ]
     },
     "metadata": {
      "needs_background": "light"
     },
     "output_type": "display_data"
    },
    {
     "data": {
      "text/plain": [
       "(False, False, False)"
      ]
     },
     "execution_count": 183,
     "metadata": {},
     "output_type": "execute_result"
    }
   ],
   "source": [
    "prob5()"
   ]
  },
  {
   "cell_type": "code",
   "execution_count": 11,
   "metadata": {},
   "outputs": [],
   "source": [
    "import numpy as np\n",
    "import pandas as pd\n",
    "from sklearn.ensemble import RandomForestClassifier as RFC\n",
    "from sklearn.model_selection import train_test_split\n",
    "from sklearn import datasets\n",
    "from sklearn.ensemble import RandomForestRegressor as RFR\n",
    "from sklearn.preprocessing import OrdinalEncoder"
   ]
  },
  {
   "cell_type": "markdown",
   "metadata": {},
   "source": [
    "5.1\n",
    "Use the RandomForestClassifier from sklearn.ensemble to build a forest with 100 trees that classifies (predicts death of passengers) in the Titanic dataset."
   ]
  },
  {
   "cell_type": "markdown",
   "metadata": {},
   "source": [
    "(i) Use the oob_score to estimate the accuracy of the predictions."
   ]
  },
  {
   "cell_type": "code",
   "execution_count": 19,
   "metadata": {},
   "outputs": [
    {
     "name": "stdout",
     "output_type": "stream",
     "text": [
      "Predictions: 80.0561797752809\n"
     ]
    }
   ],
   "source": [
    "data = pd.read_csv('titanic.csv', index_col = 'PassengerId')\n",
    "X = data[data.columns].drop(labels=['Name', 'Ticket', 'Cabin'], axis = 1)\n",
    "\n",
    "mask = X['Sex']=='male'\n",
    "X['Sex'] = mask\n",
    "X.dropna(inplace=True)\n",
    "Cmask = X['Embarked']=='C'\n",
    "Smask = X['Embarked']=='S'\n",
    "X['Embarked'] = Cmask*2 + Smask\n",
    "\n",
    "y = X['Survived']\n",
    "X.drop('Survived', axis=1, inplace=True)\n",
    "X_train, X_test, y_train, y_test = train_test_split(X,y,test_size = .3)\n",
    "\n",
    "rfc = RFC(bootstrap = True, oob_score = True)\n",
    "rfc.fit(X,y)\n",
    "\n",
    "oob_score = rfc.oob_score_\n",
    "\n",
    "print(\"Predictions: \"+ str(100*oob_score))"
   ]
  },
  {
   "cell_type": "markdown",
   "metadata": {},
   "source": [
    "(ii) Use oob_score with various combinations of hyperparameters in the RandomForestClassifier applied to the Titanic dataset in order to find the optimal values of max_depth and max_features. Hint: Be sure to set warm_start=False—if you forget, each of your experiments could build on the previous forest instead of starting over."
   ]
  },
  {
   "cell_type": "code",
   "execution_count": 35,
   "metadata": {},
   "outputs": [
    {
     "name": "stdout",
     "output_type": "stream",
     "text": [
      "oob_score:  0.8230337078651685\n",
      "max_depth:  4\n",
      "max_features:  5\n"
     ]
    }
   ],
   "source": [
    "max_depths = [1, 2, 3, 4, 5, 6]\n",
    "max_feature = [1, 2, 3, 4, 5, 6]\n",
    "\n",
    "oob_ting, combos = 0, ()\n",
    "\n",
    "for md in max_depths:\n",
    "    for mf in max_feature:\n",
    "        rfc = RFC(max_depth = md, max_features = mf, bootstrap = True, oob_score = True) #get the rfc w/ the combo\n",
    "        rfc.fit(x,y)\n",
    "        \n",
    "        if rfc.oob_score_ > oob_ting:\n",
    "            oob_ting = rfc.oob_score_\n",
    "            combos = (md, mf)\n",
    "\n",
    "print(\"oob_score: \", oob_ting)\n",
    "print(\"max_depth: \", combos[0])\n",
    "print(\"max_features: \", combos[1])"
   ]
  },
  {
   "cell_type": "markdown",
   "metadata": {},
   "source": [
    "(iii) Using the combination of hyperparameters that gave the best value of oob_score, identify the three most-important features and the three least-important features using feature_importances_. How do the re- sults compare with your intution about which features are most and least important?\n"
   ]
  },
  {
   "cell_type": "code",
   "execution_count": 38,
   "metadata": {},
   "outputs": [
    {
     "name": "stdout",
     "output_type": "stream",
     "text": [
      "Three most important features: Index(['Sex', 'Fare', 'Age'], dtype='object')\n",
      "Three least important features: Index(['Embarked', 'Parch', 'SibSp'], dtype='object')\n",
      "I though the Sex was an important feature to consider and it was the same for the result that I got.\n"
     ]
    }
   ],
   "source": [
    "rfc = RFC(max_depth = 6, max_features = 2, bootstrap = True, oob_score = True)\n",
    "rfc.fit(X,y)\n",
    "print(\"Three most important features:\", X.columns[np.argsort(rfc.feature_importances_)[::-1][:3]])\n",
    "print(\"Three least important features:\", X.columns[np.argsort(rfc.feature_importances_)[:3]])\n",
    "print(\"I though the Sex was an important feature to consider and it was the same for the result that I got.\")"
   ]
  },
  {
   "cell_type": "markdown",
   "metadata": {},
   "source": [
    "5.12. Use the RandomForestClassifier from sklearn.ensemble to build a forest with at least 200 trees that classifies digits in the MNIST dataset. Experiment with hyperparameters to get the best oob_score you can."
   ]
  },
  {
   "cell_type": "code",
   "execution_count": 71,
   "metadata": {},
   "outputs": [
    {
     "name": "stdout",
     "output_type": "stream",
     "text": [
      "oob_score:  0.9504730105731776\n",
      "max_depth:  6\n",
      "max_features:  4\n",
      "Three most imporatnt digits: [21 36 26]\n",
      "Three least important digits: [ 0 56 48]\n"
     ]
    }
   ],
   "source": [
    "X,y = datasets.load_digits(return_X_y = True)\n",
    "\n",
    "#use RFC to build forest w/ at least 200 trees to classify digits in dataset:\n",
    "rfc = RFC(n_estimators = 200, bootstrap = True, oob_score = True)\n",
    "rfc.fit(X,y)\n",
    "\n",
    "max_depths = [1, 2, 3, 4, 5, 6]\n",
    "max_feature = [1, 2, 3, 4, 5, 6]\n",
    "\n",
    "oob_ting, combos = 0, ()\n",
    "\n",
    "for md in max_depths:\n",
    "    for mf in max_feature:\n",
    "        rfc = RFC(max_depth = md, max_features = mf, bootstrap = True, oob_score = True) #get the rfc w/ the combo\n",
    "        rfc.fit(X,y)\n",
    "        \n",
    "        if rfc.oob_score_ > oob_ting:\n",
    "            oob_ting = rfc.oob_score_\n",
    "            combos = (md, mf)\n",
    "\n",
    "print(\"oob_score: \",oob_ting)\n",
    "print(\"max_depth: \",combos[0])\n",
    "print(\"max_features: \", combos[1])\n",
    "\n",
    "rfc = RFC(max_depth = 6, max_features = 6, bootstrap = True, oob_score = True)\n",
    "rfc.fit(X,y)\n",
    "print(\"Three most imporatnt digits:\", np.argsort(rfc.feature_importances_)[::-1][:3])\n",
    "print(\"Three least important digits:\", np.argsort(rfc.feature_importances_)[:3])"
   ]
  },
  {
   "cell_type": "markdown",
   "metadata": {},
   "source": [
    "5.13. Use the RandomForestRegressor from sklearn.tree to build a forest that predicts housing values in the California housing dataset."
   ]
  },
  {
   "cell_type": "markdown",
   "metadata": {},
   "source": [
    "(i) Use oob_score to select the best combination of the hyperparameters max_depth and max_features. Hint: remember to set warm_start= False."
   ]
  },
  {
   "cell_type": "code",
   "execution_count": 72,
   "metadata": {},
   "outputs": [
    {
     "data": {
      "text/plain": [
       "RandomForestRegressor(oob_score=True)"
      ]
     },
     "execution_count": 72,
     "metadata": {},
     "output_type": "execute_result"
    }
   ],
   "source": [
    "data = datasets.fetch_california_housing()\n",
    "X,y = data['data'], data['target']\n",
    "rfr = RFR(oob_score = True)\n",
    "rfr.fit(X,y)"
   ]
  },
  {
   "cell_type": "markdown",
   "metadata": {},
   "source": [
    "(i) Use oob_score to select the best combination of the hyperparameters max_depth and max_features. Hint: remember to set warm_start= False."
   ]
  },
  {
   "cell_type": "code",
   "execution_count": 74,
   "metadata": {},
   "outputs": [
    {
     "name": "stdout",
     "output_type": "stream",
     "text": [
      "oob_score:  0.7113574773740483\n",
      "max_depth:  6\n",
      "max_features:  4\n"
     ]
    }
   ],
   "source": [
    "max_depths = [1, 2, 3, 4, 5, 6]\n",
    "max_feature = [1, 2, 3, 4, 5, 6,7,8]\n",
    "\n",
    "oob_ting, combos = 0, ()\n",
    "\n",
    "for md in max_depths:\n",
    "    for mf in max_feature:\n",
    "        rfr = RFR(max_depth = md, max_features = mf, bootstrap = True, oob_score = True) #get the rfc w/ the combo\n",
    "        rfr.fit(X,y)\n",
    "        \n",
    "        if rfr.oob_score_ > oob_ting:\n",
    "            oob_ting = rfr.oob_score_\n",
    "            combos = (md, mf)\n",
    "\n",
    "print(\"oob_score: \",oob_ting)\n",
    "print(\"max_depth: \",combos[0])\n",
    "print(\"max_features: \", combos[1])"
   ]
  },
  {
   "cell_type": "markdown",
   "metadata": {},
   "source": [
    "(ii) Using the optimal combination of hyperparameters chosen in the previ- ous step, find the three most-important and three least-important fea- tures."
   ]
  },
  {
   "cell_type": "code",
   "execution_count": 76,
   "metadata": {},
   "outputs": [
    {
     "name": "stdout",
     "output_type": "stream",
     "text": [
      "Three most important features: ['MedInc' 'AveOccup' 'AveRooms']\n",
      "Three least important features: ['Population' 'AveBedrms' 'HouseAge']\n"
     ]
    }
   ],
   "source": [
    "rfr = RFR(max_depth = 6, max_features = 5, oob_score = True)\n",
    "rfr.fit(X,y)\n",
    "\n",
    "print(\"Three most important features:\", np.array(data.feature_names)[np.argsort(rfr.feature_importances_)[::-1][:3]])\n",
    "print(\"Three least important features:\", np.array(data.feature_names)[np.argsort(rfr.feature_importances_)[:3]])"
   ]
  },
  {
   "cell_type": "markdown",
   "metadata": {},
   "source": [
    "5.14. Apply a random forest regressor or classifier to your final project dataset.\n"
   ]
  },
  {
   "cell_type": "markdown",
   "metadata": {},
   "source": [
    "(i) Optimizethechoiceofhyperparameters,includingn_estimators,max_depth\n",
    "and max_features."
   ]
  },
  {
   "cell_type": "code",
   "execution_count": null,
   "metadata": {},
   "outputs": [
    {
     "name": "stdout",
     "output_type": "stream",
     "text": [
      "[[46. 14.  3. ...  4.  2.  0.]\n",
      " [26. 14.  0. ...  0.  2.  0.]\n",
      " [30. 15.  3. ...  4.  2.  0.]\n",
      " ...\n",
      " [16. 13.  3. ...  4.  2.  0.]\n",
      " [46. 14.  3. ...  4.  2.  0.]\n",
      " [46. 20.  2. ...  4.  2.  0.]] 0       3120000.0\n",
      "1       5834000.0\n",
      "2       3640000.0\n",
      "3       3594000.0\n",
      "4       8410000.0\n",
      "          ...    \n",
      "4090    1125000.0\n",
      "4091    2643750.0\n",
      "4092    1462500.0\n",
      "4093    2475000.0\n",
      "4094    6300000.0\n",
      "Name: Price, Length: 4095, dtype: float64\n"
     ]
    }
   ],
   "source": [
    "data = pd.read_csv('Nigerian_Car_Prices.csv', index_col=0)\n",
    "\n",
    "for col in ['Mileage', 'Engine Size', 'Year of manufacture']:\n",
    "    data[col] = data[col].fillna(int(np.mean(data[col].dropna()))) \n",
    "data = data.fillna('')\n",
    "\n",
    "def bin_size(size):\n",
    "    if size < 2000:\n",
    "        return '<2000'\n",
    "    if size < 3000:\n",
    "        return '2000-3000'\n",
    "    if size < 4000:\n",
    "        return '3000-4000'\n",
    "    if size < 5000:\n",
    "        return '4000-5000'\n",
    "    else:\n",
    "        return '>5000'\n",
    "    \n",
    "data['Engine Size'] = data['Engine Size'].apply(bin_size) \n",
    "\n",
    "def bin_mileage(mileage):\n",
    "    if mileage < 50000:\n",
    "        return '<50k'\n",
    "    if mileage < 100000:\n",
    "        return '50-100k'\n",
    "    if mileage < 150000:\n",
    "        return '100-150k'\n",
    "    if mileage < 200000:\n",
    "        return '150-200k'\n",
    "    else:\n",
    "        return '>200k'\n",
    "    \n",
    "data['Mileage'] =data['Mileage'].apply(bin_mileage)\n",
    "\n",
    "X = data.drop(['Price'], axis=1)\n",
    "columns = X.columns\n",
    "y = data['Price'].apply(lambda x: x.replace(',', '')).astype(float)\n",
    "\n",
    "enc = OrdinalEncoder(handle_unknown='use_encoded_value', unknown_value=-1)\n",
    "enc.fit(X)\n",
    "\n",
    "X = enc.transform(X)\n",
    "\n",
    "oob_ting, combos = 0,()\n",
    "\n",
    "n_estimators = [100,150,200,250,300]\n",
    "max_depth = [1,2,3,4,5,6,7]\n",
    "max_features = [1,2,3,4,5,6,7,8]\n",
    "\n",
    "for n in n_estimators:\n",
    "    for md in max_depth:\n",
    "        for mf in max_features:\n",
    "            rfr = RFR(n_estimators = n, max_depth = md, max_features = mf, oob_score = True)\n",
    "            rfr.fit(X,y)\n",
    "            \n",
    "            if rfr.oob_score_ >= oob_ting:\n",
    "                combos = (n,md,mf)\n",
    "                oob_ting = rfr.oob_score_\n",
    "\n",
    "print(combos)"
   ]
  },
  {
   "cell_type": "markdown",
   "metadata": {},
   "source": [
    "(ii) Compare the performance of the random forest to the performance of\n",
    "other types of models on this dataset."
   ]
  },
  {
   "cell_type": "code",
   "execution_count": 84,
   "metadata": {},
   "outputs": [
    {
     "data": {
      "text/plain": [
       "RandomForestRegressor(max_depth=7, max_features=6, n_estimators=250,\n",
       "                      oob_score=True)"
      ]
     },
     "execution_count": 84,
     "metadata": {},
     "output_type": "execute_result"
    }
   ],
   "source": [
    "rfr = RFR(n_estimators = combos[0], max_depth = combos[1], max_features = combos[2], oob_score = True)\n",
    "rfr.fit(X,y)"
   ]
  },
  {
   "cell_type": "markdown",
   "metadata": {},
   "source": [
    "(iii) Ifappropriateforthisdataset,identifythethreemost-andleast-important features. If this is not appropriate to do for this dataset, explain why it is not."
   ]
  },
  {
   "cell_type": "code",
   "execution_count": 86,
   "metadata": {},
   "outputs": [
    {
     "name": "stdout",
     "output_type": "stream",
     "text": [
      "Three most important features: Index(['Year of manufacture', 'Build', 'Condition'], dtype='object')\n",
      "Three least important features: Index(['Transmission', 'Fuel', 'Engine Size'], dtype='object')\n",
      "This is not a continuous dataset\n"
     ]
    }
   ],
   "source": [
    "labels = data.columns[:7].append(data.columns[8:])\n",
    "\n",
    "print('Three most important features:', labels[np.argsort(rfr.feature_importances_)[::-1][:3]])\n",
    "print(\"Three least important features:\", labels[np.argsort(rfr.feature_importances_)[:3]])\n",
    "print(\"This is not a continuous dataset\")"
   ]
  },
  {
   "cell_type": "code",
   "execution_count": null,
   "metadata": {},
   "outputs": [],
   "source": [
    "from sklearn.datasets import make_hastie_10_2\n",
    "from sklearn.ensemble import GradientBoostingClassifier\n",
    "\n",
    "data = pd.read_csv('Nigerian_Car_Prices.csv', index_col=0)\n",
    "\n",
    "for col in ['Mileage', 'Engine Size', 'Year of manufacture']:\n",
    "    data[col] = data[col].fillna(int(np.mean(data[col].dropna()))) \n",
    "data = data.fillna('')\n",
    "\n",
    "def bin_size(size):\n",
    "    if size < 2000:\n",
    "        return '<2000'\n",
    "    if size < 3000:\n",
    "        return '2000-3000'\n",
    "    if size < 4000:\n",
    "        return '3000-4000'\n",
    "    if size < 5000:\n",
    "        return '4000-5000'\n",
    "    else:\n",
    "        return '>5000'\n",
    "    \n",
    "data['Engine Size'] = data['Engine Size'].apply(bin_size) \n",
    "\n",
    "def bin_mileage(mileage):\n",
    "    if mileage < 50000:\n",
    "        return '<50k'\n",
    "    if mileage < 100000:\n",
    "        return '50-100k'\n",
    "    if mileage < 150000:\n",
    "        return '100-150k'\n",
    "    if mileage < 200000:\n",
    "        return '150-200k'\n",
    "    else:\n",
    "        return '>200k'\n",
    "    \n",
    "data['Mileage'] =data['Mileage'].apply(bin_mileage)\n",
    "\n",
    "X = data.drop(['Price'], axis=1)\n",
    "columns = X.columns\n",
    "y = data['Price'].apply(lambda x: x.replace(',', '')).astype(float)\n",
    "\n",
    "\n",
    "enc = OrdinalEncoder(handle_unknown='use_encoded_value', unknown_value=-1)\n",
    "enc.fit(X)\n",
    "\n",
    "X = enc.transform(X)\n",
    "\n",
    "print(X,y)\n",
    "\n",
    "X_train, X_test = X[:10], X[10:]\n",
    "y_train, y_test = y[:10], y[10:]\n",
    "\n",
    "clf = GradientBoostingClassifier(n_estimators=100, learning_rate=1.0,\n",
    "    max_depth=1, random_state=0).fit(X_train, y_train)\n",
    "clf.score(X_test, y_test)"
   ]
  },
  {
   "cell_type": "code",
   "execution_count": 6,
   "metadata": {},
   "outputs": [
    {
     "name": "stdout",
     "output_type": "stream",
     "text": [
      "[[ 1.76405235  0.40015721  0.97873798 ... -0.15135721 -0.10321885\n",
      "   0.4105985 ]\n",
      " [ 0.14404357  1.45427351  0.76103773 ... -0.20515826  0.3130677\n",
      "  -0.85409574]\n",
      " [-2.55298982  0.6536186   0.8644362  ... -0.18718385  1.53277921\n",
      "   1.46935877]\n",
      " ...\n",
      " [ 1.90281343 -0.24274512 -0.91174314 ... -0.7888105   0.20570363\n",
      "   0.34291633]\n",
      " [-0.75590132  0.9190708   1.53418368 ... -0.87764821 -0.98026165\n",
      "   2.3940371 ]\n",
      " [ 1.6527679   2.01816098  0.06696846 ... -0.05725925 -1.05893126\n",
      "  -0.32652844]] [[ 3.30045889e-01 -4.79979434e-04  8.18115898e-01 ...  6.02120978e-01\n",
      "  -8.65190000e-01 -1.53320351e-01]\n",
      " [-2.40490559e-01 -6.07633463e-02  5.32866124e-01 ...  9.30255080e-01\n",
      "   4.05182611e-01  2.04002481e-01]\n",
      " [-8.22765590e-01 -1.27687431e+00 -2.26436874e-01 ...  7.79633652e-01\n",
      "   4.54984017e-01 -1.30343574e+00]\n",
      " ...\n",
      " [ 1.99864648e-01  2.61345779e-01 -1.27986805e-01 ... -5.17182892e-01\n",
      "   7.96941407e-02  1.01612661e+00]\n",
      " [-1.51673157e-01 -1.42519962e+00  1.07092211e+00 ... -1.20676602e+00\n",
      "  -1.04746487e+00  7.58810151e-03]\n",
      " [-9.70899830e-02  7.80444250e-01  2.21081520e-01 ...  2.53170549e+00\n",
      "  -3.57220345e-02  1.73200191e-01]]\n",
      "[ 1. -1.  1. ...  1.  1.  1.] [-1. -1. -1. ... -1. -1.  1.]\n"
     ]
    },
    {
     "data": {
      "text/plain": [
       "0.913"
      ]
     },
     "execution_count": 6,
     "metadata": {},
     "output_type": "execute_result"
    }
   ],
   "source": [
    "from sklearn.datasets import make_hastie_10_2\n",
    "from sklearn.ensemble import GradientBoostingClassifier\n",
    "\n",
    "X, y = make_hastie_10_2(random_state=0)\n",
    "X_train, X_test = X[:2000], X[2000:]\n",
    "y_train, y_test = y[:2000], y[2000:]\n",
    "\n",
    "print(X_train, X_test)\n",
    "print(y_train, y_test)\n",
    "\n",
    "clf = GradientBoostingClassifier(n_estimators=100, learning_rate=1.0,\n",
    "    max_depth=1, random_state=0).fit(X_train, y_train)\n",
    "clf.score(X_test, y_test)"
   ]
  },
  {
   "cell_type": "code",
   "execution_count": 8,
   "metadata": {},
   "outputs": [],
   "source": [
    "import numpy as np\n",
    "\n",
    "def advec_diffuse(a,dt,T,x=[],u0=[]):\n",
    "    \"\"\"Uses a spectral decomposition and forward Euler to solve\n",
    "    the 1D advection diffusion equation u_t + au_x = u_xx.\n",
    "    Assumes the domain is [0,2pi] or else the wavenumbers would  -\n",
    "    need to be weighted differently.\n",
    "    a is the advection speed\n",
    "    dt is the time-step\n",
    "    T is the final time we run to\n",
    "    x is the spatial discretization\n",
    "    u0 is the initial condition\n",
    "\n",
    "    Because this uses the fft, it is best to have len(x) = 2^K  -\n",
    "    r some integer K\"\"\"\n",
    "\n",
    "    N = len(x)\n",
    "    #The most difficult part is figuring out how numpy indexes the wavenumbers\n",
    "    k = np.array([1j*y for y in range(0,int(N/2))] + [0] + [1j*y for y in range(int(-N/2)+1,0)])\n",
    "    k2 = -k**2;\n",
    "    u = [] \n",
    "    u.append(u0)\n",
    "    uhat = np.fft.fft(u0)\n",
    "    totalStep = int(T/dt)\n",
    "    for nn in range(totalStep):\n",
    "        # forward Euler time-stepping\n",
    "        new_uhat = (1+dt*(-a*k-k2)/2)*uhat/(1-dt*(-a*k-k2)/2)\n",
    "        uhat = new_uhat.copy()\n",
    "        # revert back to real values (not necessary unless we want\n",
    "        # to save our solution in real space)\n",
    "        u.append(np.real(np.fft.ifft(uhat)))\n",
    "    return x,u"
   ]
  },
  {
   "cell_type": "code",
   "execution_count": 38,
   "metadata": {},
   "outputs": [],
   "source": [
    "import numpy as np\n",
    "\n",
    "def advec_diffuse(a,dt,T,x=[],u0=[]):\n",
    "    \"\"\"Uses a spectral decomposition and forward Euler to solve\n",
    "    the 1D advection diffusion equation u_t + au_x = u_xx.\n",
    "    Assumes the domain is [0,2pi] or else the wavenumbers would  -\n",
    "    need to be weighted differently.\n",
    "    a is the advection speed\n",
    "    dt is the time-step\n",
    "    T is the final time we run to\n",
    "    x is the spatial discretization\n",
    "    u0 is the initial condition\n",
    "\n",
    "    Because this uses the fft, it is best to have len(x) = 2^K  -\n",
    "    r some integer K\"\"\"\n",
    "\n",
    "    N = len(x)\n",
    "    #The most difficult part is figuring out how numpy indexes the wavenumbers\n",
    "    k = np.array([1j*y for y in range(0,int(N/2))] + [0] + [1j*y for y in range(int(-N/2)+1,0)])\n",
    "    k2 = -k**2;\n",
    "    u = [] \n",
    "    u.append(u0)\n",
    "    uhat = np.fft.fft(u0)\n",
    "    totalStep = int(T/dt)\n",
    "    for nn in range(totalStep):\n",
    "        # forward Euler time-stepping\n",
    "        new_uhat = (uhat+(dt)*(-a*k-k2)*uhat/2)/(1-(dt)*(-a*k-k2)/2)\n",
    "        uhat = new_uhat.copy()\n",
    "        # revert back to real values (not necessary unless we want\n",
    "        # to save our solution in real space)\n",
    "        u.append(np.real(np.fft.ifft(uhat)))\n",
    "    return x,u"
   ]
  },
  {
   "cell_type": "code",
   "execution_count": 39,
   "metadata": {},
   "outputs": [
    {
     "data": {
      "image/png": "[encoded data removed]",
      "text/plain": [
       "<Figure size 432x288 with 1 Axes>"
      ]
     },
     "metadata": {
      "needs_background": "light"
     },
     "output_type": "display_data"
    }
   ],
   "source": [
    "from matplotlib.animation import FuncAnimation\n",
    "\n",
    "x = np.linspace(0,2*np.pi,128)\n",
    "u0 = lambda x: np.sin(x**2)+np.cos(5*x)\n",
    "x,u = advec_diffuse(4,0.001, 50, x=x, u0=u0(x))\n",
    "fig = plt.figure()\n",
    "ax = fig.add_subplot(111)\n",
    "ax.set_xlim((0,2*np.pi))\n",
    "ax.set_ylim((-2,2))\n",
    "sol, = plt.plot([],[])\n",
    "def update(i):\n",
    "    sol.set_data(x,u[i])\n",
    "    return sol\n",
    "ani = FuncAnimation(fig, update, frames = range(100), interval = 20)\n",
    "ani.save(\"cool5.mp4\")\n",
    "plt.show()"
   ]
  },
  {
   "cell_type": "markdown",
   "metadata": {},
   "source": [
    "<video src= \"cool5.mp4\" controls>"
   ]
  },
  {
   "cell_type": "code",
   "execution_count": 46,
   "metadata": {},
   "outputs": [],
   "source": [
    "import numpy as np\n",
    "\n",
    "def diffusive_burgers(dt,T,x=[],u0=[]):\n",
    "    \"\"\"Uses a spectral decomposition and forward Euler to solve\n",
    "    the 1D diffusive Burgers equation u_t + uu_x = u_xx.\n",
    "    Assumes the domain is [0,2pi] or else the wavenumbers would \n",
    "    need to be weighted differently.\n",
    "    dt is the time-step\n",
    "    T is the final time we run to\n",
    "    x is the spatial discretization\n",
    "    u0 is the initial condition\n",
    "    Because this uses the fft, it is best to have len(x) = 2^K  -\n",
    "    for some integer K\"\"\"\n",
    "    \n",
    "    N = len(x)\n",
    "    #The most difficult part is figuring out how numpy indexes the wavenumbers\n",
    "    k = np.array([1j*y for y in range(0,int(N/2))] + [0] + [1j*y for y in range(int(-N/2)+1,0)])\n",
    "    k2 = -k**2;\n",
    "    k4 = -k**4\n",
    "    u = [] \n",
    "    u.append(u0)\n",
    "    uhat = np.fft.fft(u0)\n",
    "    totalStep = int(T/dt)\n",
    "    for nn in range(totalStep):\n",
    "        # forward Euler time-stepping\n",
    "        new_uhat = uhat + dt*(np.fft.fft(np.fft.ifft(k*uhat)*np.fft.ifft(uhat)) + k2 * uhat+k4*uhat)\n",
    "        uhat = new_uhat.copy()\n",
    "        # revert back to real values (not necessary unless we want\n",
    "        # to save our solution in real space)\n",
    "        u.append(np.real(np.fft.ifft(uhat)))\n",
    "    return x,u"
   ]
  },
  {
   "cell_type": "code",
   "execution_count": 50,
   "metadata": {},
   "outputs": [
    {
     "data": {
      "image/png": "[encoded data removed]",
      "text/plain": [
       "<Figure size 432x288 with 1 Axes>"
      ]
     },
     "metadata": {
      "needs_background": "light"
     },
     "output_type": "display_data"
    }
   ],
   "source": [
    "x=np.linspace(0,2*np.pi,32)\n",
    "u0 = np.sin(x)*np.cos(x*2)+0.5*np.sin(14*x)\n",
    "x,u = diffusive_burgers(.000001,10,x=x,u0=u0)\n",
    "fig = plt.figure()\n",
    "ax = fig.add_subplot(111)\n",
    "ax.set_xlim((0,2*np.pi))\n",
    "ax.set_ylim((-1,1))\n",
    "#ax.set_ylim((-100000,100000))\n",
    "sol, = plt.plot([],[])\n",
    "def update(i):\n",
    "    sol.set_data(x,u[i])\n",
    "    return sol\n",
    "ani = FuncAnimation(fig, update, frames=range(100), interval=20)\n",
    "ani.save(\"temp.mp4\")\n",
    "plt.show()"
   ]
  },
  {
   "cell_type": "markdown",
   "metadata": {},
   "source": [
    "<video src=\"temp.mp4\" controls>"
   ]
  }
 ],
 "metadata": {
  "colab": {
   "collapsed_sections": [],
   "name": "pandas3.ipynb",
   "provenance": [],
   "version": "0.3.2"
  },
  "kernelspec": {
   "display_name": "Python 3 (ipykernel)",
   "language": "python",
   "name": "python3"
  },
  "language_info": {
   "codemirror_mode": {
    "name": "ipython",
    "version": 3
   },
   "file_extension": ".py",
   "mimetype": "text/x-python",
   "name": "python",
   "nbconvert_exporter": "python",
   "pygments_lexer": "ipython3",
   "version": "3.9.7"
  }
 },
 "nbformat": 4,
 "nbformat_minor": 1
}
