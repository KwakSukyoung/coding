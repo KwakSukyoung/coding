{
 "cells": [
  {
   "cell_type": "markdown",
   "id": "b71653a7",
   "metadata": {},
   "source": [
    "Question 5. 20"
   ]
  },
  {
   "cell_type": "code",
   "execution_count": 4,
   "id": "cc1e7ef2",
   "metadata": {},
   "outputs": [
    {
     "name": "stdout",
     "output_type": "stream",
     "text": [
      "Requirement already satisfied: xgboost in /Users/raul/opt/anaconda3/lib/python3.9/site-packages (1.7.1)\n",
      "Requirement already satisfied: scipy in /Users/raul/opt/anaconda3/lib/python3.9/site-packages (from xgboost) (1.7.1)\n",
      "Requirement already satisfied: numpy in /Users/raul/opt/anaconda3/lib/python3.9/site-packages (from xgboost) (1.20.3)\n",
      "Note: you may need to restart the kernel to use updated packages.\n"
     ]
    }
   ],
   "source": [
    "pip install xgboost"
   ]
  },
  {
   "cell_type": "code",
   "execution_count": 5,
   "id": "15965dda",
   "metadata": {},
   "outputs": [],
   "source": [
    "import xgboost as xgb\n",
    "import pandas as pd\n",
    "from sklearn.model_selection import train_test_split, GridSearchCV\n",
    "from sklearn.pipeline import Pipeline\n",
    "from sklearn.metrics import accuracy_score\n",
    "from sklearn.metrics import accuracy_score\n",
    "from sklearn import datasets\n",
    "from sklearn.metrics import accuracy_score\n",
    "import time\n",
    "from math import floor\n",
    "from sklearn.ensemble import RandomForestClassifier"
   ]
  },
  {
   "cell_type": "markdown",
   "id": "3978d8e1",
   "metadata": {},
   "source": [
    "(i) The default objective (loss function) in XGBoost is squarederror. That is a poor choice for Fashion MNIST. Explain why. Choose a better objective from the list at https://xgboost.readthedocs.io/en/latest/ parameter.html#learning-task-parameters and explain why your choice is a good one for this problem."
   ]
  },
  {
   "cell_type": "markdown",
   "id": "7d0a83f0",
   "metadata": {},
   "source": [
    "- It's a poor choice because it does one same classification but multi:softmax does multiclass classification."
   ]
  },
  {
   "cell_type": "markdown",
   "id": "e2920ffe",
   "metadata": {},
   "source": [
    "(ii) The default value of gamma is 0. This is probably a poor choice. Explain why."
   ]
  },
  {
   "cell_type": "markdown",
   "id": "1ee8d15d",
   "metadata": {},
   "source": [
    "- It can cause an overfitting problem"
   ]
  },
  {
   "cell_type": "markdown",
   "id": "c06c4c16",
   "metadata": {},
   "source": [
    "(iii) The learning rate parameter eta shrinks the optimal w so that the algorithm uses wl = etawl as the value at leaf ` instead of using w`⇤. The allowable values for eta are [0, 1], but 0 is a poor choice. Explain why."
   ]
  },
  {
   "cell_type": "markdown",
   "id": "0e070e0b",
   "metadata": {},
   "source": [
    "- It's poor because it doesn't reduce the loss although we increase the data amount."
   ]
  },
  {
   "cell_type": "markdown",
   "id": "943e06a9",
   "metadata": {},
   "source": [
    "(iv) Do a grid search to find the best choices of parameters alpha, gamma , lambda, and eta in XGBoost on 1/10th of the fashionMNIST data (6,000 points—be sure to get a good, random sample from each class). Hint: Remember to use the good objective from the previous step. For a discussion of these parameters see https://xgboost.readthedocs. io/en/latest/parameter.html#parameters-for-tree-booster.)"
   ]
  },
  {
   "cell_type": "markdown",
   "id": "bf714c40",
   "metadata": {},
   "source": [
    "Question 5. 21"
   ]
  },
  {
   "cell_type": "markdown",
   "id": "112ce771",
   "metadata": {},
   "source": [
    "Choose a suitable loss function and do a grid search to find the best choices of parameters alpha, gamma, lambda, and eta to find a good XGBoost model for your portfolio project dataset. If your project dataset is not suitable for an XGBoost model, make a case for why it is not suitable, and then find another large dataset that interests you and do this problem on that data set instead."
   ]
  },
  {
   "cell_type": "code",
   "execution_count": 15,
   "id": "e9154cb0",
   "metadata": {},
   "outputs": [
    {
     "name": "stdout",
     "output_type": "stream",
     "text": [
      "Best Parameters: {'clf__gamma': 0, 'clf__learning_rate': 0.1, 'clf__reg_alpha': 0, 'clf__reg_lambda': 0.2}\n",
      "Accuracy: 1.0\n"
     ]
    }
   ],
   "source": [
    "data = datasets.load_iris()\n",
    "X = data.data\n",
    "y = data.target\n",
    "X_train, X_test, y_train, y_test = train_test_split(X, y, test_size=0.3,random_state=42)\n",
    "pipe = Pipeline([('clf', xgb.XGBClassifier(objective='multi:softmax'))])\n",
    "params = {'clf__reg_alpha': [0, .5, .9],'clf__gamma': [0, 2, 6],'clf__reg_lambda': [.2, 1, 2],'clf__learning_rate': [.1, .3, .8],}\n",
    "grid = GridSearchCV(pipe, param_grid=params, n_jobs=-1)\n",
    "model = grid.fit(X_train, y_train)\n",
    "predictions = model.predict(X_test)\n",
    "print('Best Parameters:', model.best_params_)\n",
    "print(\"Accuracy:\", accuracy_score(y_test, predictions))"
   ]
  }
 ],
 "metadata": {
  "kernelspec": {
   "display_name": "Python 3 (ipykernel)",
   "language": "python",
   "name": "python3"
  },
  "language_info": {
   "codemirror_mode": {
    "name": "ipython",
    "version": 3
   },
   "file_extension": ".py",
   "mimetype": "text/x-python",
   "name": "python",
   "nbconvert_exporter": "python",
   "pygments_lexer": "ipython3",
   "version": "3.9.7"
  }
 },
 "nbformat": 4,
 "nbformat_minor": 5
}
