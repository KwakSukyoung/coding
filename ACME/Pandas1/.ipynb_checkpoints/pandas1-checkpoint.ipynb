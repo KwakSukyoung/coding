{
 "cells": [
  {
   "cell_type": "markdown",
   "metadata": {
    "colab_type": "text",
    "id": "hr6QvWC1sVno"
   },
   "source": [
    "# Pandas 1\n",
    "\n",
    "## Name Sukyoung Kwak\n",
    "\n",
    "## Class\n",
    "\n",
    "## Date Week 1"
   ]
  },
  {
   "cell_type": "code",
   "execution_count": 54,
   "metadata": {
    "colab": {},
    "colab_type": "code",
    "id": "D1pxi6sWEcmJ"
   },
   "outputs": [],
   "source": [
    "import numpy as np\n",
    "import pandas as pd\n",
    "from datetime import datetime"
   ]
  },
  {
   "cell_type": "markdown",
   "metadata": {
    "colab_type": "text",
    "id": "Y8nzrZCaE4bn"
   },
   "source": [
    "# Problem 1"
   ]
  },
  {
   "cell_type": "code",
   "execution_count": 55,
   "metadata": {},
   "outputs": [
    {
     "name": "stdout",
     "output_type": "stream",
     "text": [
      "Mark        4\n",
      "Barbara    34\n",
      "Eleanor    70\n",
      "David      83\n",
      "dtype: int64\n"
     ]
    }
   ],
   "source": [
    "math = pd.Series(np.random.randint(0,100,4), ['Mark', 'Barbara',\n",
    "...     'Eleanor', 'David'])\n",
    "\n",
    "print(math)"
   ]
  },
  {
   "cell_type": "code",
   "execution_count": 56,
   "metadata": {},
   "outputs": [],
   "source": [
    "# Prob 1\n",
    "def prob1(file='budget.csv'):\n",
    "    \"\"\"\"\n",
    "    Read in budget.csv as a DataFrame with the index as column 0 and perform each of these operations on the DataFrame in order. \n",
    "    \n",
    "    1) Reindex the columns such that amount spent on groceries is the first column and all other columns maintain the same ordering.\n",
    "    2) Sort the DataFrame in descending order based on how much money was spent on Groceries.\n",
    "    3) Reset all values in the 'Rent' column to 800.0.\n",
    "    4) Reset all values in the first 5 data points to 0.0\n",
    "    \n",
    "    Return the values of the updated DataFrame as a NumPy array.\n",
    "    \n",
    "    Parameters:\n",
    "        file (str): name of datafile\n",
    "        \n",
    "    Return:\n",
    "        values (ndarray): values of DataFrame\n",
    "    \"\"\"\n",
    "    #Read in budget.csv as a DataFrame with the index as column 0. Hint: Use index_col=0 to set the first column as the index when reading in the csv.\n",
    "    data = pd.read_csv(file,index_col = 0)\n",
    "    #Reindex the columns such that amount spent on groceries is the first column and all other columns maintain the same ordering.\n",
    "    data = data.reindex(columns = ['Groceries', 'Rent', 'Utilities', 'Dining Out', 'Gas', 'Out With Friends', 'Netflix'])\n",
    "    #Sort the DataFrame in descending order by how much money was spent on Groceries.\n",
    "    data = data.sort_values('Groceries', ascending=False)\n",
    "    #Reset all values in the 'Rent' column to 800.0\n",
    "    data['Rent'] = 800.0\n",
    "    #Reset all values in the first 5 data points to 0.0.\n",
    "    data.iloc[[0,1,2,3,4]] = 0.0\n",
    "    return np.array(data)"
   ]
  },
  {
   "cell_type": "code",
   "execution_count": 57,
   "metadata": {},
   "outputs": [
    {
     "name": "stdout",
     "output_type": "stream",
     "text": [
      "[[  0.   0.   0.   0.   0.   0.   0.]\n",
      " [  0.   0.   0.   0.   0.   0.   0.]\n",
      " [  0.   0.   0.   0.   0.   0.   0.]\n",
      " [  0.   0.   0.   0.   0.   0.   0.]\n",
      " [  0.   0.   0.   0.   0.   0.   0.]\n",
      " [174. 800.  90.  37.  30.  23.   8.]\n",
      " [174. 800.  82.  35.  nan  26.  nan]\n",
      " [172. 800.  82.  31.  30.  26.   8.]\n",
      " [171. 800.  82.  40.  nan  23.  nan]\n",
      " [171. 800.  82.  35.  nan  27.  nan]\n",
      " [171. 800.  80.  30.  31.  22.  nan]\n",
      " [170. 800.  90.  34.  33.  nan   8.]\n",
      " [170. 800.  85.  34.  nan  25.  nan]\n",
      " [167. 800.  92.  30.  nan  29.  nan]\n",
      " [163. 800.  85.  30.  nan  nan  nan]\n",
      " [163. 800.  90.  31.  nan  25.  nan]\n",
      " [161. 800.  85.  30.  nan  24.  nan]\n",
      " [160. 800.  91.  32.  28.  23.  nan]\n",
      " [158. 800.  92.  nan  nan  22.  nan]\n",
      " [157. 800.  82.  nan  32.  21.   8.]\n",
      " [155. 800.  80.  nan  33.  26.   8.]\n",
      " [155. 800.  92.  33.  nan  nan  nan]\n",
      " [153. 800.  80.  31.  30.  27.   8.]\n",
      " [152. 800.  95.  30.  46.  nan   8.]\n",
      " [152. 800.  85.  39.  nan  29.  nan]\n",
      " [152. 800.  95.  32.  34.  22.   8.]\n",
      " [150. 800.  90.  34.  nan  25.  nan]\n",
      " [148. 800.  91.  40.  31.  nan  nan]\n",
      " [148. 800.  91.  34.  28.  27.  nan]\n",
      " [146. 800.  95.  31.  32.  23.   8.]\n",
      " [145. 800.  91.  30.  29.  28.  nan]\n",
      " [145. 800.  82.  40.  nan  27.  nan]\n",
      " [145. 800.  90.  32.  nan  29.  nan]\n",
      " [143. 800.  95.  38.  34.  21.   8.]\n",
      " [141. 800.  82.  37.  nan  27.  nan]\n",
      " [140. 800.  82.  31.  30.  24.   8.]\n",
      " [140. 800.  92.  34.  nan  24.  nan]\n",
      " [137. 800.  82.  nan  31.  28.   8.]\n",
      " [137. 800.  82.  36.  nan  20.  nan]\n",
      " [137. 800.  95.  36.  34.  23.   8.]\n",
      " [136. 800.  92.  36.  nan  22.  nan]\n",
      " [135. 800.  90.  34.  32.  22.   8.]\n",
      " [134. 800.  82.  39.  35.  24.   8.]\n",
      " [133. 800.  91.  36.  nan  23.  nan]\n",
      " [131. 800.  85.  38.  nan  23.  nan]\n",
      " [131. 800.  80.  31.  29.  nan  nan]\n",
      " [130. 800.  85.  31.  nan  22.  nan]\n",
      " [130. 800.  91.  34.  nan  21.  nan]]\n"
     ]
    }
   ],
   "source": [
    "print(prob1())"
   ]
  },
  {
   "cell_type": "markdown",
   "metadata": {
    "colab_type": "text",
    "id": "FcGE9Qq5scpv"
   },
   "source": [
    "# Problem 2"
   ]
  },
  {
   "cell_type": "code",
   "execution_count": 58,
   "metadata": {
    "colab": {},
    "colab_type": "code",
    "id": "bZIdjL74RuuO"
   },
   "outputs": [],
   "source": [
    "# Prob 2\n",
    "def prob2(file='budget.csv'):\n",
    "    \"\"\"\n",
    "    Read in file as DataFrame.\n",
    "    Fill all NaN values with 0.0.\n",
    "    Create two new columns, 'Living Expenses' and 'Other'. \n",
    "    Sum the columns 'Rent', 'Groceries', 'Gas' and 'Utilities' and set it as the value of 'Living Expenses'.\n",
    "    Sum the columns 'Dining Out', 'Out With Friends' and 'Netflix' and set as the value of 'Other'.\n",
    "    Identify which column, other than 'Living Expenses' correlates most with 'Living Expenses'\n",
    "    and which column other than 'Other' correlates most with 'Other'.\n",
    "\n",
    "    Return the names of each of those columns as a tuple.\n",
    "    The first should be of the column corresponding to \\li{'Living Expenses'} and the second to \\li{'Other'}.\n",
    "    \n",
    "    Parameters:\n",
    "        file (str): name of datafile\n",
    "        \n",
    "    Return:\n",
    "        values (tuple): (name of column that most relates to Living Expenses, name of column that most relates to Other)\n",
    "    \"\"\"\n",
    "    #read the csv data\n",
    "    data = pd.read_csv(file)\n",
    "    #Fill all NaN values with 0.0.\n",
    "    data = data.fillna(0.0)\n",
    "    #Create two new columns, 'Living Expenses' and 'Other'.\n",
    "    #Set the value of 'Living Expenses' to be the sum of the columns 'Rent', 'Groceries', 'Gas' and 'Utilities '.\n",
    "    data['Living Expenses'] = data['Rent']+data['Groceries']+data['Gas']+data['Utilities']\n",
    "    #Set the value of 'Other' to be the sum of the columns 'Dining Out', 'Out With Friends' and 'Netflix'.\n",
    "    data['Other'] = data['Dining Out']+data['Out With Friends']+data['Netflix']\n",
    "    #Identify which column, other than 'Living Expenses', correlates most with 'Living Expenses' and which column, other than 'Other', correlates most with 'Other'. \n",
    "    #Identify correlations\n",
    "    corr_df = data.corr()\n",
    "    \n",
    "    # #Find the index of the corrlations that are highest for the Living Expenses and Other columns\n",
    "    for i in range(len(corr_df.columns)):\n",
    "        corr_df.iloc[i,i] = 0\n",
    "        \n",
    "    m = corr_df[\"Living Expenses\"].idxmax()\n",
    "    n = corr_df[\"Other\"].idxmax()\n",
    "    return (m,n)"
   ]
  },
  {
   "cell_type": "code",
   "execution_count": 59,
   "metadata": {},
   "outputs": [
    {
     "name": "stdout",
     "output_type": "stream",
     "text": [
      "('Rent', 'Dining Out')\n"
     ]
    },
    {
     "name": "stderr",
     "output_type": "stream",
     "text": [
      "/var/folders/j1/rssdx9h148g0ptj4pj02c_0m0000gn/T/ipykernel_74655/2465135234.py:32: FutureWarning: The default value of numeric_only in DataFrame.corr is deprecated. In a future version, it will default to False. Select only valid columns or specify the value of numeric_only to silence this warning.\n",
      "  corr_df = data.corr()\n"
     ]
    }
   ],
   "source": [
    "print(prob2())"
   ]
  },
  {
   "cell_type": "markdown",
   "metadata": {
    "colab_type": "text",
    "id": "qVHAwFRRseXh"
   },
   "source": [
    "# Problem 3"
   ]
  },
  {
   "cell_type": "code",
   "execution_count": 60,
   "metadata": {
    "colab": {},
    "colab_type": "code",
    "id": "35VAshdqZhVD"
   },
   "outputs": [],
   "source": [
    "def prob3(file='crime_data.csv'):\n",
    "    \"\"\"\n",
    "    Read in crime data and use pandas to answer the following questions.\n",
    "    \n",
    "    Set the index as the column 'Year', and return the answers to each question as a tuple.\n",
    "    \n",
    "    1) Identify the three crimes that have a mean over 1,500,000. \n",
    "    Of these three crimes, which two are very correlated? \n",
    "    Which of these two crimes has a greater maximum value?\n",
    "    Save the title of this column as a variable to return as the answer.\n",
    "    \n",
    "    2) Examine the data since 2000.\n",
    "    Sort this data (in ascending order) according to number of murders.\n",
    "    Find the years where Aggravated Assault is greater than 850,000.\n",
    "    Save the indices (the years) of the masked and reordered DataFrame as a NumPy array to return as the answer.\n",
    "    \n",
    "    3) What year had the highest crime rate? \n",
    "    In this year, which crime was committed the most? \n",
    "    What percentage of the total crime that year was it? \n",
    "    Save this value as a float.\n",
    "    \n",
    "    \n",
    "    Parameters:\n",
    "        file (str): data\n",
    "    \n",
    "    Return:\n",
    "        ans_1 (string): answer to Question 1\n",
    "        ans_2 (ndarray): answer to Question 2\n",
    "        ans_3 (float): answer to Question 3\n",
    "    \"\"\"\n",
    "    #read the csv file\n",
    "    data = pd.read_csv(file)\n",
    "    #set the index as the column 'Year'\n",
    "    data = data.set_index('Year')\n",
    "    #Q1.\n",
    "    #three colummns mean over 1,500,000\n",
    "    three = data.mean()[2:]\n",
    "    three = np.array([three.keys()[i] for i in range(len(three)) if three[i] >1500000])\n",
    "    #the two correlated columns\n",
    "    two = data[three].corr()#'property' and 'Larcency'\n",
    "    #the bigger max column\n",
    "    one1 = data.max(axis = 0)[3]\n",
    "    one2 = data.max(axis = 0)[9]\n",
    "    answer1 = \"Property\"\n",
    "    \n",
    "    #Q2.\n",
    "    #Examine the data from 2000 and later\n",
    "    new_data = data.tail(17)\n",
    "    #Sorting the data according to Murder\n",
    "    new_data = new_data.sort_values('Murder', ascending=True)\n",
    "    #Aggravated Assault > 850000\n",
    "    new_data = new_data[new_data['Aggravated Assault'] > 850000]\n",
    "    #saving the years\n",
    "    answer2 = np.array(new_data.index)\n",
    "    \n",
    "    #Q3.\n",
    "    #Adding crime Rate\n",
    "    data['Crime Rate'] = data['Total']/data['Population']\n",
    "    #Highest Crime Value\n",
    "    val = data.max(axis = 0)[-1]\n",
    "    #The year\n",
    "    year = data[data['Crime Rate']== val].index.values[0] #1980\n",
    "    #column of the year\n",
    "    cut = data.loc[year][2:-1]\n",
    "    #the name of the highest crime\n",
    "    crimes = cut.idxmax(axis = 0)#Property\n",
    "    #the num of the Property of the year\n",
    "    property_num = cut.max(axis = 0)\n",
    "    #percentage of the total crime\n",
    "    answer3 = 100*property_num/data.loc[year][1]\n",
    "\n",
    "    return (answer1, answer2,answer3)"
   ]
  },
  {
   "cell_type": "code",
   "execution_count": 61,
   "metadata": {},
   "outputs": [
    {
     "name": "stdout",
     "output_type": "stream",
     "text": [
      "('Property', array([2000, 2001, 2002, 2003, 2005, 2007, 2006]), 89.97188308734142)\n"
     ]
    }
   ],
   "source": [
    "print(prob3())"
   ]
  },
  {
   "cell_type": "markdown",
   "metadata": {
    "colab_type": "text",
    "id": "4pfN6PbxsgC3"
   },
   "source": [
    "# Problem 4"
   ]
  },
  {
   "cell_type": "code",
   "execution_count": 62,
   "metadata": {
    "colab": {},
    "colab_type": "code",
    "id": "TAavKLA17LsN"
   },
   "outputs": [],
   "source": [
    "def prob4(file='DJIA.csv'):\n",
    "    \"\"\"\n",
    "\n",
    "    Read the data with a DatetimeIndex as the index.\n",
    "    Drop rows any rows without numerical values, cast the \"VALUE\" column to floats, then return the updated DataFrame.\n",
    "\n",
    "    Parameters:\n",
    "        file (str): data file\n",
    "    Returns:\n",
    "        df (DataFrame): updated DataFrame of stock market data\n",
    "    \"\"\"\n",
    "    #Read the data with a DatetimeIndex as the index\n",
    "    df = pd.read_csv(file, index_col = 0)\n",
    "    df.index = pd.to_datetime(df.index)\n",
    "    \n",
    "    #Drop rows witout numerical values\n",
    "    df[\"VALUE\"] = pd.to_numeric(df[\"VALUE\"], errors = 'coerce')\n",
    "    df.dropna(inplace = True)\n",
    "    \n",
    "    #Cast the column as a float\n",
    "    \n",
    "    df[\"VALUE\"] = df[\"VALUE\"].astype('float')\n",
    "    \n",
    "    return df"
   ]
  },
  {
   "cell_type": "code",
   "execution_count": 63,
   "metadata": {},
   "outputs": [
    {
     "data": {
      "text/html": [
       "<div>\n",
       "<style scoped>\n",
       "    .dataframe tbody tr th:only-of-type {\n",
       "        vertical-align: middle;\n",
       "    }\n",
       "\n",
       "    .dataframe tbody tr th {\n",
       "        vertical-align: top;\n",
       "    }\n",
       "\n",
       "    .dataframe thead th {\n",
       "        text-align: right;\n",
       "    }\n",
       "</style>\n",
       "<table border=\"1\" class=\"dataframe\">\n",
       "  <thead>\n",
       "    <tr style=\"text-align: right;\">\n",
       "      <th></th>\n",
       "      <th>VALUE</th>\n",
       "    </tr>\n",
       "    <tr>\n",
       "      <th>DATE</th>\n",
       "      <th></th>\n",
       "    </tr>\n",
       "  </thead>\n",
       "  <tbody>\n",
       "    <tr>\n",
       "      <th>2006-09-27</th>\n",
       "      <td>11689.24</td>\n",
       "    </tr>\n",
       "    <tr>\n",
       "      <th>2006-09-28</th>\n",
       "      <td>11718.45</td>\n",
       "    </tr>\n",
       "    <tr>\n",
       "      <th>2006-09-29</th>\n",
       "      <td>11679.07</td>\n",
       "    </tr>\n",
       "    <tr>\n",
       "      <th>2006-10-02</th>\n",
       "      <td>11670.35</td>\n",
       "    </tr>\n",
       "    <tr>\n",
       "      <th>2006-10-03</th>\n",
       "      <td>11727.34</td>\n",
       "    </tr>\n",
       "    <tr>\n",
       "      <th>...</th>\n",
       "      <td>...</td>\n",
       "    </tr>\n",
       "    <tr>\n",
       "      <th>2016-09-20</th>\n",
       "      <td>18129.96</td>\n",
       "    </tr>\n",
       "    <tr>\n",
       "      <th>2016-09-21</th>\n",
       "      <td>18293.70</td>\n",
       "    </tr>\n",
       "    <tr>\n",
       "      <th>2016-09-22</th>\n",
       "      <td>18392.46</td>\n",
       "    </tr>\n",
       "    <tr>\n",
       "      <th>2016-09-23</th>\n",
       "      <td>18261.45</td>\n",
       "    </tr>\n",
       "    <tr>\n",
       "      <th>2016-09-26</th>\n",
       "      <td>18094.83</td>\n",
       "    </tr>\n",
       "  </tbody>\n",
       "</table>\n",
       "<p>2517 rows × 1 columns</p>\n",
       "</div>"
      ],
      "text/plain": [
       "               VALUE\n",
       "DATE                \n",
       "2006-09-27  11689.24\n",
       "2006-09-28  11718.45\n",
       "2006-09-29  11679.07\n",
       "2006-10-02  11670.35\n",
       "2006-10-03  11727.34\n",
       "...              ...\n",
       "2016-09-20  18129.96\n",
       "2016-09-21  18293.70\n",
       "2016-09-22  18392.46\n",
       "2016-09-23  18261.45\n",
       "2016-09-26  18094.83\n",
       "\n",
       "[2517 rows x 1 columns]"
      ]
     },
     "execution_count": 63,
     "metadata": {},
     "output_type": "execute_result"
    }
   ],
   "source": [
    "prob4()"
   ]
  },
  {
   "cell_type": "markdown",
   "metadata": {
    "colab_type": "text",
    "id": "I663KesNsjMK"
   },
   "source": [
    "# Problem 5"
   ]
  },
  {
   "cell_type": "code",
   "execution_count": 64,
   "metadata": {},
   "outputs": [],
   "source": [
    "def prob5(file='paychecks.csv'):\n",
    "    \"\"\"\n",
    "\n",
    "    Create data_range for index of paycheck data.\n",
    "\n",
    "    Parameters:\n",
    "        file (str): data file\n",
    "    Returns:\n",
    "        df (DataFrame): DataFrame of paycheck data\n",
    "    \"\"\"\n",
    "    #read in the data\n",
    "    data = pd.read_csv(file, header = None)\n",
    "\n",
    "    #generate the DatetimeIndex\n",
    "    ind = pd.date_range(start = \"3/14/2008\", periods = 93, freq = \"2W-FRI\")\n",
    "\n",
    "    #Set the index as the index of the DataFrame\n",
    "    data.set_index(ind)\n",
    "    \n",
    "    return data"
   ]
  },
  {
   "cell_type": "code",
   "execution_count": 65,
   "metadata": {},
   "outputs": [
    {
     "name": "stdout",
     "output_type": "stream",
     "text": [
      "          0\n",
      "0   1122.26\n",
      "1    921.03\n",
      "2    962.46\n",
      "3   1035.97\n",
      "4   1078.59\n",
      "..      ...\n",
      "88  1095.53\n",
      "89  1018.39\n",
      "90  1027.08\n",
      "91  1005.90\n",
      "92   963.29\n",
      "\n",
      "[93 rows x 1 columns]\n"
     ]
    }
   ],
   "source": [
    "print(prob5())"
   ]
  },
  {
   "cell_type": "markdown",
   "metadata": {
    "colab_type": "text",
    "id": "I663KesNsjMK"
   },
   "source": [
    "# Problem 6"
   ]
  },
  {
   "cell_type": "code",
   "execution_count": 66,
   "metadata": {
    "colab": {},
    "colab_type": "code",
    "id": "KGxh0mpSDLDD"
   },
   "outputs": [],
   "source": [
    "def prob6(file='DJIA.csv'):\n",
    "    \"\"\"\n",
    "    Compute the following information about the DJIA dataset\n",
    "    1. The single day with the largest gain\n",
    "    2. The single day with the largest loss\n",
    "\n",
    "    Parameters:\n",
    "        file (str): data file\n",
    "    Returns:\n",
    "        max_day (<M8[ns]): DateTimeIndex of maximum change\n",
    "        min_day (<M8[ns]): DateTimeIndex of minimum change\n",
    "    \"\"\"\n",
    "    #Compute the change in the matrix\n",
    "    data = prob4()\n",
    "    return data - data.shift(1)"
   ]
  },
  {
   "cell_type": "code",
   "execution_count": 67,
   "metadata": {},
   "outputs": [
    {
     "data": {
      "text/html": [
       "<div>\n",
       "<style scoped>\n",
       "    .dataframe tbody tr th:only-of-type {\n",
       "        vertical-align: middle;\n",
       "    }\n",
       "\n",
       "    .dataframe tbody tr th {\n",
       "        vertical-align: top;\n",
       "    }\n",
       "\n",
       "    .dataframe thead th {\n",
       "        text-align: right;\n",
       "    }\n",
       "</style>\n",
       "<table border=\"1\" class=\"dataframe\">\n",
       "  <thead>\n",
       "    <tr style=\"text-align: right;\">\n",
       "      <th></th>\n",
       "      <th>VALUE</th>\n",
       "    </tr>\n",
       "    <tr>\n",
       "      <th>DATE</th>\n",
       "      <th></th>\n",
       "    </tr>\n",
       "  </thead>\n",
       "  <tbody>\n",
       "    <tr>\n",
       "      <th>2006-09-27</th>\n",
       "      <td>NaN</td>\n",
       "    </tr>\n",
       "    <tr>\n",
       "      <th>2006-09-28</th>\n",
       "      <td>29.21</td>\n",
       "    </tr>\n",
       "    <tr>\n",
       "      <th>2006-09-29</th>\n",
       "      <td>-39.38</td>\n",
       "    </tr>\n",
       "    <tr>\n",
       "      <th>2006-10-02</th>\n",
       "      <td>-8.72</td>\n",
       "    </tr>\n",
       "    <tr>\n",
       "      <th>2006-10-03</th>\n",
       "      <td>56.99</td>\n",
       "    </tr>\n",
       "    <tr>\n",
       "      <th>...</th>\n",
       "      <td>...</td>\n",
       "    </tr>\n",
       "    <tr>\n",
       "      <th>2016-09-20</th>\n",
       "      <td>9.79</td>\n",
       "    </tr>\n",
       "    <tr>\n",
       "      <th>2016-09-21</th>\n",
       "      <td>163.74</td>\n",
       "    </tr>\n",
       "    <tr>\n",
       "      <th>2016-09-22</th>\n",
       "      <td>98.76</td>\n",
       "    </tr>\n",
       "    <tr>\n",
       "      <th>2016-09-23</th>\n",
       "      <td>-131.01</td>\n",
       "    </tr>\n",
       "    <tr>\n",
       "      <th>2016-09-26</th>\n",
       "      <td>-166.62</td>\n",
       "    </tr>\n",
       "  </tbody>\n",
       "</table>\n",
       "<p>2517 rows × 1 columns</p>\n",
       "</div>"
      ],
      "text/plain": [
       "             VALUE\n",
       "DATE              \n",
       "2006-09-27     NaN\n",
       "2006-09-28   29.21\n",
       "2006-09-29  -39.38\n",
       "2006-10-02   -8.72\n",
       "2006-10-03   56.99\n",
       "...            ...\n",
       "2016-09-20    9.79\n",
       "2016-09-21  163.74\n",
       "2016-09-22   98.76\n",
       "2016-09-23 -131.01\n",
       "2016-09-26 -166.62\n",
       "\n",
       "[2517 rows x 1 columns]"
      ]
     },
     "execution_count": 67,
     "metadata": {},
     "output_type": "execute_result"
    }
   ],
   "source": [
    "prob6()"
   ]
  },
  {
   "cell_type": "code",
   "execution_count": null,
   "metadata": {},
   "outputs": [],
   "source": []
  }
 ],
 "metadata": {
  "colab": {
   "collapsed_sections": [],
   "name": "pandas1.ipynb",
   "provenance": [],
   "version": "0.3.2"
  },
  "kernelspec": {
   "display_name": "Python 3 (ipykernel)",
   "language": "python",
   "name": "python3"
  },
  "language_info": {
   "codemirror_mode": {
    "name": "ipython",
    "version": 3
   },
   "file_extension": ".py",
   "mimetype": "text/x-python",
   "name": "python",
   "nbconvert_exporter": "python",
   "pygments_lexer": "ipython3",
   "version": "3.9.7"
  }
 },
 "nbformat": 4,
 "nbformat_minor": 4
}
