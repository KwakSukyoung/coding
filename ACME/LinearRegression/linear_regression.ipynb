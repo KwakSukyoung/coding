{
 "cells": [
  {
   "cell_type": "markdown",
   "id": "d68bd080",
   "metadata": {},
   "source": [
    "## Linear Regression\n",
    "### Name: Rebecah Kwak\n",
    "### Class: vol3\n",
    "### Section: Bryce Section\n",
    "### Date: Week 9"
   ]
  },
  {
   "cell_type": "code",
   "execution_count": 1,
   "id": "03f34593",
   "metadata": {},
   "outputs": [
    {
     "name": "stdout",
     "output_type": "stream",
     "text": [
      "Intel MKL WARNING: Support of Intel(R) Streaming SIMD Extensions 4.2 (Intel(R) SSE4.2) enabled only processors has been deprecated. Intel oneAPI Math Kernel Library 2025.0 will require Intel(R) Advanced Vector Extensions (Intel(R) AVX) instructions.\n",
      "Intel MKL WARNING: Support of Intel(R) Streaming SIMD Extensions 4.2 (Intel(R) SSE4.2) enabled only processors has been deprecated. Intel oneAPI Math Kernel Library 2025.0 will require Intel(R) Advanced Vector Extensions (Intel(R) AVX) instructions.\n"
     ]
    },
    {
     "ename": "ModuleNotFoundError",
     "evalue": "No module named 'statsmodels'",
     "output_type": "error",
     "traceback": [
      "\u001b[0;31m---------------------------------------------------------------------------\u001b[0m",
      "\u001b[0;31mModuleNotFoundError\u001b[0m                       Traceback (most recent call last)",
      "Cell \u001b[0;32mIn[1], line 4\u001b[0m\n\u001b[1;32m      2\u001b[0m \u001b[38;5;28;01mimport\u001b[39;00m \u001b[38;5;21;01mpandas\u001b[39;00m \u001b[38;5;28;01mas\u001b[39;00m \u001b[38;5;21;01mpd\u001b[39;00m\n\u001b[1;32m      3\u001b[0m \u001b[38;5;28;01mimport\u001b[39;00m \u001b[38;5;21;01mtime\u001b[39;00m\n\u001b[0;32m----> 4\u001b[0m \u001b[38;5;28;01mimport\u001b[39;00m \u001b[38;5;21;01mstatsmodels\u001b[39;00m\u001b[38;5;21;01m.\u001b[39;00m\u001b[38;5;21;01mapi\u001b[39;00m \u001b[38;5;28;01mas\u001b[39;00m \u001b[38;5;21;01msm\u001b[39;00m\n\u001b[1;32m      5\u001b[0m \u001b[38;5;28;01mfrom\u001b[39;00m \u001b[38;5;21;01msklearn\u001b[39;00m \u001b[38;5;28;01mimport\u001b[39;00m linear_model\n\u001b[1;32m      6\u001b[0m \u001b[38;5;28;01mfrom\u001b[39;00m \u001b[38;5;21;01mitertools\u001b[39;00m \u001b[38;5;28;01mimport\u001b[39;00m combinations\n",
      "\u001b[0;31mModuleNotFoundError\u001b[0m: No module named 'statsmodels'"
     ]
    }
   ],
   "source": [
    "import numpy as np\n",
    "import pandas as pd\n",
    "import time\n",
    "import statsmodels.api as sm\n",
    "from sklearn import linear_model\n",
    "from itertools import combinations\n",
    "from matplotlib import pyplot as plt\n",
    "import time\n",
    "\n",
    "import pandas as pd\n",
    "import statsmodels.api as sm\n",
    "import numpy as np\n",
    "from sklearn import linear_model as lm\n",
    "import itertools\n",
    "from sklearn.model_selection import cross_val_score as CV\n"
   ]
  },
  {
   "cell_type": "markdown",
   "id": "55a959b8",
   "metadata": {},
   "source": [
    "## Problem 1\n",
    "Write a function that takes as input $X$ and **y** as defined on page 1. Call this function **ols**. This function should return the least squares estimator for $\\beta$ as a numpy array."
   ]
  },
  {
   "cell_type": "code",
   "execution_count": null,
   "id": "b9c9bd9e",
   "metadata": {},
   "outputs": [],
   "source": [
    "def ols(X, y):\n",
    "    \"\"\"\n",
    "    Solves for the least squares estimator.\n",
    "    Add a column of 1s to X.\n",
    "    Parameters:\n",
    "        X: n x d numpyarray\n",
    "        y: n x 1 numpyarray\n",
    "    Returns:\n",
    "        beta: d x 1 numpyarray\n",
    "    \"\"\"\n",
    "    #adding a column of ones to X to account for B0\n",
    "    x0 = np.ones(np.shape(X)[0])\n",
    "    Xnew = np.column_stack((X,x0))\n",
    "\n",
    "    #putting values to make B\n",
    "    B = np.linalg.inv(Xnew.T@Xnew)@Xnew.T@y\n",
    "    \n",
    "    return B\n"
   ]
  },
  {
   "cell_type": "markdown",
   "id": "de74d716",
   "metadata": {},
   "source": [
    "## Problem 2\n",
    "Find the least squares estimator for $\\beta$ using this random data. \n",
    "Produce a plot showing the random data and the line of best fit determined by the least squares estimator for $\\beta$. \n",
    "Your plot should include a title, axis labels, and a legend. "
   ]
  },
  {
   "cell_type": "code",
   "execution_count": null,
   "id": "5f6f6271",
   "metadata": {},
   "outputs": [],
   "source": [
    "n = 100 # Number of points to generate\n",
    "X = np.arange(100) # The input X for the function ols\n",
    "eps = np.random.uniform(-10,10, size=(100,)) # Noise to generate random y ← coordinates\n",
    "y = .3*X + 3 + eps # The input y for the function ols\n",
    "\n",
    "#getting the slope and the y-intercept\n",
    "a, b = ols(X,y)\n",
    "\n",
    "#plotting\n",
    "plt.plot(X, X*a+b,color = 'red')\n",
    "plt.scatter(X,y, color = 'blue')\n",
    "plt.xlabel(\"x\")\n",
    "plt.ylabel(\"y\")\n",
    "plt.title(\"random data and the line of best fit with B using ols\")\n",
    "plt.show()"
   ]
  },
  {
   "cell_type": "markdown",
   "id": "60182d75",
   "metadata": {},
   "source": [
    "## Problem 3\n",
    "Write a function that finds the least squares estimator for rank-deficient models using the SVD. \n",
    "The function should still take $X$ and **y** as inputs. Call the function **svd_ols** and return the least squares estimator for $\\beta$ as a numpy array."
   ]
  },
  {
   "cell_type": "code",
   "execution_count": null,
   "id": "521a5178",
   "metadata": {},
   "outputs": [],
   "source": [
    "def svd_ols(X, y):\n",
    "    \"\"\"\n",
    "    Solves for the least squares estimator using the SVD.\n",
    "    Add a column of 1s to X.\n",
    "    Parameters:\n",
    "        X: n x d numpyarray\n",
    "        y: n x 1 numpyarray\n",
    "    Returns:\n",
    "        beta: d x 1 numpy array\n",
    "    \"\"\"\n",
    "    #adding a column of ones to X to account for B0\n",
    "    x0 = [1]*np.shape(X)[0]\n",
    "    Xnew = np.column_stack((x0,X))\n",
    "\n",
    "    U,s,V_T = np.linalg.svd(Xnew,full_matrices = False)\n",
    "    #putting values to make B\n",
    "    B = V_T.T@np.diag(1/s)@U.T@y\n",
    "\n",
    "    return B"
   ]
  },
  {
   "cell_type": "markdown",
   "id": "1ed14166",
   "metadata": {},
   "source": [
    "## Problem 4\n",
    "Use your function **svd_ols** to find the least squares estimator for a cubic polynomial. \n",
    "Create a plot that shows a scatter plot of the data and a curve using the least squares estimator. \n",
    "Your plot should include a title, axis labels, and a legend."
   ]
  },
  {
   "cell_type": "code",
   "execution_count": null,
   "id": "64506569",
   "metadata": {},
   "outputs": [],
   "source": [
    "x = np.linspace(-4, 2, 500)\n",
    "y = x**3 + 3*x**2 - x - 3.5\n",
    "eps = np.random.normal(0, 3, len(y)) # Create noise\n",
    "y += eps # Add noise to randomize data\n",
    "\n",
    "#getting the slope and the y-intercept\n",
    "X = np.vander(x, 4, increasing = True)\n",
    "T = svd_ols(X[:,1:],y)\n",
    "\n",
    "#plotting\n",
    "plt.scatter(x,y, color = 'blue',s=.25)\n",
    "plt.plot(x, X@T)\n",
    "plt.xlabel(\"x\")\n",
    "plt.ylabel(\"y\")\n",
    "plt.title(\"random data and the line of best fit with B using svd_ols\")\n",
    "plt.show()"
   ]
  },
  {
   "cell_type": "markdown",
   "id": "c863089a",
   "metadata": {},
   "source": [
    "## Problem 5\n",
    "The file **realestate.csv** contains transaction data from 2012-2013. \n",
    "It has columns for transaction data, house age, distance to nearest MRT station, number of convenience stores, latitude, longitude, and house price of unit area.\n",
    "Each row in the array is a separate measurement.\n",
    "\n",
    "Find the combination of variables that builds the model with the best $R^2$ value when predicting **house price of unit area**. Use statsmodels to build each model and calculate $R^2$. Use **statsmodels** to build each model and calculate $R^2$. Using the same combination of variables, time the methods **ols**, **svd_ols**, and **statsmodels** . Return a list with the first element being a tuple of times for each method and the second element being the best $R^2$ value from the first part of the problem."
   ]
  },
  {
   "cell_type": "code",
   "execution_count": null,
   "id": "e6214ba3",
   "metadata": {},
   "outputs": [],
   "source": [
    "def problem5():\n",
    "    \"\"\"\n",
    "    Find the best R2 value using statsmodels.\n",
    "    Then time ols, svd_ols, and statsmodlels.\n",
    "    Returns:\n",
    "        list(): a tuple of times and the best R2 value\n",
    "    \"\"\"\n",
    "    data = pd.read_csv(\"realestate.csv\") # Read in data as pandas dataframe\n",
    "    y = data[\"Y house price of unit area\"] # Extract dependent variable\n",
    "    titles = [\"X1 transaction date\", \"X2 house age\", \"X3 distance to the nearest MRT station\", \"X4 number of convenience stores\", \"X5 latitude\", \"X6 longitude\"]\n",
    "\n",
    "    temp_X = data[titles] # Extract independent variables\n",
    "    \n",
    "    R_2 = 0\n",
    "    for i in range(1,len(titles)+1):\n",
    "        for comb in combinations(titles,i):\n",
    "            model = sm.OLS(y,sm.add_constant(temp_X[list(comb)])).fit()\n",
    "            #getting the largest number R_2 and combination\n",
    "            if model.rsquared > R_2:\n",
    "                R_2 = model.rsquared\n",
    "                combb = comb\n",
    "    \n",
    "    X = temp_X[list(combb)] #need stats model\n",
    "    \n",
    "    a = time.time()\n",
    "    #ols\n",
    "    ols(np.array(X), y)\n",
    "    b = time.time()\n",
    "    #svd_ols\n",
    "    svd_ols(np.array(X),y)\n",
    "    c = time.time()\n",
    "    #stats\n",
    "    X = sm.add_constant(temp_X)\n",
    "    sm.OLS(y,X).fit()\n",
    "    d = time.time()\n",
    "\n",
    "    return [(b-a,c-b,d-c),R_2]"
   ]
  },
  {
   "cell_type": "code",
   "execution_count": null,
   "id": "fae6ecfa",
   "metadata": {},
   "outputs": [],
   "source": [
    "problem5()"
   ]
  },
  {
   "cell_type": "markdown",
   "id": "d3ff1a9b",
   "metadata": {},
   "source": [
    "## Problem 6\n",
    "Use the file **realestate.csv** and the Python Example on page 4 as a template for constructing **y** and $X$ and calculating model AIC and BIC. \n",
    "For the dependent variable, use **house price of unit area**. \n",
    "For the independent variables, use **distance to the nearest MRT station**, **number of convenience stores**, **latitude**, and **longitude**.\n",
    "\n",
    "Find the model that has the lowest AIC and the model that has the lowest BIC. Are they the same model? Print the features of the model with the lowest AIC as a list."
   ]
  },
  {
   "cell_type": "code",
   "execution_count": null,
   "id": "00fd80df",
   "metadata": {},
   "outputs": [],
   "source": [
    "data = pd.read_csv(\"realestate.csv\") # Read in data as pandas dataframe\n",
    "y = data[\"Y house price of unit area\"] # Extract dependent variable\n",
    "titles = [\"X3 distance to the nearest MRT station\", \"X4 number of convenience stores\", \"X5 latitude\", \"X6 longitude\"]\n",
    "temp_X = data[titles] # Extract independent variables\n",
    "\n",
    "AIC = 100000\n",
    "BIC = 100000\n",
    "\n",
    "for i in range(1,len(titles)+1):\n",
    "    for comb in combinations(titles,i):\n",
    "        model = sm.OLS(y,sm.add_constant(temp_X[list(comb)])).fit()\n",
    "        #getting the lowest number AIC\n",
    "        if model.aic < AIC:\n",
    "            AIC = model.aic\n",
    "            combb_A = comb\n",
    "        #getting the lowest number BIC\n",
    "        if model.bic < BIC:\n",
    "            BIC = model.bic\n",
    "            combb_B = comb\n",
    "\n",
    "print(AIC, list(combb_A))\n",
    "print(BIC, list(combb_B))\n",
    "print(\"They are the same!\")"
   ]
  },
  {
   "cell_type": "markdown",
   "id": "fa519708",
   "metadata": {},
   "source": [
    "## Problem 7\n",
    "Use Ridge and Lasso Regression to model **house price of unit area** from the file **realestate.csv**.\n",
    "Before fitting each model, run a GridSearch on $\\alpha$ to find the optimal value.\n",
    "Then use the optimal $\\alpha$ to fit the model.\n",
    "Once you have fit the model, you can use the **score** method to get $R^2$. \n",
    "Print $R^2$ for each model as a tuple. \n",
    "How do these models compare to the models in problem 6?"
   ]
  },
  {
   "cell_type": "code",
   "execution_count": null,
   "id": "d0a2c55b",
   "metadata": {},
   "outputs": [],
   "source": [
    "data = pd.read_csv(\"realestate.csv\") # Read in data as pandas dataframe\n",
    "y = data[\"Y house price of unit area\"] # Extract dependent variable\n",
    "titles = [\"X1 transaction date\", \"X2 house age\", \"X3 distance to the nearest MRT station\", \"X4 number of convenience stores\", \"X5 latitude\", \"X6 longitude\"]\n",
    "\n",
    "temp_X = data[titles] # Extract independent variables\n",
    "\n",
    "cv_R = lm.RidgeCV(alphas=np.logspace(-6, 6, 13)).fit(temp_X,y) # Range for grid search\n",
    "print(cv_R.score(temp_X,y))\n",
    "\n",
    "cv_L= lm.LassoCV(alphas=np.logspace(-6, 6, 13)).fit(temp_X,y) # Range for grid search\n",
    "print(cv_L.score(temp_X,y))\n",
    "\n",
    "print(\"These model spits out pretty much same as quesiton6\")"
   ]
  }
 ],
 "metadata": {
  "kernelspec": {
   "display_name": "Python 3 (ipykernel)",
   "language": "python",
   "name": "python3"
  },
  "language_info": {
   "codemirror_mode": {
    "name": "ipython",
    "version": 3
   },
   "file_extension": ".py",
   "mimetype": "text/x-python",
   "name": "python",
   "nbconvert_exporter": "python",
   "pygments_lexer": "ipython3",
   "version": "3.9.7"
  }
 },
 "nbformat": 4,
 "nbformat_minor": 5
}
