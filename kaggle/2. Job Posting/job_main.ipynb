{
 "cells": [
  {
   "cell_type": "code",
   "execution_count": 14,
   "id": "577f71b3-f064-49f0-a865-310e23cf930a",
   "metadata": {},
   "outputs": [],
   "source": [
    "import numpy as np\n",
    "import pandas as pd\n",
    "import nltk\n",
    "from nltk.corpus import stopwords"
   ]
  },
  {
   "cell_type": "markdown",
   "id": "fead3481-9c06-4cdf-9964-e1eda56a81ab",
   "metadata": {},
   "source": [
    "## Get keywords from job postings"
   ]
  },
  {
   "cell_type": "code",
   "execution_count": 15,
   "id": "92c80f9b-3b16-4c72-9c95-4db919d2f054",
   "metadata": {},
   "outputs": [],
   "source": [
    "#read the data \n",
    "data = pd.read_csv(\"job_description.csv\",index_col = 0) "
   ]
  },
  {
   "cell_type": "code",
   "execution_count": 23,
   "id": "a58e3ea2-46fc-4f87-a6a3-87a1e619f8ad",
   "metadata": {},
   "outputs": [],
   "source": [
    "#get the first job description\n",
    "dt = data.iloc[0]"
   ]
  },
  {
   "cell_type": "markdown",
   "id": "a1f08184-e1fe-4d48-8fa1-c5e0a5ca4532",
   "metadata": {},
   "source": [
    "### 1. Tokenization: Breaking the string into individual words or tokens."
   ]
  },
  {
   "cell_type": "code",
   "execution_count": 24,
   "id": "4d583cdd-c8f0-4b34-a70f-38e8efc0319b",
   "metadata": {},
   "outputs": [],
   "source": [
    "#break the string and save as lower\n",
    "words = dt['Description'].split()\n",
    "words = [word.lower() for word in words]\n",
    "words = [word.replace(\"(\", \"\") for word in words]\n",
    "words = [word.replace(\")\", \"\") for word in words]\n",
    "words = [word.replace(\",\", \"\") for word in words]\n",
    "words = [word.replace(\".\", \"\") for word in words]\n",
    "words = [word.replace(\":\", \"\") for word in words]\n",
    "words = [word.replace(\"?\", \"\") for word in words]\n"
   ]
  },
  {
   "cell_type": "markdown",
   "id": "e6c3b95c-691d-4618-8d18-4bf658731140",
   "metadata": {},
   "source": [
    "### 2. Stopword Removal: Filtering out common words (stopwords) like \"the,\" \"and,\" \"is,\" etc., which often don't carry significant meaning."
   ]
  },
  {
   "cell_type": "markdown",
   "id": "d8a1f581-de26-4c3c-8793-4f1073fa9a87",
   "metadata": {},
   "source": [
    "### 3. Normalization: Converting all words to lowercase to ensure consistency."
   ]
  },
  {
   "cell_type": "code",
   "execution_count": 25,
   "id": "c73994d7-9ca3-4fb8-a315-0e0bfb693807",
   "metadata": {},
   "outputs": [
    {
     "name": "stdout",
     "output_type": "stream",
     "text": [
      "['101', '2022', '30', 'academy', 'acceptance', 'accessing', 'achieve', 'acquired', 'acquiring', 'across', 'actively', 'addition', 'adds', 'afraid', 'agencies', 'ago', 'alongside', 'alten', 'analyse', 'analysis', 'analyst', 'analysts', 'analytical', 'apart', 'applicants', 'application', 'apply', 'applying', 'approach', 'approaches', 'appropriate', 'artefacts', 'assess', 'assignments', 'autonomy', 'away', 'ba', 'base', 'based', 'baseline', 'bcs', 'becoming', 'behaviours', 'believe', 'benefits', 'best', 'boundaries', 'buddying', 'building', 'business', 'capability', 'career', 'case', 'central', 'certification', 'certifications', 'change', 'clear', 'client', 'clients', 'collaboration', 'collaborative', 'collaboratively', 'colleague', 'colleagues', 'commitment', 'communication', 'communities', 'company', 'competencies', 'comprehension', 'concise', 'confirmed', 'considered', 'consultancies', 'consultancy', 'consulting', 'continued', 'contribute', 'contributing', 'contribution', 'core', 'create', 'creating', 'creative', 'criteria', 'cycle', 'data', 'date', 'deliver', 'deliveries', 'delivery', 'departments', 'description', 'designed', 'detailed', 'determined', 'develop', 'developing', 'development', 'difference', 'different', 'direction', 'drawn', 'early', 'efficient', 'elicit', 'eliciting', 'end-to-end', 'engage', 'engagement', 'ensuring', 'entry', 'environment', 'escalating', 'established', 'events', 'everything', 'evolve', 'exciting', 'existing', 'expected', 'experience', 'explore', 'exploring', 'extend', 'external', 'first', 'fit', 'flows', 'focus', 'focused', 'focussed', 'foster', 'foundation', 'fun', 'functionality', 'funded', 'future', 'gain', 'genuine', 'good', 'government', 'great', 'group', 'grow', 'hard;', 'heart', 'help', 'home', 'home-based', 'houses', 'human', 'identify', 'improved', 'improving', 'include', 'including', 'industry', 'information', 'initially', 'innovating', 'innovation', 'inspiring', 'integrators', 'interest', 'internal', 'issues', 'job', 'junior', 'knowledge', 'landscape', 'larger', 'leadership', 'lean', 'learning', 'learnt', 'lessons', 'level', 'life', 'line', 'linkedin', 'listening', 'location', 'looking', 'maintain', 'making', 'manage', 'management', 'managing', 'mapping', 'market', 'material', 'mechanisms', 'members', 'methods', 'mistakes', 'multi-disciplinary', 'multiple', 'necessary', 'need', 'needed', 'needs', 'new', 'non-functional', 'offer', 'offerings', 'operates', 'opinion', 'opportunity', 'outcomes', 'part', 'participate', 'partnered', 'passion/commitment', 'pathway', 'people', 'people-centred', 'plan', 'planet', 'portfolio', 'possessing', 'post-holder', 'practical', 'practice', 'practices', 'predominantly', 'prioritisation', 'private', 'problem', 'problem-solving', 'problems', 'processes', 'products', 'professional', 'programme', 'progression', 'project', 'project-related', 'projects', 'proportionate', 'provide', 'public', 'public-sector', 'range', 'rapidly', 'regular', 'relevant', 'require', 'requirement', 'requirements', 'resilience', 'resolving', 'resources', 'responsibilities', 'responsibility', 'right', 'role', 'safe', 'sector', 'sectors', 'self-development', 'senior', 'services', 'set', 'sets', 'sfia3', 'shadowing', 'share', 'sharing', 'significant', 'sites', 'situation', 'situations', 'six-months', 'six-sigma', 'skill', 'skills', 'small', 'society', 'software', 'solutions', 'solve', 'solving', 'sources', 'staff', 'stakeholder', 'stakeholders', 'start', 'stay', 'stories', 'strong', 'structured', 'studies', 'success', 'successful', 'successfully', 'supervision', 'support', 'supported', 'supporting', 'supportive', 'sustainability', 'system', 'tasks', 'team', 'teams', 'technical', 'techniques', 'technology', 'tenacious', 'testable', 'thirst', 'thought-provoking', 'times', 'title', 'tools', 'touch', 'traceability', 'training', 'transfer', 'transform', 'transformation', 'translate', 'travel', 'uk', 'uk-based', 'understand', 'understanding', 'undertake', 'undertaking', 'us', 'user', 'validate', 'value', 'variety', 'verbal', 'way', 'wider', 'work', 'working', 'write', 'written', 'years', '£100m+']\n"
     ]
    },
    {
     "name": "stderr",
     "output_type": "stream",
     "text": [
      "[nltk_data] Downloading package stopwords to /Users/raul/nltk_data...\n",
      "[nltk_data]   Package stopwords is already up-to-date!\n"
     ]
    }
   ],
   "source": [
    "# Download the NLTK stopwords corpus if not already downloaded\n",
    "nltk.download('stopwords')\n",
    "\n",
    "# Get the list of English stopwords (which includes determiners and conjunctions)\n",
    "stop_words = set(stopwords.words('english'))\n",
    "\n",
    "# Add unnecesary words to the stop_words set\n",
    "stop_words.update(['and', 'but', 'or', 'so', 'for', '•', 'may', '-','are','them','&','you','we\\'re'])\n",
    "\n",
    "\n",
    "# Remove determiners and conjunctions from the list of words\n",
    "filtered_words = list(sorted(set([word for word in words if word not in stop_words])))\n",
    "sets = list(sorted(set(filtered_words)))\n",
    "# Print the filtered list of words\n",
    "print(sets)"
   ]
  },
  {
   "cell_type": "markdown",
   "id": "8e7c2ab6-d109-49b3-a193-c4a5cae76141",
   "metadata": {},
   "source": [
    "### 4. Stemming or Lemmatization: Reducing words to their root form to capture variations of the same word (e.g., \"running\" to \"run\")."
   ]
  },
  {
   "cell_type": "code",
   "execution_count": 26,
   "id": "9a5ee25f-0ecf-41dd-a8ac-bbe4321a3c37",
   "metadata": {},
   "outputs": [],
   "source": [
    "filtered_words.remove('acquired')\n",
    "filtered_words.remove('acquiring')\n",
    "filtered_words.append('acquire')\n",
    "\n",
    "filtered_words.remove('analyse')\n",
    "filtered_words.remove('analysis')\n",
    "filtered_words.remove('analytical')\n",
    "filtered_words.append('analyze')\n",
    "\n",
    "filtered_words.remove('analysts')\n",
    "\n",
    "filtered_words.remove('applicants')\n",
    "filtered_words.remove('application')\n",
    "filtered_words.remove('applying')\n",
    "\n",
    "filtered_words.remove('approaches')\n",
    "\n",
    "filtered_words.remove('certifications')\n",
    "\n",
    "filtered_words.remove('clients')\n",
    "\n",
    "filtered_words.remove('collaborative')\n",
    "filtered_words.remove('collaboratively')\n",
    "\n",
    "filtered_words.remove('colleagues')\n",
    "\n",
    "filtered_words.remove('consultancies')\n",
    "filtered_words.remove('consultancy')\n",
    "filtered_words.remove('consulting')\n",
    "filtered_words.append('consult')\n",
    "\n",
    "filtered_words.remove('contributing')\n",
    "filtered_words.remove('contribution')\n",
    "\n",
    "filtered_words.remove('creating')\n",
    "filtered_words.remove('create')\n",
    "\n",
    "filtered_words.remove('deliver')\n",
    "filtered_words.remove('deliveries')\n",
    "\n",
    "filtered_words.remove('developing')\n",
    "filtered_words.remove('development')\n",
    "\n",
    "filtered_words.remove('difference')\n",
    "\n",
    "filtered_words.remove('eliciting')\n",
    "\n",
    "filtered_words.remove('engagement')\n",
    "\n",
    "filtered_words.remove('exploring')\n",
    "\n",
    "filtered_words.remove('focused')\n",
    "filtered_words.remove('focussed')\n",
    "\n",
    "filtered_words.remove('improved')\n",
    "\n",
    "filtered_words.remove('innovating')\n",
    "\n",
    "filtered_words.remove('learnt')\n",
    "\n",
    "filtered_words.remove('management')\n",
    "filtered_words.remove('managing')\n",
    "\n",
    "filtered_words.remove('needed')\n",
    "filtered_words.remove('needs')\n",
    "\n",
    "filtered_words.remove('offerings')\n",
    "\n",
    "filtered_words.remove('practice')\n",
    "filtered_words.remove('practices')\n",
    "\n",
    "filtered_words.remove('project-related')\n",
    "filtered_words.remove('projects')\n",
    "\n",
    "filtered_words.remove('requirement')\n",
    "filtered_words.remove('requirements')\n",
    "\n",
    "filtered_words.remove('responsibilities')\n",
    "\n",
    "filtered_words.remove('sectors')\n",
    "\n",
    "filtered_words.remove('sets')\n",
    "\n",
    "filtered_words.remove('situations')\n",
    "\n",
    "filtered_words.remove('skills')\n",
    "\n",
    "filtered_words.remove('solving')\n",
    "\n",
    "filtered_words.remove('stakeholders')\n",
    "\n",
    "filtered_words.remove('success')\n",
    "filtered_words.remove('successfully')\n",
    "\n",
    "filtered_words.remove('supported')\n",
    "filtered_words.remove('supporting')\n",
    "filtered_words.remove('supportive')\n",
    "\n",
    "filtered_words.remove('teams')\n",
    "\n",
    "filtered_words.remove('transformation')\n",
    "\n",
    "filtered_words.remove('understanding')\n",
    "\n",
    "filtered_words.remove('undertaking')\n",
    "\n",
    "filtered_words.remove('working')\n",
    "\n",
    "filtered_words.remove('written')"
   ]
  },
  {
   "cell_type": "code",
   "execution_count": 30,
   "id": "cc236a01-9b33-4740-a1b6-0a0611bff49c",
   "metadata": {},
   "outputs": [
    {
     "name": "stdout",
     "output_type": "stream",
     "text": [
      "['101', '2022', '30', 'academy', 'acceptance', 'accessing', 'achieve', 'acquire', 'across', 'actively', 'addition', 'adds', 'afraid', 'agencies', 'ago', 'alongside', 'alten', 'analyst', 'analyze', 'apart', 'apply', 'approach', 'appropriate', 'artefacts', 'assess', 'assignments', 'autonomy', 'away', 'ba', 'base', 'based', 'baseline', 'bcs', 'becoming', 'behaviours', 'believe', 'benefits', 'best', 'boundaries', 'buddying', 'building', 'business', 'capability', 'career', 'case', 'central', 'certification', 'change', 'clear', 'client', 'collaboration', 'colleague', 'commitment', 'communication', 'communities', 'company', 'competencies', 'comprehension', 'concise', 'confirmed', 'considered', 'consult', 'continued', 'contribute', 'core', 'creative', 'criteria', 'cycle', 'data', 'date', 'delivery', 'departments', 'description', 'designed', 'detailed', 'determined', 'develop', 'different', 'direction', 'drawn', 'early', 'efficient', 'elicit', 'end-to-end', 'engage', 'ensuring', 'entry', 'environment', 'escalating', 'established', 'events', 'everything', 'evolve', 'exciting', 'existing', 'expected', 'experience', 'explore', 'extend', 'external', 'first', 'fit', 'flows', 'focus', 'foster', 'foundation', 'fun', 'functionality', 'funded', 'future', 'gain', 'genuine', 'good', 'government', 'great', 'group', 'grow', 'hard;', 'heart', 'help', 'home', 'home-based', 'houses', 'human', 'identify', 'improving', 'include', 'including', 'industry', 'information', 'initially', 'innovation', 'inspiring', 'integrators', 'interest', 'internal', 'issues', 'job', 'junior', 'knowledge', 'landscape', 'larger', 'leadership', 'lean', 'learning', 'lessons', 'level', 'life', 'line', 'linkedin', 'listening', 'location', 'looking', 'maintain', 'making', 'manage', 'mapping', 'market', 'material', 'mechanisms', 'members', 'methods', 'mistakes', 'multi-disciplinary', 'multiple', 'necessary', 'need', 'new', 'non-functional', 'offer', 'operates', 'opinion', 'opportunity', 'outcomes', 'part', 'participate', 'partnered', 'passion/commitment', 'pathway', 'people', 'people-centred', 'plan', 'planet', 'portfolio', 'possessing', 'post-holder', 'practical', 'predominantly', 'prioritisation', 'private', 'problem', 'problem-solving', 'problems', 'processes', 'products', 'professional', 'programme', 'progression', 'project', 'proportionate', 'provide', 'public', 'public-sector', 'range', 'rapidly', 'regular', 'relevant', 'require', 'resilience', 'resolving', 'resources', 'responsibility', 'right', 'role', 'safe', 'sector', 'self-development', 'senior', 'services', 'set', 'sfia3', 'shadowing', 'share', 'sharing', 'significant', 'sites', 'situation', 'six-months', 'six-sigma', 'skill', 'small', 'society', 'software', 'solutions', 'solve', 'sources', 'staff', 'stakeholder', 'start', 'stay', 'stories', 'strong', 'structured', 'studies', 'successful', 'supervision', 'support', 'sustainability', 'system', 'tasks', 'team', 'technical', 'techniques', 'technology', 'tenacious', 'testable', 'thirst', 'thought-provoking', 'times', 'title', 'tools', 'touch', 'traceability', 'training', 'transfer', 'transform', 'translate', 'travel', 'uk', 'uk-based', 'understand', 'undertake', 'us', 'user', 'validate', 'value', 'variety', 'verbal', 'way', 'wider', 'work', 'write', 'years', '£100m+']\n"
     ]
    }
   ],
   "source": [
    "print(sorted(set(filtered_words)))"
   ]
  },
  {
   "cell_type": "markdown",
   "id": "d0bb6d55-9422-4e75-ac86-ef6ddb63f259",
   "metadata": {},
   "source": [
    "### 5. Term Frequency-Inverse Document Frequency (TF-IDF): Calculating the importance of a word in a document relative to a corpus of documents.\n",
    "-- remember to add additional words from 4"
   ]
  },
  {
   "cell_type": "markdown",
   "id": "42c78d5e-c9fb-4b50-8523-22180156b4e9",
   "metadata": {},
   "source": [
    "### 6. Named Entity Recognition (NER): Identifying proper nouns, which can be important keywords."
   ]
  },
  {
   "cell_type": "markdown",
   "id": "daaf07ae-3b24-4a79-93be-ac571ca7bf73",
   "metadata": {},
   "source": [
    "### 7. Part-of-Speech (POS) Tagging: Identifying the grammatical parts of words to filter out irrelevant ones."
   ]
  },
  {
   "cell_type": "markdown",
   "id": "0d1731cd-da70-4572-8e14-f33a73625e7d",
   "metadata": {},
   "source": [
    "### 8. N-grams: Extracting sequences of words, which can capture phrases and context better than individual words alone."
   ]
  },
  {
   "cell_type": "markdown",
   "id": "d88a3d16-7a9f-4fe8-828f-117e04fbed11",
   "metadata": {},
   "source": [
    "### 9. Statistical Methods: Analyzing word frequencies, co-occurrences, or patterns to identify significant terms."
   ]
  },
  {
   "cell_type": "markdown",
   "id": "ab416c25-6720-4353-929d-696bd1b6d694",
   "metadata": {},
   "source": [
    "### 10. Machine Learning Algorithms: Training models to classify and extract important terms based on labeled data."
   ]
  },
  {
   "cell_type": "code",
   "execution_count": null,
   "id": "532cd565-11fd-4385-86cb-018331069c55",
   "metadata": {},
   "outputs": [],
   "source": []
  }
 ],
 "metadata": {
  "kernelspec": {
   "display_name": "Python 3 (ipykernel)",
   "language": "python",
   "name": "python3"
  },
  "language_info": {
   "codemirror_mode": {
    "name": "ipython",
    "version": 3
   },
   "file_extension": ".py",
   "mimetype": "text/x-python",
   "name": "python",
   "nbconvert_exporter": "python",
   "pygments_lexer": "ipython3",
   "version": "3.9.7"
  }
 },
 "nbformat": 4,
 "nbformat_minor": 5
}
