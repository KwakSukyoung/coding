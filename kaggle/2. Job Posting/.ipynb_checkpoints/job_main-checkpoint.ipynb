{
 "cells": [
  {
   "cell_type": "code",
   "execution_count": 17,
   "id": "577f71b3-f064-49f0-a865-310e23cf930a",
   "metadata": {},
   "outputs": [],
   "source": [
    "import numpy as np\n",
    "import pandas as pd\n",
    "import nltk\n",
    "from nltk.corpus import stopwords"
   ]
  },
  {
   "cell_type": "markdown",
   "id": "fead3481-9c06-4cdf-9964-e1eda56a81ab",
   "metadata": {},
   "source": [
    "## Get keywords from job postings"
   ]
  },
  {
   "cell_type": "code",
   "execution_count": 19,
   "id": "92c80f9b-3b16-4c72-9c95-4db919d2f054",
   "metadata": {},
   "outputs": [],
   "source": [
    "#read the data \n",
    "data = pd.read_csv(\"job_description.csv\",index_col = 0) "
   ]
  },
  {
   "cell_type": "code",
   "execution_count": 20,
   "id": "a58e3ea2-46fc-4f87-a6a3-87a1e619f8ad",
   "metadata": {},
   "outputs": [],
   "source": [
    "#get the first job description\n",
    "dt = data.iloc[0]"
   ]
  },
  {
   "cell_type": "markdown",
   "id": "a1f08184-e1fe-4d48-8fa1-c5e0a5ca4532",
   "metadata": {},
   "source": [
    "### 1. Tokenization: Breaking the string into individual words or tokens."
   ]
  },
  {
   "cell_type": "code",
   "execution_count": 33,
   "id": "4d583cdd-c8f0-4b34-a70f-38e8efc0319b",
   "metadata": {},
   "outputs": [],
   "source": [
    "#break the string and save as lower\n",
    "words = dt['Description'].split()\n",
    "words = [word.lower() for word in words]\n",
    "words = [word.replace(\"(\", \"\") for word in words]\n",
    "words = [word.replace(\")\", \"\") for word in words]\n",
    "words = [word.replace(\",\", \"\") for word in words]"
   ]
  },
  {
   "cell_type": "markdown",
   "id": "e6c3b95c-691d-4618-8d18-4bf658731140",
   "metadata": {},
   "source": [
    "### 2. Stopword Removal: Filtering out common words (stopwords) like \"the,\" \"and,\" \"is,\" etc., which often don't carry significant meaning."
   ]
  },
  {
   "cell_type": "code",
   "execution_count": 34,
   "id": "c73994d7-9ca3-4fb8-a315-0e0bfb693807",
   "metadata": {},
   "outputs": [
    {
     "name": "stdout",
     "output_type": "stream",
     "text": [
      "['description', 'job', 'title:', 'junior', 'business', 'analyst', 'location:', 'home-based', 'role', 'require', 'regular', 'uk', 'travel', 'times', 'need', 'stay', 'away', 'home', 'start', 'date:', 'confirmed', 'methods', '£100m+', 'services', 'consultancy', 'partnered', 'range', 'central', 'government', 'departments', 'agencies', 'transform', 'way', 'public', 'sector', 'operates', 'uk.', 'established', '30', 'years', 'ago', 'uk-based', 'apply', 'skills', 'transformation', 'delivery', 'collaboration', 'across', 'methods', 'group', 'create', 'end-to-end', 'business', 'technical', 'solutions', 'people-centred', 'safe', 'designed', 'future.', 'human', 'touch', 'sets', 'us', 'apart', 'consultancies', 'system', 'integrators', 'software', 'houses', 'people', 'technology', 'data', 'heart', 'believe', 'creating', 'value', 'sustainability', 'everything', 'clients', 'staff', 'communities', 'planet.', 'support', 'clients', 'success', 'projects', 'working', 'collaboratively', 'share', 'skill', 'sets', 'solve', 'problems.', 'methods', 'fun', 'working', 'hard;', 'afraid', 'making', 'mistakes', 'learning', 'them.', 'predominantly', 'focused', 'public-sector', 'methods', 'building', 'significant', 'private', 'sector', 'client', 'portfolio.', 'methods', 'acquired', 'alten', 'group', 'early', '2022.', 'role:', 'junior', 'business', 'analyst', 'entry', 'level', 'role', 'focussed', 'rapidly', 'developing', 'skills', 'behaviours', 'needed', 'successful', 'consulting', 'business', 'analyst.', 'structured', 'development', 'programme', 'first', 'six-months', 'role', 'supported', 'bcs', 'foundation', 'certification', 'developing', 'baseline', 'understanding', 'core', 'skills', 'tools', 'techniques.', 'alongside', 'shadowing', 'opportunity', 'deliver', 'small', 'client', 'assignments', 'supervision', 'supporting', 'senior', 'business', 'analysts', 'larger', 'deliveries', 'develop', 'experience', 'practical', 'application', 'core', 'skills', 'tools', 'techniques.', 'post-holder', 'expected', 'work', 'across', 'change', 'innovation', 'portfolio', 'clear', 'progression', 'pathway', 'becoming', 'sfia3', 'business', 'analyst.', 'include', 'responsibility', 'supporting', 'clients', 'deliver', 'change', 'successfully', 'undertaking', 'variety', 'business', 'analysis', 'tasks', 'working', 'supervision', 'multi-disciplinary', 'teams.', 'responsibilities', 'include', 'applying', 'analytical', 'problem-solving', 'tools', 'help', 'assess', 'situations', 'understand', 'problems', 'elicit', 'analyse', 'validate', 'business', 'requirements', 'user', 'stories', 'contributing', 'successful', 'delivery', 'client', 'projects.', 'successful', 'applicants', 'interest', 'uk', 'public', 'services', 'landscape', 'thirst', 'exploring', 'different', 'sectors.', 'addition', 'possessing', 'good', 'communication', 'engagement', 'skills', 'written', 'verbal', 'interest', 'innovating', 'new', 'techniques', 'technology', 'support', 'efficient', 'delivery', 'improved', 'outcomes.', 'role', 'home', 'based', 'include', 'work', 'client', 'sites.', 'junior', 'business', 'analyst', 'initially', 'focus', 'development', 'career', 'business', 'analyst', 'acquiring', 'detailed', 'understanding', 'wider', 'change', 'innovation', 'portfolio', 'offerings', 'develop', 'set', 'skills', 'competencies', 'knowledge', 'extend', 'contribution', 'practices', 'continued', 'progression.', 'methods', 'offer', 'you:', 'professional', 'development', 'supported', 'structured', 'business', 'analysis', 'development', 'pathway', 'early', 'career', 'funded', 'bcs', 'foundation', 'certification', 'lean', 'six-sigma', 'consultancy', '101', 'training', 'alongside', 'linkedin', 'learning', 'participate', 'contribute', 'communities', 'practice', 'development', 'maintain', 'professional', 'development', 'plan', 'identify', 'undertake', 'relevant', 'training', 'do:', 'contribute', 'successful', 'delivery', 'projects', 'application', 'learning', 'accessing', 'colleague', 'knowledge', 'experience', 'adds', 'value', 'clients', 'engage', 'clients', 'elicit', 'information', 'analyse', 'data', 'sources', 'provide', 'considered', 'opinion', 'support', 'analysis', 'understanding', 'user', 'business', 'needs', 'including', 'material', 'drawn', 'multiple', 'sources', 'support', 'mapping', 'processes', 'information', 'flows', 'appropriate', 'artefacts', 'communication', 'stakeholders', 'team', 'translate', 'user', 'needs', 'system', 'functionality', 'requirements', 'explore', 'direction', 'internal', 'external', 'situation', 'environment', 'eliciting', 'managing', 'non-functional', 'requirement', 'manage', 'requirements', 'life', 'cycle', 'ensuring', 'traceability', 'supporting', 'prioritisation', 'stakeholders', 'write', 'clear', 'concise', 'user', 'stories', 'clear', 'testable', 'acceptance', 'criteria.', 'support', 'methods', 'colleagues', 'resources', 'appropriate', 'achieve', 'client', 'outcomes', 'resolving', 'issues', 'escalating', 'necessary', 'manage', 'mechanisms', 'knowledge', 'transfer', 'client', 'teams', 'foster', 'collaboration', 'across', 'client', 'internal', 'boundaries', 'support', 'development', 'new', 'products', 'services', 'evolve', 'existing', 'products', 'services', 'line', 'market', 'knowledge', 'company', 'capability', 'support', 'internal', 'change', 'projects', 'applying', 'proportionate', 'best', 'practice', 'approaches', 'contribute', 'project-related', 'internal', 'case', 'studies', 'lessons', 'learnt', 'help', 'maintain', 'portfolio', 'company', 'knowledge', 'base', 'actively', 'participate', 'relevant', 'professional', 'events', 'gain', 'share', 'industry', 'knowledge', 'support', 'team', 'members', 'knowledge', 'sharing', 'buddying', 'appropriate', 'right', 'fit?', \"we're\", 'looking', 'for:', 'resilience', 'strong', 'collaboration', 'team', 'working', 'commitment', 'learning', 'self-development', 'good', 'communication', 'skills', 'genuine', 'passion/commitment', 'improving', 'public', 'services', 'determined', 'tenacious', 'approach', 'work', 'creative', 'approach', 'problem', 'solving', 'good', 'listening', 'comprehension', 'great', 'stakeholder', 'management', 'benefits', 'ba', 'academy', 'supported', 'structured', 'business', 'analysis', 'development', 'pathway', 'early', 'career', 'funded', 'business', 'analysis', 'certifications', 'autonomy', 'develop', 'grow', 'skills', 'experience', 'part', 'exciting', 'project', 'work', 'making', 'difference', 'society', 'strong', 'inspiring', 'thought-provoking', 'leadership', 'supportive', 'collaborative', 'environment']\n"
     ]
    },
    {
     "name": "stderr",
     "output_type": "stream",
     "text": [
      "[nltk_data] Downloading package stopwords to /Users/raul/nltk_data...\n",
      "[nltk_data]   Package stopwords is already up-to-date!\n"
     ]
    }
   ],
   "source": [
    "# Download the NLTK stopwords corpus if not already downloaded\n",
    "nltk.download('stopwords')\n",
    "\n",
    "# Get the list of English stopwords (which includes determiners and conjunctions)\n",
    "stop_words = set(stopwords.words('english'))\n",
    "\n",
    "# Add unnecesary words to the stop_words set\n",
    "stop_words.update(['and', 'but', 'or', 'so', 'for', '•', 'may', '-','are','them','&','you','we''re'])\n",
    "\n",
    "\n",
    "# Remove determiners and conjunctions from the list of words\n",
    "filtered_words = [word for word in words if word not in stop_words]\n",
    "\n",
    "# Print the filtered list of words\n",
    "print(filtered_words)"
   ]
  },
  {
   "cell_type": "markdown",
   "id": "d8a1f581-de26-4c3c-8793-4f1073fa9a87",
   "metadata": {},
   "source": [
    "### 3. Normalization: Converting all words to lowercase to ensure consistency."
   ]
  },
  {
   "cell_type": "markdown",
   "id": "8e7c2ab6-d109-49b3-a193-c4a5cae76141",
   "metadata": {},
   "source": [
    "### 4. Stemming or Lemmatization: Reducing words to their root form to capture variations of the same word (e.g., \"running\" to \"run\")."
   ]
  },
  {
   "cell_type": "markdown",
   "id": "d0bb6d55-9422-4e75-ac86-ef6ddb63f259",
   "metadata": {},
   "source": [
    "### 5. Term Frequency-Inverse Document Frequency (TF-IDF): Calculating the importance of a word in a document relative to a corpus of documents."
   ]
  },
  {
   "cell_type": "markdown",
   "id": "42c78d5e-c9fb-4b50-8523-22180156b4e9",
   "metadata": {},
   "source": [
    "### 6. Named Entity Recognition (NER): Identifying proper nouns, which can be important keywords."
   ]
  },
  {
   "cell_type": "markdown",
   "id": "daaf07ae-3b24-4a79-93be-ac571ca7bf73",
   "metadata": {},
   "source": [
    "### 7. Part-of-Speech (POS) Tagging: Identifying the grammatical parts of words to filter out irrelevant ones."
   ]
  },
  {
   "cell_type": "markdown",
   "id": "0d1731cd-da70-4572-8e14-f33a73625e7d",
   "metadata": {},
   "source": [
    "### 8. N-grams: Extracting sequences of words, which can capture phrases and context better than individual words alone."
   ]
  },
  {
   "cell_type": "markdown",
   "id": "d88a3d16-7a9f-4fe8-828f-117e04fbed11",
   "metadata": {},
   "source": [
    "### 9. Statistical Methods: Analyzing word frequencies, co-occurrences, or patterns to identify significant terms."
   ]
  },
  {
   "cell_type": "markdown",
   "id": "ab416c25-6720-4353-929d-696bd1b6d694",
   "metadata": {},
   "source": [
    "### 10. Machine Learning Algorithms: Training models to classify and extract important terms based on labeled data."
   ]
  },
  {
   "cell_type": "code",
   "execution_count": null,
   "id": "532cd565-11fd-4385-86cb-018331069c55",
   "metadata": {},
   "outputs": [],
   "source": []
  }
 ],
 "metadata": {
  "kernelspec": {
   "display_name": "Python 3 (ipykernel)",
   "language": "python",
   "name": "python3"
  },
  "language_info": {
   "codemirror_mode": {
    "name": "ipython",
    "version": 3
   },
   "file_extension": ".py",
   "mimetype": "text/x-python",
   "name": "python",
   "nbconvert_exporter": "python",
   "pygments_lexer": "ipython3",
   "version": "3.9.7"
  }
 },
 "nbformat": 4,
 "nbformat_minor": 5
}
